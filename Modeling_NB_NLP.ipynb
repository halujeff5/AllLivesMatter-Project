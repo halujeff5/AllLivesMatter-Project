{
 "cells": [
  {
   "cell_type": "markdown",
   "metadata": {},
   "source": [
    "# Modeling Notebook + preprocessing + Advanced topic modeli"
   ]
  },
  {
   "cell_type": "code",
   "execution_count": 1,
   "metadata": {},
   "outputs": [
    {
     "name": "stderr",
     "output_type": "stream",
     "text": [
      "[nltk_data] Downloading package stopwords to\n",
      "[nltk_data]     /Users/jeffreyng/nltk_data...\n",
      "[nltk_data]   Package stopwords is already up-to-date!\n",
      "[nltk_data] Downloading package punkt to /Users/jeffreyng/nltk_data...\n",
      "[nltk_data]   Package punkt is already up-to-date!\n",
      "[nltk_data] Downloading package wordnet to\n",
      "[nltk_data]     /Users/jeffreyng/nltk_data...\n",
      "[nltk_data]   Package wordnet is already up-to-date!\n"
     ]
    },
    {
     "data": {
      "text/plain": [
       "True"
      ]
     },
     "execution_count": 1,
     "metadata": {},
     "output_type": "execute_result"
    }
   ],
   "source": [
    "#Importing necessary packages and libraries\n",
    "import twint\n",
    "import nltk\n",
    "import matplotlib.pyplot as plt\n",
    "import pandas as pd\n",
    "from sklearn.feature_extraction.text import CountVectorizer\n",
    "from sklearn.feature_extraction.text import TfidfVectorizer\n",
    "from sklearn.feature_extraction.text import TfidfTransformer\n",
    "from nltk.probability import FreqDist\n",
    "from nltk.corpus import stopwords\n",
    "from nltk.stem import PorterStemmer\n",
    "from sklearn.metrics import confusion_matrix\n",
    "import seaborn as sns\n",
    "from sklearn.naive_bayes import MultinomialNB\n",
    "from sklearn import metrics\n",
    "from sklearn.model_selection import train_test_split\n",
    "from matplotlib import cm\n",
    "import numpy as np\n",
    "from sklearn.ensemble import RandomForestClassifier\n",
    "from sklearn.metrics import accuracy_score\n",
    "from sklearn.metrics import f1_score\n",
    "from sklearn.naive_bayes import MultinomialNB\n",
    "\n",
    "nltk.download('stopwords')\n",
    "nltk.download('punkt')\n",
    "nltk.download('wordnet')"
   ]
  },
  {
   "cell_type": "markdown",
   "metadata": {},
   "source": [
    "###  Mean word count per tweet is 33.25 words"
   ]
  },
  {
   "cell_type": "code",
   "execution_count": 2,
   "metadata": {},
   "outputs": [],
   "source": [
    "#importing more necessary packages\n",
    "from nltk.tokenize import RegexpTokenizer\n",
    "import re\n",
    "import string\n",
    "from nltk.stem import WordNetLemmatizer "
   ]
  },
  {
   "cell_type": "code",
   "execution_count": 3,
   "metadata": {},
   "outputs": [
    {
     "data": {
      "text/plain": [
       "(7137, 35)"
      ]
     },
     "execution_count": 3,
     "metadata": {},
     "output_type": "execute_result"
    }
   ],
   "source": [
    "#scraped CSV into dataframe\n",
    "df=pd.read_csv('jeff.csv')\n",
    "df.shape"
   ]
  },
  {
   "cell_type": "markdown",
   "metadata": {},
   "source": [
    "### Using Vader Sentiment Analysis to classify the tweets to be positive, neutral, or negative"
   ]
  },
  {
   "cell_type": "code",
   "execution_count": 4,
   "metadata": {},
   "outputs": [],
   "source": [
    "#importing the vader sentiment analysis package and instantiating it\n",
    "data=df\n",
    "from vaderSentiment.vaderSentiment import SentimentIntensityAnalyzer\n",
    "analyser = SentimentIntensityAnalyzer()"
   ]
  },
  {
   "cell_type": "code",
   "execution_count": 5,
   "metadata": {},
   "outputs": [],
   "source": [
    "#wrote a function to get the vader scores for my data\n",
    "def sentiment_analyzer_scores(sentence):\n",
    "    score = analyser.polarity_scores(sentence)"
   ]
  },
  {
   "cell_type": "code",
   "execution_count": 6,
   "metadata": {},
   "outputs": [],
   "source": [
    "#list comprehension to get scores from tweets using my written function\n",
    "a= [analyser.polarity_scores(x) for x in data['tweet']]"
   ]
  },
  {
   "cell_type": "code",
   "execution_count": 7,
   "metadata": {},
   "outputs": [],
   "source": [
    "#pulling the relevant score into a list \n",
    "b= [x.items() for x in a]"
   ]
  },
  {
   "cell_type": "code",
   "execution_count": 8,
   "metadata": {},
   "outputs": [],
   "source": [
    "#creating a dataframe of my vader scores of the tweets\n",
    "data1=pd.DataFrame(b, columns= ['neg', 'neu', 'pos', 'comp'])"
   ]
  },
  {
   "cell_type": "code",
   "execution_count": 9,
   "metadata": {},
   "outputs": [],
   "source": [
    "#putting my scores into a column in the dataframe\n",
    "b = data1['comp']"
   ]
  },
  {
   "cell_type": "code",
   "execution_count": 10,
   "metadata": {},
   "outputs": [
    {
     "data": {
      "text/plain": [
       "0       (compound, -0.6597)\n",
       "1       (compound, -0.7925)\n",
       "2        (compound, 0.8832)\n",
       "3       (compound, -0.5859)\n",
       "4        (compound, 0.7825)\n",
       "               ...         \n",
       "7132        (compound, 0.0)\n",
       "7133    (compound, -0.6597)\n",
       "7134    (compound, -0.4919)\n",
       "7135     (compound, 0.1007)\n",
       "7136     (compound, 0.4019)\n",
       "Name: comp, Length: 7137, dtype: object"
      ]
     },
     "execution_count": 10,
     "metadata": {},
     "output_type": "execute_result"
    }
   ],
   "source": [
    "b"
   ]
  },
  {
   "cell_type": "code",
   "execution_count": 11,
   "metadata": {},
   "outputs": [],
   "source": [
    "#making a column that grabs the right compound score to gauge sentiment\n",
    "data1['comp2']= [score[1] for score in b]"
   ]
  },
  {
   "cell_type": "code",
   "execution_count": 12,
   "metadata": {},
   "outputs": [],
   "source": [
    "k=data1['comp2']"
   ]
  },
  {
   "cell_type": "code",
   "execution_count": 13,
   "metadata": {},
   "outputs": [],
   "source": [
    "#rounding out my vader score\n",
    "data1['comp2']= data1['comp2'].round(3)"
   ]
  },
  {
   "cell_type": "code",
   "execution_count": 14,
   "metadata": {},
   "outputs": [],
   "source": [
    "#converting the vader scores into something easier to manipulate so that I can generate \n",
    "#three distinct classes\n",
    "col         = 'comp2'\n",
    "conditions  = [ data1[col] >= .05, (data1[col] < .05) & (data1[col]> -.05), data1[col] <= -.05 ]\n",
    "choices     = [ 1, 0, -1 ]\n",
    "data1[\"comp3\"] = np.select(conditions, choices, default=np.nan)"
   ]
  },
  {
   "cell_type": "code",
   "execution_count": 15,
   "metadata": {},
   "outputs": [],
   "source": [
    "#final conversion step of the data to equate vader score with the three class of sentiments\n",
    "data1['comp4']= data1['comp3'].map({-1:'negative', 0: 'neutral', 1:'positive'})"
   ]
  },
  {
   "cell_type": "code",
   "execution_count": 16,
   "metadata": {},
   "outputs": [],
   "source": [
    "#concating dataframe of useful items for NLP analysis\n",
    "main_data= pd.concat([data['tweet'], data['language'], data1['comp4']], axis=1, join='outer')"
   ]
  },
  {
   "cell_type": "code",
   "execution_count": 17,
   "metadata": {},
   "outputs": [],
   "source": [
    "#grabbing only the tweets in English\n",
    "Work_data= main_data[main_data['language']=='en']"
   ]
  },
  {
   "cell_type": "code",
   "execution_count": null,
   "metadata": {},
   "outputs": [],
   "source": []
  },
  {
   "cell_type": "code",
   "execution_count": 18,
   "metadata": {},
   "outputs": [
    {
     "data": {
      "text/plain": [
       "negative    2127\n",
       "positive    1917\n",
       "neutral      837\n",
       "Name: comp4, dtype: int64"
      ]
     },
     "execution_count": 18,
     "metadata": {},
     "output_type": "execute_result"
    }
   ],
   "source": [
    "Work_data['comp4'].value_counts()"
   ]
  },
  {
   "cell_type": "markdown",
   "metadata": {},
   "source": [
    "### Performing a train, test, split on preprocessed data (no word engineering)"
   ]
  },
  {
   "cell_type": "code",
   "execution_count": 19,
   "metadata": {},
   "outputs": [],
   "source": [
    "#defining my X variable as well as my target(y)\n",
    "X= Work_data['tweet']\n",
    "y= Work_data['comp4']"
   ]
  },
  {
   "cell_type": "code",
   "execution_count": 20,
   "metadata": {},
   "outputs": [],
   "source": [
    "#train_test_split\n",
    "X_train, X_test, y_train, y_test= train_test_split(X, y, test_size=.20, random_state=23)"
   ]
  },
  {
   "cell_type": "code",
   "execution_count": 21,
   "metadata": {},
   "outputs": [
    {
     "data": {
      "text/plain": [
       "0        https://twitter.com/drawandstrike/status/1279...\n",
       "1       RACISM IS THE IDOL THAT FEEDS THE  BEAST OF #b...\n",
       "2       Powerful picture of the REAL state of race rel...\n",
       "3       Looks like yet another black criminal dealt wi...\n",
       "4       I SAW YOU ON THE NEWS, KNOW THE TRUTH AND YOUR...\n",
       "                              ...                        \n",
       "7131    For all the #AllLivesMatter people.. I’m gonna...\n",
       "7133    @ericgarcetti  what did you expect moron? we'r...\n",
       "7134    Does that mean #DementiaJoe is saying #AllLive...\n",
       "7135    #PaperMario #PaperMarioTheOrigamiKing #Nintend...\n",
       "7136     pic.twitter.com/Q1HTj0C8db you can sue for mi...\n",
       "Name: tweet, Length: 4881, dtype: object"
      ]
     },
     "execution_count": 21,
     "metadata": {},
     "output_type": "execute_result"
    }
   ],
   "source": [
    "X"
   ]
  },
  {
   "cell_type": "markdown",
   "metadata": {},
   "source": [
    "### The main NLP function (tokenization, stop words, lemma)"
   ]
  },
  {
   "cell_type": "code",
   "execution_count": 22,
   "metadata": {},
   "outputs": [],
   "source": [
    "#created a NLP processing function that includes all the steps of corpus cleaning and creation and\n",
    "#vectorization\n",
    "def NLP_process_training_set(data):\n",
    "    BoW=[]\n",
    "    for word in data:\n",
    "        BoW.append(word)\n",
    "    word_bank= ' '.join(BoW)\n",
    "    word_bank= word_bank.lower()\n",
    "#     from nltk.tokenize import RegexpTokenizer\n",
    "    tokenizer = RegexpTokenizer(r'[a-zA-Z]+')\n",
    "    tokenized_tweets= tokenizer.tokenize(word_bank)\n",
    "\n",
    "    sw_list = stopwords.words('english')\n",
    "    sw_list += list(string.punctuation)\n",
    "    sw_list += [\"''\", '\"\"', '...', '``', '’', '“', '’', '”', '‘', '‘', '©', '#', '@', \n",
    "            'said', 'one', 'com', '-', '–', '—', '.']\n",
    "    sw_list += ['www', 'the', 'to', 'and', 'a', 's', 't','is', 'you', 'of', 'i', \n",
    "            'in', 'this', 'are', 'it', 'for', 'https', 'com', 'twitter', 'alllivesmatter' , \n",
    "            'blacklivesmatter' , 'bluelivesmatter', 'p']\n",
    "    sw_set = set(sw_list)\n",
    "    filtered_tweets=[]\n",
    "    for word in tokenized_tweets:\n",
    "        if word not in sw_set:\n",
    "            filtered_tweets.append(word)\n",
    "#     \n",
    "    lemmatizer=WordNetLemmatizer()\n",
    "    X_lemmatized_tweets=[]\n",
    "    for w in filtered_tweets:\n",
    "        X_lemmatized_tweets.append(lemmatizer.lemmatize(w))\n",
    "    \n",
    "    \n",
    "    tfidf = TfidfVectorizer(stop_words=sw_set, ngram_range=(1,1), lowercase=True)\n",
    "    tfidf_data_train_lem = tfidf.fit_transform(X_lemmatized_tweets)\n",
    "    return tfidf_data_train_lem \n",
    "#     tfidf_data_test_lem = tfidf.transform(X_test)\n",
    "\n",
    "    "
   ]
  },
  {
   "cell_type": "code",
   "execution_count": 23,
   "metadata": {},
   "outputs": [],
   "source": [
    "#created a NLP processing function that includes all the steps of corpus cleaning and creation and\n",
    "#vectorization\n",
    "def NLP_process_testing_set(data):\n",
    "    BoW=[]\n",
    "    for word in data:\n",
    "        BoW.append(word)\n",
    "    word_bank= ' '.join(BoW)\n",
    "    word_bank= word_bank.lower()\n",
    "#     from nltk.tokenize import RegexpTokenizer\n",
    "    tokenizer = RegexpTokenizer(r'[a-zA-Z]+')\n",
    "    tokenized_tweets= tokenizer.tokenize(word_bank)\n",
    "\n",
    "    sw_list = stopwords.words('english')\n",
    "    sw_list += list(string.punctuation)\n",
    "    sw_list += [\"''\", '\"\"', '...', '``', '’', '“', '’', '”', '‘', '‘', '©', '#', '@', \n",
    "            'said', 'one', 'com', '-', '–', '—', '.']\n",
    "    sw_list += ['www', 'the', 'to', 'and', 'a', 's', 't','is', 'you', 'of', 'i', \n",
    "            'in', 'this', 'are', 'it', 'for', 'https', 'com', 'twitter', 'alllivesmatter' , \n",
    "            'blacklivesmatter' , 'bluelivesmatter', 'p']\n",
    "    sw_set = set(sw_list)\n",
    "    filtered_tweets=[]\n",
    "    for word in tokenized_tweets:\n",
    "        if word not in sw_set:\n",
    "            filtered_tweets.append(word)\n",
    "#     \n",
    "    lemmatizer=WordNetLemmatizer()\n",
    "    X_lemmatized_tweets=[]\n",
    "    for w in filtered_tweets:\n",
    "        X_lemmatized_tweets.append(lemmatizer.lemmatize(w))\n",
    "    \n",
    "    \n",
    "    tfidf = TfidfVectorizer(stop_words=sw_set, ngram_range=(1,1), lowercase=True)\n",
    "    tfidf_data_test_lem = tfidf.transform(X_lemmatized_tweets)\n",
    "    return tfidf_data_test_lem "
   ]
  },
  {
   "cell_type": "code",
   "execution_count": 24,
   "metadata": {},
   "outputs": [
    {
     "ename": "TypeError",
     "evalue": "NLP_process_training_set() missing 1 required positional argument: 'data'",
     "output_type": "error",
     "traceback": [
      "\u001b[0;31m---------------------------------------------------------------------------\u001b[0m",
      "\u001b[0;31mTypeError\u001b[0m                                 Traceback (most recent call last)",
      "\u001b[0;32m<ipython-input-24-64a775e8b68f>\u001b[0m in \u001b[0;36m<module>\u001b[0;34m\u001b[0m\n\u001b[1;32m      1\u001b[0m \u001b[0;31m#using the NLP processing function on data\u001b[0m\u001b[0;34m\u001b[0m\u001b[0;34m\u001b[0m\u001b[0;34m\u001b[0m\u001b[0m\n\u001b[0;32m----> 2\u001b[0;31m \u001b[0mNLP_process_training_set\u001b[0m\u001b[0;34m(\u001b[0m\u001b[0;34m)\u001b[0m\u001b[0;34m\u001b[0m\u001b[0;34m\u001b[0m\u001b[0m\n\u001b[0m\u001b[1;32m      3\u001b[0m \u001b[0mNLP_process_testing_set\u001b[0m\u001b[0;34m(\u001b[0m\u001b[0;34m)\u001b[0m\u001b[0;34m\u001b[0m\u001b[0;34m\u001b[0m\u001b[0m\n",
      "\u001b[0;31mTypeError\u001b[0m: NLP_process_training_set() missing 1 required positional argument: 'data'"
     ]
    }
   ],
   "source": [
    "#using the NLP processing function on data\n",
    "NLP_process_training_set()\n",
    "NLP_process_testing_set()"
   ]
  },
  {
   "cell_type": "markdown",
   "metadata": {},
   "source": [
    "### Manually implementing the NLP function piece by piece"
   ]
  },
  {
   "cell_type": "code",
   "execution_count": null,
   "metadata": {},
   "outputs": [],
   "source": [
    "#creating word bank from tweets\n",
    "# BoW=[]\n",
    "# for word in X_train:\n",
    "#     BoW.append(word)\n",
    "# len(BoW)"
   ]
  },
  {
   "cell_type": "code",
   "execution_count": null,
   "metadata": {},
   "outputs": [],
   "source": [
    "#creating corpus, lowercasing the words, stripping of whitespace\n",
    "# word_bank= ' '.join(BoW)\n",
    "# word_bank= word_bank.lower()\n",
    "# word_bank"
   ]
  },
  {
   "cell_type": "code",
   "execution_count": null,
   "metadata": {},
   "outputs": [],
   "source": [
    "#manually tokenizing the corpus\n",
    "# from nltk.tokenize import RegexpTokenizer\n",
    "# tokenizer = RegexpTokenizer(r'[a-zA-Z]+')\n",
    "# tokenized_tweets= tokenizer.tokenize(word_bank)"
   ]
  },
  {
   "cell_type": "code",
   "execution_count": null,
   "metadata": {},
   "outputs": [],
   "source": [
    "# tokenized_tweets"
   ]
  },
  {
   "cell_type": "code",
   "execution_count": 25,
   "metadata": {},
   "outputs": [],
   "source": [
    "#creating stop words to filter our word bank\n",
    "import string\n",
    "sw_list = stopwords.words('english')\n",
    "sw_list += list(string.punctuation)\n",
    "sw_list += [\"''\", '\"\"', '...', '``', '’', '“', '’', '”', '‘', '‘', '©', '#', '@', \n",
    "            'said', 'one', 'com', '-', '–', '—', ' ', 'bizpacreview', 'ccya4ewhiyi' ,'8bkua22xbjnl']\n",
    "sw_list += ['www', 'the', 'to', 'and', 'a', 's', 't','is', 'you', 'of', 'i', 'u'\n",
    "            'in', 'this', 'are', 'it', 'for', 'https', 'com', 'twitter', 'alllivesmatter' , \n",
    "            'blacklivesmatter' , 'bluelivesmatter', 'black', 'lives', 'matter', 'blm', 'alm']\n",
    "sw_list += [str(x) for x in range(100)]\n",
    "sw_set = set(sw_list)"
   ]
  },
  {
   "cell_type": "code",
   "execution_count": 26,
   "metadata": {},
   "outputs": [
    {
     "name": "stdout",
     "output_type": "stream",
     "text": [
      "{'about', 'again', '^', 'www', 'my', 'how', 'alllivesmatter', \"hadn't\", 'your', 'be', '61', 'until', 'and', 'nor', 'no', '7', \"hasn't\", \"you'll\", '|', 've', '10', 'is', 'shouldn', '64', \"it's\", '93', 'should', 'wouldn', 'it', 'haven', 'him', '69', '88', 'black', '95', '42', '31', '13', '18', 'did', 'those', 'couldn', '80', '@', 'm', '85', 'mustn', '’', 'these', 'up', 'com', '92', 'ain', 'hasn', \"isn't\", '-', 'himself', 'for', 'myself', ')', 'do', 'doing', ':', 'themselves', 's', \"mustn't\", '16', 'any', '8bkua22xbjnl', 'yourselves', '35', \"needn't\", 'having', 'ccya4ewhiyi', 'they', '33', 'some', 'didn', ',', '_', '32', 'during', 'blm', \"haven't\", '52', '{', '>', 'with', \"wasn't\", \"you've\", 'am', 'from', \"''\", '36', 'wasn', '20', '.', \"won't\", ';', 'when', '56', 'yours', '51', '22', '91', '17', '81', \"wouldn't\", '74', 'just', '43', 'been', 'once', '30', 'what', 'there', '~', 'https', 'out', '96', '38', '99', 'theirs', '27', 'his', 'under', '41', 'through', '*', '68', '``', 'because', '71', \"didn't\", 'our', 'to', 'them', 'each', 'has', 'll', 'such', '94', 'you', '–', \"you're\", '26', 'won', '?', '97', '53', '8', 'below', 'bluelivesmatter', \"'\", '‘', 'than', \"shan't\", 'down', 'will', '76', '$', 't', 'her', 'd', \"mightn't\", 'between', '0', 'by', '(', 'both', 'o', \"couldn't\", 'few', '\"\"', 'y', 'this', '2', '77', '15', 'where', 'an', '60', 'other', '37', '50', '62', '87', 'bizpacreview', 'not', '84', '82', 'at', '70', 'the', ' ', 'after', 'one', '45', '79', '78', '49', 'aren', 'lives', '25', '14', '/', '40', 'are', '39', '21', 'if', '%', 'said', '46', '47', '=', '!', 'too', 'she', 'shan', 'yourself', '}', 're', \"you'd\", '63', 'being', 'on', '83', 'all', 'now', 'same', '<', 'only', 'i', 'of', 'had', '72', '+', '5', 'herself', '67', 'can', '9', '“', 'before', \"should've\", \"she's\", \"shouldn't\", 'who', '29', 'most', '\"', 'so', 'doesn', 'as', '12', 'we', 'he', '24', 'a', 'that', '75', 'into', '73', '98', 'here', 'their', 'its', \"don't\", 'alm', '48', '58', 'while', 'which', 'whom', 'blacklivesmatter', 'matter', 'very', \"that'll\", '”', \"doesn't\", '©', 'mightn', '6', 'ma', 'more', 'isn', '28', '...', \"aren't\", '&', 'why', 'above', 'does', 'was', 'further', 'in', '34', '55', 'then', ']', 'over', '90', '\\\\', 'ours', '89', 'off', 'own', 'or', 'me', 'against', 'ourselves', '[', '11', 'twitter', '86', \"weren't\", '57', 'have', '4', '59', '19', '54', 'uin', '23', '1', '`', 'but', 'were', 'needn', 'don', 'hers', '—', '3', '44', 'weren', '66', 'hadn', 'itself', '#', '65'}\n"
     ]
    }
   ],
   "source": [
    "#list of stopwords and punctuation\n",
    "print(sw_set)"
   ]
  },
  {
   "cell_type": "code",
   "execution_count": 27,
   "metadata": {},
   "outputs": [],
   "source": [
    "#filtering out stopwords\n",
    "# filtered_tweets=[]\n",
    "# for word in tokenized_tweets:\n",
    "#     if word not in sw_set:\n",
    "#         filtered_tweets.append(word)"
   ]
  },
  {
   "cell_type": "code",
   "execution_count": 28,
   "metadata": {},
   "outputs": [],
   "source": [
    "#lemmatizing\n",
    "# from nltk.stem import WordNetLemmatizer \n",
    "# lemmatizer=WordNetLemmatizer()\n",
    "# X_lemmatized_tweets=[]\n",
    "# for w in filtered_tweets:\n",
    "#     X_lemmatized_tweets.append(lemmatizer.lemmatize(w))\n",
    "# print (X_lemmatized_tweets)"
   ]
  },
  {
   "cell_type": "code",
   "execution_count": 29,
   "metadata": {},
   "outputs": [],
   "source": [
    "#using function to process my data\n",
    "# X_train= NLP_process(X_train)\n",
    "# y_train=NLP_process(y_train)"
   ]
  },
  {
   "cell_type": "code",
   "execution_count": 30,
   "metadata": {},
   "outputs": [],
   "source": [
    "#using function to process data\n",
    "# X_test=NLP_process(X_test)"
   ]
  },
  {
   "cell_type": "markdown",
   "metadata": {},
   "source": [
    "### Vectorizing tf-idf and creating the Document Term Matrix"
   ]
  },
  {
   "cell_type": "code",
   "execution_count": 31,
   "metadata": {},
   "outputs": [],
   "source": [
    "#using tf_idf vectorizer\n",
    "tfidf = TfidfVectorizer(stop_words=sw_set, ngram_range=(1,3), lowercase=True)\n",
    "tfidf_data_train_lem = tfidf.fit_transform(X_train)\n",
    "tfidf_data_test_lem = tfidf.transform(X_test)\n",
    "\n",
    "dfq = pd.DataFrame(tfidf_data_test_lem.toarray().T,\n",
    "                 index = tfidf.vocabulary_.keys())\n",
    "dfq1=dfq.T"
   ]
  },
  {
   "cell_type": "code",
   "execution_count": 32,
   "metadata": {},
   "outputs": [],
   "source": [
    "\n",
    "m=[dfq1.iloc[i].idxmax() for i in range(977)]\n",
    "\n"
   ]
  },
  {
   "cell_type": "code",
   "execution_count": 33,
   "metadata": {},
   "outputs": [
    {
     "data": {
      "text/plain": [
       "977"
      ]
     },
     "execution_count": 33,
     "metadata": {},
     "output_type": "execute_result"
    }
   ],
   "source": [
    "len(m)"
   ]
  },
  {
   "cell_type": "code",
   "execution_count": 34,
   "metadata": {},
   "outputs": [],
   "source": [
    "tuple_S=(zip(y_test, m))\n"
   ]
  },
  {
   "cell_type": "code",
   "execution_count": null,
   "metadata": {},
   "outputs": [],
   "source": []
  },
  {
   "cell_type": "code",
   "execution_count": 35,
   "metadata": {},
   "outputs": [
    {
     "data": {
      "text/html": [
       "<div>\n",
       "<style scoped>\n",
       "    .dataframe tbody tr th:only-of-type {\n",
       "        vertical-align: middle;\n",
       "    }\n",
       "\n",
       "    .dataframe tbody tr th {\n",
       "        vertical-align: top;\n",
       "    }\n",
       "\n",
       "    .dataframe thead th {\n",
       "        text-align: right;\n",
       "    }\n",
       "</style>\n",
       "<table border=\"1\" class=\"dataframe\">\n",
       "  <thead>\n",
       "    <tr style=\"text-align: right;\">\n",
       "      <th></th>\n",
       "      <th>fund</th>\n",
       "      <th>defense</th>\n",
       "      <th>trump2020landslidevictory</th>\n",
       "      <th>fund defense</th>\n",
       "      <th>defense trump2020landslidevictory</th>\n",
       "      <th>fund defense trump2020landslidevictory</th>\n",
       "      <th>dems</th>\n",
       "      <th>ever</th>\n",
       "      <th>get</th>\n",
       "      <th>charge</th>\n",
       "      <th>...</th>\n",
       "      <th>police fridaythoughts</th>\n",
       "      <th>fridaythoughts harden</th>\n",
       "      <th>harden nbabubble</th>\n",
       "      <th>person allblacklivesmatter mutually</th>\n",
       "      <th>allblacklivesmatter mutually exclusive</th>\n",
       "      <th>mutually exclusive minority</th>\n",
       "      <th>exclusive minority police</th>\n",
       "      <th>minority police fridaythoughts</th>\n",
       "      <th>police fridaythoughts harden</th>\n",
       "      <th>fridaythoughts harden nbabubble</th>\n",
       "    </tr>\n",
       "  </thead>\n",
       "  <tbody>\n",
       "    <tr>\n",
       "      <td>0</td>\n",
       "      <td>0.0</td>\n",
       "      <td>0.0</td>\n",
       "      <td>0.0</td>\n",
       "      <td>0.0</td>\n",
       "      <td>0.0</td>\n",
       "      <td>0.0</td>\n",
       "      <td>0.0</td>\n",
       "      <td>0.0</td>\n",
       "      <td>0.0</td>\n",
       "      <td>0.0</td>\n",
       "      <td>...</td>\n",
       "      <td>0.0</td>\n",
       "      <td>0.0</td>\n",
       "      <td>0.0</td>\n",
       "      <td>0.0</td>\n",
       "      <td>0.0</td>\n",
       "      <td>0.0</td>\n",
       "      <td>0.0</td>\n",
       "      <td>0.0</td>\n",
       "      <td>0.0</td>\n",
       "      <td>0.0</td>\n",
       "    </tr>\n",
       "    <tr>\n",
       "      <td>1</td>\n",
       "      <td>0.0</td>\n",
       "      <td>0.0</td>\n",
       "      <td>0.0</td>\n",
       "      <td>0.0</td>\n",
       "      <td>0.0</td>\n",
       "      <td>0.0</td>\n",
       "      <td>0.0</td>\n",
       "      <td>0.0</td>\n",
       "      <td>0.0</td>\n",
       "      <td>0.0</td>\n",
       "      <td>...</td>\n",
       "      <td>0.0</td>\n",
       "      <td>0.0</td>\n",
       "      <td>0.0</td>\n",
       "      <td>0.0</td>\n",
       "      <td>0.0</td>\n",
       "      <td>0.0</td>\n",
       "      <td>0.0</td>\n",
       "      <td>0.0</td>\n",
       "      <td>0.0</td>\n",
       "      <td>0.0</td>\n",
       "    </tr>\n",
       "    <tr>\n",
       "      <td>2</td>\n",
       "      <td>0.0</td>\n",
       "      <td>0.0</td>\n",
       "      <td>0.0</td>\n",
       "      <td>0.0</td>\n",
       "      <td>0.0</td>\n",
       "      <td>0.0</td>\n",
       "      <td>0.0</td>\n",
       "      <td>0.0</td>\n",
       "      <td>0.0</td>\n",
       "      <td>0.0</td>\n",
       "      <td>...</td>\n",
       "      <td>0.0</td>\n",
       "      <td>0.0</td>\n",
       "      <td>0.0</td>\n",
       "      <td>0.0</td>\n",
       "      <td>0.0</td>\n",
       "      <td>0.0</td>\n",
       "      <td>0.0</td>\n",
       "      <td>0.0</td>\n",
       "      <td>0.0</td>\n",
       "      <td>0.0</td>\n",
       "    </tr>\n",
       "    <tr>\n",
       "      <td>3</td>\n",
       "      <td>0.0</td>\n",
       "      <td>0.0</td>\n",
       "      <td>0.0</td>\n",
       "      <td>0.0</td>\n",
       "      <td>0.0</td>\n",
       "      <td>0.0</td>\n",
       "      <td>0.0</td>\n",
       "      <td>0.0</td>\n",
       "      <td>0.0</td>\n",
       "      <td>0.0</td>\n",
       "      <td>...</td>\n",
       "      <td>0.0</td>\n",
       "      <td>0.0</td>\n",
       "      <td>0.0</td>\n",
       "      <td>0.0</td>\n",
       "      <td>0.0</td>\n",
       "      <td>0.0</td>\n",
       "      <td>0.0</td>\n",
       "      <td>0.0</td>\n",
       "      <td>0.0</td>\n",
       "      <td>0.0</td>\n",
       "    </tr>\n",
       "    <tr>\n",
       "      <td>4</td>\n",
       "      <td>0.0</td>\n",
       "      <td>0.0</td>\n",
       "      <td>0.0</td>\n",
       "      <td>0.0</td>\n",
       "      <td>0.0</td>\n",
       "      <td>0.0</td>\n",
       "      <td>0.0</td>\n",
       "      <td>0.0</td>\n",
       "      <td>0.0</td>\n",
       "      <td>0.0</td>\n",
       "      <td>...</td>\n",
       "      <td>0.0</td>\n",
       "      <td>0.0</td>\n",
       "      <td>0.0</td>\n",
       "      <td>0.0</td>\n",
       "      <td>0.0</td>\n",
       "      <td>0.0</td>\n",
       "      <td>0.0</td>\n",
       "      <td>0.0</td>\n",
       "      <td>0.0</td>\n",
       "      <td>0.0</td>\n",
       "    </tr>\n",
       "    <tr>\n",
       "      <td>...</td>\n",
       "      <td>...</td>\n",
       "      <td>...</td>\n",
       "      <td>...</td>\n",
       "      <td>...</td>\n",
       "      <td>...</td>\n",
       "      <td>...</td>\n",
       "      <td>...</td>\n",
       "      <td>...</td>\n",
       "      <td>...</td>\n",
       "      <td>...</td>\n",
       "      <td>...</td>\n",
       "      <td>...</td>\n",
       "      <td>...</td>\n",
       "      <td>...</td>\n",
       "      <td>...</td>\n",
       "      <td>...</td>\n",
       "      <td>...</td>\n",
       "      <td>...</td>\n",
       "      <td>...</td>\n",
       "      <td>...</td>\n",
       "      <td>...</td>\n",
       "    </tr>\n",
       "    <tr>\n",
       "      <td>972</td>\n",
       "      <td>0.0</td>\n",
       "      <td>0.0</td>\n",
       "      <td>0.0</td>\n",
       "      <td>0.0</td>\n",
       "      <td>0.0</td>\n",
       "      <td>0.0</td>\n",
       "      <td>0.0</td>\n",
       "      <td>0.0</td>\n",
       "      <td>0.0</td>\n",
       "      <td>0.0</td>\n",
       "      <td>...</td>\n",
       "      <td>0.0</td>\n",
       "      <td>0.0</td>\n",
       "      <td>0.0</td>\n",
       "      <td>0.0</td>\n",
       "      <td>0.0</td>\n",
       "      <td>0.0</td>\n",
       "      <td>0.0</td>\n",
       "      <td>0.0</td>\n",
       "      <td>0.0</td>\n",
       "      <td>0.0</td>\n",
       "    </tr>\n",
       "    <tr>\n",
       "      <td>973</td>\n",
       "      <td>0.0</td>\n",
       "      <td>0.0</td>\n",
       "      <td>0.0</td>\n",
       "      <td>0.0</td>\n",
       "      <td>0.0</td>\n",
       "      <td>0.0</td>\n",
       "      <td>0.0</td>\n",
       "      <td>0.0</td>\n",
       "      <td>0.0</td>\n",
       "      <td>0.0</td>\n",
       "      <td>...</td>\n",
       "      <td>0.0</td>\n",
       "      <td>0.0</td>\n",
       "      <td>0.0</td>\n",
       "      <td>0.0</td>\n",
       "      <td>0.0</td>\n",
       "      <td>0.0</td>\n",
       "      <td>0.0</td>\n",
       "      <td>0.0</td>\n",
       "      <td>0.0</td>\n",
       "      <td>0.0</td>\n",
       "    </tr>\n",
       "    <tr>\n",
       "      <td>974</td>\n",
       "      <td>0.0</td>\n",
       "      <td>0.0</td>\n",
       "      <td>0.0</td>\n",
       "      <td>0.0</td>\n",
       "      <td>0.0</td>\n",
       "      <td>0.0</td>\n",
       "      <td>0.0</td>\n",
       "      <td>0.0</td>\n",
       "      <td>0.0</td>\n",
       "      <td>0.0</td>\n",
       "      <td>...</td>\n",
       "      <td>0.0</td>\n",
       "      <td>0.0</td>\n",
       "      <td>0.0</td>\n",
       "      <td>0.0</td>\n",
       "      <td>0.0</td>\n",
       "      <td>0.0</td>\n",
       "      <td>0.0</td>\n",
       "      <td>0.0</td>\n",
       "      <td>0.0</td>\n",
       "      <td>0.0</td>\n",
       "    </tr>\n",
       "    <tr>\n",
       "      <td>975</td>\n",
       "      <td>0.0</td>\n",
       "      <td>0.0</td>\n",
       "      <td>0.0</td>\n",
       "      <td>0.0</td>\n",
       "      <td>0.0</td>\n",
       "      <td>0.0</td>\n",
       "      <td>0.0</td>\n",
       "      <td>0.0</td>\n",
       "      <td>0.0</td>\n",
       "      <td>0.0</td>\n",
       "      <td>...</td>\n",
       "      <td>0.0</td>\n",
       "      <td>0.0</td>\n",
       "      <td>0.0</td>\n",
       "      <td>0.0</td>\n",
       "      <td>0.0</td>\n",
       "      <td>0.0</td>\n",
       "      <td>0.0</td>\n",
       "      <td>0.0</td>\n",
       "      <td>0.0</td>\n",
       "      <td>0.0</td>\n",
       "    </tr>\n",
       "    <tr>\n",
       "      <td>976</td>\n",
       "      <td>0.0</td>\n",
       "      <td>0.0</td>\n",
       "      <td>0.0</td>\n",
       "      <td>0.0</td>\n",
       "      <td>0.0</td>\n",
       "      <td>0.0</td>\n",
       "      <td>0.0</td>\n",
       "      <td>0.0</td>\n",
       "      <td>0.0</td>\n",
       "      <td>0.0</td>\n",
       "      <td>...</td>\n",
       "      <td>0.0</td>\n",
       "      <td>0.0</td>\n",
       "      <td>0.0</td>\n",
       "      <td>0.0</td>\n",
       "      <td>0.0</td>\n",
       "      <td>0.0</td>\n",
       "      <td>0.0</td>\n",
       "      <td>0.0</td>\n",
       "      <td>0.0</td>\n",
       "      <td>0.0</td>\n",
       "    </tr>\n",
       "  </tbody>\n",
       "</table>\n",
       "<p>977 rows × 54344 columns</p>\n",
       "</div>"
      ],
      "text/plain": [
       "     fund  defense  trump2020landslidevictory  fund defense  \\\n",
       "0     0.0      0.0                        0.0           0.0   \n",
       "1     0.0      0.0                        0.0           0.0   \n",
       "2     0.0      0.0                        0.0           0.0   \n",
       "3     0.0      0.0                        0.0           0.0   \n",
       "4     0.0      0.0                        0.0           0.0   \n",
       "..    ...      ...                        ...           ...   \n",
       "972   0.0      0.0                        0.0           0.0   \n",
       "973   0.0      0.0                        0.0           0.0   \n",
       "974   0.0      0.0                        0.0           0.0   \n",
       "975   0.0      0.0                        0.0           0.0   \n",
       "976   0.0      0.0                        0.0           0.0   \n",
       "\n",
       "     defense trump2020landslidevictory  \\\n",
       "0                                  0.0   \n",
       "1                                  0.0   \n",
       "2                                  0.0   \n",
       "3                                  0.0   \n",
       "4                                  0.0   \n",
       "..                                 ...   \n",
       "972                                0.0   \n",
       "973                                0.0   \n",
       "974                                0.0   \n",
       "975                                0.0   \n",
       "976                                0.0   \n",
       "\n",
       "     fund defense trump2020landslidevictory  dems  ever  get  charge  ...  \\\n",
       "0                                       0.0   0.0   0.0  0.0     0.0  ...   \n",
       "1                                       0.0   0.0   0.0  0.0     0.0  ...   \n",
       "2                                       0.0   0.0   0.0  0.0     0.0  ...   \n",
       "3                                       0.0   0.0   0.0  0.0     0.0  ...   \n",
       "4                                       0.0   0.0   0.0  0.0     0.0  ...   \n",
       "..                                      ...   ...   ...  ...     ...  ...   \n",
       "972                                     0.0   0.0   0.0  0.0     0.0  ...   \n",
       "973                                     0.0   0.0   0.0  0.0     0.0  ...   \n",
       "974                                     0.0   0.0   0.0  0.0     0.0  ...   \n",
       "975                                     0.0   0.0   0.0  0.0     0.0  ...   \n",
       "976                                     0.0   0.0   0.0  0.0     0.0  ...   \n",
       "\n",
       "     police fridaythoughts  fridaythoughts harden  harden nbabubble  \\\n",
       "0                      0.0                    0.0               0.0   \n",
       "1                      0.0                    0.0               0.0   \n",
       "2                      0.0                    0.0               0.0   \n",
       "3                      0.0                    0.0               0.0   \n",
       "4                      0.0                    0.0               0.0   \n",
       "..                     ...                    ...               ...   \n",
       "972                    0.0                    0.0               0.0   \n",
       "973                    0.0                    0.0               0.0   \n",
       "974                    0.0                    0.0               0.0   \n",
       "975                    0.0                    0.0               0.0   \n",
       "976                    0.0                    0.0               0.0   \n",
       "\n",
       "     person allblacklivesmatter mutually  \\\n",
       "0                                    0.0   \n",
       "1                                    0.0   \n",
       "2                                    0.0   \n",
       "3                                    0.0   \n",
       "4                                    0.0   \n",
       "..                                   ...   \n",
       "972                                  0.0   \n",
       "973                                  0.0   \n",
       "974                                  0.0   \n",
       "975                                  0.0   \n",
       "976                                  0.0   \n",
       "\n",
       "     allblacklivesmatter mutually exclusive  mutually exclusive minority  \\\n",
       "0                                       0.0                          0.0   \n",
       "1                                       0.0                          0.0   \n",
       "2                                       0.0                          0.0   \n",
       "3                                       0.0                          0.0   \n",
       "4                                       0.0                          0.0   \n",
       "..                                      ...                          ...   \n",
       "972                                     0.0                          0.0   \n",
       "973                                     0.0                          0.0   \n",
       "974                                     0.0                          0.0   \n",
       "975                                     0.0                          0.0   \n",
       "976                                     0.0                          0.0   \n",
       "\n",
       "     exclusive minority police  minority police fridaythoughts  \\\n",
       "0                          0.0                             0.0   \n",
       "1                          0.0                             0.0   \n",
       "2                          0.0                             0.0   \n",
       "3                          0.0                             0.0   \n",
       "4                          0.0                             0.0   \n",
       "..                         ...                             ...   \n",
       "972                        0.0                             0.0   \n",
       "973                        0.0                             0.0   \n",
       "974                        0.0                             0.0   \n",
       "975                        0.0                             0.0   \n",
       "976                        0.0                             0.0   \n",
       "\n",
       "     police fridaythoughts harden  fridaythoughts harden nbabubble  \n",
       "0                             0.0                              0.0  \n",
       "1                             0.0                              0.0  \n",
       "2                             0.0                              0.0  \n",
       "3                             0.0                              0.0  \n",
       "4                             0.0                              0.0  \n",
       "..                            ...                              ...  \n",
       "972                           0.0                              0.0  \n",
       "973                           0.0                              0.0  \n",
       "974                           0.0                              0.0  \n",
       "975                           0.0                              0.0  \n",
       "976                           0.0                              0.0  \n",
       "\n",
       "[977 rows x 54344 columns]"
      ]
     },
     "execution_count": 35,
     "metadata": {},
     "output_type": "execute_result"
    }
   ],
   "source": [
    "dfq1"
   ]
  },
  {
   "cell_type": "code",
   "execution_count": 37,
   "metadata": {},
   "outputs": [
    {
     "data": {
      "text/plain": [
       "3"
      ]
     },
     "execution_count": 37,
     "metadata": {},
     "output_type": "execute_result"
    }
   ],
   "source": [
    "dict_A=dict(zip(y_test,m))\n",
    "len(dict_A)"
   ]
  },
  {
   "cell_type": "code",
   "execution_count": 38,
   "metadata": {},
   "outputs": [],
   "source": [
    "Dataframe=pd.DataFrame(dict_A, index= ['sentiment']).T"
   ]
  },
  {
   "cell_type": "code",
   "execution_count": 39,
   "metadata": {},
   "outputs": [
    {
     "data": {
      "text/html": [
       "<div>\n",
       "<style scoped>\n",
       "    .dataframe tbody tr th:only-of-type {\n",
       "        vertical-align: middle;\n",
       "    }\n",
       "\n",
       "    .dataframe tbody tr th {\n",
       "        vertical-align: top;\n",
       "    }\n",
       "\n",
       "    .dataframe thead th {\n",
       "        text-align: right;\n",
       "    }\n",
       "</style>\n",
       "<table border=\"1\" class=\"dataframe\">\n",
       "  <thead>\n",
       "    <tr style=\"text-align: right;\">\n",
       "      <th></th>\n",
       "      <th>index</th>\n",
       "      <th>sentiment</th>\n",
       "    </tr>\n",
       "  </thead>\n",
       "  <tbody>\n",
       "    <tr>\n",
       "      <td>0</td>\n",
       "      <td>negative</td>\n",
       "      <td>chose never</td>\n",
       "    </tr>\n",
       "    <tr>\n",
       "      <td>1</td>\n",
       "      <td>positive</td>\n",
       "      <td>awakening wwg1wga</td>\n",
       "    </tr>\n",
       "    <tr>\n",
       "      <td>2</td>\n",
       "      <td>neutral</td>\n",
       "      <td>christopher columbus</td>\n",
       "    </tr>\n",
       "  </tbody>\n",
       "</table>\n",
       "</div>"
      ],
      "text/plain": [
       "      index             sentiment\n",
       "0  negative           chose never\n",
       "1  positive     awakening wwg1wga\n",
       "2   neutral  christopher columbus"
      ]
     },
     "execution_count": 39,
     "metadata": {},
     "output_type": "execute_result"
    }
   ],
   "source": [
    "dfs=Dataframe.reset_index()\n",
    "dfs"
   ]
  },
  {
   "cell_type": "code",
   "execution_count": 40,
   "metadata": {},
   "outputs": [
    {
     "data": {
      "text/plain": [
       "3"
      ]
     },
     "execution_count": 40,
     "metadata": {},
     "output_type": "execute_result"
    }
   ],
   "source": [
    "# dict_w= dict(zip(dict_A.values(),dict_A.keys()))\n",
    "next_list=[]\n",
    "for key in dict_A.keys():\n",
    "    if len(key)<1000:\n",
    "        next_list.append(key)\n",
    "len(next_list)\n"
   ]
  },
  {
   "cell_type": "code",
   "execution_count": null,
   "metadata": {},
   "outputs": [],
   "source": [
    "\n"
   ]
  },
  {
   "cell_type": "code",
   "execution_count": null,
   "metadata": {},
   "outputs": [],
   "source": []
  },
  {
   "cell_type": "markdown",
   "metadata": {},
   "source": [
    "### Classifying the tweets with a baseline + three models (RF,NB, SVM)"
   ]
  },
  {
   "cell_type": "markdown",
   "metadata": {},
   "source": [
    "#### Baseline Model"
   ]
  },
  {
   "cell_type": "code",
   "execution_count": 41,
   "metadata": {},
   "outputs": [],
   "source": [
    "#count vectorizing data for dummy classifier\n",
    "vec=CountVectorizer(stop_words=sw_set, ngram_range=(1,3), lowercase=True)\n",
    "X_b=vec.fit_transform(X_train)\n",
    "X_test_b=vec.transform(X_test)"
   ]
  },
  {
   "cell_type": "code",
   "execution_count": 42,
   "metadata": {},
   "outputs": [
    {
     "name": "stderr",
     "output_type": "stream",
     "text": [
      "/Users/jeffreyng/anaconda3/lib/python3.7/site-packages/sklearn/dummy.py:132: FutureWarning: The default value of strategy will change from stratified to prior in 0.24.\n",
      "  \"stratified to prior in 0.24.\", FutureWarning)\n"
     ]
    }
   ],
   "source": [
    "#fitting and predicting the dummy classifier (baseline model)\n",
    "from sklearn.dummy import DummyClassifier\n",
    "dclf = DummyClassifier() \n",
    "dclf.fit(X_b, y_train)\n",
    "y_preds_b=dclf.predict(X_test_b)"
   ]
  },
  {
   "cell_type": "code",
   "execution_count": 43,
   "metadata": {},
   "outputs": [
    {
     "name": "stdout",
     "output_type": "stream",
     "text": [
      "0.3623336745138178\n",
      "0.3660419976254192\n",
      "0.3623336745138178\n",
      "0.3637691620179502\n"
     ]
    }
   ],
   "source": [
    "#printing the evaluation metrics for the dummy classifier\n",
    "print(metrics.accuracy_score(y_test, y_preds_b))\n",
    "print(metrics.precision_score(y_test, y_preds_b, average='weighted'))\n",
    "print(metrics.recall_score(y_test, y_preds_b, average='weighted'))\n",
    "print(metrics.f1_score(y_test, y_preds_b, average='weighted'))\n"
   ]
  },
  {
   "cell_type": "markdown",
   "metadata": {},
   "source": [
    "#### Random Forest Model"
   ]
  },
  {
   "cell_type": "code",
   "execution_count": 44,
   "metadata": {},
   "outputs": [],
   "source": [
    "#initializing RandomForest \n",
    "rfc = RandomForestClassifier(n_estimators=200, criterion='entropy',random_state=0, n_jobs=-1)"
   ]
  },
  {
   "cell_type": "code",
   "execution_count": 45,
   "metadata": {},
   "outputs": [
    {
     "data": {
      "text/plain": [
       "RandomForestClassifier(criterion='entropy', n_estimators=200, n_jobs=-1,\n",
       "                       random_state=0)"
      ]
     },
     "execution_count": 45,
     "metadata": {},
     "output_type": "execute_result"
    }
   ],
   "source": [
    "#fitting model\n",
    "rfc.fit(tfidf_data_train_lem, y_train)"
   ]
  },
  {
   "cell_type": "code",
   "execution_count": 46,
   "metadata": {},
   "outputs": [
    {
     "data": {
      "text/plain": [
       "(977, 54344)"
      ]
     },
     "execution_count": 46,
     "metadata": {},
     "output_type": "execute_result"
    }
   ],
   "source": [
    "tfidf_data_test_lem.shape"
   ]
  },
  {
   "cell_type": "code",
   "execution_count": 47,
   "metadata": {},
   "outputs": [],
   "source": [
    "rfc_cv= RandomForestClassifier(n_estimators=200, criterion='entropy',random_state=0, n_jobs=-1)"
   ]
  },
  {
   "cell_type": "code",
   "execution_count": 48,
   "metadata": {},
   "outputs": [
    {
     "data": {
      "text/plain": [
       "RandomForestClassifier(criterion='entropy', n_estimators=200, n_jobs=-1,\n",
       "                       random_state=0)"
      ]
     },
     "execution_count": 48,
     "metadata": {},
     "output_type": "execute_result"
    }
   ],
   "source": [
    "rfc_cv.fit(X_b, y_train)"
   ]
  },
  {
   "cell_type": "code",
   "execution_count": 49,
   "metadata": {},
   "outputs": [],
   "source": [
    "rfc_cv_preds=rfc_cv.predict(X_test_b)"
   ]
  },
  {
   "cell_type": "code",
   "execution_count": 50,
   "metadata": {},
   "outputs": [
    {
     "name": "stdout",
     "output_type": "stream",
     "text": [
      "0.9160696008188332\n",
      "0.9188084316640254\n",
      "0.9160696008188332\n",
      "0.9166843399432864\n"
     ]
    }
   ],
   "source": [
    "print(metrics.accuracy_score(y_test, rfc_cv_preds))\n",
    "print(metrics.precision_score(y_test, rfc_cv_preds, average='weighted'))\n",
    "print(metrics.recall_score(y_test, rfc_cv_preds, average='weighted'))\n",
    "print(metrics.f1_score(y_test, rfc_cv_preds, average='weighted'))\n"
   ]
  },
  {
   "cell_type": "code",
   "execution_count": 51,
   "metadata": {},
   "outputs": [],
   "source": [
    "#predicting model\n",
    "rfc_preds= rfc.predict(tfidf_data_test_lem[0:700])\n",
    "rfc_preds_h= rfc.predict(tfidf_data_test_lem[700: ])"
   ]
  },
  {
   "cell_type": "code",
   "execution_count": 52,
   "metadata": {},
   "outputs": [
    {
     "name": "stdout",
     "output_type": "stream",
     "text": [
      "0.9014285714285715\n",
      "0.9059041638633476\n",
      "0.9014285714285715\n",
      "0.9024864439956664\n"
     ]
    }
   ],
   "source": [
    "#printing out evaluation metrics\n",
    "print(metrics.accuracy_score(y_test[0:700], rfc_preds))\n",
    "print(metrics.precision_score(y_test[0:700], rfc_preds, average='weighted'))\n",
    "print(metrics.recall_score(y_test[0:700], rfc_preds, average='weighted'))\n",
    "print(metrics.f1_score(y_test[0:700], rfc_preds, average='weighted'))\n",
    "\n"
   ]
  },
  {
   "cell_type": "code",
   "execution_count": 53,
   "metadata": {},
   "outputs": [
    {
     "name": "stdout",
     "output_type": "stream",
     "text": [
      "0.8808664259927798\n",
      "0.8952632813146383\n",
      "0.8808664259927798\n",
      "0.8850533395514861\n"
     ]
    }
   ],
   "source": [
    "#printing out evaluation metrics\n",
    "print(metrics.accuracy_score(y_test[700: ], rfc_preds_h))\n",
    "print(metrics.precision_score(y_test[700: ], rfc_preds_h, average='weighted'))\n",
    "print(metrics.recall_score(y_test[700: ], rfc_preds_h, average='weighted'))\n",
    "print(metrics.f1_score(y_test[700: ], rfc_preds_h, average='weighted'))"
   ]
  },
  {
   "cell_type": "code",
   "execution_count": null,
   "metadata": {},
   "outputs": [],
   "source": [
    "\n",
    "\n"
   ]
  },
  {
   "cell_type": "code",
   "execution_count": 55,
   "metadata": {},
   "outputs": [
    {
     "data": {
      "text/plain": [
       "negative    453\n",
       "positive    366\n",
       "neutral     158\n",
       "Name: comp4, dtype: int64"
      ]
     },
     "execution_count": 55,
     "metadata": {},
     "output_type": "execute_result"
    }
   ],
   "source": [
    "#a comparison of the counts of prediction and actual \n",
    "pd.Series(y_test).value_counts()"
   ]
  },
  {
   "cell_type": "code",
   "execution_count": 56,
   "metadata": {},
   "outputs": [
    {
     "data": {
      "image/png": "[encoded data removed]",
      "text/plain": [
       "<Figure size 432x288 with 1 Axes>"
      ]
     },
     "metadata": {},
     "output_type": "display_data"
    }
   ],
   "source": [
    "#confusion matrix\n",
    "from sklearn.metrics import confusion_matrix\n",
    "import seaborn as sns; sns.set()\n",
    "\n",
    "\n",
    "mat = confusion_matrix(y_test[0:700], rfc_preds)\n",
    "sns.heatmap(mat.T, square=True, annot=True, fmt='d', cbar=False,\n",
    "            xticklabels=['positive', 'neutral', 'negative'], yticklabels=['positive', 'neutral', 'negative'])\n",
    "plt.xlabel('true label')\n",
    "plt.ylabel('predicted label');"
   ]
  },
  {
   "cell_type": "code",
   "execution_count": 130,
   "metadata": {},
   "outputs": [
    {
     "data": {
      "image/png": "[encoded data removed]",
      "text/plain": [
       "<Figure size 432x288 with 1 Axes>"
      ]
     },
     "metadata": {},
     "output_type": "display_data"
    }
   ],
   "source": [
    "feat_importances= pd.Series(rfc.feature_importances_,index=tfidf.vocabulary_)\n",
    "feat_importances.nlargest(15).sort_values().plot(kind='barh')\n",
    "plt.savefig('RFC_feature_importance.png')"
   ]
  },
  {
   "cell_type": "code",
   "execution_count": null,
   "metadata": {},
   "outputs": [],
   "source": []
  },
  {
   "cell_type": "markdown",
   "metadata": {},
   "source": [
    "#### Multinomial Naive Bayes Model"
   ]
  },
  {
   "cell_type": "code",
   "execution_count": 58,
   "metadata": {},
   "outputs": [],
   "source": [
    "#Naive Bayes Classifier \n",
    "from sklearn.naive_bayes import MultinomialNB\n",
    "clf = MultinomialNB(alpha=.01, fit_prior=False)"
   ]
  },
  {
   "cell_type": "code",
   "execution_count": 59,
   "metadata": {},
   "outputs": [
    {
     "data": {
      "text/plain": [
       "MultinomialNB(alpha=0.01, fit_prior=False)"
      ]
     },
     "execution_count": 59,
     "metadata": {},
     "output_type": "execute_result"
    }
   ],
   "source": [
    "#fitting model with tf_idf vectorized data\n",
    "clf.fit(tfidf_data_train_lem, y_train)"
   ]
  },
  {
   "cell_type": "code",
   "execution_count": 60,
   "metadata": {},
   "outputs": [],
   "source": [
    "#predicting model\n",
    "\n",
    "clf_preds= clf.predict(tfidf_data_test_lem[0:700])\n",
    "clf_preds_h= clf.predict(tfidf_data_test_lem[700: ])"
   ]
  },
  {
   "cell_type": "code",
   "execution_count": 61,
   "metadata": {},
   "outputs": [
    {
     "name": "stdout",
     "output_type": "stream",
     "text": [
      "0.8828571428571429\n",
      "0.8832208473916602\n",
      "0.8828571428571429\n",
      "0.8826476413209717\n"
     ]
    }
   ],
   "source": [
    "#evaluation metrics\n",
    "print(metrics.accuracy_score(y_test[0:700], clf_preds))\n",
    "print(metrics.precision_score(y_test[0:700], clf_preds, average='weighted'))\n",
    "print(metrics.recall_score(y_test[0:700], clf_preds, average='weighted'))\n",
    "print(metrics.f1_score(y_test[0:700], clf_preds, average='weighted'))"
   ]
  },
  {
   "cell_type": "code",
   "execution_count": 62,
   "metadata": {},
   "outputs": [
    {
     "name": "stdout",
     "output_type": "stream",
     "text": [
      "0.8844765342960289\n",
      "0.8852899411314036\n",
      "0.8844765342960289\n",
      "0.8842972510317945\n"
     ]
    }
   ],
   "source": [
    "print(metrics.accuracy_score(y_test[700: ], clf_preds_h))\n",
    "print(metrics.precision_score(y_test[700: ], clf_preds_h, average='weighted'))\n",
    "print(metrics.recall_score(y_test[700: ], clf_preds_h, average='weighted'))\n",
    "print(metrics.f1_score(y_test[700: ], clf_preds_h, average='weighted'))"
   ]
  },
  {
   "cell_type": "code",
   "execution_count": 63,
   "metadata": {},
   "outputs": [
    {
     "data": {
      "image/png": "[encoded data removed]",
      "text/plain": [
       "<Figure size 432x288 with 1 Axes>"
      ]
     },
     "metadata": {},
     "output_type": "display_data"
    }
   ],
   "source": [
    "#confusion matrix\n",
    "from sklearn.metrics import confusion_matrix\n",
    "import seaborn as sns; sns.set()\n",
    "\n",
    "\n",
    "mat = confusion_matrix(y_test[0:700], clf_preds)\n",
    "sns.heatmap(mat.T, square=True, annot=True, fmt='d', cbar=False,\n",
    "            xticklabels=['positive', 'neutral', 'negative'], yticklabels=['positive', 'neutral', 'negative'])\n",
    "plt.xlabel('true label')\n",
    "plt.ylabel('predicted label');"
   ]
  },
  {
   "cell_type": "markdown",
   "metadata": {},
   "source": [
    "#### SVM Model"
   ]
  },
  {
   "cell_type": "code",
   "execution_count": 64,
   "metadata": {},
   "outputs": [],
   "source": [
    "#starting SVM model\n",
    "from sklearn import svm"
   ]
  },
  {
   "cell_type": "code",
   "execution_count": 65,
   "metadata": {},
   "outputs": [],
   "source": [
    "#setting hyperparameters for the SVM model\n",
    "svm_clf = svm.SVC(kernel='linear', C=10, class_weight='balanced')"
   ]
  },
  {
   "cell_type": "code",
   "execution_count": 66,
   "metadata": {},
   "outputs": [
    {
     "data": {
      "text/plain": [
       "SVC(C=10, class_weight='balanced', kernel='linear')"
      ]
     },
     "execution_count": 66,
     "metadata": {},
     "output_type": "execute_result"
    }
   ],
   "source": [
    "#fitting the SVM model\n",
    "svm_clf.fit(tfidf_data_train_lem, y_train)"
   ]
  },
  {
   "cell_type": "code",
   "execution_count": 67,
   "metadata": {},
   "outputs": [],
   "source": [
    "#predicting the classification with SVM\n",
    "svm_preds=svm_clf.predict(tfidf_data_test_lem[0:700])\n",
    "svm_preds_h=svm_clf.predict(tfidf_data_test_lem[700: ])"
   ]
  },
  {
   "cell_type": "code",
   "execution_count": 68,
   "metadata": {},
   "outputs": [
    {
     "name": "stdout",
     "output_type": "stream",
     "text": [
      "0.91\n",
      "0.9107326099083264\n",
      "0.91\n",
      "0.9093740379123554\n"
     ]
    }
   ],
   "source": [
    "#Evaluation metrics\n",
    "print(metrics.accuracy_score(y_test[0:700], svm_preds))\n",
    "print(metrics.precision_score(y_test[0:700], svm_preds, average='weighted'))\n",
    "print(metrics.recall_score(y_test[0:700], svm_preds, average='weighted'))\n",
    "print(metrics.f1_score(y_test[0:700], svm_preds, average='weighted'))"
   ]
  },
  {
   "cell_type": "code",
   "execution_count": 69,
   "metadata": {},
   "outputs": [
    {
     "name": "stdout",
     "output_type": "stream",
     "text": [
      "0.9061371841155235\n",
      "0.9063950489943269\n",
      "0.9061371841155235\n",
      "0.9057082358075139\n"
     ]
    }
   ],
   "source": [
    "print(metrics.accuracy_score(y_test[700: ], svm_preds_h))\n",
    "print(metrics.precision_score(y_test[700: ], svm_preds_h, average='weighted'))\n",
    "print(metrics.recall_score(y_test[700: ], svm_preds_h, average='weighted'))\n",
    "print(metrics.f1_score(y_test[700: ], svm_preds_h, average='weighted'))"
   ]
  },
  {
   "cell_type": "code",
   "execution_count": 70,
   "metadata": {},
   "outputs": [],
   "source": [
    "svm_clf_cv=svm.SVC(kernel='linear', C=10, class_weight='balanced')"
   ]
  },
  {
   "cell_type": "code",
   "execution_count": 71,
   "metadata": {},
   "outputs": [
    {
     "data": {
      "text/plain": [
       "SVC(C=10, class_weight='balanced', kernel='linear')"
      ]
     },
     "execution_count": 71,
     "metadata": {},
     "output_type": "execute_result"
    }
   ],
   "source": [
    "svm_clf_cv.fit(X_b, y_train)"
   ]
  },
  {
   "cell_type": "code",
   "execution_count": 72,
   "metadata": {},
   "outputs": [],
   "source": [
    "svm_clf_cv_preds=svm_clf_cv.predict(X_test_b)"
   ]
  },
  {
   "cell_type": "code",
   "execution_count": 73,
   "metadata": {},
   "outputs": [
    {
     "name": "stdout",
     "output_type": "stream",
     "text": [
      "0.8955987717502559\n",
      "0.9050582406986623\n",
      "0.8955987717502559\n",
      "0.8971948483402842\n"
     ]
    }
   ],
   "source": [
    "print(metrics.accuracy_score(y_test, svm_clf_cv_preds))\n",
    "print(metrics.precision_score(y_test, svm_clf_cv_preds, average='weighted'))\n",
    "print(metrics.recall_score(y_test, svm_clf_cv_preds, average='weighted'))\n",
    "print(metrics.f1_score(y_test, svm_clf_cv_preds, average='weighted'))"
   ]
  },
  {
   "cell_type": "markdown",
   "metadata": {},
   "source": [
    "## Getting the SVM coefficients of the count_vectorized data"
   ]
  },
  {
   "cell_type": "code",
   "execution_count": 74,
   "metadata": {},
   "outputs": [],
   "source": [
    "svm_clf_cv.coef_.T.shape\n",
    "data4=vec.get_feature_names()"
   ]
  },
  {
   "cell_type": "code",
   "execution_count": 75,
   "metadata": {},
   "outputs": [],
   "source": [
    "df_CV=pd.DataFrame(svm_clf.coef_.T.todense(), index= data4)"
   ]
  },
  {
   "cell_type": "code",
   "execution_count": 76,
   "metadata": {},
   "outputs": [
    {
     "data": {
      "text/html": [
       "<div>\n",
       "<style scoped>\n",
       "    .dataframe tbody tr th:only-of-type {\n",
       "        vertical-align: middle;\n",
       "    }\n",
       "\n",
       "    .dataframe tbody tr th {\n",
       "        vertical-align: top;\n",
       "    }\n",
       "\n",
       "    .dataframe thead th {\n",
       "        text-align: right;\n",
       "    }\n",
       "</style>\n",
       "<table border=\"1\" class=\"dataframe\">\n",
       "  <thead>\n",
       "    <tr style=\"text-align: right;\">\n",
       "      <th></th>\n",
       "      <th>0</th>\n",
       "      <th>1</th>\n",
       "      <th>2</th>\n",
       "    </tr>\n",
       "  </thead>\n",
       "  <tbody>\n",
       "    <tr>\n",
       "      <td>000</td>\n",
       "      <td>0.042496</td>\n",
       "      <td>-0.324458</td>\n",
       "      <td>-0.340698</td>\n",
       "    </tr>\n",
       "    <tr>\n",
       "      <td>000 federal</td>\n",
       "      <td>0.048293</td>\n",
       "      <td>0.072245</td>\n",
       "      <td>0.000000</td>\n",
       "    </tr>\n",
       "    <tr>\n",
       "      <td>000 federal inmates</td>\n",
       "      <td>0.048293</td>\n",
       "      <td>0.072245</td>\n",
       "      <td>0.000000</td>\n",
       "    </tr>\n",
       "    <tr>\n",
       "      <td>000 get</td>\n",
       "      <td>0.000000</td>\n",
       "      <td>-0.144570</td>\n",
       "      <td>-0.121842</td>\n",
       "    </tr>\n",
       "    <tr>\n",
       "      <td>000 get help</td>\n",
       "      <td>0.000000</td>\n",
       "      <td>-0.144570</td>\n",
       "      <td>-0.121842</td>\n",
       "    </tr>\n",
       "    <tr>\n",
       "      <td>...</td>\n",
       "      <td>...</td>\n",
       "      <td>...</td>\n",
       "      <td>...</td>\n",
       "    </tr>\n",
       "    <tr>\n",
       "      <td>سرايا_السلام pic</td>\n",
       "      <td>0.078378</td>\n",
       "      <td>0.089542</td>\n",
       "      <td>0.000000</td>\n",
       "    </tr>\n",
       "    <tr>\n",
       "      <td>سرايا_السلام pic zmruclqlf2</td>\n",
       "      <td>0.078378</td>\n",
       "      <td>0.089542</td>\n",
       "      <td>0.000000</td>\n",
       "    </tr>\n",
       "    <tr>\n",
       "      <td>태민아_짝궁들이_생일축하한대</td>\n",
       "      <td>-0.243570</td>\n",
       "      <td>0.000000</td>\n",
       "      <td>0.264452</td>\n",
       "    </tr>\n",
       "    <tr>\n",
       "      <td>태민아_짝궁들이_생일축하한대 pic</td>\n",
       "      <td>-0.243570</td>\n",
       "      <td>0.000000</td>\n",
       "      <td>0.264452</td>\n",
       "    </tr>\n",
       "    <tr>\n",
       "      <td>태민아_짝궁들이_생일축하한대 pic l2ar2i7vm0</td>\n",
       "      <td>-0.243570</td>\n",
       "      <td>0.000000</td>\n",
       "      <td>0.264452</td>\n",
       "    </tr>\n",
       "  </tbody>\n",
       "</table>\n",
       "<p>54344 rows × 3 columns</p>\n",
       "</div>"
      ],
      "text/plain": [
       "                                       0         1         2\n",
       "000                             0.042496 -0.324458 -0.340698\n",
       "000 federal                     0.048293  0.072245  0.000000\n",
       "000 federal inmates             0.048293  0.072245  0.000000\n",
       "000 get                         0.000000 -0.144570 -0.121842\n",
       "000 get help                    0.000000 -0.144570 -0.121842\n",
       "...                                  ...       ...       ...\n",
       "سرايا_السلام pic                0.078378  0.089542  0.000000\n",
       "سرايا_السلام pic zmruclqlf2     0.078378  0.089542  0.000000\n",
       "태민아_짝궁들이_생일축하한대                -0.243570  0.000000  0.264452\n",
       "태민아_짝궁들이_생일축하한대 pic            -0.243570  0.000000  0.264452\n",
       "태민아_짝궁들이_생일축하한대 pic l2ar2i7vm0 -0.243570  0.000000  0.264452\n",
       "\n",
       "[54344 rows x 3 columns]"
      ]
     },
     "execution_count": 76,
     "metadata": {},
     "output_type": "execute_result"
    }
   ],
   "source": [
    "df_CV"
   ]
  },
  {
   "cell_type": "code",
   "execution_count": 77,
   "metadata": {},
   "outputs": [
    {
     "data": {
      "text/plain": [
       "<matplotlib.axes._subplots.AxesSubplot at 0x7febfa2bbd90>"
      ]
     },
     "execution_count": 77,
     "metadata": {},
     "output_type": "execute_result"
    },
    {
     "data": {
      "image/png": "[encoded data removed]",
      "text/plain": [
       "<Figure size 432x288 with 1 Axes>"
      ]
     },
     "metadata": {},
     "output_type": "display_data"
    }
   ],
   "source": [
    "df_CV[0].sort_values(ascending=False).head(10).plot(kind='bar', cmap='Spectral')"
   ]
  },
  {
   "cell_type": "code",
   "execution_count": 78,
   "metadata": {},
   "outputs": [
    {
     "data": {
      "text/plain": [
       "<matplotlib.axes._subplots.AxesSubplot at 0x7febe9b324d0>"
      ]
     },
     "execution_count": 78,
     "metadata": {},
     "output_type": "execute_result"
    },
    {
     "data": {
      "image/png": "[encoded data removed]",
      "text/plain": [
       "<Figure size 432x288 with 1 Axes>"
      ]
     },
     "metadata": {},
     "output_type": "display_data"
    }
   ],
   "source": [
    "df_CV[1].sort_values(ascending=False).head(10).plot(kind='bar', cmap='Spectral')"
   ]
  },
  {
   "cell_type": "code",
   "execution_count": 79,
   "metadata": {},
   "outputs": [
    {
     "data": {
      "text/plain": [
       "<matplotlib.axes._subplots.AxesSubplot at 0x7febbfdde210>"
      ]
     },
     "execution_count": 79,
     "metadata": {},
     "output_type": "execute_result"
    },
    {
     "data": {
      "image/png": "[encoded data removed]",
      "text/plain": [
       "<Figure size 432x288 with 1 Axes>"
      ]
     },
     "metadata": {},
     "output_type": "display_data"
    }
   ],
   "source": [
    "df_CV[2].sort_values(ascending=False).head(10).plot(kind='bar', cmap='Spectral')"
   ]
  },
  {
   "cell_type": "markdown",
   "metadata": {},
   "source": [
    "## Getting the SVM coefficients for each class "
   ]
  },
  {
   "cell_type": "code",
   "execution_count": null,
   "metadata": {},
   "outputs": [],
   "source": []
  },
  {
   "cell_type": "code",
   "execution_count": 80,
   "metadata": {},
   "outputs": [],
   "source": [
    "svm_clf=svm.SVC(kernel='linear', C=10)"
   ]
  },
  {
   "cell_type": "code",
   "execution_count": 81,
   "metadata": {},
   "outputs": [
    {
     "data": {
      "text/plain": [
       "SVC(C=10, kernel='linear')"
      ]
     },
     "execution_count": 81,
     "metadata": {},
     "output_type": "execute_result"
    }
   ],
   "source": [
    "svm_clf.fit(tfidf_data_train_lem, y_train)"
   ]
  },
  {
   "cell_type": "code",
   "execution_count": 82,
   "metadata": {},
   "outputs": [],
   "source": [
    "svm_clf.coef_.T.shape\n",
    "data3=tfidf.get_feature_names()"
   ]
  },
  {
   "cell_type": "code",
   "execution_count": 83,
   "metadata": {},
   "outputs": [
    {
     "data": {
      "text/plain": [
       "54344"
      ]
     },
     "execution_count": 83,
     "metadata": {},
     "output_type": "execute_result"
    }
   ],
   "source": [
    "len(data3)"
   ]
  },
  {
   "cell_type": "code",
   "execution_count": 84,
   "metadata": {},
   "outputs": [
    {
     "data": {
      "text/plain": [
       "(54344, 3)"
      ]
     },
     "execution_count": 84,
     "metadata": {},
     "output_type": "execute_result"
    }
   ],
   "source": [
    "svm_clf.coef_.T.shape"
   ]
  },
  {
   "cell_type": "code",
   "execution_count": 85,
   "metadata": {},
   "outputs": [],
   "source": [
    "data2=pd.DataFrame(svm_clf.coef_.T.todense(), index= data3)\n",
    "\n",
    "data2.rename(columns={0:'positive', 1:'negative', 2:'neutral'}, inplace=True)\n"
   ]
  },
  {
   "cell_type": "code",
   "execution_count": 86,
   "metadata": {},
   "outputs": [
    {
     "data": {
      "text/plain": [
       "<matplotlib.axes._subplots.AxesSubplot at 0x7febe9c745d0>"
      ]
     },
     "execution_count": 86,
     "metadata": {},
     "output_type": "execute_result"
    },
    {
     "data": {
      "image/png": "[encoded data removed]",
      "text/plain": [
       "<Figure size 432x288 with 1 Axes>"
      ]
     },
     "metadata": {},
     "output_type": "display_data"
    }
   ],
   "source": [
    "data2['positive'].sort_values(ascending=False).head(7).plot(kind='bar', cmap='Spectral')\n"
   ]
  },
  {
   "cell_type": "code",
   "execution_count": 87,
   "metadata": {},
   "outputs": [
    {
     "data": {
      "text/plain": [
       "<matplotlib.axes._subplots.AxesSubplot at 0x7febc1066690>"
      ]
     },
     "execution_count": 87,
     "metadata": {},
     "output_type": "execute_result"
    },
    {
     "data": {
      "image/png": "[encoded data removed]",
      "text/plain": [
       "<Figure size 432x288 with 1 Axes>"
      ]
     },
     "metadata": {},
     "output_type": "display_data"
    }
   ],
   "source": [
    "data2['negative'].sort_values(ascending=False).head(7).plot(kind='bar', color = '#B4CDCD')"
   ]
  },
  {
   "cell_type": "code",
   "execution_count": 88,
   "metadata": {},
   "outputs": [
    {
     "data": {
      "text/plain": [
       "<matplotlib.axes._subplots.AxesSubplot at 0x7febea03ce50>"
      ]
     },
     "execution_count": 88,
     "metadata": {},
     "output_type": "execute_result"
    },
    {
     "data": {
      "image/png": "[encoded data removed]",
      "text/plain": [
       "<Figure size 432x288 with 1 Axes>"
      ]
     },
     "metadata": {},
     "output_type": "display_data"
    }
   ],
   "source": [
    "data2['neutral'].sort_values(ascending=False).head(7).plot(kind='bar', color= '#4169E1' )"
   ]
  },
  {
   "cell_type": "code",
   "execution_count": null,
   "metadata": {},
   "outputs": [],
   "source": []
  },
  {
   "cell_type": "code",
   "execution_count": 89,
   "metadata": {},
   "outputs": [],
   "source": [
    "# result=pd.read_csv('twitter.csv')"
   ]
  },
  {
   "cell_type": "code",
   "execution_count": 90,
   "metadata": {},
   "outputs": [],
   "source": [
    "# result['tweet']"
   ]
  },
  {
   "cell_type": "code",
   "execution_count": 91,
   "metadata": {},
   "outputs": [],
   "source": [
    "# result_main= result[result['language']=='en']"
   ]
  },
  {
   "cell_type": "code",
   "execution_count": 92,
   "metadata": {},
   "outputs": [],
   "source": [
    "# result_main['language'].value_counts()"
   ]
  },
  {
   "cell_type": "code",
   "execution_count": 93,
   "metadata": {},
   "outputs": [],
   "source": [
    "# holdout_result=NLP_process(result_main['tweet'])"
   ]
  },
  {
   "cell_type": "code",
   "execution_count": 94,
   "metadata": {},
   "outputs": [],
   "source": [
    "# c= [analyser.polarity_scores(x) for x in result_main['tweet']]"
   ]
  },
  {
   "cell_type": "code",
   "execution_count": 95,
   "metadata": {},
   "outputs": [],
   "source": [
    "# d= [x.items() for x in a]"
   ]
  },
  {
   "cell_type": "code",
   "execution_count": 96,
   "metadata": {},
   "outputs": [],
   "source": [
    "# data2=pd.DataFrame(d, columns= ['neg', 'neu', 'pos', 'comp'])"
   ]
  },
  {
   "cell_type": "code",
   "execution_count": 97,
   "metadata": {},
   "outputs": [],
   "source": [
    "# e = data2['comp']"
   ]
  },
  {
   "cell_type": "code",
   "execution_count": 98,
   "metadata": {},
   "outputs": [],
   "source": [
    "# data2['comp2']= [score[1] for score in e]"
   ]
  },
  {
   "cell_type": "code",
   "execution_count": 99,
   "metadata": {},
   "outputs": [],
   "source": [
    "# data2['comp2']= data2['comp2'].round(3)"
   ]
  },
  {
   "cell_type": "code",
   "execution_count": 100,
   "metadata": {},
   "outputs": [],
   "source": [
    "#converting the vader scores into something easier to manipulate so that I can generate \n",
    "#three distinct classes\n",
    "# col         = 'comp2'\n",
    "# conditions  = [ data2[col] >= .05, (data2[col] < .05) & (data2[col]> -.05), data2[col] <= -.05 ]\n",
    "# choices     = [ 1, 0, -1 ]\n",
    "# data2[\"comp3\"] = np.select(conditions, choices, default=np.nan)"
   ]
  },
  {
   "cell_type": "code",
   "execution_count": 101,
   "metadata": {},
   "outputs": [],
   "source": [
    "# data2['comp4']= data2['comp3'].map({-1:'negative', 0: 'neutral', 1:'positive'})"
   ]
  },
  {
   "cell_type": "code",
   "execution_count": 102,
   "metadata": {},
   "outputs": [],
   "source": [
    "# data2['comp4'].value_counts()"
   ]
  },
  {
   "cell_type": "code",
   "execution_count": 103,
   "metadata": {},
   "outputs": [],
   "source": [
    "# y_holdout=data2['comp4']"
   ]
  },
  {
   "cell_type": "code",
   "execution_count": 104,
   "metadata": {},
   "outputs": [],
   "source": [
    "# X_holdout=result['tweet']"
   ]
  },
  {
   "cell_type": "code",
   "execution_count": 105,
   "metadata": {},
   "outputs": [],
   "source": [
    "# tfidf = TfidfVectorizer(stop_words='english', ngram_range=(1,2), lowercase=True)\n",
    "# tfidf_holdout_set = tfidf.fit_transform(X_holdout)\n",
    "# # tfidf_holdout_set = tfidf.transform(X_holdout)\n",
    "\n",
    "# # tfidf_data_train_lem\n",
    "# dfq1 = pd.DataFrame(tfidf_holdout_set.toarray().transpose(),\n",
    "#                  index = tfidf.get_feature_names())"
   ]
  },
  {
   "cell_type": "markdown",
   "metadata": {},
   "source": [
    "# The rest of NB deals with advanced NLP topics"
   ]
  },
  {
   "cell_type": "code",
   "execution_count": 106,
   "metadata": {},
   "outputs": [],
   "source": [
    "import spacy\n",
    "import pandas as pd\n",
    "import numpy as np\n",
    "from tqdm import tqdm"
   ]
  },
  {
   "cell_type": "code",
   "execution_count": 107,
   "metadata": {},
   "outputs": [
    {
     "name": "stderr",
     "output_type": "stream",
     "text": [
      "/Users/jeffreyng/anaconda3/lib/python3.7/site-packages/tqdm/std.py:668: FutureWarning: The Panel class is removed from pandas. Accessing it from the top-level namespace will also be removed in the next version\n",
      "  from pandas import Panel\n"
     ]
    }
   ],
   "source": [
    "tqdm.pandas()"
   ]
  },
  {
   "cell_type": "code",
   "execution_count": 108,
   "metadata": {},
   "outputs": [
    {
     "data": {
      "text/html": [
       "<div>\n",
       "<style scoped>\n",
       "    .dataframe tbody tr th:only-of-type {\n",
       "        vertical-align: middle;\n",
       "    }\n",
       "\n",
       "    .dataframe tbody tr th {\n",
       "        vertical-align: top;\n",
       "    }\n",
       "\n",
       "    .dataframe thead th {\n",
       "        text-align: right;\n",
       "    }\n",
       "</style>\n",
       "<table border=\"1\" class=\"dataframe\">\n",
       "  <thead>\n",
       "    <tr style=\"text-align: right;\">\n",
       "      <th></th>\n",
       "      <th>tweet</th>\n",
       "      <th>language</th>\n",
       "      <th>comp4</th>\n",
       "    </tr>\n",
       "  </thead>\n",
       "  <tbody>\n",
       "    <tr>\n",
       "      <td>0</td>\n",
       "      <td>https://twitter.com/drawandstrike/status/1279...</td>\n",
       "      <td>en</td>\n",
       "      <td>negative</td>\n",
       "    </tr>\n",
       "    <tr>\n",
       "      <td>1</td>\n",
       "      <td>RACISM IS THE IDOL THAT FEEDS THE  BEAST OF #b...</td>\n",
       "      <td>en</td>\n",
       "      <td>negative</td>\n",
       "    </tr>\n",
       "    <tr>\n",
       "      <td>2</td>\n",
       "      <td>Powerful picture of the REAL state of race rel...</td>\n",
       "      <td>en</td>\n",
       "      <td>positive</td>\n",
       "    </tr>\n",
       "    <tr>\n",
       "      <td>3</td>\n",
       "      <td>Looks like yet another black criminal dealt wi...</td>\n",
       "      <td>en</td>\n",
       "      <td>negative</td>\n",
       "    </tr>\n",
       "    <tr>\n",
       "      <td>4</td>\n",
       "      <td>I SAW YOU ON THE NEWS, KNOW THE TRUTH AND YOUR...</td>\n",
       "      <td>en</td>\n",
       "      <td>positive</td>\n",
       "    </tr>\n",
       "    <tr>\n",
       "      <td>...</td>\n",
       "      <td>...</td>\n",
       "      <td>...</td>\n",
       "      <td>...</td>\n",
       "    </tr>\n",
       "    <tr>\n",
       "      <td>7131</td>\n",
       "      <td>For all the #AllLivesMatter people.. I’m gonna...</td>\n",
       "      <td>en</td>\n",
       "      <td>negative</td>\n",
       "    </tr>\n",
       "    <tr>\n",
       "      <td>7133</td>\n",
       "      <td>@ericgarcetti  what did you expect moron? we'r...</td>\n",
       "      <td>en</td>\n",
       "      <td>negative</td>\n",
       "    </tr>\n",
       "    <tr>\n",
       "      <td>7134</td>\n",
       "      <td>Does that mean #DementiaJoe is saying #AllLive...</td>\n",
       "      <td>en</td>\n",
       "      <td>negative</td>\n",
       "    </tr>\n",
       "    <tr>\n",
       "      <td>7135</td>\n",
       "      <td>#PaperMario #PaperMarioTheOrigamiKing #Nintend...</td>\n",
       "      <td>en</td>\n",
       "      <td>positive</td>\n",
       "    </tr>\n",
       "    <tr>\n",
       "      <td>7136</td>\n",
       "      <td>pic.twitter.com/Q1HTj0C8db you can sue for mi...</td>\n",
       "      <td>en</td>\n",
       "      <td>positive</td>\n",
       "    </tr>\n",
       "  </tbody>\n",
       "</table>\n",
       "<p>4881 rows × 3 columns</p>\n",
       "</div>"
      ],
      "text/plain": [
       "                                                  tweet language     comp4\n",
       "0      https://twitter.com/drawandstrike/status/1279...       en  negative\n",
       "1     RACISM IS THE IDOL THAT FEEDS THE  BEAST OF #b...       en  negative\n",
       "2     Powerful picture of the REAL state of race rel...       en  positive\n",
       "3     Looks like yet another black criminal dealt wi...       en  negative\n",
       "4     I SAW YOU ON THE NEWS, KNOW THE TRUTH AND YOUR...       en  positive\n",
       "...                                                 ...      ...       ...\n",
       "7131  For all the #AllLivesMatter people.. I’m gonna...       en  negative\n",
       "7133  @ericgarcetti  what did you expect moron? we'r...       en  negative\n",
       "7134  Does that mean #DementiaJoe is saying #AllLive...       en  negative\n",
       "7135  #PaperMario #PaperMarioTheOrigamiKing #Nintend...       en  positive\n",
       "7136   pic.twitter.com/Q1HTj0C8db you can sue for mi...       en  positive\n",
       "\n",
       "[4881 rows x 3 columns]"
      ]
     },
     "execution_count": 108,
     "metadata": {},
     "output_type": "execute_result"
    }
   ],
   "source": [
    "Work_data"
   ]
  },
  {
   "cell_type": "markdown",
   "metadata": {},
   "source": [
    "## Attempting to use SpaCY"
   ]
  },
  {
   "cell_type": "code",
   "execution_count": 109,
   "metadata": {},
   "outputs": [],
   "source": [
    "nlp = spacy.load('en_core_web_md')"
   ]
  },
  {
   "cell_type": "code",
   "execution_count": 110,
   "metadata": {},
   "outputs": [
    {
     "name": "stderr",
     "output_type": "stream",
     "text": [
      "/Users/jeffreyng/anaconda3/lib/python3.7/site-packages/ipykernel_launcher.py:1: SettingWithCopyWarning: \n",
      "A value is trying to be set on a copy of a slice from a DataFrame.\n",
      "Try using .loc[row_indexer,col_indexer] = value instead\n",
      "\n",
      "See the caveats in the documentation: http://pandas.pydata.org/pandas-docs/stable/user_guide/indexing.html#returning-a-view-versus-a-copy\n",
      "  \"\"\"Entry point for launching an IPython kernel.\n"
     ]
    }
   ],
   "source": [
    "Work_data['spacy_txt'] = [nlp(x) for x in Work_data['tweet']]"
   ]
  },
  {
   "cell_type": "code",
   "execution_count": 111,
   "metadata": {},
   "outputs": [
    {
     "name": "stderr",
     "output_type": "stream",
     "text": [
      "/Users/jeffreyng/anaconda3/lib/python3.7/site-packages/ipykernel_launcher.py:2: SettingWithCopyWarning: \n",
      "A value is trying to be set on a copy of a slice from a DataFrame.\n",
      "Try using .loc[row_indexer,col_indexer] = value instead\n",
      "\n",
      "See the caveats in the documentation: http://pandas.pydata.org/pandas-docs/stable/user_guide/indexing.html#returning-a-view-versus-a-copy\n",
      "  \n"
     ]
    }
   ],
   "source": [
    "#made a column containing a spacy object\n",
    "Work_data['spacy_y']= [nlp(x) for x in Work_data['comp4']]"
   ]
  },
  {
   "cell_type": "code",
   "execution_count": 112,
   "metadata": {},
   "outputs": [
    {
     "ename": "NameError",
     "evalue": "name 'nlp_df' is not defined",
     "output_type": "error",
     "traceback": [
      "\u001b[0;31m---------------------------------------------------------------------------\u001b[0m",
      "\u001b[0;31mNameError\u001b[0m                                 Traceback (most recent call last)",
      "\u001b[0;32m<ipython-input-112-983e040412a7>\u001b[0m in \u001b[0;36m<module>\u001b[0;34m\u001b[0m\n\u001b[1;32m      1\u001b[0m \u001b[0mcorpus\u001b[0m \u001b[0;34m=\u001b[0m \u001b[0;34m[\u001b[0m\u001b[0;34m]\u001b[0m\u001b[0;34m\u001b[0m\u001b[0;34m\u001b[0m\u001b[0m\n\u001b[0;32m----> 2\u001b[0;31m \u001b[0;32mfor\u001b[0m \u001b[0mdoc\u001b[0m \u001b[0;32min\u001b[0m \u001b[0mnlp_df\u001b[0m\u001b[0;34m.\u001b[0m\u001b[0mclean_tweet\u001b[0m\u001b[0;34m:\u001b[0m\u001b[0;34m\u001b[0m\u001b[0;34m\u001b[0m\u001b[0m\n\u001b[0m\u001b[1;32m      3\u001b[0m     \u001b[0md\u001b[0m \u001b[0;34m=\u001b[0m \u001b[0;34m(\u001b[0m\u001b[0mlist\u001b[0m\u001b[0;34m(\u001b[0m\u001b[0mfilter\u001b[0m\u001b[0;34m(\u001b[0m\u001b[0;32mlambda\u001b[0m \u001b[0mx\u001b[0m\u001b[0;34m:\u001b[0m \u001b[0mx\u001b[0m\u001b[0;34m.\u001b[0m\u001b[0mis_stop\u001b[0m\u001b[0;34m==\u001b[0m\u001b[0;32mFalse\u001b[0m\u001b[0;34m,\u001b[0m\u001b[0mnlp\u001b[0m\u001b[0;34m(\u001b[0m\u001b[0mdoc\u001b[0m\u001b[0;34m)\u001b[0m\u001b[0;34m)\u001b[0m\u001b[0;34m)\u001b[0m\u001b[0;34m)\u001b[0m\u001b[0;34m\u001b[0m\u001b[0;34m\u001b[0m\u001b[0m\n\u001b[1;32m      4\u001b[0m     \u001b[0md\u001b[0m \u001b[0;34m=\u001b[0m \u001b[0;34m(\u001b[0m\u001b[0mlist\u001b[0m\u001b[0;34m(\u001b[0m\u001b[0mfilter\u001b[0m\u001b[0;34m(\u001b[0m\u001b[0;32mlambda\u001b[0m \u001b[0mx\u001b[0m\u001b[0;34m:\u001b[0m \u001b[0mx\u001b[0m\u001b[0;34m.\u001b[0m\u001b[0mis_punct\u001b[0m\u001b[0;34m==\u001b[0m\u001b[0;32mFalse\u001b[0m\u001b[0;34m,\u001b[0m \u001b[0md\u001b[0m\u001b[0;34m)\u001b[0m\u001b[0;34m)\u001b[0m\u001b[0;34m)\u001b[0m\u001b[0;34m\u001b[0m\u001b[0;34m\u001b[0m\u001b[0m\n\u001b[1;32m      5\u001b[0m     \u001b[0md\u001b[0m \u001b[0;34m=\u001b[0m \u001b[0;34m(\u001b[0m\u001b[0mlist\u001b[0m\u001b[0;34m(\u001b[0m\u001b[0mfilter\u001b[0m\u001b[0;34m(\u001b[0m\u001b[0;32mlambda\u001b[0m \u001b[0mx\u001b[0m\u001b[0;34m:\u001b[0m \u001b[0mx\u001b[0m\u001b[0;34m.\u001b[0m\u001b[0mlike_url\u001b[0m\u001b[0;34m==\u001b[0m\u001b[0;32mFalse\u001b[0m\u001b[0;34m,\u001b[0m \u001b[0md\u001b[0m\u001b[0;34m)\u001b[0m\u001b[0;34m)\u001b[0m\u001b[0;34m)\u001b[0m\u001b[0;34m\u001b[0m\u001b[0;34m\u001b[0m\u001b[0m\n",
      "\u001b[0;31mNameError\u001b[0m: name 'nlp_df' is not defined"
     ]
    }
   ],
   "source": [
    "# corpus = []\n",
    "# for doc in nlp_df.clean_tweet:\n",
    "#     d = (list(filter(lambda x: x.is_stop==False,nlp(doc))))\n",
    "#     d = (list(filter(lambda x: x.is_punct==False, d)))\n",
    "#     d = (list(filter(lambda x: x.like_url==False, d)))\n",
    "#     d = (list(map(lambda x: x.lemma_, d)))\n",
    "#     corpus.append(d)"
   ]
  },
  {
   "cell_type": "code",
   "execution_count": 113,
   "metadata": {},
   "outputs": [],
   "source": [
    "sw_list = stopwords.words('english')\n",
    "sw_list += list(string.punctuation)\n",
    "sw_list += [\"''\", '\"\"', '...', '``', '’', '“', '’', '”', '‘', '‘', '©', '#', '@', \n",
    "            'said', 'one', 'com', '-', '–', '—', '.']\n",
    "sw_list += ['www', 'the', 'to', 'and', 'a', 's', 't','is', 'you', 'of', 'i', \n",
    "            'in', 'this', 'are', 'it', 'for', 'https', 'com', 'twitter', 'alllivesmatter' , \n",
    "            'blacklivesmatter' , 'bluelivesmatter', 'p']\n",
    "sw_set = set(sw_list)"
   ]
  },
  {
   "cell_type": "code",
   "execution_count": 114,
   "metadata": {},
   "outputs": [
    {
     "data": {
      "text/plain": [
       " https://twitter.com/drawandstrike/status/1279805238556397569?s=19 …\n",
       "\n",
       "Let me know when BLM marxist scum is marching for this little girl and the 6000+ black people murdered by other black people in the US every year. Till then... #AllLivesMatter"
      ]
     },
     "execution_count": 114,
     "metadata": {},
     "output_type": "execute_result"
    }
   ],
   "source": [
    "Work_data.spacy_txt[0] "
   ]
  },
  {
   "cell_type": "code",
   "execution_count": 115,
   "metadata": {},
   "outputs": [
    {
     "data": {
      "text/html": [
       "<div>\n",
       "<style scoped>\n",
       "    .dataframe tbody tr th:only-of-type {\n",
       "        vertical-align: middle;\n",
       "    }\n",
       "\n",
       "    .dataframe tbody tr th {\n",
       "        vertical-align: top;\n",
       "    }\n",
       "\n",
       "    .dataframe thead th {\n",
       "        text-align: right;\n",
       "    }\n",
       "</style>\n",
       "<table border=\"1\" class=\"dataframe\">\n",
       "  <thead>\n",
       "    <tr style=\"text-align: right;\">\n",
       "      <th></th>\n",
       "      <th>0</th>\n",
       "      <th>1</th>\n",
       "      <th>2</th>\n",
       "      <th>3</th>\n",
       "      <th>4</th>\n",
       "      <th>5</th>\n",
       "      <th>6</th>\n",
       "      <th>7</th>\n",
       "      <th>8</th>\n",
       "      <th>9</th>\n",
       "      <th>...</th>\n",
       "      <th>290</th>\n",
       "      <th>291</th>\n",
       "      <th>292</th>\n",
       "      <th>293</th>\n",
       "      <th>294</th>\n",
       "      <th>295</th>\n",
       "      <th>296</th>\n",
       "      <th>297</th>\n",
       "      <th>298</th>\n",
       "      <th>299</th>\n",
       "    </tr>\n",
       "  </thead>\n",
       "  <tbody>\n",
       "    <tr>\n",
       "      <td>0</td>\n",
       "      <td>-0.085737</td>\n",
       "      <td>0.110011</td>\n",
       "      <td>-0.098758</td>\n",
       "      <td>-0.054373</td>\n",
       "      <td>0.118368</td>\n",
       "      <td>-0.061138</td>\n",
       "      <td>-0.033711</td>\n",
       "      <td>-0.051620</td>\n",
       "      <td>0.033901</td>\n",
       "      <td>1.705545</td>\n",
       "      <td>...</td>\n",
       "      <td>-0.205212</td>\n",
       "      <td>-0.028773</td>\n",
       "      <td>0.041361</td>\n",
       "      <td>-0.117117</td>\n",
       "      <td>0.030683</td>\n",
       "      <td>-0.005308</td>\n",
       "      <td>-0.038505</td>\n",
       "      <td>0.005734</td>\n",
       "      <td>-0.104009</td>\n",
       "      <td>0.059712</td>\n",
       "    </tr>\n",
       "    <tr>\n",
       "      <td>1</td>\n",
       "      <td>-0.101225</td>\n",
       "      <td>0.144536</td>\n",
       "      <td>0.013526</td>\n",
       "      <td>-0.035605</td>\n",
       "      <td>0.022171</td>\n",
       "      <td>0.017819</td>\n",
       "      <td>0.105060</td>\n",
       "      <td>-0.050106</td>\n",
       "      <td>-0.044673</td>\n",
       "      <td>1.376224</td>\n",
       "      <td>...</td>\n",
       "      <td>-0.083363</td>\n",
       "      <td>0.015928</td>\n",
       "      <td>-0.060653</td>\n",
       "      <td>-0.090165</td>\n",
       "      <td>-0.003579</td>\n",
       "      <td>0.072440</td>\n",
       "      <td>-0.052131</td>\n",
       "      <td>-0.010314</td>\n",
       "      <td>-0.095380</td>\n",
       "      <td>0.018385</td>\n",
       "    </tr>\n",
       "    <tr>\n",
       "      <td>2</td>\n",
       "      <td>-0.108945</td>\n",
       "      <td>0.044877</td>\n",
       "      <td>-0.012569</td>\n",
       "      <td>-0.057276</td>\n",
       "      <td>-0.022530</td>\n",
       "      <td>-0.021131</td>\n",
       "      <td>0.076258</td>\n",
       "      <td>0.085494</td>\n",
       "      <td>0.044478</td>\n",
       "      <td>1.392057</td>\n",
       "      <td>...</td>\n",
       "      <td>-0.227196</td>\n",
       "      <td>0.021466</td>\n",
       "      <td>-0.039269</td>\n",
       "      <td>-0.097682</td>\n",
       "      <td>-0.015729</td>\n",
       "      <td>-0.000722</td>\n",
       "      <td>0.028467</td>\n",
       "      <td>0.025216</td>\n",
       "      <td>-0.067488</td>\n",
       "      <td>-0.011271</td>\n",
       "    </tr>\n",
       "    <tr>\n",
       "      <td>3</td>\n",
       "      <td>-0.225504</td>\n",
       "      <td>0.096830</td>\n",
       "      <td>-0.093529</td>\n",
       "      <td>-0.036587</td>\n",
       "      <td>0.082241</td>\n",
       "      <td>-0.060542</td>\n",
       "      <td>0.060585</td>\n",
       "      <td>-0.056602</td>\n",
       "      <td>-0.032591</td>\n",
       "      <td>2.156984</td>\n",
       "      <td>...</td>\n",
       "      <td>-0.234631</td>\n",
       "      <td>0.038597</td>\n",
       "      <td>-0.064123</td>\n",
       "      <td>-0.104161</td>\n",
       "      <td>-0.026616</td>\n",
       "      <td>0.128268</td>\n",
       "      <td>0.016932</td>\n",
       "      <td>-0.102231</td>\n",
       "      <td>-0.033816</td>\n",
       "      <td>0.070872</td>\n",
       "    </tr>\n",
       "    <tr>\n",
       "      <td>4</td>\n",
       "      <td>-0.133796</td>\n",
       "      <td>0.173658</td>\n",
       "      <td>-0.112062</td>\n",
       "      <td>-0.037270</td>\n",
       "      <td>-0.006774</td>\n",
       "      <td>0.032994</td>\n",
       "      <td>0.032324</td>\n",
       "      <td>-0.100356</td>\n",
       "      <td>-0.020360</td>\n",
       "      <td>1.843828</td>\n",
       "      <td>...</td>\n",
       "      <td>-0.222946</td>\n",
       "      <td>-0.026328</td>\n",
       "      <td>-0.026978</td>\n",
       "      <td>0.046277</td>\n",
       "      <td>0.077939</td>\n",
       "      <td>-0.032485</td>\n",
       "      <td>-0.033669</td>\n",
       "      <td>-0.068939</td>\n",
       "      <td>-0.018434</td>\n",
       "      <td>0.119203</td>\n",
       "    </tr>\n",
       "    <tr>\n",
       "      <td>...</td>\n",
       "      <td>...</td>\n",
       "      <td>...</td>\n",
       "      <td>...</td>\n",
       "      <td>...</td>\n",
       "      <td>...</td>\n",
       "      <td>...</td>\n",
       "      <td>...</td>\n",
       "      <td>...</td>\n",
       "      <td>...</td>\n",
       "      <td>...</td>\n",
       "      <td>...</td>\n",
       "      <td>...</td>\n",
       "      <td>...</td>\n",
       "      <td>...</td>\n",
       "      <td>...</td>\n",
       "      <td>...</td>\n",
       "      <td>...</td>\n",
       "      <td>...</td>\n",
       "      <td>...</td>\n",
       "      <td>...</td>\n",
       "      <td>...</td>\n",
       "    </tr>\n",
       "    <tr>\n",
       "      <td>4876</td>\n",
       "      <td>-0.089414</td>\n",
       "      <td>0.093741</td>\n",
       "      <td>-0.106014</td>\n",
       "      <td>-0.020301</td>\n",
       "      <td>0.084784</td>\n",
       "      <td>-0.043541</td>\n",
       "      <td>0.064574</td>\n",
       "      <td>-0.099007</td>\n",
       "      <td>0.006676</td>\n",
       "      <td>1.520338</td>\n",
       "      <td>...</td>\n",
       "      <td>-0.063661</td>\n",
       "      <td>-0.004767</td>\n",
       "      <td>-0.068518</td>\n",
       "      <td>-0.110241</td>\n",
       "      <td>0.114712</td>\n",
       "      <td>0.026091</td>\n",
       "      <td>-0.079182</td>\n",
       "      <td>-0.048956</td>\n",
       "      <td>-0.070506</td>\n",
       "      <td>0.046938</td>\n",
       "    </tr>\n",
       "    <tr>\n",
       "      <td>4877</td>\n",
       "      <td>-0.102344</td>\n",
       "      <td>0.195423</td>\n",
       "      <td>-0.144840</td>\n",
       "      <td>-0.051655</td>\n",
       "      <td>0.081779</td>\n",
       "      <td>-0.078952</td>\n",
       "      <td>0.053196</td>\n",
       "      <td>-0.008318</td>\n",
       "      <td>0.024424</td>\n",
       "      <td>1.927606</td>\n",
       "      <td>...</td>\n",
       "      <td>-0.127079</td>\n",
       "      <td>0.111543</td>\n",
       "      <td>-0.034199</td>\n",
       "      <td>-0.071530</td>\n",
       "      <td>0.053319</td>\n",
       "      <td>0.005190</td>\n",
       "      <td>-0.118614</td>\n",
       "      <td>-0.000518</td>\n",
       "      <td>-0.015575</td>\n",
       "      <td>0.065249</td>\n",
       "    </tr>\n",
       "    <tr>\n",
       "      <td>4878</td>\n",
       "      <td>-0.133181</td>\n",
       "      <td>0.189020</td>\n",
       "      <td>-0.058354</td>\n",
       "      <td>-0.039268</td>\n",
       "      <td>0.059520</td>\n",
       "      <td>-0.065873</td>\n",
       "      <td>0.025434</td>\n",
       "      <td>-0.027814</td>\n",
       "      <td>-0.066679</td>\n",
       "      <td>1.838957</td>\n",
       "      <td>...</td>\n",
       "      <td>-0.078801</td>\n",
       "      <td>0.009704</td>\n",
       "      <td>-0.049034</td>\n",
       "      <td>-0.072681</td>\n",
       "      <td>0.111523</td>\n",
       "      <td>-0.008624</td>\n",
       "      <td>-0.114201</td>\n",
       "      <td>-0.009139</td>\n",
       "      <td>-0.008979</td>\n",
       "      <td>0.019728</td>\n",
       "    </tr>\n",
       "    <tr>\n",
       "      <td>4879</td>\n",
       "      <td>-0.155865</td>\n",
       "      <td>0.253775</td>\n",
       "      <td>0.119925</td>\n",
       "      <td>0.008229</td>\n",
       "      <td>0.016805</td>\n",
       "      <td>-0.069003</td>\n",
       "      <td>0.188164</td>\n",
       "      <td>0.013017</td>\n",
       "      <td>-0.016306</td>\n",
       "      <td>0.755434</td>\n",
       "      <td>...</td>\n",
       "      <td>-0.015028</td>\n",
       "      <td>0.065568</td>\n",
       "      <td>-0.044338</td>\n",
       "      <td>0.024901</td>\n",
       "      <td>0.126876</td>\n",
       "      <td>-0.127993</td>\n",
       "      <td>-0.086022</td>\n",
       "      <td>-0.073615</td>\n",
       "      <td>-0.165799</td>\n",
       "      <td>-0.058263</td>\n",
       "    </tr>\n",
       "    <tr>\n",
       "      <td>4880</td>\n",
       "      <td>-0.101777</td>\n",
       "      <td>0.223227</td>\n",
       "      <td>-0.135945</td>\n",
       "      <td>0.006219</td>\n",
       "      <td>0.045420</td>\n",
       "      <td>-0.061226</td>\n",
       "      <td>0.047831</td>\n",
       "      <td>-0.068167</td>\n",
       "      <td>-0.038753</td>\n",
       "      <td>1.771047</td>\n",
       "      <td>...</td>\n",
       "      <td>-0.161195</td>\n",
       "      <td>0.070657</td>\n",
       "      <td>-0.044544</td>\n",
       "      <td>-0.026083</td>\n",
       "      <td>0.086040</td>\n",
       "      <td>-0.125319</td>\n",
       "      <td>-0.098495</td>\n",
       "      <td>-0.096721</td>\n",
       "      <td>0.011204</td>\n",
       "      <td>0.133067</td>\n",
       "    </tr>\n",
       "  </tbody>\n",
       "</table>\n",
       "<p>4881 rows × 300 columns</p>\n",
       "</div>"
      ],
      "text/plain": [
       "           0         1         2         3         4         5         6    \\\n",
       "0    -0.085737  0.110011 -0.098758 -0.054373  0.118368 -0.061138 -0.033711   \n",
       "1    -0.101225  0.144536  0.013526 -0.035605  0.022171  0.017819  0.105060   \n",
       "2    -0.108945  0.044877 -0.012569 -0.057276 -0.022530 -0.021131  0.076258   \n",
       "3    -0.225504  0.096830 -0.093529 -0.036587  0.082241 -0.060542  0.060585   \n",
       "4    -0.133796  0.173658 -0.112062 -0.037270 -0.006774  0.032994  0.032324   \n",
       "...        ...       ...       ...       ...       ...       ...       ...   \n",
       "4876 -0.089414  0.093741 -0.106014 -0.020301  0.084784 -0.043541  0.064574   \n",
       "4877 -0.102344  0.195423 -0.144840 -0.051655  0.081779 -0.078952  0.053196   \n",
       "4878 -0.133181  0.189020 -0.058354 -0.039268  0.059520 -0.065873  0.025434   \n",
       "4879 -0.155865  0.253775  0.119925  0.008229  0.016805 -0.069003  0.188164   \n",
       "4880 -0.101777  0.223227 -0.135945  0.006219  0.045420 -0.061226  0.047831   \n",
       "\n",
       "           7         8         9    ...       290       291       292  \\\n",
       "0    -0.051620  0.033901  1.705545  ... -0.205212 -0.028773  0.041361   \n",
       "1    -0.050106 -0.044673  1.376224  ... -0.083363  0.015928 -0.060653   \n",
       "2     0.085494  0.044478  1.392057  ... -0.227196  0.021466 -0.039269   \n",
       "3    -0.056602 -0.032591  2.156984  ... -0.234631  0.038597 -0.064123   \n",
       "4    -0.100356 -0.020360  1.843828  ... -0.222946 -0.026328 -0.026978   \n",
       "...        ...       ...       ...  ...       ...       ...       ...   \n",
       "4876 -0.099007  0.006676  1.520338  ... -0.063661 -0.004767 -0.068518   \n",
       "4877 -0.008318  0.024424  1.927606  ... -0.127079  0.111543 -0.034199   \n",
       "4878 -0.027814 -0.066679  1.838957  ... -0.078801  0.009704 -0.049034   \n",
       "4879  0.013017 -0.016306  0.755434  ... -0.015028  0.065568 -0.044338   \n",
       "4880 -0.068167 -0.038753  1.771047  ... -0.161195  0.070657 -0.044544   \n",
       "\n",
       "           293       294       295       296       297       298       299  \n",
       "0    -0.117117  0.030683 -0.005308 -0.038505  0.005734 -0.104009  0.059712  \n",
       "1    -0.090165 -0.003579  0.072440 -0.052131 -0.010314 -0.095380  0.018385  \n",
       "2    -0.097682 -0.015729 -0.000722  0.028467  0.025216 -0.067488 -0.011271  \n",
       "3    -0.104161 -0.026616  0.128268  0.016932 -0.102231 -0.033816  0.070872  \n",
       "4     0.046277  0.077939 -0.032485 -0.033669 -0.068939 -0.018434  0.119203  \n",
       "...        ...       ...       ...       ...       ...       ...       ...  \n",
       "4876 -0.110241  0.114712  0.026091 -0.079182 -0.048956 -0.070506  0.046938  \n",
       "4877 -0.071530  0.053319  0.005190 -0.118614 -0.000518 -0.015575  0.065249  \n",
       "4878 -0.072681  0.111523 -0.008624 -0.114201 -0.009139 -0.008979  0.019728  \n",
       "4879  0.024901  0.126876 -0.127993 -0.086022 -0.073615 -0.165799 -0.058263  \n",
       "4880 -0.026083  0.086040 -0.125319 -0.098495 -0.096721  0.011204  0.133067  \n",
       "\n",
       "[4881 rows x 300 columns]"
      ]
     },
     "execution_count": 115,
     "metadata": {},
     "output_type": "execute_result"
    }
   ],
   "source": [
    "pd.DataFrame(np.vstack([x.vector for x in Work_data.spacy_txt]))"
   ]
  },
  {
   "cell_type": "code",
   "execution_count": 116,
   "metadata": {},
   "outputs": [],
   "source": [
    "X=Work_data.spacy_txt\n",
    "y=Work_data.spacy_y"
   ]
  },
  {
   "cell_type": "code",
   "execution_count": 117,
   "metadata": {},
   "outputs": [],
   "source": [
    "def mean_tweet_length(X):\n",
    "    for token in X:\n",
    "        print (token.__len__())"
   ]
  },
  {
   "cell_type": "markdown",
   "metadata": {},
   "source": [
    "## Topic Modeling using LDA and NMF"
   ]
  },
  {
   "cell_type": "code",
   "execution_count": 118,
   "metadata": {},
   "outputs": [],
   "source": [
    "#First we vectorize data\n",
    "vectorizer = CountVectorizer(min_df=5, max_df=0.9, stop_words=sw_list, token_pattern='[a-zA-Z\\-][a-zA-Z\\-]{2,}')\n",
    "data_vectorized = vectorizer.fit_transform(Work_data['tweet'])\n"
   ]
  },
  {
   "cell_type": "code",
   "execution_count": 119,
   "metadata": {},
   "outputs": [],
   "source": [
    "#select number of topics or clusters of data\n",
    "NUM_TOPICS = 3"
   ]
  },
  {
   "cell_type": "code",
   "execution_count": 120,
   "metadata": {},
   "outputs": [],
   "source": [
    "#importing libraries\n",
    "from sklearn.decomposition import NMF, LatentDirichletAllocation, TruncatedSVD"
   ]
  },
  {
   "cell_type": "code",
   "execution_count": 121,
   "metadata": {},
   "outputs": [
    {
     "name": "stdout",
     "output_type": "stream",
     "text": [
      "iteration: 1 of max_iter: 10\n",
      "iteration: 2 of max_iter: 10\n",
      "iteration: 3 of max_iter: 10\n",
      "iteration: 4 of max_iter: 10\n",
      "iteration: 5 of max_iter: 10\n",
      "iteration: 6 of max_iter: 10\n",
      "iteration: 7 of max_iter: 10\n",
      "iteration: 8 of max_iter: 10\n",
      "iteration: 9 of max_iter: 10\n",
      "iteration: 10 of max_iter: 10\n"
     ]
    }
   ],
   "source": [
    "#instantiating lda model with certain hyperparamters\n",
    "lda = LatentDirichletAllocation(n_components=NUM_TOPICS, max_iter=10, n_jobs=-1, learning_method='online',verbose=True)\n",
    "data_lda = lda.fit_transform(data_vectorized)\n"
   ]
  },
  {
   "cell_type": "code",
   "execution_count": 122,
   "metadata": {},
   "outputs": [],
   "source": [
    "#function that returns the topic and important features to that topic\n",
    "def selected_topics(model, vectorizer, top_n=15):\n",
    "    for idx, topic in enumerate(model.components_):\n",
    "        print(\"Topic %d:\" % (idx))\n",
    "        print([(vectorizer.get_feature_names()[i], topic[i])\n",
    "                        for i in topic.argsort()[:-top_n - 1:-1]]) "
   ]
  },
  {
   "cell_type": "code",
   "execution_count": 123,
   "metadata": {},
   "outputs": [
    {
     "name": "stdout",
     "output_type": "stream",
     "text": [
      "LDA Model:\n",
      "Topic 0:\n",
      "[('status', 616.3965970602608), ('trump', 371.60803006157556), ('pic', 275.16005553599155), ('maga', 192.04746352206885), ('backtheblue', 176.92455943491595), ('police', 164.15768244041928), ('wwg', 132.73673695917563), ('blm', 129.91423990226147), ('right', 124.79791930362767), ('people', 110.69506927822376), ('blmterrorists', 109.78698076093569), ('let', 109.03333853209597), ('support', 104.8157888225749), ('wga', 102.67851832280195), ('america', 99.46124276437355)]\n",
      "Topic 1:\n",
      "[('lives', 640.7720104822829), ('black', 574.0959489050505), ('matter', 530.9832458237091), ('people', 447.9825020561675), ('status', 422.54197194880857), ('racist', 296.0109001656079), ('pic', 292.97689509663905), ('white', 265.5002468022487), ('like', 221.02870697139952), ('blm', 183.9951142897759), ('say', 155.40777110036092), ('think', 128.88119644111117), ('love', 126.66124453269533), ('saying', 126.40178902790862), ('get', 115.89771829917275)]\n",
      "Topic 2:\n",
      "[('realdonaldtrump', 433.8372683449752), ('blm', 364.5553679868413), ('pic', 339.2168091211867), ('news', 330.2666911218312), ('cspanwj', 262.6373683043683), ('facebook', 254.11714838885501), ('breakingnews', 246.17764263580818), ('breaking', 186.56674652480373), ('youtu', 149.10502923517936), ('police', 144.93367886120342), ('teaparty', 141.94008386250576), ('black', 141.5385527953337), ('status', 125.36880470593283), ('tcot', 120.78193824155201), ('watch', 120.68452502345488)]\n"
     ]
    }
   ],
   "source": [
    "# Keywords for topics clustered by Latent Dirichlet Allocation\n",
    "print(\"LDA Model:\")\n",
    "selected_topics(lda, vectorizer)"
   ]
  },
  {
   "cell_type": "code",
   "execution_count": 124,
   "metadata": {},
   "outputs": [
    {
     "data": {
      "text/plain": [
       "array([[ 0.33379848,  0.33595338, 26.66566905, ...,  0.38337168,\n",
       "         0.333573  ,  0.3342357 ],\n",
       "       [ 0.33965649,  0.34988893,  0.38369168, ...,  0.40543565,\n",
       "         0.33900981,  0.33965446],\n",
       "       [ 5.87749289, 26.68350535, 16.72709014, ..., 33.49677225,\n",
       "        13.00164208,  7.0074492 ]])"
      ]
     },
     "execution_count": 124,
     "metadata": {},
     "output_type": "execute_result"
    }
   ],
   "source": [
    "lda.components_"
   ]
  },
  {
   "cell_type": "code",
   "execution_count": 125,
   "metadata": {},
   "outputs": [
    {
     "name": "stderr",
     "output_type": "stream",
     "text": [
      "/Users/jeffreyng/anaconda3/lib/python3.7/site-packages/sklearn/decomposition/_nmf.py:1077: ConvergenceWarning: Maximum number of iterations 200 reached. Increase it to improve convergence.\n",
      "  \" improve convergence.\" % max_iter, ConvergenceWarning)\n"
     ]
    }
   ],
   "source": [
    "#Instantiating the NMF model with certain hyperparamters\n",
    "nmf=NMF(n_components = NUM_TOPICS, random_state =1, alpha=0.1, l1_ratio = 0.5, \n",
    "        init= 'nndsvd').fit(data_vectorized)"
   ]
  },
  {
   "cell_type": "code",
   "execution_count": 126,
   "metadata": {},
   "outputs": [
    {
     "name": "stdout",
     "output_type": "stream",
     "text": [
      "NMF Model:\n",
      "Topic 0:\n",
      "[('lives', 5.844655232342381), ('black', 4.83530550054908), ('matter', 4.825281211290751), ('people', 1.1763357651513195), ('white', 1.0968776080180784), ('say', 0.5158146309819348), ('even', 0.4502133509151366), ('life', 0.36795780723059607), ('racist', 0.34009217136396885), ('saying', 0.33218353264158396), ('utm', 0.3058112219284762), ('matters', 0.2810986007766448), ('like', 0.2803740313019304), ('blacks', 0.2781814697127207), ('blue', 0.2572378682955275)]\n",
      "Topic 1:\n",
      "[('blm', 3.600133988178728), ('pic', 3.5124199698870364), ('realdonaldtrump', 3.4526532271019392), ('cspanwj', 2.225088800460473), ('news', 2.1316046227823295), ('facebook', 2.1157901703138524), ('breakingnews', 2.0637462503414925), ('breaking', 1.6053156477099073), ('teaparty', 1.5578033093641261), ('hate', 1.4574009788692899), ('tcot', 1.2813319104108356), ('racist', 1.2728999094263551), ('terrorist', 1.0462154886797208), ('group', 0.9696626332919562), ('target', 0.9422964794312984)]\n",
      "Topic 2:\n",
      "[('status', 7.815066099050677), ('trump', 2.2895161356879985), ('people', 2.2066823876723993), ('maga', 0.97326082616532), ('police', 0.9034451925826459), ('blm', 0.853698124064521), ('racist', 0.8015266240359141), ('america', 0.7060525001580922), ('backtheblue', 0.6951580423850136), ('stop', 0.691214751088607), ('like', 0.6881836859626148), ('white', 0.6176581919783837), ('see', 0.572806604521513), ('love', 0.5119833232655869), ('get', 0.5102944592218335)]\n"
     ]
    }
   ],
   "source": [
    "# returning topic and important words associated with the topic\n",
    "print(\"NMF Model:\")\n",
    "selected_topics(nmf, vectorizer)"
   ]
  },
  {
   "cell_type": "code",
   "execution_count": null,
   "metadata": {},
   "outputs": [],
   "source": []
  },
  {
   "cell_type": "code",
   "execution_count": null,
   "metadata": {},
   "outputs": [],
   "source": []
  },
  {
   "cell_type": "code",
   "execution_count": null,
   "metadata": {},
   "outputs": [],
   "source": []
  },
  {
   "cell_type": "code",
   "execution_count": null,
   "metadata": {},
   "outputs": [],
   "source": []
  },
  {
   "cell_type": "code",
   "execution_count": null,
   "metadata": {},
   "outputs": [],
   "source": []
  },
  {
   "cell_type": "code",
   "execution_count": 127,
   "metadata": {},
   "outputs": [],
   "source": [
    "# was able to calculate mean word length of all tweets\n",
    "Sum=162388\n",
    "length_numbers=4881"
   ]
  },
  {
   "cell_type": "code",
   "execution_count": 128,
   "metadata": {},
   "outputs": [
    {
     "data": {
      "text/plain": [
       "33.26941200573653"
      ]
     },
     "execution_count": 128,
     "metadata": {},
     "output_type": "execute_result"
    }
   ],
   "source": [
    "mean= Sum/length_numbers\n",
    "mean"
   ]
  },
  {
   "cell_type": "code",
   "execution_count": null,
   "metadata": {},
   "outputs": [],
   "source": []
  }
 ],
 "metadata": {
  "kernelspec": {
   "display_name": "Python 3",
   "language": "python",
   "name": "python3"
  },
  "language_info": {
   "codemirror_mode": {
    "name": "ipython",
    "version": 3
   },
   "file_extension": ".py",
   "mimetype": "text/x-python",
   "name": "python",
   "nbconvert_exporter": "python",
   "pygments_lexer": "ipython3",
   "version": "3.7.4"
  }
 },
 "nbformat": 4,
 "nbformat_minor": 2
}
