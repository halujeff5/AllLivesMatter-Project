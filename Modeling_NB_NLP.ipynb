{
 "cells": [
  {
   "cell_type": "markdown",
   "metadata": {},
   "source": [
    "# Modeling Notebook + preprocessing + Advanced topic modeli"
   ]
  },
  {
   "cell_type": "code",
   "execution_count": 1,
   "metadata": {},
   "outputs": [
    {
     "name": "stderr",
     "output_type": "stream",
     "text": [
      "[nltk_data] Downloading package stopwords to\n",
      "[nltk_data]     /Users/jeffreyng/nltk_data...\n",
      "[nltk_data]   Package stopwords is already up-to-date!\n",
      "[nltk_data] Downloading package punkt to /Users/jeffreyng/nltk_data...\n",
      "[nltk_data]   Package punkt is already up-to-date!\n",
      "[nltk_data] Downloading package wordnet to\n",
      "[nltk_data]     /Users/jeffreyng/nltk_data...\n",
      "[nltk_data]   Package wordnet is already up-to-date!\n"
     ]
    },
    {
     "data": {
      "text/plain": [
       "True"
      ]
     },
     "execution_count": 1,
     "metadata": {},
     "output_type": "execute_result"
    }
   ],
   "source": [
    "#Importing necessary packages and libraries\n",
    "import twint\n",
    "import nltk\n",
    "import matplotlib.pyplot as plt\n",
    "import pandas as pd\n",
    "from sklearn.feature_extraction.text import CountVectorizer\n",
    "from sklearn.feature_extraction.text import TfidfVectorizer\n",
    "from sklearn.feature_extraction.text import TfidfTransformer\n",
    "from nltk.probability import FreqDist\n",
    "from nltk.corpus import stopwords\n",
    "from nltk.stem import PorterStemmer\n",
    "from sklearn.metrics import confusion_matrix\n",
    "import seaborn as sns\n",
    "from sklearn.naive_bayes import MultinomialNB\n",
    "from sklearn import metrics\n",
    "from sklearn.model_selection import train_test_split\n",
    "from matplotlib import cm\n",
    "import numpy as np\n",
    "from sklearn.ensemble import RandomForestClassifier\n",
    "from sklearn.metrics import accuracy_score\n",
    "from sklearn.metrics import f1_score\n",
    "from sklearn.naive_bayes import MultinomialNB\n",
    "\n",
    "nltk.download('stopwords')\n",
    "nltk.download('punkt')\n",
    "nltk.download('wordnet')"
   ]
  },
  {
   "cell_type": "markdown",
   "metadata": {},
   "source": [
    "###  Mean word count per tweet is 33.25 words"
   ]
  },
  {
   "cell_type": "code",
   "execution_count": 2,
   "metadata": {},
   "outputs": [],
   "source": [
    "#importing more necessary packages\n",
    "from nltk.tokenize import RegexpTokenizer\n",
    "import re\n",
    "import string\n",
    "from nltk.stem import WordNetLemmatizer "
   ]
  },
  {
   "cell_type": "code",
   "execution_count": 3,
   "metadata": {},
   "outputs": [
    {
     "data": {
      "text/plain": [
       "(7137, 35)"
      ]
     },
     "execution_count": 3,
     "metadata": {},
     "output_type": "execute_result"
    }
   ],
   "source": [
    "#scraped CSV into dataframe\n",
    "df=pd.read_csv('jeff.csv')\n",
    "df.shape"
   ]
  },
  {
   "cell_type": "markdown",
   "metadata": {},
   "source": [
    "### Using Vader Sentiment Analysis to classify the tweets to be positive, neutral, or negative"
   ]
  },
  {
   "cell_type": "code",
   "execution_count": 4,
   "metadata": {},
   "outputs": [],
   "source": [
    "#importing the vader sentiment analysis package and instantiating it\n",
    "data=df\n",
    "from vaderSentiment.vaderSentiment import SentimentIntensityAnalyzer\n",
    "analyser = SentimentIntensityAnalyzer()"
   ]
  },
  {
   "cell_type": "code",
   "execution_count": 324,
   "metadata": {},
   "outputs": [],
   "source": [
    "#wrote a function to get the vader scores for my data\n",
    "def sentiment_analyzer_scores(sentence):\n",
    "    score = analyser.polarity_scores(sentence)"
   ]
  },
  {
   "cell_type": "code",
   "execution_count": 325,
   "metadata": {},
   "outputs": [],
   "source": [
    "#list comprehension to get scores from tweets using my written function\n",
    "a= [analyser.polarity_scores(x) for x in data['tweet']]"
   ]
  },
  {
   "cell_type": "code",
   "execution_count": 326,
   "metadata": {},
   "outputs": [
    {
     "data": {
      "text/plain": [
       "[{'neg': 0.121, 'neu': 0.879, 'pos': 0.0, 'compound': -0.6597},\n",
       " {'neg': 0.319, 'neu': 0.681, 'pos': 0.0, 'compound': -0.7925},\n",
       " {'neg': 0.0, 'neu': 0.586, 'pos': 0.414, 'compound': 0.8832},\n",
       " {'neg': 0.303, 'neu': 0.577, 'pos': 0.12, 'compound': -0.5859},\n",
       " {'neg': 0.0, 'neu': 0.842, 'pos': 0.158, 'compound': 0.7825},\n",
       " {'neg': 0.162, 'neu': 0.838, 'pos': 0.0, 'compound': -0.8513},\n",
       " {'neg': 0.196, 'neu': 0.622, 'pos': 0.182, 'compound': -0.0772},\n",
       " {'neg': 0.0, 'neu': 1.0, 'pos': 0.0, 'compound': 0.0},\n",
       " {'neg': 0.0, 'neu': 1.0, 'pos': 0.0, 'compound': 0.0},\n",
       " {'neg': 0.0, 'neu': 1.0, 'pos': 0.0, 'compound': 0.0},\n",
       " {'neg': 0.0, 'neu': 1.0, 'pos': 0.0, 'compound': 0.0},\n",
       " {'neg': 0.196, 'neu': 0.804, 'pos': 0.0, 'compound': -0.6808},\n",
       " {'neg': 0.0, 'neu': 1.0, 'pos': 0.0, 'compound': 0.0},\n",
       " {'neg': 0.099, 'neu': 0.901, 'pos': 0.0, 'compound': -0.4515},\n",
       " {'neg': 0.0, 'neu': 0.936, 'pos': 0.064, 'compound': 0.0258},\n",
       " {'neg': 0.0, 'neu': 0.769, 'pos': 0.231, 'compound': 0.7783},\n",
       " {'neg': 0.0, 'neu': 0.936, 'pos': 0.064, 'compound': 0.0258},\n",
       " {'neg': 0.11, 'neu': 0.586, 'pos': 0.304, 'compound': 0.8718},\n",
       " {'neg': 0.0, 'neu': 1.0, 'pos': 0.0, 'compound': 0.0},\n",
       " {'neg': 0.0, 'neu': 1.0, 'pos': 0.0, 'compound': 0.0},\n",
       " {'neg': 0.133, 'neu': 0.867, 'pos': 0.0, 'compound': -0.5216},\n",
       " {'neg': 0.0, 'neu': 1.0, 'pos': 0.0, 'compound': 0.0},\n",
       " {'neg': 0.0, 'neu': 1.0, 'pos': 0.0, 'compound': 0.0},\n",
       " {'neg': 0.0, 'neu': 0.785, 'pos': 0.215, 'compound': 0.2942},\n",
       " {'neg': 0.0, 'neu': 0.744, 'pos': 0.256, 'compound': 0.9001},\n",
       " {'neg': 0.167, 'neu': 0.351, 'pos': 0.482, 'compound': 0.5574},\n",
       " {'neg': 0.179, 'neu': 0.763, 'pos': 0.058, 'compound': -0.79},\n",
       " {'neg': 0.0, 'neu': 1.0, 'pos': 0.0, 'compound': 0.0},\n",
       " {'neg': 0.3, 'neu': 0.7, 'pos': 0.0, 'compound': -0.6289},\n",
       " {'neg': 0.342, 'neu': 0.624, 'pos': 0.033, 'compound': -0.9758},\n",
       " {'neg': 0.0, 'neu': 1.0, 'pos': 0.0, 'compound': 0.0},\n",
       " {'neg': 0.094, 'neu': 0.703, 'pos': 0.204, 'compound': 0.7537},\n",
       " {'neg': 0.129, 'neu': 0.766, 'pos': 0.105, 'compound': -0.1984},\n",
       " {'neg': 0.2, 'neu': 0.8, 'pos': 0.0, 'compound': -0.25},\n",
       " {'neg': 0.042, 'neu': 0.566, 'pos': 0.392, 'compound': 0.9595},\n",
       " {'neg': 0.0, 'neu': 1.0, 'pos': 0.0, 'compound': 0.0},\n",
       " {'neg': 0.1, 'neu': 0.651, 'pos': 0.248, 'compound': 0.8922},\n",
       " {'neg': 0.121, 'neu': 0.879, 'pos': 0.0, 'compound': -0.7003},\n",
       " {'neg': 0.055, 'neu': 0.877, 'pos': 0.068, 'compound': 0.128},\n",
       " {'neg': 0.0, 'neu': 0.545, 'pos': 0.455, 'compound': 0.8932},\n",
       " {'neg': 0.0, 'neu': 1.0, 'pos': 0.0, 'compound': 0.0},\n",
       " {'neg': 0.0, 'neu': 1.0, 'pos': 0.0, 'compound': 0.0},\n",
       " {'neg': 0.16, 'neu': 0.84, 'pos': 0.0, 'compound': -0.5549},\n",
       " {'neg': 0.0, 'neu': 1.0, 'pos': 0.0, 'compound': 0.0},\n",
       " {'neg': 0.0, 'neu': 1.0, 'pos': 0.0, 'compound': 0.0},\n",
       " {'neg': 0.217, 'neu': 0.718, 'pos': 0.065, 'compound': -0.7881},\n",
       " {'neg': 0.0, 'neu': 0.72, 'pos': 0.28, 'compound': 0.3612},\n",
       " {'neg': 0.103, 'neu': 0.761, 'pos': 0.136, 'compound': 0.1531},\n",
       " {'neg': 0.0, 'neu': 0.633, 'pos': 0.367, 'compound': 0.9796},\n",
       " {'neg': 0.22, 'neu': 0.689, 'pos': 0.091, 'compound': -0.582},\n",
       " {'neg': 0.0, 'neu': 1.0, 'pos': 0.0, 'compound': 0.0},\n",
       " {'neg': 0.0, 'neu': 0.778, 'pos': 0.222, 'compound': 0.6908},\n",
       " {'neg': 0.291, 'neu': 0.709, 'pos': 0.0, 'compound': -0.9297},\n",
       " {'neg': 0.0, 'neu': 1.0, 'pos': 0.0, 'compound': 0.0},\n",
       " {'neg': 0.073, 'neu': 0.927, 'pos': 0.0, 'compound': -0.3804},\n",
       " {'neg': 0.0, 'neu': 1.0, 'pos': 0.0, 'compound': 0.0},\n",
       " {'neg': 0.0, 'neu': 0.815, 'pos': 0.185, 'compound': 0.3612},\n",
       " {'neg': 0.32, 'neu': 0.571, 'pos': 0.109, 'compound': -0.8957},\n",
       " {'neg': 0.0, 'neu': 0.9, 'pos': 0.1, 'compound': 0.1695},\n",
       " {'neg': 0.0, 'neu': 0.839, 'pos': 0.161, 'compound': 0.68},\n",
       " {'neg': 0.135, 'neu': 0.62, 'pos': 0.245, 'compound': 0.4588},\n",
       " {'neg': 0.183, 'neu': 0.458, 'pos': 0.359, 'compound': 0.5574},\n",
       " {'neg': 0.0, 'neu': 1.0, 'pos': 0.0, 'compound': 0.0},\n",
       " {'neg': 0.0, 'neu': 0.848, 'pos': 0.152, 'compound': 0.3612},\n",
       " {'neg': 0.127, 'neu': 0.677, 'pos': 0.197, 'compound': 0.5106},\n",
       " {'neg': 0.0, 'neu': 1.0, 'pos': 0.0, 'compound': 0.0},\n",
       " {'neg': 0.058, 'neu': 0.758, 'pos': 0.184, 'compound': 0.7057},\n",
       " {'neg': 0.114, 'neu': 0.667, 'pos': 0.22, 'compound': 0.4019},\n",
       " {'neg': 0.099, 'neu': 0.901, 'pos': 0.0, 'compound': -0.296},\n",
       " {'neg': 0.0, 'neu': 0.727, 'pos': 0.273, 'compound': 0.4588},\n",
       " {'neg': 0.0, 'neu': 1.0, 'pos': 0.0, 'compound': 0.0},\n",
       " {'neg': 0.398, 'neu': 0.602, 'pos': 0.0, 'compound': -0.765},\n",
       " {'neg': 0.0, 'neu': 1.0, 'pos': 0.0, 'compound': 0.0},\n",
       " {'neg': 0.0, 'neu': 1.0, 'pos': 0.0, 'compound': 0.0},\n",
       " {'neg': 0.258, 'neu': 0.668, 'pos': 0.075, 'compound': -0.775},\n",
       " {'neg': 0.151, 'neu': 0.725, 'pos': 0.124, 'compound': -0.1037},\n",
       " {'neg': 0.3, 'neu': 0.7, 'pos': 0.0, 'compound': -0.8932},\n",
       " {'neg': 0.0, 'neu': 1.0, 'pos': 0.0, 'compound': 0.0},\n",
       " {'neg': 0.282, 'neu': 0.718, 'pos': 0.0, 'compound': -0.6249},\n",
       " {'neg': 0.233, 'neu': 0.656, 'pos': 0.111, 'compound': -0.6599},\n",
       " {'neg': 0.042, 'neu': 0.793, 'pos': 0.165, 'compound': 0.6808},\n",
       " {'neg': 0.0, 'neu': 0.786, 'pos': 0.214, 'compound': 0.5994},\n",
       " {'neg': 0.298, 'neu': 0.702, 'pos': 0.0, 'compound': -0.6249},\n",
       " {'neg': 0.0, 'neu': 0.423, 'pos': 0.577, 'compound': 0.6249},\n",
       " {'neg': 0.119, 'neu': 0.822, 'pos': 0.059, 'compound': -0.4767},\n",
       " {'neg': 0.0, 'neu': 1.0, 'pos': 0.0, 'compound': 0.0},\n",
       " {'neg': 0.0, 'neu': 1.0, 'pos': 0.0, 'compound': 0.0},\n",
       " {'neg': 0.311, 'neu': 0.577, 'pos': 0.112, 'compound': -0.8934},\n",
       " {'neg': 0.349, 'neu': 0.651, 'pos': 0.0, 'compound': -0.7579},\n",
       " {'neg': 0.169, 'neu': 0.744, 'pos': 0.087, 'compound': -0.6114},\n",
       " {'neg': 0.0, 'neu': 1.0, 'pos': 0.0, 'compound': 0.0},\n",
       " {'neg': 0.0, 'neu': 0.912, 'pos': 0.088, 'compound': 0.3612},\n",
       " {'neg': 0.0, 'neu': 0.932, 'pos': 0.068, 'compound': 0.0516},\n",
       " {'neg': 0.05, 'neu': 0.652, 'pos': 0.298, 'compound': 0.886},\n",
       " {'neg': 0.044, 'neu': 0.927, 'pos': 0.029, 'compound': -0.1739},\n",
       " {'neg': 0.0, 'neu': 1.0, 'pos': 0.0, 'compound': 0.0},\n",
       " {'neg': 0.286, 'neu': 0.714, 'pos': 0.0, 'compound': -0.5267},\n",
       " {'neg': 0.046, 'neu': 0.924, 'pos': 0.03, 'compound': -0.1739},\n",
       " {'neg': 0.0, 'neu': 1.0, 'pos': 0.0, 'compound': 0.0},\n",
       " {'neg': 0.0, 'neu': 1.0, 'pos': 0.0, 'compound': 0.0},\n",
       " {'neg': 0.0, 'neu': 1.0, 'pos': 0.0, 'compound': 0.0},\n",
       " {'neg': 0.0, 'neu': 1.0, 'pos': 0.0, 'compound': 0.0},\n",
       " {'neg': 0.381, 'neu': 0.619, 'pos': 0.0, 'compound': -0.8402},\n",
       " {'neg': 0.0, 'neu': 0.732, 'pos': 0.268, 'compound': 0.5106},\n",
       " {'neg': 0.0, 'neu': 1.0, 'pos': 0.0, 'compound': 0.0},\n",
       " {'neg': 0.0, 'neu': 1.0, 'pos': 0.0, 'compound': 0.0},\n",
       " {'neg': 0.139, 'neu': 0.802, 'pos': 0.059, 'compound': -0.5267},\n",
       " {'neg': 0.0, 'neu': 1.0, 'pos': 0.0, 'compound': 0.0},\n",
       " {'neg': 0.0, 'neu': 1.0, 'pos': 0.0, 'compound': 0.0},\n",
       " {'neg': 0.087, 'neu': 0.682, 'pos': 0.23, 'compound': 0.6908},\n",
       " {'neg': 0.0, 'neu': 1.0, 'pos': 0.0, 'compound': 0.0},\n",
       " {'neg': 0.083, 'neu': 0.917, 'pos': 0.0, 'compound': -0.4019},\n",
       " {'neg': 0.0, 'neu': 1.0, 'pos': 0.0, 'compound': 0.0},\n",
       " {'neg': 0.081, 'neu': 0.919, 'pos': 0.0, 'compound': -0.296},\n",
       " {'neg': 0.076, 'neu': 0.83, 'pos': 0.093, 'compound': 0.128},\n",
       " {'neg': 0.169, 'neu': 0.831, 'pos': 0.0, 'compound': -0.6705},\n",
       " {'neg': 0.0, 'neu': 1.0, 'pos': 0.0, 'compound': 0.0},\n",
       " {'neg': 0.0, 'neu': 0.934, 'pos': 0.066, 'compound': 0.6562},\n",
       " {'neg': 0.0, 'neu': 1.0, 'pos': 0.0, 'compound': 0.0},\n",
       " {'neg': 0.0, 'neu': 1.0, 'pos': 0.0, 'compound': 0.0},\n",
       " {'neg': 0.0, 'neu': 0.928, 'pos': 0.072, 'compound': 0.2924},\n",
       " {'neg': 0.0, 'neu': 1.0, 'pos': 0.0, 'compound': 0.0},\n",
       " {'neg': 0.0, 'neu': 1.0, 'pos': 0.0, 'compound': 0.0},\n",
       " {'neg': 0.0, 'neu': 1.0, 'pos': 0.0, 'compound': 0.0},\n",
       " {'neg': 0.0, 'neu': 0.502, 'pos': 0.498, 'compound': 0.836},\n",
       " {'neg': 0.068, 'neu': 0.785, 'pos': 0.147, 'compound': 0.3947},\n",
       " {'neg': 0.297, 'neu': 0.703, 'pos': 0.0, 'compound': -0.8519},\n",
       " {'neg': 0.218, 'neu': 0.711, 'pos': 0.071, 'compound': -0.7476},\n",
       " {'neg': 0.0, 'neu': 1.0, 'pos': 0.0, 'compound': 0.0},\n",
       " {'neg': 0.078, 'neu': 0.532, 'pos': 0.39, 'compound': 0.8316},\n",
       " {'neg': 0.103, 'neu': 0.769, 'pos': 0.127, 'compound': 0.0258},\n",
       " {'neg': 0.0, 'neu': 1.0, 'pos': 0.0, 'compound': 0.0},\n",
       " {'neg': 0.0, 'neu': 1.0, 'pos': 0.0, 'compound': 0.0},\n",
       " {'neg': 0.211, 'neu': 0.545, 'pos': 0.244, 'compound': 0.126},\n",
       " {'neg': 0.0, 'neu': 0.87, 'pos': 0.13, 'compound': 0.459},\n",
       " {'neg': 0.128, 'neu': 0.45, 'pos': 0.422, 'compound': 0.8176},\n",
       " {'neg': 0.0, 'neu': 0.902, 'pos': 0.098, 'compound': 0.3612},\n",
       " {'neg': 0.0, 'neu': 1.0, 'pos': 0.0, 'compound': 0.0},\n",
       " {'neg': 0.0, 'neu': 1.0, 'pos': 0.0, 'compound': 0.0},\n",
       " {'neg': 0.0, 'neu': 1.0, 'pos': 0.0, 'compound': 0.0},\n",
       " {'neg': 0.054, 'neu': 0.728, 'pos': 0.218, 'compound': 0.7178},\n",
       " {'neg': 0.17, 'neu': 0.727, 'pos': 0.103, 'compound': -0.6044},\n",
       " {'neg': 0.098, 'neu': 0.545, 'pos': 0.357, 'compound': 0.7983},\n",
       " {'neg': 0.206, 'neu': 0.59, 'pos': 0.204, 'compound': -0.0173},\n",
       " {'neg': 0.0, 'neu': 0.925, 'pos': 0.075, 'compound': 0.0516},\n",
       " {'neg': 0.0, 'neu': 1.0, 'pos': 0.0, 'compound': 0.0},\n",
       " {'neg': 0.0, 'neu': 1.0, 'pos': 0.0, 'compound': 0.0},\n",
       " {'neg': 0.384, 'neu': 0.616, 'pos': 0.0, 'compound': -0.8442},\n",
       " {'neg': 0.0, 'neu': 1.0, 'pos': 0.0, 'compound': 0.0},\n",
       " {'neg': 0.0, 'neu': 1.0, 'pos': 0.0, 'compound': 0.0},\n",
       " {'neg': 0.0, 'neu': 1.0, 'pos': 0.0, 'compound': 0.0},\n",
       " {'neg': 0.0, 'neu': 1.0, 'pos': 0.0, 'compound': 0.0},\n",
       " {'neg': 0.0, 'neu': 1.0, 'pos': 0.0, 'compound': 0.0},\n",
       " {'neg': 0.0, 'neu': 0.937, 'pos': 0.063, 'compound': 0.3612},\n",
       " {'neg': 0.0, 'neu': 1.0, 'pos': 0.0, 'compound': 0.0},\n",
       " {'neg': 0.0, 'neu': 0.901, 'pos': 0.099, 'compound': 0.0258},\n",
       " {'neg': 0.0, 'neu': 1.0, 'pos': 0.0, 'compound': 0.0},\n",
       " {'neg': 0.0, 'neu': 1.0, 'pos': 0.0, 'compound': 0.0},\n",
       " {'neg': 0.0, 'neu': 1.0, 'pos': 0.0, 'compound': 0.0},\n",
       " {'neg': 0.697, 'neu': 0.303, 'pos': 0.0, 'compound': -0.967},\n",
       " {'neg': 0.0, 'neu': 1.0, 'pos': 0.0, 'compound': 0.0},\n",
       " {'neg': 0.0, 'neu': 1.0, 'pos': 0.0, 'compound': 0.0},\n",
       " {'neg': 0.0, 'neu': 1.0, 'pos': 0.0, 'compound': 0.0},\n",
       " {'neg': 0.0, 'neu': 0.556, 'pos': 0.444, 'compound': 0.4926},\n",
       " {'neg': 0.0, 'neu': 1.0, 'pos': 0.0, 'compound': 0.0},\n",
       " {'neg': 0.084, 'neu': 0.729, 'pos': 0.187, 'compound': 0.5423},\n",
       " {'neg': 0.0, 'neu': 0.653, 'pos': 0.347, 'compound': 0.7035},\n",
       " {'neg': 0.327, 'neu': 0.673, 'pos': 0.0, 'compound': -0.9117},\n",
       " {'neg': 0.21, 'neu': 0.685, 'pos': 0.105, 'compound': -0.4255},\n",
       " {'neg': 0.0, 'neu': 0.915, 'pos': 0.085, 'compound': 0.3802},\n",
       " {'neg': 0.0, 'neu': 1.0, 'pos': 0.0, 'compound': 0.0},\n",
       " {'neg': 0.0, 'neu': 1.0, 'pos': 0.0, 'compound': 0.0},\n",
       " {'neg': 0.213, 'neu': 0.787, 'pos': 0.0, 'compound': -0.3472},\n",
       " {'neg': 0.154, 'neu': 0.651, 'pos': 0.195, 'compound': 0.7673},\n",
       " {'neg': 0.084, 'neu': 0.916, 'pos': 0.0, 'compound': -0.5255},\n",
       " {'neg': 0.194, 'neu': 0.712, 'pos': 0.094, 'compound': -0.7456},\n",
       " {'neg': 0.0, 'neu': 0.7, 'pos': 0.3, 'compound': 0.8936},\n",
       " {'neg': 0.0, 'neu': 0.895, 'pos': 0.105, 'compound': 0.4019},\n",
       " {'neg': 0.254, 'neu': 0.668, 'pos': 0.079, 'compound': -0.8339},\n",
       " {'neg': 0.0, 'neu': 1.0, 'pos': 0.0, 'compound': 0.0},\n",
       " {'neg': 0.0, 'neu': 1.0, 'pos': 0.0, 'compound': 0.0},\n",
       " {'neg': 0.042, 'neu': 0.812, 'pos': 0.147, 'compound': 0.4071},\n",
       " {'neg': 0.225, 'neu': 0.675, 'pos': 0.1, 'compound': -0.6458},\n",
       " {'neg': 0.0, 'neu': 0.902, 'pos': 0.098, 'compound': 0.3612},\n",
       " {'neg': 0.0, 'neu': 1.0, 'pos': 0.0, 'compound': 0.0},\n",
       " {'neg': 0.455, 'neu': 0.545, 'pos': 0.0, 'compound': -0.8934},\n",
       " {'neg': 0.398, 'neu': 0.573, 'pos': 0.029, 'compound': -0.9451},\n",
       " {'neg': 0.0, 'neu': 0.884, 'pos': 0.116, 'compound': 0.3612},\n",
       " {'neg': 0.0, 'neu': 0.532, 'pos': 0.468, 'compound': 0.6588},\n",
       " {'neg': 0.451, 'neu': 0.549, 'pos': 0.0, 'compound': -0.6249},\n",
       " {'neg': 0.08, 'neu': 0.833, 'pos': 0.087, 'compound': 0.0516},\n",
       " {'neg': 0.0, 'neu': 0.303, 'pos': 0.697, 'compound': 0.3182},\n",
       " {'neg': 0.292, 'neu': 0.623, 'pos': 0.084, 'compound': -0.7702},\n",
       " {'neg': 0.0, 'neu': 1.0, 'pos': 0.0, 'compound': 0.0},\n",
       " {'neg': 0.086, 'neu': 0.576, 'pos': 0.338, 'compound': 0.7184},\n",
       " {'neg': 0.0, 'neu': 1.0, 'pos': 0.0, 'compound': 0.0},\n",
       " {'neg': 0.167, 'neu': 0.63, 'pos': 0.203, 'compound': 0.3572},\n",
       " {'neg': 0.209, 'neu': 0.768, 'pos': 0.023, 'compound': -0.8934},\n",
       " {'neg': 0.392, 'neu': 0.608, 'pos': 0.0, 'compound': -0.9524},\n",
       " {'neg': 0.311, 'neu': 0.627, 'pos': 0.063, 'compound': -0.8979},\n",
       " {'neg': 0.0, 'neu': 0.767, 'pos': 0.233, 'compound': 0.6907},\n",
       " {'neg': 0.0, 'neu': 1.0, 'pos': 0.0, 'compound': 0.0},\n",
       " {'neg': 0.0, 'neu': 0.885, 'pos': 0.115, 'compound': 0.3094},\n",
       " {'neg': 0.0, 'neu': 1.0, 'pos': 0.0, 'compound': 0.0},\n",
       " {'neg': 0.104, 'neu': 0.896, 'pos': 0.0, 'compound': -0.5562},\n",
       " {'neg': 0.105, 'neu': 0.82, 'pos': 0.076, 'compound': -0.34},\n",
       " {'neg': 0.094, 'neu': 0.786, 'pos': 0.119, 'compound': 0.2023},\n",
       " {'neg': 0.0, 'neu': 1.0, 'pos': 0.0, 'compound': 0.0},\n",
       " {'neg': 0.253, 'neu': 0.497, 'pos': 0.25, 'compound': -0.0363},\n",
       " {'neg': 0.0, 'neu': 1.0, 'pos': 0.0, 'compound': 0.0},\n",
       " {'neg': 0.326, 'neu': 0.579, 'pos': 0.095, 'compound': -0.8957},\n",
       " {'neg': 0.0, 'neu': 1.0, 'pos': 0.0, 'compound': 0.0},\n",
       " {'neg': 0.265, 'neu': 0.735, 'pos': 0.0, 'compound': -0.5574},\n",
       " {'neg': 0.0, 'neu': 0.842, 'pos': 0.158, 'compound': 0.7845},\n",
       " {'neg': 0.0, 'neu': 1.0, 'pos': 0.0, 'compound': 0.0},\n",
       " {'neg': 0.0, 'neu': 1.0, 'pos': 0.0, 'compound': 0.0},\n",
       " {'neg': 0.121, 'neu': 0.731, 'pos': 0.148, 'compound': 0.3182},\n",
       " {'neg': 0.0, 'neu': 1.0, 'pos': 0.0, 'compound': 0.0},\n",
       " {'neg': 0.0, 'neu': 1.0, 'pos': 0.0, 'compound': 0.0},\n",
       " {'neg': 0.0, 'neu': 0.599, 'pos': 0.401, 'compound': 0.9762},\n",
       " {'neg': 0.214, 'neu': 0.752, 'pos': 0.034, 'compound': -0.8892},\n",
       " {'neg': 0.0, 'neu': 1.0, 'pos': 0.0, 'compound': 0.0},\n",
       " {'neg': 0.0, 'neu': 1.0, 'pos': 0.0, 'compound': 0.0},\n",
       " {'neg': 0.0, 'neu': 1.0, 'pos': 0.0, 'compound': 0.0},\n",
       " {'neg': 0.0, 'neu': 0.653, 'pos': 0.347, 'compound': 0.6988},\n",
       " {'neg': 0.252, 'neu': 0.748, 'pos': 0.0, 'compound': -0.8298},\n",
       " {'neg': 0.0, 'neu': 1.0, 'pos': 0.0, 'compound': 0.0},\n",
       " {'neg': 0.0, 'neu': 1.0, 'pos': 0.0, 'compound': 0.0},\n",
       " {'neg': 0.0, 'neu': 1.0, 'pos': 0.0, 'compound': 0.0},\n",
       " {'neg': 0.0, 'neu': 0.847, 'pos': 0.153, 'compound': 0.4019},\n",
       " {'neg': 0.139, 'neu': 0.776, 'pos': 0.086, 'compound': -0.3182},\n",
       " {'neg': 0.203, 'neu': 0.709, 'pos': 0.089, 'compound': -0.7647},\n",
       " {'neg': 0.0, 'neu': 0.903, 'pos': 0.097, 'compound': 0.1007},\n",
       " {'neg': 0.172, 'neu': 0.731, 'pos': 0.097, 'compound': -0.7003},\n",
       " {'neg': 0.0, 'neu': 1.0, 'pos': 0.0, 'compound': 0.0},\n",
       " {'neg': 0.0, 'neu': 1.0, 'pos': 0.0, 'compound': 0.0},\n",
       " {'neg': 0.122, 'neu': 0.78, 'pos': 0.098, 'compound': -0.1759},\n",
       " {'neg': 0.0, 'neu': 1.0, 'pos': 0.0, 'compound': 0.0},\n",
       " {'neg': 0.0, 'neu': 1.0, 'pos': 0.0, 'compound': 0.0},\n",
       " {'neg': 0.233, 'neu': 0.663, 'pos': 0.105, 'compound': -0.9016},\n",
       " {'neg': 0.0, 'neu': 1.0, 'pos': 0.0, 'compound': 0.0},\n",
       " {'neg': 0.286, 'neu': 0.667, 'pos': 0.047, 'compound': -0.7964},\n",
       " {'neg': 0.0, 'neu': 1.0, 'pos': 0.0, 'compound': 0.0},\n",
       " {'neg': 0.0, 'neu': 1.0, 'pos': 0.0, 'compound': 0.0},\n",
       " {'neg': 0.0, 'neu': 0.926, 'pos': 0.074, 'compound': 0.0516},\n",
       " {'neg': 0.0, 'neu': 1.0, 'pos': 0.0, 'compound': 0.0},\n",
       " {'neg': 0.0, 'neu': 0.82, 'pos': 0.18, 'compound': 0.0258},\n",
       " {'neg': 0.0, 'neu': 0.323, 'pos': 0.677, 'compound': 0.2732},\n",
       " {'neg': 0.0, 'neu': 0.824, 'pos': 0.176, 'compound': 0.7885},\n",
       " {'neg': 0.0, 'neu': 1.0, 'pos': 0.0, 'compound': 0.0},\n",
       " {'neg': 0.0, 'neu': 1.0, 'pos': 0.0, 'compound': 0.0},\n",
       " {'neg': 0.127, 'neu': 0.769, 'pos': 0.104, 'compound': -0.3147},\n",
       " {'neg': 0.239, 'neu': 0.761, 'pos': 0.0, 'compound': -0.296},\n",
       " {'neg': 0.0, 'neu': 1.0, 'pos': 0.0, 'compound': 0.0},\n",
       " {'neg': 0.0, 'neu': 1.0, 'pos': 0.0, 'compound': 0.0},\n",
       " {'neg': 0.0, 'neu': 1.0, 'pos': 0.0, 'compound': 0.0},\n",
       " {'neg': 0.0, 'neu': 1.0, 'pos': 0.0, 'compound': 0.0},\n",
       " {'neg': 0.0, 'neu': 0.89, 'pos': 0.11, 'compound': 0.3818},\n",
       " {'neg': 0.0, 'neu': 1.0, 'pos': 0.0, 'compound': 0.0},\n",
       " {'neg': 0.0, 'neu': 1.0, 'pos': 0.0, 'compound': 0.0},\n",
       " {'neg': 0.125, 'neu': 0.766, 'pos': 0.109, 'compound': -0.1027},\n",
       " {'neg': 0.0, 'neu': 1.0, 'pos': 0.0, 'compound': 0.0},\n",
       " {'neg': 0.0, 'neu': 1.0, 'pos': 0.0, 'compound': 0.0},\n",
       " {'neg': 0.0, 'neu': 1.0, 'pos': 0.0, 'compound': 0.0},\n",
       " {'neg': 0.0, 'neu': 1.0, 'pos': 0.0, 'compound': 0.0},\n",
       " {'neg': 0.098, 'neu': 0.79, 'pos': 0.112, 'compound': 0.1867},\n",
       " {'neg': 0.0, 'neu': 1.0, 'pos': 0.0, 'compound': 0.0},\n",
       " {'neg': 0.0, 'neu': 0.698, 'pos': 0.302, 'compound': 0.4404},\n",
       " {'neg': 0.0, 'neu': 1.0, 'pos': 0.0, 'compound': 0.0},\n",
       " {'neg': 0.336, 'neu': 0.453, 'pos': 0.211, 'compound': -0.3578},\n",
       " {'neg': 0.0, 'neu': 1.0, 'pos': 0.0, 'compound': 0.0},\n",
       " {'neg': 0.0, 'neu': 1.0, 'pos': 0.0, 'compound': 0.0},\n",
       " {'neg': 0.0, 'neu': 1.0, 'pos': 0.0, 'compound': 0.0},\n",
       " {'neg': 0.0, 'neu': 0.792, 'pos': 0.208, 'compound': 0.6486},\n",
       " {'neg': 0.077, 'neu': 0.808, 'pos': 0.115, 'compound': 0.25},\n",
       " {'neg': 0.12, 'neu': 0.62, 'pos': 0.26, 'compound': 0.8016},\n",
       " {'neg': 0.115, 'neu': 0.615, 'pos': 0.27, 'compound': 0.5859},\n",
       " {'neg': 0.0, 'neu': 0.669, 'pos': 0.331, 'compound': 0.8126},\n",
       " {'neg': 0.0, 'neu': 0.806, 'pos': 0.194, 'compound': 0.6249},\n",
       " {'neg': 0.0, 'neu': 0.845, 'pos': 0.155, 'compound': 0.4466},\n",
       " {'neg': 0.0, 'neu': 1.0, 'pos': 0.0, 'compound': 0.0},\n",
       " {'neg': 0.0, 'neu': 1.0, 'pos': 0.0, 'compound': 0.0},\n",
       " {'neg': 0.354, 'neu': 0.506, 'pos': 0.14, 'compound': -0.5859},\n",
       " {'neg': 0.061, 'neu': 0.819, 'pos': 0.12, 'compound': 0.4588},\n",
       " {'neg': 0.0, 'neu': 1.0, 'pos': 0.0, 'compound': 0.0},\n",
       " {'neg': 0.074, 'neu': 0.857, 'pos': 0.069, 'compound': -0.0516},\n",
       " {'neg': 0.182, 'neu': 0.688, 'pos': 0.13, 'compound': -0.2083},\n",
       " {'neg': 0.0, 'neu': 0.89, 'pos': 0.11, 'compound': 0.2716},\n",
       " {'neg': 0.0, 'neu': 1.0, 'pos': 0.0, 'compound': 0.0},\n",
       " {'neg': 0.119, 'neu': 0.649, 'pos': 0.231, 'compound': 0.5106},\n",
       " {'neg': 0.0, 'neu': 1.0, 'pos': 0.0, 'compound': 0.0},\n",
       " {'neg': 0.0, 'neu': 0.871, 'pos': 0.129, 'compound': 0.5256},\n",
       " {'neg': 0.0, 'neu': 1.0, 'pos': 0.0, 'compound': 0.0},\n",
       " {'neg': 0.0, 'neu': 1.0, 'pos': 0.0, 'compound': 0.0},\n",
       " {'neg': 0.101, 'neu': 0.634, 'pos': 0.265, 'compound': 0.5267},\n",
       " {'neg': 0.0, 'neu': 1.0, 'pos': 0.0, 'compound': 0.0},\n",
       " {'neg': 0.09, 'neu': 0.744, 'pos': 0.166, 'compound': 0.5434},\n",
       " {'neg': 0.0, 'neu': 1.0, 'pos': 0.0, 'compound': 0.0},\n",
       " {'neg': 0.179, 'neu': 0.821, 'pos': 0.0, 'compound': -0.7096},\n",
       " {'neg': 0.0, 'neu': 1.0, 'pos': 0.0, 'compound': 0.0},\n",
       " {'neg': 0.0, 'neu': 1.0, 'pos': 0.0, 'compound': 0.0},\n",
       " {'neg': 0.307, 'neu': 0.533, 'pos': 0.16, 'compound': -0.4357},\n",
       " {'neg': 0.179, 'neu': 0.697, 'pos': 0.124, 'compound': -0.5916},\n",
       " {'neg': 0.0, 'neu': 0.843, 'pos': 0.157, 'compound': 0.0772},\n",
       " {'neg': 0.212, 'neu': 0.788, 'pos': 0.0, 'compound': -0.4981},\n",
       " {'neg': 0.041, 'neu': 0.704, 'pos': 0.254, 'compound': 0.9081},\n",
       " {'neg': 0.119, 'neu': 0.838, 'pos': 0.043, 'compound': -0.3369},\n",
       " {'neg': 0.244, 'neu': 0.756, 'pos': 0.0, 'compound': -0.899},\n",
       " {'neg': 0.09, 'neu': 0.807, 'pos': 0.104, 'compound': -0.2481},\n",
       " {'neg': 0.0, 'neu': 1.0, 'pos': 0.0, 'compound': 0.0},\n",
       " {'neg': 0.027, 'neu': 0.811, 'pos': 0.162, 'compound': 0.7184},\n",
       " {'neg': 0.128, 'neu': 0.872, 'pos': 0.0, 'compound': -0.644},\n",
       " {'neg': 0.0, 'neu': 1.0, 'pos': 0.0, 'compound': 0.0},\n",
       " {'neg': 0.352, 'neu': 0.648, 'pos': 0.0, 'compound': -0.826},\n",
       " {'neg': 0.113, 'neu': 0.755, 'pos': 0.132, 'compound': 0.128},\n",
       " {'neg': 0.0, 'neu': 1.0, 'pos': 0.0, 'compound': 0.0},\n",
       " {'neg': 0.0, 'neu': 1.0, 'pos': 0.0, 'compound': 0.0},\n",
       " {'neg': 0.0, 'neu': 0.417, 'pos': 0.583, 'compound': 0.6369},\n",
       " {'neg': 0.0, 'neu': 1.0, 'pos': 0.0, 'compound': 0.0},\n",
       " {'neg': 0.0, 'neu': 1.0, 'pos': 0.0, 'compound': 0.0},\n",
       " {'neg': 0.0, 'neu': 0.779, 'pos': 0.221, 'compound': 0.8544},\n",
       " {'neg': 0.0, 'neu': 1.0, 'pos': 0.0, 'compound': 0.0},\n",
       " {'neg': 0.101, 'neu': 0.899, 'pos': 0.0, 'compound': -0.3071},\n",
       " {'neg': 0.143, 'neu': 0.798, 'pos': 0.059, 'compound': -0.4278},\n",
       " {'neg': 0.0, 'neu': 1.0, 'pos': 0.0, 'compound': 0.0},\n",
       " {'neg': 0.079, 'neu': 0.921, 'pos': 0.0, 'compound': -0.2263},\n",
       " {'neg': 0.0, 'neu': 0.791, 'pos': 0.209, 'compound': 0.4404},\n",
       " {'neg': 0.0, 'neu': 1.0, 'pos': 0.0, 'compound': 0.0},\n",
       " {'neg': 0.104, 'neu': 0.785, 'pos': 0.111, 'compound': -0.1779},\n",
       " {'neg': 0.131, 'neu': 0.729, 'pos': 0.14, 'compound': -0.128},\n",
       " {'neg': 0.0, 'neu': 1.0, 'pos': 0.0, 'compound': 0.0},\n",
       " {'neg': 0.219, 'neu': 0.694, 'pos': 0.087, 'compound': -0.6343},\n",
       " {'neg': 0.0, 'neu': 1.0, 'pos': 0.0, 'compound': 0.0},\n",
       " {'neg': 0.0, 'neu': 1.0, 'pos': 0.0, 'compound': 0.0},\n",
       " {'neg': 0.174, 'neu': 0.762, 'pos': 0.064, 'compound': -0.6705},\n",
       " {'neg': 0.226, 'neu': 0.774, 'pos': 0.0, 'compound': -0.8891},\n",
       " {'neg': 0.0, 'neu': 1.0, 'pos': 0.0, 'compound': 0.0},\n",
       " {'neg': 0.0, 'neu': 1.0, 'pos': 0.0, 'compound': 0.0},\n",
       " {'neg': 0.0, 'neu': 1.0, 'pos': 0.0, 'compound': 0.0},\n",
       " {'neg': 0.0, 'neu': 1.0, 'pos': 0.0, 'compound': 0.0},\n",
       " {'neg': 0.078, 'neu': 0.874, 'pos': 0.047, 'compound': -0.34},\n",
       " {'neg': 0.0, 'neu': 1.0, 'pos': 0.0, 'compound': 0.0},\n",
       " {'neg': 0.0, 'neu': 1.0, 'pos': 0.0, 'compound': 0.0},\n",
       " {'neg': 0.039, 'neu': 0.961, 'pos': 0.0, 'compound': -0.1531},\n",
       " {'neg': 0.13, 'neu': 0.801, 'pos': 0.069, 'compound': -0.4926},\n",
       " {'neg': 0.0, 'neu': 1.0, 'pos': 0.0, 'compound': 0.0},\n",
       " {'neg': 0.0, 'neu': 0.574, 'pos': 0.426, 'compound': 0.453},\n",
       " {'neg': 0.0, 'neu': 1.0, 'pos': 0.0, 'compound': 0.0},\n",
       " {'neg': 0.154, 'neu': 0.751, 'pos': 0.096, 'compound': -0.5267},\n",
       " {'neg': 0.0, 'neu': 1.0, 'pos': 0.0, 'compound': 0.0},\n",
       " {'neg': 0.2, 'neu': 0.8, 'pos': 0.0, 'compound': -0.6124},\n",
       " {'neg': 0.1, 'neu': 0.813, 'pos': 0.087, 'compound': -0.3618},\n",
       " {'neg': 0.063, 'neu': 0.855, 'pos': 0.083, 'compound': 0.1779},\n",
       " {'neg': 0.239, 'neu': 0.703, 'pos': 0.059, 'compound': -0.8813},\n",
       " {'neg': 0.0, 'neu': 1.0, 'pos': 0.0, 'compound': 0.0},\n",
       " {'neg': 0.0, 'neu': 1.0, 'pos': 0.0, 'compound': 0.0},\n",
       " {'neg': 0.0, 'neu': 0.785, 'pos': 0.215, 'compound': 0.8581},\n",
       " {'neg': 0.0, 'neu': 1.0, 'pos': 0.0, 'compound': 0.0},\n",
       " {'neg': 0.0, 'neu': 1.0, 'pos': 0.0, 'compound': 0.0},\n",
       " {'neg': 0.0, 'neu': 0.926, 'pos': 0.074, 'compound': 0.2023},\n",
       " {'neg': 0.0, 'neu': 1.0, 'pos': 0.0, 'compound': 0.0},\n",
       " {'neg': 0.0, 'neu': 1.0, 'pos': 0.0, 'compound': 0.0},\n",
       " {'neg': 0.217, 'neu': 0.652, 'pos': 0.13, 'compound': -0.4215},\n",
       " {'neg': 0.0, 'neu': 1.0, 'pos': 0.0, 'compound': 0.0},\n",
       " {'neg': 0.325, 'neu': 0.584, 'pos': 0.09, 'compound': -0.8573},\n",
       " {'neg': 0.117, 'neu': 0.748, 'pos': 0.136, 'compound': 0.0258},\n",
       " {'neg': 0.0, 'neu': 1.0, 'pos': 0.0, 'compound': 0.0},\n",
       " {'neg': 0.091, 'neu': 0.909, 'pos': 0.0, 'compound': -0.5719},\n",
       " {'neg': 0.0, 'neu': 1.0, 'pos': 0.0, 'compound': 0.0},\n",
       " {'neg': 0.0, 'neu': 1.0, 'pos': 0.0, 'compound': 0.0},\n",
       " {'neg': 0.128, 'neu': 0.781, 'pos': 0.091, 'compound': -0.0516},\n",
       " {'neg': 0.0, 'neu': 0.888, 'pos': 0.112, 'compound': 0.5267},\n",
       " {'neg': 0.0, 'neu': 1.0, 'pos': 0.0, 'compound': 0.0},\n",
       " {'neg': 0.214, 'neu': 0.786, 'pos': 0.0, 'compound': -0.7959},\n",
       " {'neg': 0.22, 'neu': 0.622, 'pos': 0.157, 'compound': -0.501},\n",
       " {'neg': 0.0, 'neu': 1.0, 'pos': 0.0, 'compound': 0.0},\n",
       " {'neg': 0.0, 'neu': 1.0, 'pos': 0.0, 'compound': 0.0},\n",
       " {'neg': 0.0, 'neu': 1.0, 'pos': 0.0, 'compound': 0.0},\n",
       " {'neg': 0.393, 'neu': 0.514, 'pos': 0.094, 'compound': -0.9712},\n",
       " {'neg': 0.25, 'neu': 0.668, 'pos': 0.082, 'compound': -0.8597},\n",
       " {'neg': 0.157, 'neu': 0.705, 'pos': 0.139, 'compound': -0.2263},\n",
       " {'neg': 0.279, 'neu': 0.721, 'pos': 0.0, 'compound': -0.8926},\n",
       " {'neg': 0.249, 'neu': 0.751, 'pos': 0.0, 'compound': -0.6103},\n",
       " {'neg': 0.185, 'neu': 0.772, 'pos': 0.043, 'compound': -0.8145},\n",
       " {'neg': 0.0, 'neu': 0.618, 'pos': 0.382, 'compound': 0.4754},\n",
       " {'neg': 0.0, 'neu': 0.897, 'pos': 0.103, 'compound': 0.4939},\n",
       " {'neg': 0.081, 'neu': 0.439, 'pos': 0.48, 'compound': 0.8689},\n",
       " {'neg': 0.134, 'neu': 0.866, 'pos': 0.0, 'compound': -0.5255},\n",
       " {'neg': 0.074, 'neu': 0.926, 'pos': 0.0, 'compound': -0.34},\n",
       " {'neg': 0.242, 'neu': 0.628, 'pos': 0.13, 'compound': -0.3182},\n",
       " {'neg': 0.128, 'neu': 0.872, 'pos': 0.0, 'compound': -0.6771},\n",
       " {'neg': 0.0, 'neu': 1.0, 'pos': 0.0, 'compound': 0.0},\n",
       " {'neg': 0.0, 'neu': 1.0, 'pos': 0.0, 'compound': 0.0},\n",
       " {'neg': 0.08, 'neu': 0.866, 'pos': 0.055, 'compound': -0.2658},\n",
       " {'neg': 0.052, 'neu': 0.89, 'pos': 0.059, 'compound': 0.0772},\n",
       " {'neg': 0.204, 'neu': 0.796, 'pos': 0.0, 'compound': -0.8176},\n",
       " {'neg': 0.0, 'neu': 1.0, 'pos': 0.0, 'compound': 0.0},\n",
       " {'neg': 0.068, 'neu': 0.703, 'pos': 0.229, 'compound': 0.7777},\n",
       " {'neg': 0.0, 'neu': 1.0, 'pos': 0.0, 'compound': 0.0},\n",
       " {'neg': 0.158, 'neu': 0.842, 'pos': 0.0, 'compound': -0.7506},\n",
       " {'neg': 0.0, 'neu': 1.0, 'pos': 0.0, 'compound': 0.0},\n",
       " {'neg': 0.275, 'neu': 0.623, 'pos': 0.102, 'compound': -0.891},\n",
       " {'neg': 0.0, 'neu': 0.617, 'pos': 0.383, 'compound': 0.9041},\n",
       " {'neg': 0.0, 'neu': 1.0, 'pos': 0.0, 'compound': 0.0},\n",
       " {'neg': 0.137, 'neu': 0.718, 'pos': 0.145, 'compound': -0.128},\n",
       " {'neg': 0.313, 'neu': 0.687, 'pos': 0.0, 'compound': -0.6249},\n",
       " {'neg': 0.0, 'neu': 1.0, 'pos': 0.0, 'compound': 0.0},\n",
       " {'neg': 0.0, 'neu': 1.0, 'pos': 0.0, 'compound': 0.0},\n",
       " {'neg': 0.0, 'neu': 1.0, 'pos': 0.0, 'compound': 0.0},\n",
       " {'neg': 0.0, 'neu': 1.0, 'pos': 0.0, 'compound': 0.0},\n",
       " {'neg': 0.0, 'neu': 0.78, 'pos': 0.22, 'compound': 0.4767},\n",
       " {'neg': 0.0, 'neu': 1.0, 'pos': 0.0, 'compound': 0.0},\n",
       " {'neg': 0.0, 'neu': 0.897, 'pos': 0.103, 'compound': 0.4767},\n",
       " {'neg': 0.0, 'neu': 1.0, 'pos': 0.0, 'compound': 0.0},\n",
       " {'neg': 0.1, 'neu': 0.9, 'pos': 0.0, 'compound': -0.4767},\n",
       " {'neg': 0.238, 'neu': 0.612, 'pos': 0.15, 'compound': -0.3786},\n",
       " {'neg': 0.0, 'neu': 1.0, 'pos': 0.0, 'compound': 0.0},\n",
       " {'neg': 0.14, 'neu': 0.79, 'pos': 0.07, 'compound': -0.5106},\n",
       " {'neg': 0.118, 'neu': 0.711, 'pos': 0.171, 'compound': 0.4588},\n",
       " {'neg': 0.0, 'neu': 0.972, 'pos': 0.028, 'compound': 0.0772},\n",
       " {'neg': 0.0, 'neu': 0.596, 'pos': 0.404, 'compound': 0.5242},\n",
       " {'neg': 0.0, 'neu': 0.762, 'pos': 0.238, 'compound': 0.3612},\n",
       " {'neg': 0.0, 'neu': 1.0, 'pos': 0.0, 'compound': 0.0},\n",
       " {'neg': 0.178, 'neu': 0.822, 'pos': 0.0, 'compound': -0.6523},\n",
       " {'neg': 0.0, 'neu': 1.0, 'pos': 0.0, 'compound': 0.0},\n",
       " {'neg': 0.157, 'neu': 0.843, 'pos': 0.0, 'compound': -0.6249},\n",
       " {'neg': 0.0, 'neu': 1.0, 'pos': 0.0, 'compound': 0.0},\n",
       " {'neg': 0.0, 'neu': 1.0, 'pos': 0.0, 'compound': 0.0},\n",
       " {'neg': 0.0, 'neu': 1.0, 'pos': 0.0, 'compound': 0.0},\n",
       " {'neg': 0.133, 'neu': 0.744, 'pos': 0.123, 'compound': 0.2796},\n",
       " {'neg': 0.153, 'neu': 0.787, 'pos': 0.061, 'compound': -0.6249},\n",
       " {'neg': 0.0, 'neu': 1.0, 'pos': 0.0, 'compound': 0.0},\n",
       " {'neg': 0.156, 'neu': 0.809, 'pos': 0.036, 'compound': -0.7959},\n",
       " {'neg': 0.183, 'neu': 0.779, 'pos': 0.038, 'compound': -0.8067},\n",
       " {'neg': 0.0, 'neu': 1.0, 'pos': 0.0, 'compound': 0.0},\n",
       " {'neg': 0.0, 'neu': 1.0, 'pos': 0.0, 'compound': 0.0},\n",
       " {'neg': 0.0, 'neu': 0.901, 'pos': 0.099, 'compound': 0.4724},\n",
       " {'neg': 0.0, 'neu': 1.0, 'pos': 0.0, 'compound': 0.0},\n",
       " {'neg': 0.0, 'neu': 1.0, 'pos': 0.0, 'compound': 0.0},\n",
       " {'neg': 0.0, 'neu': 1.0, 'pos': 0.0, 'compound': 0.0},\n",
       " {'neg': 0.0, 'neu': 0.762, 'pos': 0.238, 'compound': 0.7783},\n",
       " {'neg': 0.183, 'neu': 0.817, 'pos': 0.0, 'compound': -0.5859},\n",
       " {'neg': 0.058, 'neu': 0.942, 'pos': 0.0, 'compound': -0.2263},\n",
       " {'neg': 0.248, 'neu': 0.689, 'pos': 0.063, 'compound': -0.8047},\n",
       " {'neg': 0.0, 'neu': 1.0, 'pos': 0.0, 'compound': 0.0},\n",
       " {'neg': 0.0, 'neu': 1.0, 'pos': 0.0, 'compound': 0.0},\n",
       " {'neg': 0.194, 'neu': 0.736, 'pos': 0.07, 'compound': -0.7081},\n",
       " {'neg': 0.0, 'neu': 1.0, 'pos': 0.0, 'compound': 0.0},\n",
       " {'neg': 0.0, 'neu': 1.0, 'pos': 0.0, 'compound': 0.0},\n",
       " {'neg': 0.156, 'neu': 0.814, 'pos': 0.029, 'compound': -0.765},\n",
       " {'neg': 0.112, 'neu': 0.888, 'pos': 0.0, 'compound': -0.2263},\n",
       " {'neg': 0.0, 'neu': 1.0, 'pos': 0.0, 'compound': 0.0},\n",
       " {'neg': 0.064, 'neu': 0.878, 'pos': 0.058, 'compound': -0.0772},\n",
       " {'neg': 0.0, 'neu': 1.0, 'pos': 0.0, 'compound': 0.0},\n",
       " {'neg': 0.146, 'neu': 0.768, 'pos': 0.086, 'compound': -0.4497},\n",
       " {'neg': 0.0, 'neu': 1.0, 'pos': 0.0, 'compound': 0.0},\n",
       " {'neg': 0.074, 'neu': 0.848, 'pos': 0.078, 'compound': 0.0387},\n",
       " {'neg': 0.191, 'neu': 0.809, 'pos': 0.0, 'compound': -0.8176},\n",
       " {'neg': 0.075, 'neu': 0.776, 'pos': 0.15, 'compound': 0.4019},\n",
       " {'neg': 0.249, 'neu': 0.59, 'pos': 0.161, 'compound': -0.4475},\n",
       " {'neg': 0.0, 'neu': 1.0, 'pos': 0.0, 'compound': 0.0},\n",
       " {'neg': 0.0, 'neu': 1.0, 'pos': 0.0, 'compound': 0.0},\n",
       " {'neg': 0.402, 'neu': 0.598, 'pos': 0.0, 'compound': -0.9337},\n",
       " {'neg': 0.171, 'neu': 0.829, 'pos': 0.0, 'compound': -0.5106},\n",
       " {'neg': 0.169, 'neu': 0.782, 'pos': 0.049, 'compound': -0.7717},\n",
       " {'neg': 0.187, 'neu': 0.762, 'pos': 0.052, 'compound': -0.6705},\n",
       " {'neg': 0.0, 'neu': 1.0, 'pos': 0.0, 'compound': 0.0},\n",
       " {'neg': 0.0, 'neu': 1.0, 'pos': 0.0, 'compound': 0.0},\n",
       " {'neg': 0.0, 'neu': 1.0, 'pos': 0.0, 'compound': 0.0},\n",
       " {'neg': 0.0, 'neu': 1.0, 'pos': 0.0, 'compound': 0.0},\n",
       " {'neg': 0.0, 'neu': 1.0, 'pos': 0.0, 'compound': 0.0},\n",
       " {'neg': 0.0, 'neu': 1.0, 'pos': 0.0, 'compound': 0.0},\n",
       " {'neg': 0.092, 'neu': 0.798, 'pos': 0.109, 'compound': -0.1531},\n",
       " {'neg': 0.0, 'neu': 0.753, 'pos': 0.247, 'compound': 0.3182},\n",
       " {'neg': 0.0, 'neu': 1.0, 'pos': 0.0, 'compound': 0.0},\n",
       " {'neg': 0.0, 'neu': 1.0, 'pos': 0.0, 'compound': 0.0},\n",
       " {'neg': 0.0, 'neu': 1.0, 'pos': 0.0, 'compound': 0.0},\n",
       " {'neg': 0.188, 'neu': 0.812, 'pos': 0.0, 'compound': -0.7184},\n",
       " {'neg': 0.0, 'neu': 1.0, 'pos': 0.0, 'compound': 0.0},\n",
       " {'neg': 0.0, 'neu': 0.494, 'pos': 0.506, 'compound': 0.906},\n",
       " {'neg': 0.0, 'neu': 1.0, 'pos': 0.0, 'compound': 0.0},\n",
       " {'neg': 0.182, 'neu': 0.818, 'pos': 0.0, 'compound': -0.6124},\n",
       " {'neg': 0.361, 'neu': 0.639, 'pos': 0.0, 'compound': -0.8797},\n",
       " {'neg': 0.0, 'neu': 1.0, 'pos': 0.0, 'compound': 0.0},\n",
       " {'neg': 0.194, 'neu': 0.776, 'pos': 0.03, 'compound': -0.7845},\n",
       " {'neg': 0.091, 'neu': 0.882, 'pos': 0.027, 'compound': -0.5574},\n",
       " {'neg': 0.0, 'neu': 0.916, 'pos': 0.084, 'compound': 0.0258},\n",
       " {'neg': 0.073, 'neu': 0.877, 'pos': 0.05, 'compound': -0.207},\n",
       " {'neg': 0.0, 'neu': 1.0, 'pos': 0.0, 'compound': 0.0},\n",
       " {'neg': 0.316, 'neu': 0.255, 'pos': 0.429, 'compound': 0.4939},\n",
       " {'neg': 0.0, 'neu': 1.0, 'pos': 0.0, 'compound': 0.0},\n",
       " {'neg': 0.0, 'neu': 0.796, 'pos': 0.204, 'compound': 0.3182},\n",
       " {'neg': 0.0, 'neu': 1.0, 'pos': 0.0, 'compound': 0.0},\n",
       " {'neg': 0.0, 'neu': 0.693, 'pos': 0.307, 'compound': 0.7351},\n",
       " {'neg': 0.187, 'neu': 0.766, 'pos': 0.047, 'compound': -0.6486},\n",
       " {'neg': 0.0, 'neu': 0.831, 'pos': 0.169, 'compound': 0.7115},\n",
       " {'neg': 0.305, 'neu': 0.695, 'pos': 0.0, 'compound': -0.6908},\n",
       " {'neg': 0.457, 'neu': 0.543, 'pos': 0.0, 'compound': -0.85},\n",
       " {'neg': 0.0, 'neu': 1.0, 'pos': 0.0, 'compound': 0.0},\n",
       " {'neg': 0.0, 'neu': 0.466, 'pos': 0.534, 'compound': 0.6792},\n",
       " {'neg': 0.123, 'neu': 0.735, 'pos': 0.142, 'compound': 0.1027},\n",
       " {'neg': 0.0, 'neu': 0.588, 'pos': 0.412, 'compound': 0.6369},\n",
       " {'neg': 0.087, 'neu': 0.913, 'pos': 0.0, 'compound': -0.5994},\n",
       " {'neg': 0.047, 'neu': 0.674, 'pos': 0.279, 'compound': 0.875},\n",
       " {'neg': 0.394, 'neu': 0.571, 'pos': 0.035, 'compound': -0.9231},\n",
       " {'neg': 0.257, 'neu': 0.556, 'pos': 0.186, 'compound': -0.6523},\n",
       " {'neg': 0.257, 'neu': 0.716, 'pos': 0.027, 'compound': -0.8834},\n",
       " {'neg': 0.0, 'neu': 0.417, 'pos': 0.583, 'compound': 0.6808},\n",
       " {'neg': 0.556, 'neu': 0.39, 'pos': 0.054, 'compound': -0.9062},\n",
       " {'neg': 0.0, 'neu': 1.0, 'pos': 0.0, 'compound': 0.0},\n",
       " {'neg': 0.0, 'neu': 1.0, 'pos': 0.0, 'compound': 0.0},\n",
       " {'neg': 0.0, 'neu': 1.0, 'pos': 0.0, 'compound': 0.0},\n",
       " {'neg': 0.296, 'neu': 0.594, 'pos': 0.109, 'compound': -0.789},\n",
       " {'neg': 0.265, 'neu': 0.555, 'pos': 0.181, 'compound': -0.6679},\n",
       " {'neg': 0.094, 'neu': 0.798, 'pos': 0.108, 'compound': -0.128},\n",
       " {'neg': 0.08, 'neu': 0.92, 'pos': 0.0, 'compound': -0.3089},\n",
       " {'neg': 0.078, 'neu': 0.863, 'pos': 0.06, 'compound': -0.428},\n",
       " {'neg': 0.073, 'neu': 0.606, 'pos': 0.32, 'compound': 0.9477},\n",
       " {'neg': 0.172, 'neu': 0.697, 'pos': 0.132, 'compound': -0.3818},\n",
       " {'neg': 0.0, 'neu': 1.0, 'pos': 0.0, 'compound': 0.0},\n",
       " {'neg': 0.08, 'neu': 0.675, 'pos': 0.245, 'compound': 0.5994},\n",
       " {'neg': 0.0, 'neu': 0.509, 'pos': 0.491, 'compound': 0.9114},\n",
       " {'neg': 0.167, 'neu': 0.833, 'pos': 0.0, 'compound': -0.6369},\n",
       " {'neg': 0.277, 'neu': 0.723, 'pos': 0.0, 'compound': -0.7177},\n",
       " {'neg': 0.0, 'neu': 0.492, 'pos': 0.508, 'compound': 0.8054},\n",
       " {'neg': 0.093, 'neu': 0.867, 'pos': 0.04, 'compound': -0.383},\n",
       " {'neg': 0.0, 'neu': 0.884, 'pos': 0.116, 'compound': 0.3612},\n",
       " {'neg': 0.206, 'neu': 0.794, 'pos': 0.0, 'compound': -0.6597},\n",
       " {'neg': 0.0, 'neu': 1.0, 'pos': 0.0, 'compound': 0.0},\n",
       " {'neg': 0.0, 'neu': 1.0, 'pos': 0.0, 'compound': 0.0},\n",
       " {'neg': 0.0, 'neu': 1.0, 'pos': 0.0, 'compound': 0.0},\n",
       " {'neg': 0.185, 'neu': 0.815, 'pos': 0.0, 'compound': -0.3612},\n",
       " {'neg': 0.103, 'neu': 0.822, 'pos': 0.075, 'compound': -0.4215},\n",
       " {'neg': 0.0, 'neu': 0.934, 'pos': 0.066, 'compound': 0.088},\n",
       " {'neg': 0.118, 'neu': 0.802, 'pos': 0.08, 'compound': -0.2244},\n",
       " {'neg': 0.0, 'neu': 0.804, 'pos': 0.196, 'compound': 0.296},\n",
       " {'neg': 0.0, 'neu': 1.0, 'pos': 0.0, 'compound': 0.0},\n",
       " {'neg': 0.0, 'neu': 1.0, 'pos': 0.0, 'compound': 0.0},\n",
       " {'neg': 0.0, 'neu': 0.566, 'pos': 0.434, 'compound': 0.3182},\n",
       " {'neg': 0.251, 'neu': 0.636, 'pos': 0.113, 'compound': -0.5983},\n",
       " {'neg': 0.0, 'neu': 1.0, 'pos': 0.0, 'compound': 0.0},\n",
       " {'neg': 0.033, 'neu': 0.902, 'pos': 0.066, 'compound': 0.296},\n",
       " {'neg': 0.0, 'neu': 0.967, 'pos': 0.033, 'compound': 0.0258},\n",
       " {'neg': 0.095, 'neu': 0.905, 'pos': 0.0, 'compound': -0.296},\n",
       " {'neg': 0.0, 'neu': 1.0, 'pos': 0.0, 'compound': 0.0},\n",
       " {'neg': 0.0, 'neu': 0.87, 'pos': 0.13, 'compound': 0.6369},\n",
       " {'neg': 0.475, 'neu': 0.339, 'pos': 0.186, 'compound': -0.4019},\n",
       " {'neg': 0.0, 'neu': 1.0, 'pos': 0.0, 'compound': 0.0},\n",
       " {'neg': 0.204, 'neu': 0.772, 'pos': 0.024, 'compound': -0.8453},\n",
       " {'neg': 0.173, 'neu': 0.799, 'pos': 0.027, 'compound': -0.78},\n",
       " {'neg': 0.373, 'neu': 0.627, 'pos': 0.0, 'compound': -0.8728},\n",
       " {'neg': 0.264, 'neu': 0.736, 'pos': 0.0, 'compound': -0.9325},\n",
       " {'neg': 0.134, 'neu': 0.866, 'pos': 0.0, 'compound': -0.4767},\n",
       " {'neg': 0.0, 'neu': 1.0, 'pos': 0.0, 'compound': 0.0},\n",
       " {'neg': 0.0, 'neu': 0.802, 'pos': 0.198, 'compound': 0.5719},\n",
       " {'neg': 0.0, 'neu': 1.0, 'pos': 0.0, 'compound': 0.0},\n",
       " {'neg': 0.092, 'neu': 0.704, 'pos': 0.205, 'compound': 0.7845},\n",
       " {'neg': 0.0, 'neu': 1.0, 'pos': 0.0, 'compound': 0.0},\n",
       " {'neg': 0.437, 'neu': 0.563, 'pos': 0.0, 'compound': -0.4767},\n",
       " {'neg': 0.153, 'neu': 0.847, 'pos': 0.0, 'compound': -0.5719},\n",
       " {'neg': 0.0, 'neu': 0.868, 'pos': 0.132, 'compound': 0.4404},\n",
       " {'neg': 0.151, 'neu': 0.717, 'pos': 0.132, 'compound': 0.031},\n",
       " {'neg': 0.073, 'neu': 0.692, 'pos': 0.235, 'compound': 0.7983},\n",
       " {'neg': 0.235, 'neu': 0.654, 'pos': 0.111, 'compound': -0.7944},\n",
       " {'neg': 0.0, 'neu': 0.808, 'pos': 0.192, 'compound': 0.6166},\n",
       " {'neg': 0.0, 'neu': 1.0, 'pos': 0.0, 'compound': 0.0},\n",
       " {'neg': 0.0, 'neu': 0.835, 'pos': 0.165, 'compound': 0.5423},\n",
       " {'neg': 0.084, 'neu': 0.781, 'pos': 0.135, 'compound': 0.3976},\n",
       " {'neg': 0.0, 'neu': 0.522, 'pos': 0.478, 'compound': 0.6792},\n",
       " {'neg': 0.0, 'neu': 0.612, 'pos': 0.388, 'compound': 0.5859},\n",
       " {'neg': 0.0, 'neu': 0.831, 'pos': 0.169, 'compound': 0.7865},\n",
       " {'neg': 0.073, 'neu': 0.852, 'pos': 0.075, 'compound': -0.2263},\n",
       " {'neg': 0.285, 'neu': 0.715, 'pos': 0.0, 'compound': -0.555},\n",
       " {'neg': 0.193, 'neu': 0.774, 'pos': 0.033, 'compound': -0.8641},\n",
       " {'neg': 0.0, 'neu': 0.97, 'pos': 0.03, 'compound': 0.0258},\n",
       " {'neg': 0.0, 'neu': 1.0, 'pos': 0.0, 'compound': 0.0},\n",
       " {'neg': 0.0, 'neu': 0.806, 'pos': 0.194, 'compound': 0.6486},\n",
       " {'neg': 0.054, 'neu': 0.651, 'pos': 0.295, 'compound': 0.9183},\n",
       " {'neg': 0.182, 'neu': 0.818, 'pos': 0.0, 'compound': -0.8316},\n",
       " {'neg': 0.0, 'neu': 1.0, 'pos': 0.0, 'compound': 0.0},\n",
       " {'neg': 0.065, 'neu': 0.737, 'pos': 0.198, 'compound': 0.5106},\n",
       " {'neg': 0.0, 'neu': 1.0, 'pos': 0.0, 'compound': 0.0},\n",
       " {'neg': 0.069, 'neu': 0.806, 'pos': 0.125, 'compound': 0.4574},\n",
       " {'neg': 0.028, 'neu': 0.925, 'pos': 0.047, 'compound': 0.2244},\n",
       " {'neg': 0.281, 'neu': 0.673, 'pos': 0.046, 'compound': -0.8865},\n",
       " {'neg': 0.0, 'neu': 0.67, 'pos': 0.33, 'compound': 0.9062},\n",
       " {'neg': 0.0, 'neu': 1.0, 'pos': 0.0, 'compound': 0.0},\n",
       " {'neg': 0.0, 'neu': 1.0, 'pos': 0.0, 'compound': 0.0},\n",
       " {'neg': 0.0, 'neu': 1.0, 'pos': 0.0, 'compound': 0.0},\n",
       " {'neg': 0.0, 'neu': 1.0, 'pos': 0.0, 'compound': 0.0},\n",
       " {'neg': 0.0, 'neu': 1.0, 'pos': 0.0, 'compound': 0.0},\n",
       " {'neg': 0.0, 'neu': 0.939, 'pos': 0.061, 'compound': 0.1531},\n",
       " {'neg': 0.0, 'neu': 1.0, 'pos': 0.0, 'compound': 0.0},\n",
       " {'neg': 0.131, 'neu': 0.838, 'pos': 0.031, 'compound': -0.6792},\n",
       " {'neg': 0.333, 'neu': 0.667, 'pos': 0.0, 'compound': -0.25},\n",
       " {'neg': 0.0, 'neu': 1.0, 'pos': 0.0, 'compound': 0.0},\n",
       " {'neg': 0.166, 'neu': 0.715, 'pos': 0.119, 'compound': -0.2481},\n",
       " {'neg': 0.0, 'neu': 0.602, 'pos': 0.398, 'compound': 0.5106},\n",
       " {'neg': 0.0, 'neu': 1.0, 'pos': 0.0, 'compound': 0.0},\n",
       " {'neg': 0.0, 'neu': 1.0, 'pos': 0.0, 'compound': 0.0},\n",
       " {'neg': 0.115, 'neu': 0.709, 'pos': 0.176, 'compound': 0.5106},\n",
       " {'neg': 0.102, 'neu': 0.705, 'pos': 0.193, 'compound': 0.2869},\n",
       " {'neg': 0.0, 'neu': 0.798, 'pos': 0.202, 'compound': 0.5106},\n",
       " {'neg': 0.0, 'neu': 0.763, 'pos': 0.237, 'compound': 0.4199},\n",
       " {'neg': 0.0, 'neu': 1.0, 'pos': 0.0, 'compound': 0.0},\n",
       " {'neg': 0.0, 'neu': 0.811, 'pos': 0.189, 'compound': 0.4215},\n",
       " {'neg': 0.421, 'neu': 0.517, 'pos': 0.062, 'compound': -0.9485},\n",
       " {'neg': 0.449, 'neu': 0.551, 'pos': 0.0, 'compound': -0.7088},\n",
       " {'neg': 0.375, 'neu': 0.625, 'pos': 0.0, 'compound': -0.8555},\n",
       " {'neg': 0.088, 'neu': 0.616, 'pos': 0.295, 'compound': 0.9201},\n",
       " {'neg': 0.258, 'neu': 0.742, 'pos': 0.0, 'compound': -0.886},\n",
       " {'neg': 0.0, 'neu': 1.0, 'pos': 0.0, 'compound': 0.0},\n",
       " {'neg': 0.099, 'neu': 0.767, 'pos': 0.134, 'compound': 0.2732},\n",
       " {'neg': 0.0, 'neu': 1.0, 'pos': 0.0, 'compound': 0.0},\n",
       " {'neg': 0.115, 'neu': 0.627, 'pos': 0.258, 'compound': 0.4767},\n",
       " {'neg': 0.0, 'neu': 0.835, 'pos': 0.165, 'compound': 0.6072},\n",
       " {'neg': 0.0, 'neu': 0.706, 'pos': 0.294, 'compound': 0.2695},\n",
       " {'neg': 0.09, 'neu': 0.816, 'pos': 0.094, 'compound': 0.0258},\n",
       " {'neg': 0.291, 'neu': 0.709, 'pos': 0.0, 'compound': -0.5719},\n",
       " {'neg': 0.073, 'neu': 0.664, 'pos': 0.263, 'compound': 0.7184},\n",
       " {'neg': 0.0, 'neu': 0.461, 'pos': 0.539, 'compound': 0.8932},\n",
       " {'neg': 0.331, 'neu': 0.562, 'pos': 0.106, 'compound': -0.9153},\n",
       " {'neg': 0.0, 'neu': 1.0, 'pos': 0.0, 'compound': 0.0},\n",
       " {'neg': 0.0, 'neu': 0.888, 'pos': 0.112, 'compound': 0.6449},\n",
       " {'neg': 0.0, 'neu': 0.972, 'pos': 0.028, 'compound': 0.0258},\n",
       " {'neg': 0.299, 'neu': 0.701, 'pos': 0.0, 'compound': -0.9423},\n",
       " {'neg': 0.096, 'neu': 0.822, 'pos': 0.082, 'compound': -0.1007},\n",
       " {'neg': 0.0, 'neu': 0.53, 'pos': 0.47, 'compound': 0.8834},\n",
       " {'neg': 0.313, 'neu': 0.687, 'pos': 0.0, 'compound': -0.9217},\n",
       " {'neg': 0.0, 'neu': 1.0, 'pos': 0.0, 'compound': 0.0},\n",
       " {'neg': 0.14, 'neu': 0.757, 'pos': 0.103, 'compound': -0.3237},\n",
       " {'neg': 0.213, 'neu': 0.653, 'pos': 0.135, 'compound': -0.7131},\n",
       " {'neg': 0.0, 'neu': 1.0, 'pos': 0.0, 'compound': 0.0},\n",
       " {'neg': 0.379, 'neu': 0.572, 'pos': 0.049, 'compound': -0.9565},\n",
       " {'neg': 0.0, 'neu': 0.594, 'pos': 0.406, 'compound': 0.836},\n",
       " {'neg': 0.0, 'neu': 1.0, 'pos': 0.0, 'compound': 0.0},\n",
       " {'neg': 0.0, 'neu': 1.0, 'pos': 0.0, 'compound': 0.0},\n",
       " {'neg': 0.0, 'neu': 1.0, 'pos': 0.0, 'compound': 0.0},\n",
       " {'neg': 0.239, 'neu': 0.761, 'pos': 0.0, 'compound': -0.8689},\n",
       " {'neg': 0.162, 'neu': 0.838, 'pos': 0.0, 'compound': -0.4404},\n",
       " {'neg': 0.0, 'neu': 0.885, 'pos': 0.115, 'compound': 0.4574},\n",
       " {'neg': 0.32, 'neu': 0.628, 'pos': 0.052, 'compound': -0.93},\n",
       " {'neg': 0.0, 'neu': 0.828, 'pos': 0.172, 'compound': 0.3612},\n",
       " {'neg': 0.115, 'neu': 0.885, 'pos': 0.0, 'compound': -0.296},\n",
       " {'neg': 0.139, 'neu': 0.765, 'pos': 0.096, 'compound': -0.3382},\n",
       " {'neg': 0.0, 'neu': 0.837, 'pos': 0.163, 'compound': 0.7783},\n",
       " {'neg': 0.438, 'neu': 0.562, 'pos': 0.0, 'compound': -0.5994},\n",
       " {'neg': 0.0, 'neu': 0.533, 'pos': 0.467, 'compound': 0.9735},\n",
       " {'neg': 0.0, 'neu': 1.0, 'pos': 0.0, 'compound': 0.0},\n",
       " {'neg': 0.0, 'neu': 0.926, 'pos': 0.074, 'compound': 0.3595},\n",
       " {'neg': 0.355, 'neu': 0.645, 'pos': 0.0, 'compound': -0.8043},\n",
       " {'neg': 0.0, 'neu': 0.67, 'pos': 0.33, 'compound': 0.7506},\n",
       " {'neg': 0.368, 'neu': 0.632, 'pos': 0.0, 'compound': -0.8466},\n",
       " {'neg': 0.136, 'neu': 0.734, 'pos': 0.13, 'compound': -0.296},\n",
       " {'neg': 0.0, 'neu': 1.0, 'pos': 0.0, 'compound': 0.0},\n",
       " {'neg': 0.061, 'neu': 0.861, 'pos': 0.078, 'compound': 0.1548},\n",
       " {'neg': 0.0, 'neu': 1.0, 'pos': 0.0, 'compound': 0.0},\n",
       " {'neg': 0.406, 'neu': 0.452, 'pos': 0.141, 'compound': -0.6892},\n",
       " {'neg': 0.0, 'neu': 1.0, 'pos': 0.0, 'compound': 0.0},\n",
       " {'neg': 0.339, 'neu': 0.603, 'pos': 0.058, 'compound': -0.9199},\n",
       " {'neg': 0.0, 'neu': 1.0, 'pos': 0.0, 'compound': 0.0},\n",
       " {'neg': 0.0, 'neu': 0.808, 'pos': 0.192, 'compound': 0.8591},\n",
       " {'neg': 0.0, 'neu': 1.0, 'pos': 0.0, 'compound': 0.0},\n",
       " {'neg': 0.0, 'neu': 1.0, 'pos': 0.0, 'compound': 0.0},\n",
       " {'neg': 0.312, 'neu': 0.688, 'pos': 0.0, 'compound': -0.7096},\n",
       " {'neg': 0.0, 'neu': 1.0, 'pos': 0.0, 'compound': 0.0},\n",
       " {'neg': 0.0, 'neu': 1.0, 'pos': 0.0, 'compound': 0.0},\n",
       " {'neg': 0.152, 'neu': 0.627, 'pos': 0.222, 'compound': 0.4404},\n",
       " {'neg': 0.0, 'neu': 1.0, 'pos': 0.0, 'compound': 0.0},\n",
       " {'neg': 0.255, 'neu': 0.745, 'pos': 0.0, 'compound': -0.6249},\n",
       " {'neg': 0.0, 'neu': 0.507, 'pos': 0.493, 'compound': 0.5972},\n",
       " {'neg': 0.0, 'neu': 0.658, 'pos': 0.342, 'compound': 0.926},\n",
       " {'neg': 0.509, 'neu': 0.458, 'pos': 0.033, 'compound': -0.9851},\n",
       " {'neg': 0.0, 'neu': 1.0, 'pos': 0.0, 'compound': 0.0},\n",
       " {'neg': 0.0, 'neu': 1.0, 'pos': 0.0, 'compound': 0.0},\n",
       " {'neg': 0.0, 'neu': 1.0, 'pos': 0.0, 'compound': 0.0},\n",
       " {'neg': 0.0, 'neu': 0.81, 'pos': 0.19, 'compound': 0.826},\n",
       " {'neg': 0.0, 'neu': 0.802, 'pos': 0.198, 'compound': 0.5719},\n",
       " {'neg': 0.427, 'neu': 0.503, 'pos': 0.07, 'compound': -0.93},\n",
       " {'neg': 0.213, 'neu': 0.653, 'pos': 0.135, 'compound': -0.7131},\n",
       " {'neg': 0.32, 'neu': 0.476, 'pos': 0.204, 'compound': -0.4019},\n",
       " {'neg': 0.298, 'neu': 0.702, 'pos': 0.0, 'compound': -0.891},\n",
       " {'neg': 0.0, 'neu': 1.0, 'pos': 0.0, 'compound': 0.0},\n",
       " {'neg': 0.0, 'neu': 1.0, 'pos': 0.0, 'compound': 0.0},\n",
       " {'neg': 0.0, 'neu': 0.756, 'pos': 0.244, 'compound': 0.4404},\n",
       " {'neg': 0.245, 'neu': 0.696, 'pos': 0.058, 'compound': -0.7717},\n",
       " {'neg': 0.0, 'neu': 1.0, 'pos': 0.0, 'compound': 0.0},\n",
       " {'neg': 0.0, 'neu': 1.0, 'pos': 0.0, 'compound': 0.0},\n",
       " {'neg': 0.372, 'neu': 0.628, 'pos': 0.0, 'compound': -0.9299},\n",
       " {'neg': 0.566, 'neu': 0.434, 'pos': 0.0, 'compound': -0.933},\n",
       " {'neg': 0.0, 'neu': 0.78, 'pos': 0.22, 'compound': 0.802},\n",
       " {'neg': 0.0, 'neu': 0.932, 'pos': 0.068, 'compound': 0.1007},\n",
       " {'neg': 0.0, 'neu': 0.641, 'pos': 0.359, 'compound': 0.6808},\n",
       " {'neg': 0.0, 'neu': 1.0, 'pos': 0.0, 'compound': 0.0},\n",
       " {'neg': 0.0, 'neu': 1.0, 'pos': 0.0, 'compound': 0.0},\n",
       " {'neg': 0.0, 'neu': 1.0, 'pos': 0.0, 'compound': 0.0},\n",
       " {'neg': 0.0, 'neu': 1.0, 'pos': 0.0, 'compound': 0.0},\n",
       " {'neg': 0.0, 'neu': 0.656, 'pos': 0.344, 'compound': 0.6369},\n",
       " {'neg': 0.0, 'neu': 1.0, 'pos': 0.0, 'compound': 0.0},\n",
       " {'neg': 0.133, 'neu': 0.81, 'pos': 0.058, 'compound': -0.5466},\n",
       " {'neg': 0.247, 'neu': 0.643, 'pos': 0.11, 'compound': -0.643},\n",
       " {'neg': 0.0, 'neu': 1.0, 'pos': 0.0, 'compound': 0.0},\n",
       " {'neg': 0.0, 'neu': 1.0, 'pos': 0.0, 'compound': 0.0},\n",
       " {'neg': 0.317, 'neu': 0.635, 'pos': 0.048, 'compound': -0.9001},\n",
       " {'neg': 0.0, 'neu': 1.0, 'pos': 0.0, 'compound': 0.0},\n",
       " {'neg': 0.434, 'neu': 0.566, 'pos': 0.0, 'compound': -0.91},\n",
       " {'neg': 0.206, 'neu': 0.794, 'pos': 0.0, 'compound': -0.8316},\n",
       " {'neg': 0.0, 'neu': 1.0, 'pos': 0.0, 'compound': 0.0},\n",
       " {'neg': 0.131, 'neu': 0.685, 'pos': 0.184, 'compound': 0.2006},\n",
       " {'neg': 0.0, 'neu': 1.0, 'pos': 0.0, 'compound': 0.0},\n",
       " {'neg': 0.0, 'neu': 0.513, 'pos': 0.487, 'compound': 0.6908},\n",
       " {'neg': 0.0, 'neu': 1.0, 'pos': 0.0, 'compound': 0.0},\n",
       " {'neg': 0.0, 'neu': 0.829, 'pos': 0.171, 'compound': 0.8533},\n",
       " {'neg': 0.0, 'neu': 0.417, 'pos': 0.583, 'compound': 0.6808},\n",
       " {'neg': 0.0, 'neu': 0.507, 'pos': 0.493, 'compound': 0.7783},\n",
       " {'neg': 0.0, 'neu': 1.0, 'pos': 0.0, 'compound': 0.0},\n",
       " {'neg': 0.0, 'neu': 0.783, 'pos': 0.217, 'compound': 0.3597},\n",
       " {'neg': 0.0, 'neu': 0.772, 'pos': 0.228, 'compound': 0.9698},\n",
       " {'neg': 0.0, 'neu': 1.0, 'pos': 0.0, 'compound': 0.0},\n",
       " {'neg': 0.0, 'neu': 0.599, 'pos': 0.401, 'compound': 0.8655},\n",
       " {'neg': 0.155, 'neu': 0.572, 'pos': 0.273, 'compound': 0.3612},\n",
       " {'neg': 0.196, 'neu': 0.715, 'pos': 0.089, 'compound': -0.4567},\n",
       " {'neg': 0.393, 'neu': 0.607, 'pos': 0.0, 'compound': -0.9234},\n",
       " {'neg': 0.0, 'neu': 1.0, 'pos': 0.0, 'compound': 0.0},\n",
       " {'neg': 0.205, 'neu': 0.565, 'pos': 0.23, 'compound': 0.1416},\n",
       " {'neg': 0.0, 'neu': 1.0, 'pos': 0.0, 'compound': 0.0},\n",
       " {'neg': 0.074, 'neu': 0.805, 'pos': 0.121, 'compound': 0.34},\n",
       " {'neg': 0.0, 'neu': 1.0, 'pos': 0.0, 'compound': 0.0},\n",
       " {'neg': 0.0, 'neu': 1.0, 'pos': 0.0, 'compound': 0.0},\n",
       " {'neg': 0.169, 'neu': 0.704, 'pos': 0.127, 'compound': -0.2263},\n",
       " {'neg': 0.367, 'neu': 0.508, 'pos': 0.125, 'compound': -0.7345},\n",
       " {'neg': 0.0, 'neu': 1.0, 'pos': 0.0, 'compound': 0.0},\n",
       " {'neg': 0.0, 'neu': 1.0, 'pos': 0.0, 'compound': 0.0},\n",
       " {'neg': 0.0, 'neu': 1.0, 'pos': 0.0, 'compound': 0.0},\n",
       " {'neg': 0.16, 'neu': 0.84, 'pos': 0.0, 'compound': -0.2732},\n",
       " {'neg': 0.153, 'neu': 0.847, 'pos': 0.0, 'compound': -0.2023},\n",
       " {'neg': 0.0, 'neu': 1.0, 'pos': 0.0, 'compound': 0.0},\n",
       " {'neg': 0.0, 'neu': 1.0, 'pos': 0.0, 'compound': 0.0},\n",
       " {'neg': 0.0, 'neu': 0.923, 'pos': 0.077, 'compound': 0.5267},\n",
       " {'neg': 0.124, 'neu': 0.716, 'pos': 0.16, 'compound': 0.1727},\n",
       " {'neg': 0.0, 'neu': 1.0, 'pos': 0.0, 'compound': 0.0},\n",
       " {'neg': 0.136, 'neu': 0.816, 'pos': 0.047, 'compound': -0.6876},\n",
       " {'neg': 0.201, 'neu': 0.69, 'pos': 0.109, 'compound': -0.3818},\n",
       " {'neg': 0.0, 'neu': 1.0, 'pos': 0.0, 'compound': 0.0},\n",
       " {'neg': 0.25, 'neu': 0.667, 'pos': 0.083, 'compound': -0.867},\n",
       " {'neg': 0.0, 'neu': 0.848, 'pos': 0.152, 'compound': 0.3612},\n",
       " {'neg': 0.0, 'neu': 0.81, 'pos': 0.19, 'compound': 0.6113},\n",
       " {'neg': 0.081, 'neu': 0.638, 'pos': 0.281, 'compound': 0.6908},\n",
       " {'neg': 0.131, 'neu': 0.547, 'pos': 0.322, 'compound': 0.7879},\n",
       " {'neg': 0.165, 'neu': 0.702, 'pos': 0.133, 'compound': 0.0258},\n",
       " {'neg': 0.0, 'neu': 1.0, 'pos': 0.0, 'compound': 0.0},\n",
       " {'neg': 0.122, 'neu': 0.806, 'pos': 0.072, 'compound': -0.5983},\n",
       " {'neg': 0.0, 'neu': 1.0, 'pos': 0.0, 'compound': 0.0},\n",
       " {'neg': 0.0, 'neu': 1.0, 'pos': 0.0, 'compound': 0.0},\n",
       " {'neg': 0.117, 'neu': 0.883, 'pos': 0.0, 'compound': -0.2146},\n",
       " {'neg': 0.176, 'neu': 0.56, 'pos': 0.264, 'compound': 0.2718},\n",
       " {'neg': 0.0, 'neu': 0.756, 'pos': 0.244, 'compound': 0.4404},\n",
       " {'neg': 0.0, 'neu': 1.0, 'pos': 0.0, 'compound': 0.0},\n",
       " {'neg': 0.121, 'neu': 0.786, 'pos': 0.093, 'compound': 0.2477},\n",
       " {'neg': 0.0, 'neu': 1.0, 'pos': 0.0, 'compound': 0.0},\n",
       " {'neg': 0.561, 'neu': 0.439, 'pos': 0.0, 'compound': -0.75},\n",
       " {'neg': 0.0, 'neu': 1.0, 'pos': 0.0, 'compound': 0.0},\n",
       " {'neg': 0.226, 'neu': 0.61, 'pos': 0.165, 'compound': -0.25},\n",
       " {'neg': 0.105, 'neu': 0.83, 'pos': 0.065, 'compound': -0.4559},\n",
       " {'neg': 0.0, 'neu': 1.0, 'pos': 0.0, 'compound': 0.0},\n",
       " {'neg': 0.0, 'neu': 1.0, 'pos': 0.0, 'compound': 0.0},\n",
       " {'neg': 0.193, 'neu': 0.807, 'pos': 0.0, 'compound': -0.644},\n",
       " {'neg': 0.0, 'neu': 1.0, 'pos': 0.0, 'compound': 0.0},\n",
       " {'neg': 0.0, 'neu': 1.0, 'pos': 0.0, 'compound': 0.0},\n",
       " {'neg': 0.0, 'neu': 1.0, 'pos': 0.0, 'compound': 0.0},\n",
       " {'neg': 0.13, 'neu': 0.649, 'pos': 0.221, 'compound': 0.2023},\n",
       " {'neg': 0.0, 'neu': 1.0, 'pos': 0.0, 'compound': 0.0},\n",
       " {'neg': 0.371, 'neu': 0.629, 'pos': 0.0, 'compound': -0.9039},\n",
       " {'neg': 0.176, 'neu': 0.764, 'pos': 0.06, 'compound': -0.765},\n",
       " {'neg': 0.0, 'neu': 1.0, 'pos': 0.0, 'compound': 0.0},\n",
       " {'neg': 0.383, 'neu': 0.617, 'pos': 0.0, 'compound': -0.6544},\n",
       " {'neg': 0.204, 'neu': 0.536, 'pos': 0.261, 'compound': 0.3804},\n",
       " {'neg': 0.116, 'neu': 0.801, 'pos': 0.083, 'compound': -0.0772},\n",
       " {'neg': 0.217, 'neu': 0.646, 'pos': 0.137, 'compound': -0.7131},\n",
       " {'neg': 0.231, 'neu': 0.769, 'pos': 0.0, 'compound': -0.9062},\n",
       " {'neg': 0.0, 'neu': 0.945, 'pos': 0.055, 'compound': 0.34},\n",
       " {'neg': 0.0, 'neu': 1.0, 'pos': 0.0, 'compound': 0.0},\n",
       " {'neg': 0.0, 'neu': 1.0, 'pos': 0.0, 'compound': 0.0},\n",
       " {'neg': 0.0, 'neu': 1.0, 'pos': 0.0, 'compound': 0.0},\n",
       " {'neg': 0.0, 'neu': 1.0, 'pos': 0.0, 'compound': 0.0},\n",
       " {'neg': 0.298, 'neu': 0.484, 'pos': 0.218, 'compound': -0.25},\n",
       " {'neg': 0.105, 'neu': 0.628, 'pos': 0.268, 'compound': 0.5994},\n",
       " {'neg': 0.067, 'neu': 0.767, 'pos': 0.166, 'compound': 0.2926},\n",
       " {'neg': 0.224, 'neu': 0.643, 'pos': 0.133, 'compound': -0.787},\n",
       " {'neg': 0.0, 'neu': 1.0, 'pos': 0.0, 'compound': 0.0},\n",
       " {'neg': 0.0, 'neu': 1.0, 'pos': 0.0, 'compound': 0.0},\n",
       " {'neg': 0.0, 'neu': 1.0, 'pos': 0.0, 'compound': 0.0},\n",
       " {'neg': 0.0, 'neu': 1.0, 'pos': 0.0, 'compound': 0.0},\n",
       " {'neg': 0.054, 'neu': 0.593, 'pos': 0.353, 'compound': 0.891},\n",
       " {'neg': 0.0, 'neu': 0.811, 'pos': 0.189, 'compound': 0.6633},\n",
       " {'neg': 0.209, 'neu': 0.791, 'pos': 0.0, 'compound': -0.2755},\n",
       " {'neg': 0.0, 'neu': 1.0, 'pos': 0.0, 'compound': 0.0},\n",
       " {'neg': 0.065, 'neu': 0.676, 'pos': 0.259, 'compound': 0.765},\n",
       " {'neg': 0.0, 'neu': 1.0, 'pos': 0.0, 'compound': 0.0},\n",
       " {'neg': 0.269, 'neu': 0.689, 'pos': 0.042, 'compound': -0.9307},\n",
       " {'neg': 0.432, 'neu': 0.568, 'pos': 0.0, 'compound': -0.961},\n",
       " {'neg': 0.0, 'neu': 1.0, 'pos': 0.0, 'compound': 0.0},\n",
       " {'neg': 0.0, 'neu': 1.0, 'pos': 0.0, 'compound': 0.0},\n",
       " {'neg': 0.109, 'neu': 0.678, 'pos': 0.213, 'compound': 0.694},\n",
       " {'neg': 0.0, 'neu': 1.0, 'pos': 0.0, 'compound': 0.0},\n",
       " {'neg': 0.0, 'neu': 1.0, 'pos': 0.0, 'compound': 0.0},\n",
       " {'neg': 0.0, 'neu': 1.0, 'pos': 0.0, 'compound': 0.0},\n",
       " {'neg': 0.0, 'neu': 1.0, 'pos': 0.0, 'compound': 0.0},\n",
       " {'neg': 0.0, 'neu': 1.0, 'pos': 0.0, 'compound': 0.0},\n",
       " {'neg': 0.0, 'neu': 1.0, 'pos': 0.0, 'compound': 0.0},\n",
       " {'neg': 0.0, 'neu': 1.0, 'pos': 0.0, 'compound': 0.0},\n",
       " {'neg': 0.076, 'neu': 0.82, 'pos': 0.104, 'compound': 0.0864},\n",
       " {'neg': 0.0, 'neu': 1.0, 'pos': 0.0, 'compound': 0.0},\n",
       " {'neg': 0.0, 'neu': 1.0, 'pos': 0.0, 'compound': 0.0},\n",
       " {'neg': 0.0, 'neu': 1.0, 'pos': 0.0, 'compound': 0.0},\n",
       " {'neg': 0.25, 'neu': 0.75, 'pos': 0.0, 'compound': -0.6124},\n",
       " {'neg': 0.0, 'neu': 1.0, 'pos': 0.0, 'compound': 0.0},\n",
       " {'neg': 0.158, 'neu': 0.707, 'pos': 0.136, 'compound': -0.1027},\n",
       " {'neg': 0.0, 'neu': 1.0, 'pos': 0.0, 'compound': 0.0},\n",
       " {'neg': 0.483, 'neu': 0.263, 'pos': 0.254, 'compound': -0.6534},\n",
       " {'neg': 0.0, 'neu': 1.0, 'pos': 0.0, 'compound': 0.0},\n",
       " {'neg': 0.047, 'neu': 0.71, 'pos': 0.243, 'compound': 0.8779},\n",
       " {'neg': 0.0, 'neu': 0.891, 'pos': 0.109, 'compound': 0.0258},\n",
       " {'neg': 0.459, 'neu': 0.541, 'pos': 0.0, 'compound': -0.5267},\n",
       " {'neg': 0.0, 'neu': 1.0, 'pos': 0.0, 'compound': 0.0},\n",
       " {'neg': 0.0, 'neu': 1.0, 'pos': 0.0, 'compound': 0.0},\n",
       " {'neg': 0.322, 'neu': 0.678, 'pos': 0.0, 'compound': -0.9153},\n",
       " {'neg': 0.0, 'neu': 1.0, 'pos': 0.0, 'compound': 0.0},\n",
       " {'neg': 0.505, 'neu': 0.495, 'pos': 0.0, 'compound': -0.9042},\n",
       " {'neg': 0.024, 'neu': 0.819, 'pos': 0.157, 'compound': 0.7207},\n",
       " {'neg': 0.302, 'neu': 0.698, 'pos': 0.0, 'compound': -0.886},\n",
       " {'neg': 0.0, 'neu': 1.0, 'pos': 0.0, 'compound': 0.0},\n",
       " {'neg': 0.0, 'neu': 1.0, 'pos': 0.0, 'compound': 0.0},\n",
       " {'neg': 0.312, 'neu': 0.688, 'pos': 0.0, 'compound': -0.872},\n",
       " {'neg': 0.248, 'neu': 0.752, 'pos': 0.0, 'compound': -0.7845},\n",
       " {'neg': 0.319, 'neu': 0.609, 'pos': 0.072, 'compound': -0.8979},\n",
       " {'neg': 0.0, 'neu': 1.0, 'pos': 0.0, 'compound': 0.0},\n",
       " {'neg': 0.093, 'neu': 0.653, 'pos': 0.254, 'compound': 0.7835},\n",
       " {'neg': 0.505, 'neu': 0.495, 'pos': 0.0, 'compound': -0.9042},\n",
       " {'neg': 0.084, 'neu': 0.916, 'pos': 0.0, 'compound': -0.296},\n",
       " {'neg': 0.182, 'neu': 0.728, 'pos': 0.09, 'compound': -0.5106},\n",
       " {'neg': 0.0, 'neu': 1.0, 'pos': 0.0, 'compound': 0.0},\n",
       " {'neg': 0.0, 'neu': 1.0, 'pos': 0.0, 'compound': 0.0},\n",
       " {'neg': 0.07, 'neu': 0.86, 'pos': 0.07, 'compound': -0.3164},\n",
       " {'neg': 0.0, 'neu': 1.0, 'pos': 0.0, 'compound': 0.0},\n",
       " {'neg': 0.0, 'neu': 1.0, 'pos': 0.0, 'compound': 0.0},\n",
       " {'neg': 0.057, 'neu': 0.885, 'pos': 0.057, 'compound': 0.0},\n",
       " {'neg': 0.184, 'neu': 0.387, 'pos': 0.429, 'compound': 0.9889},\n",
       " {'neg': 0.235, 'neu': 0.765, 'pos': 0.0, 'compound': -0.6124},\n",
       " {'neg': 0.409, 'neu': 0.152, 'pos': 0.439, 'compound': 0.0516},\n",
       " {'neg': 0.0, 'neu': 0.588, 'pos': 0.412, 'compound': 0.5423},\n",
       " {'neg': 0.0, 'neu': 1.0, 'pos': 0.0, 'compound': 0.0},\n",
       " {'neg': 0.0, 'neu': 1.0, 'pos': 0.0, 'compound': 0.0},\n",
       " {'neg': 0.0, 'neu': 0.357, 'pos': 0.643, 'compound': 0.5574},\n",
       " {'neg': 0.0, 'neu': 1.0, 'pos': 0.0, 'compound': 0.0},\n",
       " {'neg': 0.0, 'neu': 1.0, 'pos': 0.0, 'compound': 0.0},\n",
       " {'neg': 0.0, 'neu': 1.0, 'pos': 0.0, 'compound': 0.0},\n",
       " {'neg': 0.149, 'neu': 0.715, 'pos': 0.137, 'compound': -0.3871},\n",
       " {'neg': 0.216, 'neu': 0.464, 'pos': 0.32, 'compound': 0.7134},\n",
       " {'neg': 0.285, 'neu': 0.642, 'pos': 0.073, 'compound': -0.872},\n",
       " {'neg': 0.0, 'neu': 1.0, 'pos': 0.0, 'compound': 0.0},\n",
       " {'neg': 0.275, 'neu': 0.725, 'pos': 0.0, 'compound': -0.5859},\n",
       " {'neg': 0.0, 'neu': 1.0, 'pos': 0.0, 'compound': 0.0},\n",
       " {'neg': 0.0, 'neu': 1.0, 'pos': 0.0, 'compound': 0.0},\n",
       " {'neg': 0.0, 'neu': 0.508, 'pos': 0.492, 'compound': 0.891},\n",
       " {'neg': 0.0, 'neu': 1.0, 'pos': 0.0, 'compound': 0.0},\n",
       " {'neg': 0.0, 'neu': 0.695, 'pos': 0.305, 'compound': 0.908},\n",
       " {'neg': 0.0, 'neu': 1.0, 'pos': 0.0, 'compound': 0.0},\n",
       " {'neg': 0.256, 'neu': 0.562, 'pos': 0.181, 'compound': -0.296},\n",
       " {'neg': 0.123, 'neu': 0.726, 'pos': 0.151, 'compound': 0.101},\n",
       " {'neg': 0.226, 'neu': 0.774, 'pos': 0.0, 'compound': -0.5859},\n",
       " {'neg': 0.0, 'neu': 1.0, 'pos': 0.0, 'compound': 0.0},\n",
       " {'neg': 0.0, 'neu': 1.0, 'pos': 0.0, 'compound': 0.0},\n",
       " {'neg': 0.0, 'neu': 1.0, 'pos': 0.0, 'compound': 0.0},\n",
       " {'neg': 0.0, 'neu': 1.0, 'pos': 0.0, 'compound': 0.0},\n",
       " {'neg': 0.184, 'neu': 0.816, 'pos': 0.0, 'compound': -0.5574},\n",
       " {'neg': 0.0, 'neu': 0.462, 'pos': 0.538, 'compound': 0.5423},\n",
       " {'neg': 0.0, 'neu': 1.0, 'pos': 0.0, 'compound': 0.0},\n",
       " {'neg': 0.0, 'neu': 1.0, 'pos': 0.0, 'compound': 0.0},\n",
       " {'neg': 0.0, 'neu': 1.0, 'pos': 0.0, 'compound': 0.0},\n",
       " {'neg': 0.0, 'neu': 0.694, 'pos': 0.306, 'compound': 0.296},\n",
       " {'neg': 0.0, 'neu': 0.756, 'pos': 0.244, 'compound': 0.6369},\n",
       " {'neg': 0.092, 'neu': 0.734, 'pos': 0.174, 'compound': 0.4588},\n",
       " {'neg': 0.153, 'neu': 0.779, 'pos': 0.069, 'compound': -0.4019},\n",
       " {'neg': 0.0, 'neu': 1.0, 'pos': 0.0, 'compound': 0.0},\n",
       " {'neg': 0.0, 'neu': 1.0, 'pos': 0.0, 'compound': 0.0},\n",
       " {'neg': 0.0, 'neu': 1.0, 'pos': 0.0, 'compound': 0.0},\n",
       " {'neg': 0.177, 'neu': 0.737, 'pos': 0.086, 'compound': -0.5374},\n",
       " {'neg': 0.066, 'neu': 0.628, 'pos': 0.306, 'compound': 0.9738},\n",
       " {'neg': 0.239, 'neu': 0.761, 'pos': 0.0, 'compound': -0.8829},\n",
       " {'neg': 0.0, 'neu': 1.0, 'pos': 0.0, 'compound': 0.0},\n",
       " {'neg': 0.23, 'neu': 0.77, 'pos': 0.0, 'compound': -0.5068},\n",
       " {'neg': 0.0, 'neu': 1.0, 'pos': 0.0, 'compound': 0.0},\n",
       " {'neg': 0.0, 'neu': 1.0, 'pos': 0.0, 'compound': 0.0},\n",
       " {'neg': 0.269, 'neu': 0.53, 'pos': 0.201, 'compound': -0.4404},\n",
       " {'neg': 0.0, 'neu': 1.0, 'pos': 0.0, 'compound': 0.0},\n",
       " {'neg': 0.17, 'neu': 0.595, 'pos': 0.235, 'compound': 0.6249},\n",
       " {'neg': 0.036, 'neu': 0.69, 'pos': 0.275, 'compound': 0.8767},\n",
       " {'neg': 0.222, 'neu': 0.778, 'pos': 0.0, 'compound': -0.6908},\n",
       " {'neg': 0.0, 'neu': 0.798, 'pos': 0.202, 'compound': 0.8625},\n",
       " {'neg': 0.0, 'neu': 0.875, 'pos': 0.125, 'compound': 0.5951},\n",
       " {'neg': 0.0, 'neu': 1.0, 'pos': 0.0, 'compound': 0.0},\n",
       " {'neg': 0.0, 'neu': 1.0, 'pos': 0.0, 'compound': 0.0},\n",
       " {'neg': 0.0, 'neu': 1.0, 'pos': 0.0, 'compound': 0.0},\n",
       " {'neg': 0.0, 'neu': 1.0, 'pos': 0.0, 'compound': 0.0},\n",
       " {'neg': 0.0, 'neu': 1.0, 'pos': 0.0, 'compound': 0.0},\n",
       " {'neg': 0.101, 'neu': 0.814, 'pos': 0.085, 'compound': -0.34},\n",
       " {'neg': 0.0, 'neu': 1.0, 'pos': 0.0, 'compound': 0.0},\n",
       " {'neg': 0.0, 'neu': 0.855, 'pos': 0.145, 'compound': 0.4966},\n",
       " {'neg': 0.065, 'neu': 0.81, 'pos': 0.126, 'compound': 0.3612},\n",
       " {'neg': 0.0, 'neu': 1.0, 'pos': 0.0, 'compound': 0.0},\n",
       " {'neg': 0.24, 'neu': 0.566, 'pos': 0.194, 'compound': -0.2023},\n",
       " {'neg': 0.0, 'neu': 1.0, 'pos': 0.0, 'compound': 0.0},\n",
       " {'neg': 0.219, 'neu': 0.737, 'pos': 0.044, 'compound': -0.8516},\n",
       " {'neg': 0.106, 'neu': 0.894, 'pos': 0.0, 'compound': -0.5994},\n",
       " {'neg': 0.168, 'neu': 0.832, 'pos': 0.0, 'compound': -0.8434},\n",
       " {'neg': 0.0, 'neu': 1.0, 'pos': 0.0, 'compound': 0.0},\n",
       " {'neg': 0.03, 'neu': 0.503, 'pos': 0.467, 'compound': 0.9852},\n",
       " {'neg': 0.034, 'neu': 0.891, 'pos': 0.075, 'compound': 0.5106},\n",
       " {'neg': 0.165, 'neu': 0.765, 'pos': 0.069, 'compound': -0.5994},\n",
       " {'neg': 0.0, 'neu': 0.92, 'pos': 0.08, 'compound': 0.0772},\n",
       " {'neg': 0.125, 'neu': 0.641, 'pos': 0.234, 'compound': 0.3701},\n",
       " {'neg': 0.143, 'neu': 0.726, 'pos': 0.131, 'compound': -0.1739},\n",
       " {'neg': 0.0, 'neu': 1.0, 'pos': 0.0, 'compound': 0.0},\n",
       " {'neg': 0.0, 'neu': 1.0, 'pos': 0.0, 'compound': 0.0},\n",
       " {'neg': 0.27, 'neu': 0.73, 'pos': 0.0, 'compound': -0.5859},\n",
       " {'neg': 0.338, 'neu': 0.359, 'pos': 0.303, 'compound': -0.1779},\n",
       " {'neg': 0.0, 'neu': 0.796, 'pos': 0.204, 'compound': 0.4738},\n",
       " {'neg': 0.0, 'neu': 1.0, 'pos': 0.0, 'compound': 0.0},\n",
       " {'neg': 0.0, 'neu': 1.0, 'pos': 0.0, 'compound': 0.0},\n",
       " {'neg': 0.157, 'neu': 0.843, 'pos': 0.0, 'compound': -0.5994},\n",
       " {'neg': 0.0, 'neu': 1.0, 'pos': 0.0, 'compound': 0.0},\n",
       " {'neg': 0.0, 'neu': 1.0, 'pos': 0.0, 'compound': 0.0},\n",
       " {'neg': 0.066, 'neu': 0.63, 'pos': 0.304, 'compound': 0.8531},\n",
       " {'neg': 0.16, 'neu': 0.84, 'pos': 0.0, 'compound': -0.7391},\n",
       " {'neg': 0.167, 'neu': 0.593, 'pos': 0.24, 'compound': 0.5085},\n",
       " {'neg': 0.102, 'neu': 0.898, 'pos': 0.0, 'compound': -0.5093},\n",
       " {'neg': 0.216, 'neu': 0.513, 'pos': 0.271, 'compound': 0.3612},\n",
       " {'neg': 0.0, 'neu': 1.0, 'pos': 0.0, 'compound': 0.0},\n",
       " {'neg': 0.0, 'neu': 0.488, 'pos': 0.512, 'compound': 0.6369},\n",
       " {'neg': 0.051, 'neu': 0.868, 'pos': 0.08, 'compound': 0.2263},\n",
       " {'neg': 0.123, 'neu': 0.877, 'pos': 0.0, 'compound': -0.5423},\n",
       " {'neg': 0.0, 'neu': 1.0, 'pos': 0.0, 'compound': 0.0},\n",
       " {'neg': 0.0, 'neu': 1.0, 'pos': 0.0, 'compound': 0.0},\n",
       " {'neg': 0.0, 'neu': 1.0, 'pos': 0.0, 'compound': 0.0},\n",
       " {'neg': 0.207, 'neu': 0.793, 'pos': 0.0, 'compound': -0.7003},\n",
       " {'neg': 0.0, 'neu': 0.871, 'pos': 0.129, 'compound': 0.4019},\n",
       " {'neg': 0.153, 'neu': 0.636, 'pos': 0.211, 'compound': 0.6626},\n",
       " {'neg': 0.0, 'neu': 1.0, 'pos': 0.0, 'compound': 0.0},\n",
       " {'neg': 0.0, 'neu': 1.0, 'pos': 0.0, 'compound': 0.0},\n",
       " {'neg': 0.0, 'neu': 1.0, 'pos': 0.0, 'compound': 0.0},\n",
       " {'neg': 0.184, 'neu': 0.703, 'pos': 0.113, 'compound': -0.6553},\n",
       " {'neg': 0.0, 'neu': 1.0, 'pos': 0.0, 'compound': 0.0},\n",
       " {'neg': 0.215, 'neu': 0.785, 'pos': 0.0, 'compound': -0.6037},\n",
       " {'neg': 0.0, 'neu': 1.0, 'pos': 0.0, 'compound': 0.0},\n",
       " {'neg': 0.115, 'neu': 0.885, 'pos': 0.0, 'compound': -0.5994},\n",
       " {'neg': 0.0, 'neu': 1.0, 'pos': 0.0, 'compound': 0.0},\n",
       " {'neg': 0.122, 'neu': 0.765, 'pos': 0.114, 'compound': -0.1027},\n",
       " {'neg': 0.0, 'neu': 0.863, 'pos': 0.137, 'compound': 0.4019},\n",
       " {'neg': 0.024, 'neu': 0.833, 'pos': 0.142, 'compound': 0.7011},\n",
       " {'neg': 0.0, 'neu': 1.0, 'pos': 0.0, 'compound': 0.0},\n",
       " {'neg': 0.153, 'neu': 0.799, 'pos': 0.048, 'compound': -0.7156},\n",
       " {'neg': 0.0, 'neu': 0.766, 'pos': 0.234, 'compound': 0.6705},\n",
       " {'neg': 0.055, 'neu': 0.945, 'pos': 0.0, 'compound': -0.128},\n",
       " {'neg': 0.0, 'neu': 1.0, 'pos': 0.0, 'compound': 0.0},\n",
       " {'neg': 0.0, 'neu': 1.0, 'pos': 0.0, 'compound': 0.0},\n",
       " {'neg': 0.122, 'neu': 0.878, 'pos': 0.0, 'compound': -0.5994},\n",
       " {'neg': 0.375, 'neu': 0.625, 'pos': 0.0, 'compound': -0.6369},\n",
       " {'neg': 0.0, 'neu': 1.0, 'pos': 0.0, 'compound': 0.0},\n",
       " {'neg': 0.28, 'neu': 0.72, 'pos': 0.0, 'compound': -0.5423},\n",
       " {'neg': 0.237, 'neu': 0.684, 'pos': 0.08, 'compound': -0.8504},\n",
       " {'neg': 0.0, 'neu': 1.0, 'pos': 0.0, 'compound': 0.0},\n",
       " {'neg': 0.157, 'neu': 0.843, 'pos': 0.0, 'compound': -0.6662},\n",
       " {'neg': 0.275, 'neu': 0.621, 'pos': 0.103, 'compound': -0.9276},\n",
       " {'neg': 0.0, 'neu': 1.0, 'pos': 0.0, 'compound': 0.0},\n",
       " {'neg': 0.169, 'neu': 0.831, 'pos': 0.0, 'compound': -0.6662},\n",
       " {'neg': 0.136, 'neu': 0.864, 'pos': 0.0, 'compound': -0.694},\n",
       " {'neg': 0.0, 'neu': 1.0, 'pos': 0.0, 'compound': 0.0},\n",
       " {'neg': 0.109, 'neu': 0.891, 'pos': 0.0, 'compound': -0.6996},\n",
       " {'neg': 0.0, 'neu': 1.0, 'pos': 0.0, 'compound': 0.0},\n",
       " {'neg': 0.133, 'neu': 0.744, 'pos': 0.123, 'compound': 0.1779},\n",
       " {'neg': 0.091, 'neu': 0.909, 'pos': 0.0, 'compound': -0.1027},\n",
       " {'neg': 0.0, 'neu': 0.905, 'pos': 0.095, 'compound': 0.2716},\n",
       " {'neg': 0.386, 'neu': 0.505, 'pos': 0.108, 'compound': -0.8271},\n",
       " {'neg': 0.0, 'neu': 1.0, 'pos': 0.0, 'compound': 0.0},\n",
       " {'neg': 0.0, 'neu': 1.0, 'pos': 0.0, 'compound': 0.0},\n",
       " {'neg': 0.111, 'neu': 0.889, 'pos': 0.0, 'compound': -0.6103},\n",
       " {'neg': 0.0, 'neu': 1.0, 'pos': 0.0, 'compound': 0.0},\n",
       " {'neg': 0.0, 'neu': 1.0, 'pos': 0.0, 'compound': 0.0},\n",
       " {'neg': 0.0, 'neu': 1.0, 'pos': 0.0, 'compound': 0.0},\n",
       " {'neg': 0.0, 'neu': 1.0, 'pos': 0.0, 'compound': 0.0},\n",
       " {'neg': 0.0, 'neu': 0.762, 'pos': 0.238, 'compound': 0.829},\n",
       " {'neg': 0.0, 'neu': 1.0, 'pos': 0.0, 'compound': 0.0},\n",
       " {'neg': 0.0, 'neu': 1.0, 'pos': 0.0, 'compound': 0.0},\n",
       " {'neg': 0.0, 'neu': 1.0, 'pos': 0.0, 'compound': 0.0},\n",
       " {'neg': 0.142, 'neu': 0.748, 'pos': 0.109, 'compound': -0.4215},\n",
       " {'neg': 0.358, 'neu': 0.642, 'pos': 0.0, 'compound': -0.873},\n",
       " {'neg': 0.0, 'neu': 1.0, 'pos': 0.0, 'compound': 0.0},\n",
       " {'neg': 0.064, 'neu': 0.56, 'pos': 0.376, 'compound': 0.9258},\n",
       " {'neg': 0.0, 'neu': 1.0, 'pos': 0.0, 'compound': 0.0},\n",
       " ...]"
      ]
     },
     "execution_count": 326,
     "metadata": {},
     "output_type": "execute_result"
    }
   ],
   "source": [
    "a"
   ]
  },
  {
   "cell_type": "code",
   "execution_count": 7,
   "metadata": {},
   "outputs": [],
   "source": [
    "#pulling the relevant score into a list \n",
    "b= [x.items() for x in a]"
   ]
  },
  {
   "cell_type": "code",
   "execution_count": 8,
   "metadata": {},
   "outputs": [],
   "source": [
    "#creating a dataframe of my vader scores of the tweets\n",
    "data1=pd.DataFrame(b, columns= ['neg', 'neu', 'pos', 'comp'])"
   ]
  },
  {
   "cell_type": "code",
   "execution_count": 9,
   "metadata": {},
   "outputs": [],
   "source": [
    "#putting my scores into a column in the dataframe\n",
    "b = data1['comp']"
   ]
  },
  {
   "cell_type": "code",
   "execution_count": 10,
   "metadata": {},
   "outputs": [
    {
     "data": {
      "text/plain": [
       "0       (compound, -0.6597)\n",
       "1       (compound, -0.7925)\n",
       "2        (compound, 0.8832)\n",
       "3       (compound, -0.5859)\n",
       "4        (compound, 0.7825)\n",
       "               ...         \n",
       "7132        (compound, 0.0)\n",
       "7133    (compound, -0.6597)\n",
       "7134    (compound, -0.4919)\n",
       "7135     (compound, 0.1007)\n",
       "7136     (compound, 0.4019)\n",
       "Name: comp, Length: 7137, dtype: object"
      ]
     },
     "execution_count": 10,
     "metadata": {},
     "output_type": "execute_result"
    }
   ],
   "source": [
    "b"
   ]
  },
  {
   "cell_type": "code",
   "execution_count": 11,
   "metadata": {},
   "outputs": [],
   "source": [
    "#making a column that grabs the right compound score to gauge sentiment\n",
    "data1['comp2']= [score[1] for score in b]"
   ]
  },
  {
   "cell_type": "code",
   "execution_count": 12,
   "metadata": {},
   "outputs": [],
   "source": [
    "k=data1['comp2']"
   ]
  },
  {
   "cell_type": "code",
   "execution_count": 13,
   "metadata": {},
   "outputs": [],
   "source": [
    "#rounding out my vader score\n",
    "data1['comp2']= data1['comp2'].round(3)"
   ]
  },
  {
   "cell_type": "code",
   "execution_count": 14,
   "metadata": {},
   "outputs": [],
   "source": [
    "#converting the vader scores into something easier to manipulate so that I can generate \n",
    "#three distinct classes\n",
    "col         = 'comp2'\n",
    "conditions  = [ data1[col] >= .05, (data1[col] < .05) & (data1[col]> -.05), data1[col] <= -.05 ]\n",
    "choices     = [ 1, 0, -1 ]\n",
    "data1[\"comp3\"] = np.select(conditions, choices, default=np.nan)"
   ]
  },
  {
   "cell_type": "code",
   "execution_count": 15,
   "metadata": {},
   "outputs": [],
   "source": [
    "#final conversion step of the data to equate vader score with the three class of sentiments\n",
    "data1['comp4']= data1['comp3'].map({-1:'negative', 0: 'neutral', 1:'positive'})"
   ]
  },
  {
   "cell_type": "code",
   "execution_count": 16,
   "metadata": {},
   "outputs": [],
   "source": [
    "#concating dataframe of useful items for NLP analysis\n",
    "main_data= pd.concat([data['tweet'], data['language'], data1['comp4']], axis=1, join='outer')"
   ]
  },
  {
   "cell_type": "code",
   "execution_count": 17,
   "metadata": {},
   "outputs": [],
   "source": [
    "#grabbing only the tweets in English\n",
    "Work_data= main_data[main_data['language']=='en']"
   ]
  },
  {
   "cell_type": "code",
   "execution_count": 327,
   "metadata": {},
   "outputs": [
    {
     "data": {
      "text/html": [
       "<div>\n",
       "<style scoped>\n",
       "    .dataframe tbody tr th:only-of-type {\n",
       "        vertical-align: middle;\n",
       "    }\n",
       "\n",
       "    .dataframe tbody tr th {\n",
       "        vertical-align: top;\n",
       "    }\n",
       "\n",
       "    .dataframe thead th {\n",
       "        text-align: right;\n",
       "    }\n",
       "</style>\n",
       "<table border=\"1\" class=\"dataframe\">\n",
       "  <thead>\n",
       "    <tr style=\"text-align: right;\">\n",
       "      <th></th>\n",
       "      <th>tweet</th>\n",
       "      <th>language</th>\n",
       "      <th>comp4</th>\n",
       "      <th>spacy_txt</th>\n",
       "      <th>spacy_y</th>\n",
       "    </tr>\n",
       "  </thead>\n",
       "  <tbody>\n",
       "    <tr>\n",
       "      <td>0</td>\n",
       "      <td>https://twitter.com/drawandstrike/status/1279...</td>\n",
       "      <td>en</td>\n",
       "      <td>negative</td>\n",
       "      <td>( , https://twitter.com/drawandstrike/status/1...</td>\n",
       "      <td>(negative)</td>\n",
       "    </tr>\n",
       "    <tr>\n",
       "      <td>1</td>\n",
       "      <td>RACISM IS THE IDOL THAT FEEDS THE  BEAST OF #b...</td>\n",
       "      <td>en</td>\n",
       "      <td>negative</td>\n",
       "      <td>(RACISM, IS, THE, IDOL, THAT, FEEDS, THE,  , B...</td>\n",
       "      <td>(negative)</td>\n",
       "    </tr>\n",
       "    <tr>\n",
       "      <td>2</td>\n",
       "      <td>Powerful picture of the REAL state of race rel...</td>\n",
       "      <td>en</td>\n",
       "      <td>positive</td>\n",
       "      <td>(Powerful, picture, of, the, REAL, state, of, ...</td>\n",
       "      <td>(positive)</td>\n",
       "    </tr>\n",
       "    <tr>\n",
       "      <td>3</td>\n",
       "      <td>Looks like yet another black criminal dealt wi...</td>\n",
       "      <td>en</td>\n",
       "      <td>negative</td>\n",
       "      <td>(Looks, like, yet, another, black, criminal, d...</td>\n",
       "      <td>(negative)</td>\n",
       "    </tr>\n",
       "    <tr>\n",
       "      <td>4</td>\n",
       "      <td>I SAW YOU ON THE NEWS, KNOW THE TRUTH AND YOUR...</td>\n",
       "      <td>en</td>\n",
       "      <td>positive</td>\n",
       "      <td>(I, SAW, YOU, ON, THE, NEWS, ,, KNOW, THE, TRU...</td>\n",
       "      <td>(positive)</td>\n",
       "    </tr>\n",
       "  </tbody>\n",
       "</table>\n",
       "</div>"
      ],
      "text/plain": [
       "                                               tweet language     comp4  \\\n",
       "0   https://twitter.com/drawandstrike/status/1279...       en  negative   \n",
       "1  RACISM IS THE IDOL THAT FEEDS THE  BEAST OF #b...       en  negative   \n",
       "2  Powerful picture of the REAL state of race rel...       en  positive   \n",
       "3  Looks like yet another black criminal dealt wi...       en  negative   \n",
       "4  I SAW YOU ON THE NEWS, KNOW THE TRUTH AND YOUR...       en  positive   \n",
       "\n",
       "                                           spacy_txt     spacy_y  \n",
       "0  ( , https://twitter.com/drawandstrike/status/1...  (negative)  \n",
       "1  (RACISM, IS, THE, IDOL, THAT, FEEDS, THE,  , B...  (negative)  \n",
       "2  (Powerful, picture, of, the, REAL, state, of, ...  (positive)  \n",
       "3  (Looks, like, yet, another, black, criminal, d...  (negative)  \n",
       "4  (I, SAW, YOU, ON, THE, NEWS, ,, KNOW, THE, TRU...  (positive)  "
      ]
     },
     "execution_count": 327,
     "metadata": {},
     "output_type": "execute_result"
    }
   ],
   "source": [
    "Work_data.head()"
   ]
  },
  {
   "cell_type": "code",
   "execution_count": 18,
   "metadata": {},
   "outputs": [
    {
     "data": {
      "text/plain": [
       "negative    2127\n",
       "positive    1917\n",
       "neutral      837\n",
       "Name: comp4, dtype: int64"
      ]
     },
     "execution_count": 18,
     "metadata": {},
     "output_type": "execute_result"
    }
   ],
   "source": [
    "Work_data['comp4'].value_counts()"
   ]
  },
  {
   "cell_type": "markdown",
   "metadata": {},
   "source": [
    "### Performing a train, test, split on preprocessed data (no word engineering)"
   ]
  },
  {
   "cell_type": "code",
   "execution_count": 19,
   "metadata": {},
   "outputs": [],
   "source": [
    "#defining my X variable as well as my target(y)\n",
    "X= Work_data['tweet']\n",
    "y= Work_data['comp4']"
   ]
  },
  {
   "cell_type": "code",
   "execution_count": 20,
   "metadata": {},
   "outputs": [],
   "source": [
    "#train_test_split\n",
    "X_train, X_test, y_train, y_test= train_test_split(X, y, test_size=.20, random_state=23)"
   ]
  },
  {
   "cell_type": "code",
   "execution_count": 21,
   "metadata": {},
   "outputs": [
    {
     "data": {
      "text/plain": [
       "0        https://twitter.com/drawandstrike/status/1279...\n",
       "1       RACISM IS THE IDOL THAT FEEDS THE  BEAST OF #b...\n",
       "2       Powerful picture of the REAL state of race rel...\n",
       "3       Looks like yet another black criminal dealt wi...\n",
       "4       I SAW YOU ON THE NEWS, KNOW THE TRUTH AND YOUR...\n",
       "                              ...                        \n",
       "7131    For all the #AllLivesMatter people.. I’m gonna...\n",
       "7133    @ericgarcetti  what did you expect moron? we'r...\n",
       "7134    Does that mean #DementiaJoe is saying #AllLive...\n",
       "7135    #PaperMario #PaperMarioTheOrigamiKing #Nintend...\n",
       "7136     pic.twitter.com/Q1HTj0C8db you can sue for mi...\n",
       "Name: tweet, Length: 4881, dtype: object"
      ]
     },
     "execution_count": 21,
     "metadata": {},
     "output_type": "execute_result"
    }
   ],
   "source": [
    "X"
   ]
  },
  {
   "cell_type": "markdown",
   "metadata": {},
   "source": [
    "### The main NLP function (tokenization, stop words, lemma)"
   ]
  },
  {
   "cell_type": "code",
   "execution_count": 22,
   "metadata": {},
   "outputs": [],
   "source": [
    "#created a NLP processing function that includes all the steps of corpus cleaning and creation and\n",
    "#vectorization\n",
    "def NLP_process_training_set(data):\n",
    "    BoW=[]\n",
    "    for word in data:\n",
    "        BoW.append(word)\n",
    "    word_bank= ' '.join(BoW)\n",
    "    word_bank= word_bank.lower()\n",
    "#     from nltk.tokenize import RegexpTokenizer\n",
    "    tokenizer = RegexpTokenizer(r'[a-zA-Z]+')\n",
    "    tokenized_tweets= tokenizer.tokenize(word_bank)\n",
    "\n",
    "    sw_list = stopwords.words('english')\n",
    "    sw_list += list(string.punctuation)\n",
    "    sw_list += [\"''\", '\"\"', '...', '``', '’', '“', '’', '”', '‘', '‘', '©', '#', '@', \n",
    "            'said', 'one', 'com', '-', '–', '—', '.']\n",
    "    sw_list += ['www', 'the', 'to', 'and', 'a', 's', 't','is', 'you', 'of', 'i', \n",
    "            'in', 'this', 'are', 'it', 'for', 'https', 'com', 'twitter', 'alllivesmatter' , \n",
    "            'blacklivesmatter' , 'bluelivesmatter', 'p']\n",
    "    sw_set = set(sw_list)\n",
    "    filtered_tweets=[]\n",
    "    for word in tokenized_tweets:\n",
    "        if word not in sw_set:\n",
    "            filtered_tweets.append(word)\n",
    "#     \n",
    "    lemmatizer=WordNetLemmatizer()\n",
    "    X_lemmatized_tweets=[]\n",
    "    for w in filtered_tweets:\n",
    "        X_lemmatized_tweets.append(lemmatizer.lemmatize(w))\n",
    "    \n",
    "    \n",
    "    tfidf = TfidfVectorizer(stop_words=sw_set, ngram_range=(1,1), lowercase=True)\n",
    "    tfidf_data_train_lem = tfidf.fit_transform(X_lemmatized_tweets)\n",
    "    return tfidf_data_train_lem \n",
    "#     tfidf_data_test_lem = tfidf.transform(X_test)\n",
    "\n",
    "    "
   ]
  },
  {
   "cell_type": "code",
   "execution_count": 23,
   "metadata": {},
   "outputs": [],
   "source": [
    "#created a NLP processing function that includes all the steps of corpus cleaning and creation and\n",
    "#vectorization\n",
    "def NLP_process_testing_set(data):\n",
    "    BoW=[]\n",
    "    for word in data:\n",
    "        BoW.append(word)\n",
    "    word_bank= ' '.join(BoW)\n",
    "    word_bank= word_bank.lower()\n",
    "#     from nltk.tokenize import RegexpTokenizer\n",
    "    tokenizer = RegexpTokenizer(r'[a-zA-Z]+')\n",
    "    tokenized_tweets= tokenizer.tokenize(word_bank)\n",
    "\n",
    "    sw_list = stopwords.words('english')\n",
    "    sw_list += list(string.punctuation)\n",
    "    sw_list += [\"''\", '\"\"', '...', '``', '’', '“', '’', '”', '‘', '‘', '©', '#', '@', \n",
    "            'said', 'one', 'com', '-', '–', '—', '.']\n",
    "    sw_list += ['www', 'the', 'to', 'and', 'a', 's', 't','is', 'you', 'of', 'i', \n",
    "            'in', 'this', 'are', 'it', 'for', 'https', 'com', 'twitter', 'alllivesmatter' , \n",
    "            'blacklivesmatter' , 'bluelivesmatter', 'p']\n",
    "    sw_set = set(sw_list)\n",
    "    filtered_tweets=[]\n",
    "    for word in tokenized_tweets:\n",
    "        if word not in sw_set:\n",
    "            filtered_tweets.append(word)\n",
    "#     \n",
    "    lemmatizer=WordNetLemmatizer()\n",
    "    X_lemmatized_tweets=[]\n",
    "    for w in filtered_tweets:\n",
    "        X_lemmatized_tweets.append(lemmatizer.lemmatize(w))\n",
    "    \n",
    "    \n",
    "    tfidf = TfidfVectorizer(stop_words=sw_set, ngram_range=(1,1), lowercase=True)\n",
    "    tfidf_data_test_lem = tfidf.transform(X_lemmatized_tweets)\n",
    "    return tfidf_data_test_lem "
   ]
  },
  {
   "cell_type": "code",
   "execution_count": 24,
   "metadata": {},
   "outputs": [
    {
     "ename": "TypeError",
     "evalue": "NLP_process_training_set() missing 1 required positional argument: 'data'",
     "output_type": "error",
     "traceback": [
      "\u001b[0;31m---------------------------------------------------------------------------\u001b[0m",
      "\u001b[0;31mTypeError\u001b[0m                                 Traceback (most recent call last)",
      "\u001b[0;32m<ipython-input-24-64a775e8b68f>\u001b[0m in \u001b[0;36m<module>\u001b[0;34m\u001b[0m\n\u001b[1;32m      1\u001b[0m \u001b[0;31m#using the NLP processing function on data\u001b[0m\u001b[0;34m\u001b[0m\u001b[0;34m\u001b[0m\u001b[0;34m\u001b[0m\u001b[0m\n\u001b[0;32m----> 2\u001b[0;31m \u001b[0mNLP_process_training_set\u001b[0m\u001b[0;34m(\u001b[0m\u001b[0;34m)\u001b[0m\u001b[0;34m\u001b[0m\u001b[0;34m\u001b[0m\u001b[0m\n\u001b[0m\u001b[1;32m      3\u001b[0m \u001b[0mNLP_process_testing_set\u001b[0m\u001b[0;34m(\u001b[0m\u001b[0;34m)\u001b[0m\u001b[0;34m\u001b[0m\u001b[0;34m\u001b[0m\u001b[0m\n",
      "\u001b[0;31mTypeError\u001b[0m: NLP_process_training_set() missing 1 required positional argument: 'data'"
     ]
    }
   ],
   "source": [
    "#using the NLP processing function on data\n",
    "NLP_process_training_set()\n",
    "NLP_process_testing_set()"
   ]
  },
  {
   "cell_type": "markdown",
   "metadata": {},
   "source": [
    "### Manually implementing the NLP function piece by piece"
   ]
  },
  {
   "cell_type": "code",
   "execution_count": null,
   "metadata": {},
   "outputs": [],
   "source": [
    "#creating word bank from tweets\n",
    "# BoW=[]\n",
    "# for word in X_train:\n",
    "#     BoW.append(word)\n",
    "# len(BoW)"
   ]
  },
  {
   "cell_type": "code",
   "execution_count": null,
   "metadata": {},
   "outputs": [],
   "source": [
    "#creating corpus, lowercasing the words, stripping of whitespace\n",
    "# word_bank= ' '.join(BoW)\n",
    "# word_bank= word_bank.lower()\n",
    "# word_bank"
   ]
  },
  {
   "cell_type": "code",
   "execution_count": null,
   "metadata": {},
   "outputs": [],
   "source": [
    "#manually tokenizing the corpus\n",
    "# from nltk.tokenize import RegexpTokenizer\n",
    "# tokenizer = RegexpTokenizer(r'[a-zA-Z]+')\n",
    "# tokenized_tweets= tokenizer.tokenize(word_bank)"
   ]
  },
  {
   "cell_type": "code",
   "execution_count": null,
   "metadata": {},
   "outputs": [],
   "source": [
    "# tokenized_tweets"
   ]
  },
  {
   "cell_type": "code",
   "execution_count": 25,
   "metadata": {},
   "outputs": [],
   "source": [
    "#creating stop words to filter our word bank\n",
    "import string\n",
    "sw_list = stopwords.words('english')\n",
    "sw_list += list(string.punctuation)\n",
    "sw_list += [\"''\", '\"\"', '...', '``', '’', '“', '’', '”', '‘', '‘', '©', '#', '@', \n",
    "            'said', 'one', 'com', '-', '–', '—', ' ', 'bizpacreview', 'ccya4ewhiyi' ,'8bkua22xbjnl']\n",
    "sw_list += ['www', 'the', 'to', 'and', 'a', 's', 't','is', 'you', 'of', 'i', 'u'\n",
    "            'in', 'this', 'are', 'it', 'for', 'https', 'com', 'twitter', 'alllivesmatter' , \n",
    "            'blacklivesmatter' , 'bluelivesmatter', 'black', 'lives', 'matter', 'blm', 'alm']\n",
    "sw_list += [str(x) for x in range(100)]\n",
    "sw_set = set(sw_list)"
   ]
  },
  {
   "cell_type": "code",
   "execution_count": 26,
   "metadata": {},
   "outputs": [
    {
     "name": "stdout",
     "output_type": "stream",
     "text": [
      "{'about', 'again', '^', 'www', 'my', 'how', 'alllivesmatter', \"hadn't\", 'your', 'be', '61', 'until', 'and', 'nor', 'no', '7', \"hasn't\", \"you'll\", '|', 've', '10', 'is', 'shouldn', '64', \"it's\", '93', 'should', 'wouldn', 'it', 'haven', 'him', '69', '88', 'black', '95', '42', '31', '13', '18', 'did', 'those', 'couldn', '80', '@', 'm', '85', 'mustn', '’', 'these', 'up', 'com', '92', 'ain', 'hasn', \"isn't\", '-', 'himself', 'for', 'myself', ')', 'do', 'doing', ':', 'themselves', 's', \"mustn't\", '16', 'any', '8bkua22xbjnl', 'yourselves', '35', \"needn't\", 'having', 'ccya4ewhiyi', 'they', '33', 'some', 'didn', ',', '_', '32', 'during', 'blm', \"haven't\", '52', '{', '>', 'with', \"wasn't\", \"you've\", 'am', 'from', \"''\", '36', 'wasn', '20', '.', \"won't\", ';', 'when', '56', 'yours', '51', '22', '91', '17', '81', \"wouldn't\", '74', 'just', '43', 'been', 'once', '30', 'what', 'there', '~', 'https', 'out', '96', '38', '99', 'theirs', '27', 'his', 'under', '41', 'through', '*', '68', '``', 'because', '71', \"didn't\", 'our', 'to', 'them', 'each', 'has', 'll', 'such', '94', 'you', '–', \"you're\", '26', 'won', '?', '97', '53', '8', 'below', 'bluelivesmatter', \"'\", '‘', 'than', \"shan't\", 'down', 'will', '76', '$', 't', 'her', 'd', \"mightn't\", 'between', '0', 'by', '(', 'both', 'o', \"couldn't\", 'few', '\"\"', 'y', 'this', '2', '77', '15', 'where', 'an', '60', 'other', '37', '50', '62', '87', 'bizpacreview', 'not', '84', '82', 'at', '70', 'the', ' ', 'after', 'one', '45', '79', '78', '49', 'aren', 'lives', '25', '14', '/', '40', 'are', '39', '21', 'if', '%', 'said', '46', '47', '=', '!', 'too', 'she', 'shan', 'yourself', '}', 're', \"you'd\", '63', 'being', 'on', '83', 'all', 'now', 'same', '<', 'only', 'i', 'of', 'had', '72', '+', '5', 'herself', '67', 'can', '9', '“', 'before', \"should've\", \"she's\", \"shouldn't\", 'who', '29', 'most', '\"', 'so', 'doesn', 'as', '12', 'we', 'he', '24', 'a', 'that', '75', 'into', '73', '98', 'here', 'their', 'its', \"don't\", 'alm', '48', '58', 'while', 'which', 'whom', 'blacklivesmatter', 'matter', 'very', \"that'll\", '”', \"doesn't\", '©', 'mightn', '6', 'ma', 'more', 'isn', '28', '...', \"aren't\", '&', 'why', 'above', 'does', 'was', 'further', 'in', '34', '55', 'then', ']', 'over', '90', '\\\\', 'ours', '89', 'off', 'own', 'or', 'me', 'against', 'ourselves', '[', '11', 'twitter', '86', \"weren't\", '57', 'have', '4', '59', '19', '54', 'uin', '23', '1', '`', 'but', 'were', 'needn', 'don', 'hers', '—', '3', '44', 'weren', '66', 'hadn', 'itself', '#', '65'}\n"
     ]
    }
   ],
   "source": [
    "#list of stopwords and punctuation\n",
    "print(sw_set)"
   ]
  },
  {
   "cell_type": "code",
   "execution_count": 27,
   "metadata": {},
   "outputs": [],
   "source": [
    "#filtering out stopwords\n",
    "# filtered_tweets=[]\n",
    "# for word in tokenized_tweets:\n",
    "#     if word not in sw_set:\n",
    "#         filtered_tweets.append(word)"
   ]
  },
  {
   "cell_type": "code",
   "execution_count": 28,
   "metadata": {},
   "outputs": [],
   "source": [
    "#lemmatizing\n",
    "# from nltk.stem import WordNetLemmatizer \n",
    "# lemmatizer=WordNetLemmatizer()\n",
    "# X_lemmatized_tweets=[]\n",
    "# for w in filtered_tweets:\n",
    "#     X_lemmatized_tweets.append(lemmatizer.lemmatize(w))\n",
    "# print (X_lemmatized_tweets)"
   ]
  },
  {
   "cell_type": "code",
   "execution_count": 29,
   "metadata": {},
   "outputs": [],
   "source": [
    "#using function to process my data\n",
    "# X_train= NLP_process(X_train)\n",
    "# y_train=NLP_process(y_train)"
   ]
  },
  {
   "cell_type": "code",
   "execution_count": 30,
   "metadata": {},
   "outputs": [],
   "source": [
    "#using function to process data\n",
    "# X_test=NLP_process(X_test)"
   ]
  },
  {
   "cell_type": "markdown",
   "metadata": {},
   "source": [
    "### Vectorizing tf-idf and creating the Document Term Matrix"
   ]
  },
  {
   "cell_type": "code",
   "execution_count": 31,
   "metadata": {},
   "outputs": [],
   "source": [
    "#using tf_idf vectorizer\n",
    "tfidf = TfidfVectorizer(stop_words=sw_set, ngram_range=(1,3), lowercase=True)\n",
    "tfidf_data_train_lem = tfidf.fit_transform(X_train)\n",
    "tfidf_data_test_lem = tfidf.transform(X_test)\n",
    "\n",
    "dfq = pd.DataFrame(tfidf_data_test_lem.toarray().T,\n",
    "                 index = tfidf.vocabulary_.keys())\n",
    "dfq1=dfq.T"
   ]
  },
  {
   "cell_type": "code",
   "execution_count": 32,
   "metadata": {},
   "outputs": [],
   "source": [
    "\n",
    "m=[dfq1.iloc[i].idxmax() for i in range(977)]\n",
    "\n"
   ]
  },
  {
   "cell_type": "code",
   "execution_count": 33,
   "metadata": {},
   "outputs": [
    {
     "data": {
      "text/plain": [
       "977"
      ]
     },
     "execution_count": 33,
     "metadata": {},
     "output_type": "execute_result"
    }
   ],
   "source": [
    "len(m)"
   ]
  },
  {
   "cell_type": "code",
   "execution_count": 34,
   "metadata": {},
   "outputs": [],
   "source": [
    "tuple_S=(zip(y_test, m))\n"
   ]
  },
  {
   "cell_type": "code",
   "execution_count": null,
   "metadata": {},
   "outputs": [],
   "source": []
  },
  {
   "cell_type": "code",
   "execution_count": 35,
   "metadata": {},
   "outputs": [
    {
     "data": {
      "text/html": [
       "<div>\n",
       "<style scoped>\n",
       "    .dataframe tbody tr th:only-of-type {\n",
       "        vertical-align: middle;\n",
       "    }\n",
       "\n",
       "    .dataframe tbody tr th {\n",
       "        vertical-align: top;\n",
       "    }\n",
       "\n",
       "    .dataframe thead th {\n",
       "        text-align: right;\n",
       "    }\n",
       "</style>\n",
       "<table border=\"1\" class=\"dataframe\">\n",
       "  <thead>\n",
       "    <tr style=\"text-align: right;\">\n",
       "      <th></th>\n",
       "      <th>fund</th>\n",
       "      <th>defense</th>\n",
       "      <th>trump2020landslidevictory</th>\n",
       "      <th>fund defense</th>\n",
       "      <th>defense trump2020landslidevictory</th>\n",
       "      <th>fund defense trump2020landslidevictory</th>\n",
       "      <th>dems</th>\n",
       "      <th>ever</th>\n",
       "      <th>get</th>\n",
       "      <th>charge</th>\n",
       "      <th>...</th>\n",
       "      <th>police fridaythoughts</th>\n",
       "      <th>fridaythoughts harden</th>\n",
       "      <th>harden nbabubble</th>\n",
       "      <th>person allblacklivesmatter mutually</th>\n",
       "      <th>allblacklivesmatter mutually exclusive</th>\n",
       "      <th>mutually exclusive minority</th>\n",
       "      <th>exclusive minority police</th>\n",
       "      <th>minority police fridaythoughts</th>\n",
       "      <th>police fridaythoughts harden</th>\n",
       "      <th>fridaythoughts harden nbabubble</th>\n",
       "    </tr>\n",
       "  </thead>\n",
       "  <tbody>\n",
       "    <tr>\n",
       "      <td>0</td>\n",
       "      <td>0.0</td>\n",
       "      <td>0.0</td>\n",
       "      <td>0.0</td>\n",
       "      <td>0.0</td>\n",
       "      <td>0.0</td>\n",
       "      <td>0.0</td>\n",
       "      <td>0.0</td>\n",
       "      <td>0.0</td>\n",
       "      <td>0.0</td>\n",
       "      <td>0.0</td>\n",
       "      <td>...</td>\n",
       "      <td>0.0</td>\n",
       "      <td>0.0</td>\n",
       "      <td>0.0</td>\n",
       "      <td>0.0</td>\n",
       "      <td>0.0</td>\n",
       "      <td>0.0</td>\n",
       "      <td>0.0</td>\n",
       "      <td>0.0</td>\n",
       "      <td>0.0</td>\n",
       "      <td>0.0</td>\n",
       "    </tr>\n",
       "    <tr>\n",
       "      <td>1</td>\n",
       "      <td>0.0</td>\n",
       "      <td>0.0</td>\n",
       "      <td>0.0</td>\n",
       "      <td>0.0</td>\n",
       "      <td>0.0</td>\n",
       "      <td>0.0</td>\n",
       "      <td>0.0</td>\n",
       "      <td>0.0</td>\n",
       "      <td>0.0</td>\n",
       "      <td>0.0</td>\n",
       "      <td>...</td>\n",
       "      <td>0.0</td>\n",
       "      <td>0.0</td>\n",
       "      <td>0.0</td>\n",
       "      <td>0.0</td>\n",
       "      <td>0.0</td>\n",
       "      <td>0.0</td>\n",
       "      <td>0.0</td>\n",
       "      <td>0.0</td>\n",
       "      <td>0.0</td>\n",
       "      <td>0.0</td>\n",
       "    </tr>\n",
       "    <tr>\n",
       "      <td>2</td>\n",
       "      <td>0.0</td>\n",
       "      <td>0.0</td>\n",
       "      <td>0.0</td>\n",
       "      <td>0.0</td>\n",
       "      <td>0.0</td>\n",
       "      <td>0.0</td>\n",
       "      <td>0.0</td>\n",
       "      <td>0.0</td>\n",
       "      <td>0.0</td>\n",
       "      <td>0.0</td>\n",
       "      <td>...</td>\n",
       "      <td>0.0</td>\n",
       "      <td>0.0</td>\n",
       "      <td>0.0</td>\n",
       "      <td>0.0</td>\n",
       "      <td>0.0</td>\n",
       "      <td>0.0</td>\n",
       "      <td>0.0</td>\n",
       "      <td>0.0</td>\n",
       "      <td>0.0</td>\n",
       "      <td>0.0</td>\n",
       "    </tr>\n",
       "    <tr>\n",
       "      <td>3</td>\n",
       "      <td>0.0</td>\n",
       "      <td>0.0</td>\n",
       "      <td>0.0</td>\n",
       "      <td>0.0</td>\n",
       "      <td>0.0</td>\n",
       "      <td>0.0</td>\n",
       "      <td>0.0</td>\n",
       "      <td>0.0</td>\n",
       "      <td>0.0</td>\n",
       "      <td>0.0</td>\n",
       "      <td>...</td>\n",
       "      <td>0.0</td>\n",
       "      <td>0.0</td>\n",
       "      <td>0.0</td>\n",
       "      <td>0.0</td>\n",
       "      <td>0.0</td>\n",
       "      <td>0.0</td>\n",
       "      <td>0.0</td>\n",
       "      <td>0.0</td>\n",
       "      <td>0.0</td>\n",
       "      <td>0.0</td>\n",
       "    </tr>\n",
       "    <tr>\n",
       "      <td>4</td>\n",
       "      <td>0.0</td>\n",
       "      <td>0.0</td>\n",
       "      <td>0.0</td>\n",
       "      <td>0.0</td>\n",
       "      <td>0.0</td>\n",
       "      <td>0.0</td>\n",
       "      <td>0.0</td>\n",
       "      <td>0.0</td>\n",
       "      <td>0.0</td>\n",
       "      <td>0.0</td>\n",
       "      <td>...</td>\n",
       "      <td>0.0</td>\n",
       "      <td>0.0</td>\n",
       "      <td>0.0</td>\n",
       "      <td>0.0</td>\n",
       "      <td>0.0</td>\n",
       "      <td>0.0</td>\n",
       "      <td>0.0</td>\n",
       "      <td>0.0</td>\n",
       "      <td>0.0</td>\n",
       "      <td>0.0</td>\n",
       "    </tr>\n",
       "    <tr>\n",
       "      <td>...</td>\n",
       "      <td>...</td>\n",
       "      <td>...</td>\n",
       "      <td>...</td>\n",
       "      <td>...</td>\n",
       "      <td>...</td>\n",
       "      <td>...</td>\n",
       "      <td>...</td>\n",
       "      <td>...</td>\n",
       "      <td>...</td>\n",
       "      <td>...</td>\n",
       "      <td>...</td>\n",
       "      <td>...</td>\n",
       "      <td>...</td>\n",
       "      <td>...</td>\n",
       "      <td>...</td>\n",
       "      <td>...</td>\n",
       "      <td>...</td>\n",
       "      <td>...</td>\n",
       "      <td>...</td>\n",
       "      <td>...</td>\n",
       "      <td>...</td>\n",
       "    </tr>\n",
       "    <tr>\n",
       "      <td>972</td>\n",
       "      <td>0.0</td>\n",
       "      <td>0.0</td>\n",
       "      <td>0.0</td>\n",
       "      <td>0.0</td>\n",
       "      <td>0.0</td>\n",
       "      <td>0.0</td>\n",
       "      <td>0.0</td>\n",
       "      <td>0.0</td>\n",
       "      <td>0.0</td>\n",
       "      <td>0.0</td>\n",
       "      <td>...</td>\n",
       "      <td>0.0</td>\n",
       "      <td>0.0</td>\n",
       "      <td>0.0</td>\n",
       "      <td>0.0</td>\n",
       "      <td>0.0</td>\n",
       "      <td>0.0</td>\n",
       "      <td>0.0</td>\n",
       "      <td>0.0</td>\n",
       "      <td>0.0</td>\n",
       "      <td>0.0</td>\n",
       "    </tr>\n",
       "    <tr>\n",
       "      <td>973</td>\n",
       "      <td>0.0</td>\n",
       "      <td>0.0</td>\n",
       "      <td>0.0</td>\n",
       "      <td>0.0</td>\n",
       "      <td>0.0</td>\n",
       "      <td>0.0</td>\n",
       "      <td>0.0</td>\n",
       "      <td>0.0</td>\n",
       "      <td>0.0</td>\n",
       "      <td>0.0</td>\n",
       "      <td>...</td>\n",
       "      <td>0.0</td>\n",
       "      <td>0.0</td>\n",
       "      <td>0.0</td>\n",
       "      <td>0.0</td>\n",
       "      <td>0.0</td>\n",
       "      <td>0.0</td>\n",
       "      <td>0.0</td>\n",
       "      <td>0.0</td>\n",
       "      <td>0.0</td>\n",
       "      <td>0.0</td>\n",
       "    </tr>\n",
       "    <tr>\n",
       "      <td>974</td>\n",
       "      <td>0.0</td>\n",
       "      <td>0.0</td>\n",
       "      <td>0.0</td>\n",
       "      <td>0.0</td>\n",
       "      <td>0.0</td>\n",
       "      <td>0.0</td>\n",
       "      <td>0.0</td>\n",
       "      <td>0.0</td>\n",
       "      <td>0.0</td>\n",
       "      <td>0.0</td>\n",
       "      <td>...</td>\n",
       "      <td>0.0</td>\n",
       "      <td>0.0</td>\n",
       "      <td>0.0</td>\n",
       "      <td>0.0</td>\n",
       "      <td>0.0</td>\n",
       "      <td>0.0</td>\n",
       "      <td>0.0</td>\n",
       "      <td>0.0</td>\n",
       "      <td>0.0</td>\n",
       "      <td>0.0</td>\n",
       "    </tr>\n",
       "    <tr>\n",
       "      <td>975</td>\n",
       "      <td>0.0</td>\n",
       "      <td>0.0</td>\n",
       "      <td>0.0</td>\n",
       "      <td>0.0</td>\n",
       "      <td>0.0</td>\n",
       "      <td>0.0</td>\n",
       "      <td>0.0</td>\n",
       "      <td>0.0</td>\n",
       "      <td>0.0</td>\n",
       "      <td>0.0</td>\n",
       "      <td>...</td>\n",
       "      <td>0.0</td>\n",
       "      <td>0.0</td>\n",
       "      <td>0.0</td>\n",
       "      <td>0.0</td>\n",
       "      <td>0.0</td>\n",
       "      <td>0.0</td>\n",
       "      <td>0.0</td>\n",
       "      <td>0.0</td>\n",
       "      <td>0.0</td>\n",
       "      <td>0.0</td>\n",
       "    </tr>\n",
       "    <tr>\n",
       "      <td>976</td>\n",
       "      <td>0.0</td>\n",
       "      <td>0.0</td>\n",
       "      <td>0.0</td>\n",
       "      <td>0.0</td>\n",
       "      <td>0.0</td>\n",
       "      <td>0.0</td>\n",
       "      <td>0.0</td>\n",
       "      <td>0.0</td>\n",
       "      <td>0.0</td>\n",
       "      <td>0.0</td>\n",
       "      <td>...</td>\n",
       "      <td>0.0</td>\n",
       "      <td>0.0</td>\n",
       "      <td>0.0</td>\n",
       "      <td>0.0</td>\n",
       "      <td>0.0</td>\n",
       "      <td>0.0</td>\n",
       "      <td>0.0</td>\n",
       "      <td>0.0</td>\n",
       "      <td>0.0</td>\n",
       "      <td>0.0</td>\n",
       "    </tr>\n",
       "  </tbody>\n",
       "</table>\n",
       "<p>977 rows × 54344 columns</p>\n",
       "</div>"
      ],
      "text/plain": [
       "     fund  defense  trump2020landslidevictory  fund defense  \\\n",
       "0     0.0      0.0                        0.0           0.0   \n",
       "1     0.0      0.0                        0.0           0.0   \n",
       "2     0.0      0.0                        0.0           0.0   \n",
       "3     0.0      0.0                        0.0           0.0   \n",
       "4     0.0      0.0                        0.0           0.0   \n",
       "..    ...      ...                        ...           ...   \n",
       "972   0.0      0.0                        0.0           0.0   \n",
       "973   0.0      0.0                        0.0           0.0   \n",
       "974   0.0      0.0                        0.0           0.0   \n",
       "975   0.0      0.0                        0.0           0.0   \n",
       "976   0.0      0.0                        0.0           0.0   \n",
       "\n",
       "     defense trump2020landslidevictory  \\\n",
       "0                                  0.0   \n",
       "1                                  0.0   \n",
       "2                                  0.0   \n",
       "3                                  0.0   \n",
       "4                                  0.0   \n",
       "..                                 ...   \n",
       "972                                0.0   \n",
       "973                                0.0   \n",
       "974                                0.0   \n",
       "975                                0.0   \n",
       "976                                0.0   \n",
       "\n",
       "     fund defense trump2020landslidevictory  dems  ever  get  charge  ...  \\\n",
       "0                                       0.0   0.0   0.0  0.0     0.0  ...   \n",
       "1                                       0.0   0.0   0.0  0.0     0.0  ...   \n",
       "2                                       0.0   0.0   0.0  0.0     0.0  ...   \n",
       "3                                       0.0   0.0   0.0  0.0     0.0  ...   \n",
       "4                                       0.0   0.0   0.0  0.0     0.0  ...   \n",
       "..                                      ...   ...   ...  ...     ...  ...   \n",
       "972                                     0.0   0.0   0.0  0.0     0.0  ...   \n",
       "973                                     0.0   0.0   0.0  0.0     0.0  ...   \n",
       "974                                     0.0   0.0   0.0  0.0     0.0  ...   \n",
       "975                                     0.0   0.0   0.0  0.0     0.0  ...   \n",
       "976                                     0.0   0.0   0.0  0.0     0.0  ...   \n",
       "\n",
       "     police fridaythoughts  fridaythoughts harden  harden nbabubble  \\\n",
       "0                      0.0                    0.0               0.0   \n",
       "1                      0.0                    0.0               0.0   \n",
       "2                      0.0                    0.0               0.0   \n",
       "3                      0.0                    0.0               0.0   \n",
       "4                      0.0                    0.0               0.0   \n",
       "..                     ...                    ...               ...   \n",
       "972                    0.0                    0.0               0.0   \n",
       "973                    0.0                    0.0               0.0   \n",
       "974                    0.0                    0.0               0.0   \n",
       "975                    0.0                    0.0               0.0   \n",
       "976                    0.0                    0.0               0.0   \n",
       "\n",
       "     person allblacklivesmatter mutually  \\\n",
       "0                                    0.0   \n",
       "1                                    0.0   \n",
       "2                                    0.0   \n",
       "3                                    0.0   \n",
       "4                                    0.0   \n",
       "..                                   ...   \n",
       "972                                  0.0   \n",
       "973                                  0.0   \n",
       "974                                  0.0   \n",
       "975                                  0.0   \n",
       "976                                  0.0   \n",
       "\n",
       "     allblacklivesmatter mutually exclusive  mutually exclusive minority  \\\n",
       "0                                       0.0                          0.0   \n",
       "1                                       0.0                          0.0   \n",
       "2                                       0.0                          0.0   \n",
       "3                                       0.0                          0.0   \n",
       "4                                       0.0                          0.0   \n",
       "..                                      ...                          ...   \n",
       "972                                     0.0                          0.0   \n",
       "973                                     0.0                          0.0   \n",
       "974                                     0.0                          0.0   \n",
       "975                                     0.0                          0.0   \n",
       "976                                     0.0                          0.0   \n",
       "\n",
       "     exclusive minority police  minority police fridaythoughts  \\\n",
       "0                          0.0                             0.0   \n",
       "1                          0.0                             0.0   \n",
       "2                          0.0                             0.0   \n",
       "3                          0.0                             0.0   \n",
       "4                          0.0                             0.0   \n",
       "..                         ...                             ...   \n",
       "972                        0.0                             0.0   \n",
       "973                        0.0                             0.0   \n",
       "974                        0.0                             0.0   \n",
       "975                        0.0                             0.0   \n",
       "976                        0.0                             0.0   \n",
       "\n",
       "     police fridaythoughts harden  fridaythoughts harden nbabubble  \n",
       "0                             0.0                              0.0  \n",
       "1                             0.0                              0.0  \n",
       "2                             0.0                              0.0  \n",
       "3                             0.0                              0.0  \n",
       "4                             0.0                              0.0  \n",
       "..                            ...                              ...  \n",
       "972                           0.0                              0.0  \n",
       "973                           0.0                              0.0  \n",
       "974                           0.0                              0.0  \n",
       "975                           0.0                              0.0  \n",
       "976                           0.0                              0.0  \n",
       "\n",
       "[977 rows x 54344 columns]"
      ]
     },
     "execution_count": 35,
     "metadata": {},
     "output_type": "execute_result"
    }
   ],
   "source": [
    "dfq1"
   ]
  },
  {
   "cell_type": "code",
   "execution_count": 37,
   "metadata": {},
   "outputs": [
    {
     "data": {
      "text/plain": [
       "3"
      ]
     },
     "execution_count": 37,
     "metadata": {},
     "output_type": "execute_result"
    }
   ],
   "source": [
    "dict_A=dict(zip(y_test,m))\n",
    "len(dict_A)"
   ]
  },
  {
   "cell_type": "code",
   "execution_count": 38,
   "metadata": {},
   "outputs": [],
   "source": [
    "Dataframe=pd.DataFrame(dict_A, index= ['sentiment']).T"
   ]
  },
  {
   "cell_type": "code",
   "execution_count": 39,
   "metadata": {},
   "outputs": [
    {
     "data": {
      "text/html": [
       "<div>\n",
       "<style scoped>\n",
       "    .dataframe tbody tr th:only-of-type {\n",
       "        vertical-align: middle;\n",
       "    }\n",
       "\n",
       "    .dataframe tbody tr th {\n",
       "        vertical-align: top;\n",
       "    }\n",
       "\n",
       "    .dataframe thead th {\n",
       "        text-align: right;\n",
       "    }\n",
       "</style>\n",
       "<table border=\"1\" class=\"dataframe\">\n",
       "  <thead>\n",
       "    <tr style=\"text-align: right;\">\n",
       "      <th></th>\n",
       "      <th>index</th>\n",
       "      <th>sentiment</th>\n",
       "    </tr>\n",
       "  </thead>\n",
       "  <tbody>\n",
       "    <tr>\n",
       "      <td>0</td>\n",
       "      <td>negative</td>\n",
       "      <td>chose never</td>\n",
       "    </tr>\n",
       "    <tr>\n",
       "      <td>1</td>\n",
       "      <td>positive</td>\n",
       "      <td>awakening wwg1wga</td>\n",
       "    </tr>\n",
       "    <tr>\n",
       "      <td>2</td>\n",
       "      <td>neutral</td>\n",
       "      <td>christopher columbus</td>\n",
       "    </tr>\n",
       "  </tbody>\n",
       "</table>\n",
       "</div>"
      ],
      "text/plain": [
       "      index             sentiment\n",
       "0  negative           chose never\n",
       "1  positive     awakening wwg1wga\n",
       "2   neutral  christopher columbus"
      ]
     },
     "execution_count": 39,
     "metadata": {},
     "output_type": "execute_result"
    }
   ],
   "source": [
    "dfs=Dataframe.reset_index()\n",
    "dfs"
   ]
  },
  {
   "cell_type": "code",
   "execution_count": 40,
   "metadata": {},
   "outputs": [
    {
     "data": {
      "text/plain": [
       "3"
      ]
     },
     "execution_count": 40,
     "metadata": {},
     "output_type": "execute_result"
    }
   ],
   "source": [
    "# dict_w= dict(zip(dict_A.values(),dict_A.keys()))\n",
    "next_list=[]\n",
    "for key in dict_A.keys():\n",
    "    if len(key)<1000:\n",
    "        next_list.append(key)\n",
    "len(next_list)\n"
   ]
  },
  {
   "cell_type": "code",
   "execution_count": null,
   "metadata": {},
   "outputs": [],
   "source": [
    "\n"
   ]
  },
  {
   "cell_type": "code",
   "execution_count": null,
   "metadata": {},
   "outputs": [],
   "source": []
  },
  {
   "cell_type": "markdown",
   "metadata": {},
   "source": [
    "### Classifying the tweets with a baseline + three models (RF,NB, SVM)"
   ]
  },
  {
   "cell_type": "markdown",
   "metadata": {},
   "source": [
    "#### Baseline Model"
   ]
  },
  {
   "cell_type": "code",
   "execution_count": 41,
   "metadata": {},
   "outputs": [],
   "source": [
    "#count vectorizing data for dummy classifier\n",
    "vec=CountVectorizer(stop_words=sw_set, ngram_range=(1,3), lowercase=True)\n",
    "X_b=vec.fit_transform(X_train)\n",
    "X_test_b=vec.transform(X_test)"
   ]
  },
  {
   "cell_type": "code",
   "execution_count": 42,
   "metadata": {},
   "outputs": [
    {
     "name": "stderr",
     "output_type": "stream",
     "text": [
      "/Users/jeffreyng/anaconda3/lib/python3.7/site-packages/sklearn/dummy.py:132: FutureWarning: The default value of strategy will change from stratified to prior in 0.24.\n",
      "  \"stratified to prior in 0.24.\", FutureWarning)\n"
     ]
    }
   ],
   "source": [
    "#fitting and predicting the dummy classifier (baseline model)\n",
    "from sklearn.dummy import DummyClassifier\n",
    "dclf = DummyClassifier() \n",
    "dclf.fit(X_b, y_train)\n",
    "y_preds_b=dclf.predict(X_test_b)"
   ]
  },
  {
   "cell_type": "code",
   "execution_count": 43,
   "metadata": {},
   "outputs": [
    {
     "name": "stdout",
     "output_type": "stream",
     "text": [
      "0.3623336745138178\n",
      "0.3660419976254192\n",
      "0.3623336745138178\n",
      "0.3637691620179502\n"
     ]
    }
   ],
   "source": [
    "#printing the evaluation metrics for the dummy classifier\n",
    "print(metrics.accuracy_score(y_test, y_preds_b))\n",
    "print(metrics.precision_score(y_test, y_preds_b, average='weighted'))\n",
    "print(metrics.recall_score(y_test, y_preds_b, average='weighted'))\n",
    "print(metrics.f1_score(y_test, y_preds_b, average='weighted'))\n"
   ]
  },
  {
   "cell_type": "markdown",
   "metadata": {},
   "source": [
    "#### Random Forest Model"
   ]
  },
  {
   "cell_type": "code",
   "execution_count": 44,
   "metadata": {},
   "outputs": [],
   "source": [
    "#initializing RandomForest \n",
    "rfc = RandomForestClassifier(n_estimators=200, criterion='entropy',random_state=0, n_jobs=-1)"
   ]
  },
  {
   "cell_type": "code",
   "execution_count": 45,
   "metadata": {},
   "outputs": [
    {
     "data": {
      "text/plain": [
       "RandomForestClassifier(criterion='entropy', n_estimators=200, n_jobs=-1,\n",
       "                       random_state=0)"
      ]
     },
     "execution_count": 45,
     "metadata": {},
     "output_type": "execute_result"
    }
   ],
   "source": [
    "#fitting model\n",
    "rfc.fit(tfidf_data_train_lem, y_train)"
   ]
  },
  {
   "cell_type": "code",
   "execution_count": 46,
   "metadata": {},
   "outputs": [
    {
     "data": {
      "text/plain": [
       "(977, 54344)"
      ]
     },
     "execution_count": 46,
     "metadata": {},
     "output_type": "execute_result"
    }
   ],
   "source": [
    "tfidf_data_test_lem.shape"
   ]
  },
  {
   "cell_type": "code",
   "execution_count": 47,
   "metadata": {},
   "outputs": [],
   "source": [
    "rfc_cv= RandomForestClassifier(n_estimators=200, criterion='entropy',random_state=0, n_jobs=-1)"
   ]
  },
  {
   "cell_type": "code",
   "execution_count": 48,
   "metadata": {},
   "outputs": [
    {
     "data": {
      "text/plain": [
       "RandomForestClassifier(criterion='entropy', n_estimators=200, n_jobs=-1,\n",
       "                       random_state=0)"
      ]
     },
     "execution_count": 48,
     "metadata": {},
     "output_type": "execute_result"
    }
   ],
   "source": [
    "rfc_cv.fit(X_b, y_train)"
   ]
  },
  {
   "cell_type": "code",
   "execution_count": 49,
   "metadata": {},
   "outputs": [],
   "source": [
    "rfc_cv_preds=rfc_cv.predict(X_test_b)"
   ]
  },
  {
   "cell_type": "code",
   "execution_count": 50,
   "metadata": {},
   "outputs": [
    {
     "name": "stdout",
     "output_type": "stream",
     "text": [
      "0.9160696008188332\n",
      "0.9188084316640254\n",
      "0.9160696008188332\n",
      "0.9166843399432864\n"
     ]
    }
   ],
   "source": [
    "print(metrics.accuracy_score(y_test, rfc_cv_preds))\n",
    "print(metrics.precision_score(y_test, rfc_cv_preds, average='weighted'))\n",
    "print(metrics.recall_score(y_test, rfc_cv_preds, average='weighted'))\n",
    "print(metrics.f1_score(y_test, rfc_cv_preds, average='weighted'))\n"
   ]
  },
  {
   "cell_type": "code",
   "execution_count": 51,
   "metadata": {},
   "outputs": [],
   "source": [
    "#predicting model\n",
    "rfc_preds= rfc.predict(tfidf_data_test_lem[0:700])\n",
    "rfc_preds_h= rfc.predict(tfidf_data_test_lem[700: ])"
   ]
  },
  {
   "cell_type": "code",
   "execution_count": 52,
   "metadata": {},
   "outputs": [
    {
     "name": "stdout",
     "output_type": "stream",
     "text": [
      "0.9014285714285715\n",
      "0.9059041638633476\n",
      "0.9014285714285715\n",
      "0.9024864439956664\n"
     ]
    }
   ],
   "source": [
    "#printing out evaluation metrics\n",
    "print(metrics.accuracy_score(y_test[0:700], rfc_preds))\n",
    "print(metrics.precision_score(y_test[0:700], rfc_preds, average='weighted'))\n",
    "print(metrics.recall_score(y_test[0:700], rfc_preds, average='weighted'))\n",
    "print(metrics.f1_score(y_test[0:700], rfc_preds, average='weighted'))\n",
    "\n"
   ]
  },
  {
   "cell_type": "code",
   "execution_count": 53,
   "metadata": {},
   "outputs": [
    {
     "name": "stdout",
     "output_type": "stream",
     "text": [
      "0.8808664259927798\n",
      "0.8952632813146383\n",
      "0.8808664259927798\n",
      "0.8850533395514861\n"
     ]
    }
   ],
   "source": [
    "#printing out evaluation metrics\n",
    "print(metrics.accuracy_score(y_test[700: ], rfc_preds_h))\n",
    "print(metrics.precision_score(y_test[700: ], rfc_preds_h, average='weighted'))\n",
    "print(metrics.recall_score(y_test[700: ], rfc_preds_h, average='weighted'))\n",
    "print(metrics.f1_score(y_test[700: ], rfc_preds_h, average='weighted'))"
   ]
  },
  {
   "cell_type": "code",
   "execution_count": null,
   "metadata": {},
   "outputs": [],
   "source": [
    "\n",
    "\n"
   ]
  },
  {
   "cell_type": "code",
   "execution_count": 55,
   "metadata": {},
   "outputs": [
    {
     "data": {
      "text/plain": [
       "negative    453\n",
       "positive    366\n",
       "neutral     158\n",
       "Name: comp4, dtype: int64"
      ]
     },
     "execution_count": 55,
     "metadata": {},
     "output_type": "execute_result"
    }
   ],
   "source": [
    "#a comparison of the counts of prediction and actual \n",
    "pd.Series(y_test).value_counts()"
   ]
  },
  {
   "cell_type": "code",
   "execution_count": 56,
   "metadata": {},
   "outputs": [
    {
     "data": {
      "image/png": "[encoded data removed]",
      "text/plain": [
       "<Figure size 432x288 with 1 Axes>"
      ]
     },
     "metadata": {},
     "output_type": "display_data"
    }
   ],
   "source": [
    "#confusion matrix\n",
    "from sklearn.metrics import confusion_matrix\n",
    "import seaborn as sns; sns.set()\n",
    "\n",
    "\n",
    "mat = confusion_matrix(y_test[0:700], rfc_preds)\n",
    "sns.heatmap(mat.T, square=True, annot=True, fmt='d', cbar=False,\n",
    "            xticklabels=['positive', 'neutral', 'negative'], yticklabels=['positive', 'neutral', 'negative'])\n",
    "plt.xlabel('true label')\n",
    "plt.ylabel('predicted label');"
   ]
  },
  {
   "cell_type": "code",
   "execution_count": 130,
   "metadata": {},
   "outputs": [
    {
     "data": {
      "image/png": "[encoded data removed]",
      "text/plain": [
       "<Figure size 432x288 with 1 Axes>"
      ]
     },
     "metadata": {},
     "output_type": "display_data"
    }
   ],
   "source": [
    "feat_importances= pd.Series(rfc.feature_importances_,index=tfidf.vocabulary_)\n",
    "feat_importances.nlargest(15).sort_values().plot(kind='barh')\n",
    "plt.savefig('RFC_feature_importance.png')"
   ]
  },
  {
   "cell_type": "code",
   "execution_count": null,
   "metadata": {},
   "outputs": [],
   "source": []
  },
  {
   "cell_type": "markdown",
   "metadata": {},
   "source": [
    "#### Multinomial Naive Bayes Model"
   ]
  },
  {
   "cell_type": "code",
   "execution_count": 58,
   "metadata": {},
   "outputs": [],
   "source": [
    "#Naive Bayes Classifier \n",
    "from sklearn.naive_bayes import MultinomialNB\n",
    "clf = MultinomialNB(alpha=.01, fit_prior=False)"
   ]
  },
  {
   "cell_type": "code",
   "execution_count": 59,
   "metadata": {},
   "outputs": [
    {
     "data": {
      "text/plain": [
       "MultinomialNB(alpha=0.01, fit_prior=False)"
      ]
     },
     "execution_count": 59,
     "metadata": {},
     "output_type": "execute_result"
    }
   ],
   "source": [
    "#fitting model with tf_idf vectorized data\n",
    "clf.fit(tfidf_data_train_lem, y_train)"
   ]
  },
  {
   "cell_type": "code",
   "execution_count": 60,
   "metadata": {},
   "outputs": [],
   "source": [
    "#predicting model\n",
    "\n",
    "clf_preds= clf.predict(tfidf_data_test_lem[0:700])\n",
    "clf_preds_h= clf.predict(tfidf_data_test_lem[700: ])"
   ]
  },
  {
   "cell_type": "code",
   "execution_count": 61,
   "metadata": {},
   "outputs": [
    {
     "name": "stdout",
     "output_type": "stream",
     "text": [
      "0.8828571428571429\n",
      "0.8832208473916602\n",
      "0.8828571428571429\n",
      "0.8826476413209717\n"
     ]
    }
   ],
   "source": [
    "#evaluation metrics\n",
    "print(metrics.accuracy_score(y_test[0:700], clf_preds))\n",
    "print(metrics.precision_score(y_test[0:700], clf_preds, average='weighted'))\n",
    "print(metrics.recall_score(y_test[0:700], clf_preds, average='weighted'))\n",
    "print(metrics.f1_score(y_test[0:700], clf_preds, average='weighted'))"
   ]
  },
  {
   "cell_type": "code",
   "execution_count": 62,
   "metadata": {},
   "outputs": [
    {
     "name": "stdout",
     "output_type": "stream",
     "text": [
      "0.8844765342960289\n",
      "0.8852899411314036\n",
      "0.8844765342960289\n",
      "0.8842972510317945\n"
     ]
    }
   ],
   "source": [
    "print(metrics.accuracy_score(y_test[700: ], clf_preds_h))\n",
    "print(metrics.precision_score(y_test[700: ], clf_preds_h, average='weighted'))\n",
    "print(metrics.recall_score(y_test[700: ], clf_preds_h, average='weighted'))\n",
    "print(metrics.f1_score(y_test[700: ], clf_preds_h, average='weighted'))"
   ]
  },
  {
   "cell_type": "code",
   "execution_count": 63,
   "metadata": {},
   "outputs": [
    {
     "data": {
      "image/png": "[encoded data removed]",
      "text/plain": [
       "<Figure size 432x288 with 1 Axes>"
      ]
     },
     "metadata": {},
     "output_type": "display_data"
    }
   ],
   "source": [
    "#confusion matrix\n",
    "from sklearn.metrics import confusion_matrix\n",
    "import seaborn as sns; sns.set()\n",
    "\n",
    "\n",
    "mat = confusion_matrix(y_test[0:700], clf_preds)\n",
    "sns.heatmap(mat.T, square=True, annot=True, fmt='d', cbar=False,\n",
    "            xticklabels=['positive', 'neutral', 'negative'], yticklabels=['positive', 'neutral', 'negative'])\n",
    "plt.xlabel('true label')\n",
    "plt.ylabel('predicted label');"
   ]
  },
  {
   "cell_type": "markdown",
   "metadata": {},
   "source": [
    "#### SVM Model"
   ]
  },
  {
   "cell_type": "code",
   "execution_count": 64,
   "metadata": {},
   "outputs": [],
   "source": [
    "#starting SVM model\n",
    "from sklearn import svm"
   ]
  },
  {
   "cell_type": "code",
   "execution_count": 65,
   "metadata": {},
   "outputs": [],
   "source": [
    "#setting hyperparameters for the SVM model\n",
    "svm_clf = svm.SVC(kernel='linear', C=10, class_weight='balanced')"
   ]
  },
  {
   "cell_type": "code",
   "execution_count": 66,
   "metadata": {},
   "outputs": [
    {
     "data": {
      "text/plain": [
       "SVC(C=10, class_weight='balanced', kernel='linear')"
      ]
     },
     "execution_count": 66,
     "metadata": {},
     "output_type": "execute_result"
    }
   ],
   "source": [
    "#fitting the SVM model\n",
    "svm_clf.fit(tfidf_data_train_lem, y_train)"
   ]
  },
  {
   "cell_type": "code",
   "execution_count": 67,
   "metadata": {},
   "outputs": [],
   "source": [
    "#predicting the classification with SVM\n",
    "svm_preds=svm_clf.predict(tfidf_data_test_lem[0:700])\n",
    "svm_preds_h=svm_clf.predict(tfidf_data_test_lem[700: ])"
   ]
  },
  {
   "cell_type": "code",
   "execution_count": 68,
   "metadata": {},
   "outputs": [
    {
     "name": "stdout",
     "output_type": "stream",
     "text": [
      "0.91\n",
      "0.9107326099083264\n",
      "0.91\n",
      "0.9093740379123554\n"
     ]
    }
   ],
   "source": [
    "#Evaluation metrics\n",
    "print(metrics.accuracy_score(y_test[0:700], svm_preds))\n",
    "print(metrics.precision_score(y_test[0:700], svm_preds, average='weighted'))\n",
    "print(metrics.recall_score(y_test[0:700], svm_preds, average='weighted'))\n",
    "print(metrics.f1_score(y_test[0:700], svm_preds, average='weighted'))"
   ]
  },
  {
   "cell_type": "code",
   "execution_count": 69,
   "metadata": {},
   "outputs": [
    {
     "name": "stdout",
     "output_type": "stream",
     "text": [
      "0.9061371841155235\n",
      "0.9063950489943269\n",
      "0.9061371841155235\n",
      "0.9057082358075139\n"
     ]
    }
   ],
   "source": [
    "print(metrics.accuracy_score(y_test[700: ], svm_preds_h))\n",
    "print(metrics.precision_score(y_test[700: ], svm_preds_h, average='weighted'))\n",
    "print(metrics.recall_score(y_test[700: ], svm_preds_h, average='weighted'))\n",
    "print(metrics.f1_score(y_test[700: ], svm_preds_h, average='weighted'))"
   ]
  },
  {
   "cell_type": "code",
   "execution_count": 70,
   "metadata": {},
   "outputs": [],
   "source": [
    "svm_clf_cv=svm.SVC(kernel='linear', C=10, class_weight='balanced')"
   ]
  },
  {
   "cell_type": "code",
   "execution_count": 71,
   "metadata": {},
   "outputs": [
    {
     "data": {
      "text/plain": [
       "SVC(C=10, class_weight='balanced', kernel='linear')"
      ]
     },
     "execution_count": 71,
     "metadata": {},
     "output_type": "execute_result"
    }
   ],
   "source": [
    "svm_clf_cv.fit(X_b, y_train)"
   ]
  },
  {
   "cell_type": "code",
   "execution_count": 72,
   "metadata": {},
   "outputs": [],
   "source": [
    "svm_clf_cv_preds=svm_clf_cv.predict(X_test_b)"
   ]
  },
  {
   "cell_type": "code",
   "execution_count": 73,
   "metadata": {},
   "outputs": [
    {
     "name": "stdout",
     "output_type": "stream",
     "text": [
      "0.8955987717502559\n",
      "0.9050582406986623\n",
      "0.8955987717502559\n",
      "0.8971948483402842\n"
     ]
    }
   ],
   "source": [
    "print(metrics.accuracy_score(y_test, svm_clf_cv_preds))\n",
    "print(metrics.precision_score(y_test, svm_clf_cv_preds, average='weighted'))\n",
    "print(metrics.recall_score(y_test, svm_clf_cv_preds, average='weighted'))\n",
    "print(metrics.f1_score(y_test, svm_clf_cv_preds, average='weighted'))"
   ]
  },
  {
   "cell_type": "markdown",
   "metadata": {},
   "source": [
    "## Getting the SVM coefficients of the count_vectorized data"
   ]
  },
  {
   "cell_type": "code",
   "execution_count": 74,
   "metadata": {},
   "outputs": [],
   "source": [
    "svm_clf_cv.coef_.T.shape\n",
    "data4=vec.get_feature_names()"
   ]
  },
  {
   "cell_type": "code",
   "execution_count": 75,
   "metadata": {},
   "outputs": [],
   "source": [
    "df_CV=pd.DataFrame(svm_clf.coef_.T.todense(), index= data4)"
   ]
  },
  {
   "cell_type": "code",
   "execution_count": 76,
   "metadata": {},
   "outputs": [
    {
     "data": {
      "text/html": [
       "<div>\n",
       "<style scoped>\n",
       "    .dataframe tbody tr th:only-of-type {\n",
       "        vertical-align: middle;\n",
       "    }\n",
       "\n",
       "    .dataframe tbody tr th {\n",
       "        vertical-align: top;\n",
       "    }\n",
       "\n",
       "    .dataframe thead th {\n",
       "        text-align: right;\n",
       "    }\n",
       "</style>\n",
       "<table border=\"1\" class=\"dataframe\">\n",
       "  <thead>\n",
       "    <tr style=\"text-align: right;\">\n",
       "      <th></th>\n",
       "      <th>0</th>\n",
       "      <th>1</th>\n",
       "      <th>2</th>\n",
       "    </tr>\n",
       "  </thead>\n",
       "  <tbody>\n",
       "    <tr>\n",
       "      <td>000</td>\n",
       "      <td>0.042496</td>\n",
       "      <td>-0.324458</td>\n",
       "      <td>-0.340698</td>\n",
       "    </tr>\n",
       "    <tr>\n",
       "      <td>000 federal</td>\n",
       "      <td>0.048293</td>\n",
       "      <td>0.072245</td>\n",
       "      <td>0.000000</td>\n",
       "    </tr>\n",
       "    <tr>\n",
       "      <td>000 federal inmates</td>\n",
       "      <td>0.048293</td>\n",
       "      <td>0.072245</td>\n",
       "      <td>0.000000</td>\n",
       "    </tr>\n",
       "    <tr>\n",
       "      <td>000 get</td>\n",
       "      <td>0.000000</td>\n",
       "      <td>-0.144570</td>\n",
       "      <td>-0.121842</td>\n",
       "    </tr>\n",
       "    <tr>\n",
       "      <td>000 get help</td>\n",
       "      <td>0.000000</td>\n",
       "      <td>-0.144570</td>\n",
       "      <td>-0.121842</td>\n",
       "    </tr>\n",
       "    <tr>\n",
       "      <td>...</td>\n",
       "      <td>...</td>\n",
       "      <td>...</td>\n",
       "      <td>...</td>\n",
       "    </tr>\n",
       "    <tr>\n",
       "      <td>سرايا_السلام pic</td>\n",
       "      <td>0.078378</td>\n",
       "      <td>0.089542</td>\n",
       "      <td>0.000000</td>\n",
       "    </tr>\n",
       "    <tr>\n",
       "      <td>سرايا_السلام pic zmruclqlf2</td>\n",
       "      <td>0.078378</td>\n",
       "      <td>0.089542</td>\n",
       "      <td>0.000000</td>\n",
       "    </tr>\n",
       "    <tr>\n",
       "      <td>태민아_짝궁들이_생일축하한대</td>\n",
       "      <td>-0.243570</td>\n",
       "      <td>0.000000</td>\n",
       "      <td>0.264452</td>\n",
       "    </tr>\n",
       "    <tr>\n",
       "      <td>태민아_짝궁들이_생일축하한대 pic</td>\n",
       "      <td>-0.243570</td>\n",
       "      <td>0.000000</td>\n",
       "      <td>0.264452</td>\n",
       "    </tr>\n",
       "    <tr>\n",
       "      <td>태민아_짝궁들이_생일축하한대 pic l2ar2i7vm0</td>\n",
       "      <td>-0.243570</td>\n",
       "      <td>0.000000</td>\n",
       "      <td>0.264452</td>\n",
       "    </tr>\n",
       "  </tbody>\n",
       "</table>\n",
       "<p>54344 rows × 3 columns</p>\n",
       "</div>"
      ],
      "text/plain": [
       "                                       0         1         2\n",
       "000                             0.042496 -0.324458 -0.340698\n",
       "000 federal                     0.048293  0.072245  0.000000\n",
       "000 federal inmates             0.048293  0.072245  0.000000\n",
       "000 get                         0.000000 -0.144570 -0.121842\n",
       "000 get help                    0.000000 -0.144570 -0.121842\n",
       "...                                  ...       ...       ...\n",
       "سرايا_السلام pic                0.078378  0.089542  0.000000\n",
       "سرايا_السلام pic zmruclqlf2     0.078378  0.089542  0.000000\n",
       "태민아_짝궁들이_생일축하한대                -0.243570  0.000000  0.264452\n",
       "태민아_짝궁들이_생일축하한대 pic            -0.243570  0.000000  0.264452\n",
       "태민아_짝궁들이_생일축하한대 pic l2ar2i7vm0 -0.243570  0.000000  0.264452\n",
       "\n",
       "[54344 rows x 3 columns]"
      ]
     },
     "execution_count": 76,
     "metadata": {},
     "output_type": "execute_result"
    }
   ],
   "source": [
    "df_CV"
   ]
  },
  {
   "cell_type": "code",
   "execution_count": 77,
   "metadata": {},
   "outputs": [
    {
     "data": {
      "text/plain": [
       "<matplotlib.axes._subplots.AxesSubplot at 0x7febfa2bbd90>"
      ]
     },
     "execution_count": 77,
     "metadata": {},
     "output_type": "execute_result"
    },
    {
     "data": {
      "image/png": "[encoded data removed]",
      "text/plain": [
       "<Figure size 432x288 with 1 Axes>"
      ]
     },
     "metadata": {},
     "output_type": "display_data"
    }
   ],
   "source": [
    "df_CV[0].sort_values(ascending=False).head(10).plot(kind='bar', cmap='Spectral')"
   ]
  },
  {
   "cell_type": "code",
   "execution_count": 78,
   "metadata": {},
   "outputs": [
    {
     "data": {
      "text/plain": [
       "<matplotlib.axes._subplots.AxesSubplot at 0x7febe9b324d0>"
      ]
     },
     "execution_count": 78,
     "metadata": {},
     "output_type": "execute_result"
    },
    {
     "data": {
      "image/png": "[encoded data removed]",
      "text/plain": [
       "<Figure size 432x288 with 1 Axes>"
      ]
     },
     "metadata": {},
     "output_type": "display_data"
    }
   ],
   "source": [
    "df_CV[1].sort_values(ascending=False).head(10).plot(kind='bar', cmap='Spectral')"
   ]
  },
  {
   "cell_type": "code",
   "execution_count": 79,
   "metadata": {},
   "outputs": [
    {
     "data": {
      "text/plain": [
       "<matplotlib.axes._subplots.AxesSubplot at 0x7febbfdde210>"
      ]
     },
     "execution_count": 79,
     "metadata": {},
     "output_type": "execute_result"
    },
    {
     "data": {
      "image/png": "[encoded data removed]",
      "text/plain": [
       "<Figure size 432x288 with 1 Axes>"
      ]
     },
     "metadata": {},
     "output_type": "display_data"
    }
   ],
   "source": [
    "df_CV[2].sort_values(ascending=False).head(10).plot(kind='bar', cmap='Spectral')"
   ]
  },
  {
   "cell_type": "markdown",
   "metadata": {},
   "source": [
    "## Getting the SVM coefficients for each class "
   ]
  },
  {
   "cell_type": "code",
   "execution_count": null,
   "metadata": {},
   "outputs": [],
   "source": []
  },
  {
   "cell_type": "code",
   "execution_count": 80,
   "metadata": {},
   "outputs": [],
   "source": [
    "svm_clf=svm.SVC(kernel='linear', C=10)"
   ]
  },
  {
   "cell_type": "code",
   "execution_count": 81,
   "metadata": {},
   "outputs": [
    {
     "data": {
      "text/plain": [
       "SVC(C=10, kernel='linear')"
      ]
     },
     "execution_count": 81,
     "metadata": {},
     "output_type": "execute_result"
    }
   ],
   "source": [
    "svm_clf.fit(tfidf_data_train_lem, y_train)"
   ]
  },
  {
   "cell_type": "code",
   "execution_count": 82,
   "metadata": {},
   "outputs": [],
   "source": [
    "svm_clf.coef_.T.shape\n",
    "data3=tfidf.get_feature_names()"
   ]
  },
  {
   "cell_type": "code",
   "execution_count": 83,
   "metadata": {},
   "outputs": [
    {
     "data": {
      "text/plain": [
       "54344"
      ]
     },
     "execution_count": 83,
     "metadata": {},
     "output_type": "execute_result"
    }
   ],
   "source": [
    "len(data3)"
   ]
  },
  {
   "cell_type": "code",
   "execution_count": 84,
   "metadata": {},
   "outputs": [
    {
     "data": {
      "text/plain": [
       "(54344, 3)"
      ]
     },
     "execution_count": 84,
     "metadata": {},
     "output_type": "execute_result"
    }
   ],
   "source": [
    "svm_clf.coef_.T.shape"
   ]
  },
  {
   "cell_type": "code",
   "execution_count": 85,
   "metadata": {},
   "outputs": [],
   "source": [
    "data2=pd.DataFrame(svm_clf.coef_.T.todense(), index= data3)\n",
    "\n",
    "data2.rename(columns={0:'positive', 1:'negative', 2:'neutral'}, inplace=True)\n"
   ]
  },
  {
   "cell_type": "code",
   "execution_count": 86,
   "metadata": {},
   "outputs": [
    {
     "data": {
      "text/plain": [
       "<matplotlib.axes._subplots.AxesSubplot at 0x7febe9c745d0>"
      ]
     },
     "execution_count": 86,
     "metadata": {},
     "output_type": "execute_result"
    },
    {
     "data": {
      "image/png": "[encoded data removed]",
      "text/plain": [
       "<Figure size 432x288 with 1 Axes>"
      ]
     },
     "metadata": {},
     "output_type": "display_data"
    }
   ],
   "source": [
    "data2['positive'].sort_values(ascending=False).head(7).plot(kind='bar', cmap='Spectral')\n"
   ]
  },
  {
   "cell_type": "code",
   "execution_count": 87,
   "metadata": {},
   "outputs": [
    {
     "data": {
      "text/plain": [
       "<matplotlib.axes._subplots.AxesSubplot at 0x7febc1066690>"
      ]
     },
     "execution_count": 87,
     "metadata": {},
     "output_type": "execute_result"
    },
    {
     "data": {
      "image/png": "[encoded data removed]",
      "text/plain": [
       "<Figure size 432x288 with 1 Axes>"
      ]
     },
     "metadata": {},
     "output_type": "display_data"
    }
   ],
   "source": [
    "data2['negative'].sort_values(ascending=False).head(7).plot(kind='bar', color = '#B4CDCD')"
   ]
  },
  {
   "cell_type": "code",
   "execution_count": 88,
   "metadata": {},
   "outputs": [
    {
     "data": {
      "text/plain": [
       "<matplotlib.axes._subplots.AxesSubplot at 0x7febea03ce50>"
      ]
     },
     "execution_count": 88,
     "metadata": {},
     "output_type": "execute_result"
    },
    {
     "data": {
      "image/png": "[encoded data removed]",
      "text/plain": [
       "<Figure size 432x288 with 1 Axes>"
      ]
     },
     "metadata": {},
     "output_type": "display_data"
    }
   ],
   "source": [
    "data2['neutral'].sort_values(ascending=False).head(7).plot(kind='bar', color= '#4169E1' )"
   ]
  },
  {
   "cell_type": "code",
   "execution_count": null,
   "metadata": {},
   "outputs": [],
   "source": []
  },
  {
   "cell_type": "code",
   "execution_count": 89,
   "metadata": {},
   "outputs": [],
   "source": [
    "# result=pd.read_csv('twitter.csv')"
   ]
  },
  {
   "cell_type": "code",
   "execution_count": 90,
   "metadata": {},
   "outputs": [],
   "source": [
    "# result['tweet']"
   ]
  },
  {
   "cell_type": "code",
   "execution_count": 91,
   "metadata": {},
   "outputs": [],
   "source": [
    "# result_main= result[result['language']=='en']"
   ]
  },
  {
   "cell_type": "code",
   "execution_count": 92,
   "metadata": {},
   "outputs": [],
   "source": [
    "# result_main['language'].value_counts()"
   ]
  },
  {
   "cell_type": "code",
   "execution_count": 93,
   "metadata": {},
   "outputs": [],
   "source": [
    "# holdout_result=NLP_process(result_main['tweet'])"
   ]
  },
  {
   "cell_type": "code",
   "execution_count": 94,
   "metadata": {},
   "outputs": [],
   "source": [
    "# c= [analyser.polarity_scores(x) for x in result_main['tweet']]"
   ]
  },
  {
   "cell_type": "code",
   "execution_count": 95,
   "metadata": {},
   "outputs": [],
   "source": [
    "# d= [x.items() for x in a]"
   ]
  },
  {
   "cell_type": "code",
   "execution_count": 96,
   "metadata": {},
   "outputs": [],
   "source": [
    "# data2=pd.DataFrame(d, columns= ['neg', 'neu', 'pos', 'comp'])"
   ]
  },
  {
   "cell_type": "code",
   "execution_count": 97,
   "metadata": {},
   "outputs": [],
   "source": [
    "# e = data2['comp']"
   ]
  },
  {
   "cell_type": "code",
   "execution_count": 98,
   "metadata": {},
   "outputs": [],
   "source": [
    "# data2['comp2']= [score[1] for score in e]"
   ]
  },
  {
   "cell_type": "code",
   "execution_count": 99,
   "metadata": {},
   "outputs": [],
   "source": [
    "# data2['comp2']= data2['comp2'].round(3)"
   ]
  },
  {
   "cell_type": "code",
   "execution_count": 100,
   "metadata": {},
   "outputs": [],
   "source": [
    "#converting the vader scores into something easier to manipulate so that I can generate \n",
    "#three distinct classes\n",
    "# col         = 'comp2'\n",
    "# conditions  = [ data2[col] >= .05, (data2[col] < .05) & (data2[col]> -.05), data2[col] <= -.05 ]\n",
    "# choices     = [ 1, 0, -1 ]\n",
    "# data2[\"comp3\"] = np.select(conditions, choices, default=np.nan)"
   ]
  },
  {
   "cell_type": "code",
   "execution_count": 101,
   "metadata": {},
   "outputs": [],
   "source": [
    "# data2['comp4']= data2['comp3'].map({-1:'negative', 0: 'neutral', 1:'positive'})"
   ]
  },
  {
   "cell_type": "code",
   "execution_count": 102,
   "metadata": {},
   "outputs": [],
   "source": [
    "# data2['comp4'].value_counts()"
   ]
  },
  {
   "cell_type": "code",
   "execution_count": 103,
   "metadata": {},
   "outputs": [],
   "source": [
    "# y_holdout=data2['comp4']"
   ]
  },
  {
   "cell_type": "code",
   "execution_count": 104,
   "metadata": {},
   "outputs": [],
   "source": [
    "# X_holdout=result['tweet']"
   ]
  },
  {
   "cell_type": "code",
   "execution_count": 105,
   "metadata": {},
   "outputs": [],
   "source": [
    "# tfidf = TfidfVectorizer(stop_words='english', ngram_range=(1,2), lowercase=True)\n",
    "# tfidf_holdout_set = tfidf.fit_transform(X_holdout)\n",
    "# # tfidf_holdout_set = tfidf.transform(X_holdout)\n",
    "\n",
    "# # tfidf_data_train_lem\n",
    "# dfq1 = pd.DataFrame(tfidf_holdout_set.toarray().transpose(),\n",
    "#                  index = tfidf.get_feature_names())"
   ]
  },
  {
   "cell_type": "markdown",
   "metadata": {},
   "source": [
    "# The rest of NB deals with advanced NLP topics"
   ]
  },
  {
   "cell_type": "code",
   "execution_count": 106,
   "metadata": {},
   "outputs": [],
   "source": [
    "import spacy\n",
    "import pandas as pd\n",
    "import numpy as np\n",
    "from tqdm import tqdm"
   ]
  },
  {
   "cell_type": "code",
   "execution_count": 107,
   "metadata": {},
   "outputs": [
    {
     "name": "stderr",
     "output_type": "stream",
     "text": [
      "/Users/jeffreyng/anaconda3/lib/python3.7/site-packages/tqdm/std.py:668: FutureWarning: The Panel class is removed from pandas. Accessing it from the top-level namespace will also be removed in the next version\n",
      "  from pandas import Panel\n"
     ]
    }
   ],
   "source": [
    "tqdm.pandas()"
   ]
  },
  {
   "cell_type": "code",
   "execution_count": 108,
   "metadata": {},
   "outputs": [
    {
     "data": {
      "text/html": [
       "<div>\n",
       "<style scoped>\n",
       "    .dataframe tbody tr th:only-of-type {\n",
       "        vertical-align: middle;\n",
       "    }\n",
       "\n",
       "    .dataframe tbody tr th {\n",
       "        vertical-align: top;\n",
       "    }\n",
       "\n",
       "    .dataframe thead th {\n",
       "        text-align: right;\n",
       "    }\n",
       "</style>\n",
       "<table border=\"1\" class=\"dataframe\">\n",
       "  <thead>\n",
       "    <tr style=\"text-align: right;\">\n",
       "      <th></th>\n",
       "      <th>tweet</th>\n",
       "      <th>language</th>\n",
       "      <th>comp4</th>\n",
       "    </tr>\n",
       "  </thead>\n",
       "  <tbody>\n",
       "    <tr>\n",
       "      <td>0</td>\n",
       "      <td>https://twitter.com/drawandstrike/status/1279...</td>\n",
       "      <td>en</td>\n",
       "      <td>negative</td>\n",
       "    </tr>\n",
       "    <tr>\n",
       "      <td>1</td>\n",
       "      <td>RACISM IS THE IDOL THAT FEEDS THE  BEAST OF #b...</td>\n",
       "      <td>en</td>\n",
       "      <td>negative</td>\n",
       "    </tr>\n",
       "    <tr>\n",
       "      <td>2</td>\n",
       "      <td>Powerful picture of the REAL state of race rel...</td>\n",
       "      <td>en</td>\n",
       "      <td>positive</td>\n",
       "    </tr>\n",
       "    <tr>\n",
       "      <td>3</td>\n",
       "      <td>Looks like yet another black criminal dealt wi...</td>\n",
       "      <td>en</td>\n",
       "      <td>negative</td>\n",
       "    </tr>\n",
       "    <tr>\n",
       "      <td>4</td>\n",
       "      <td>I SAW YOU ON THE NEWS, KNOW THE TRUTH AND YOUR...</td>\n",
       "      <td>en</td>\n",
       "      <td>positive</td>\n",
       "    </tr>\n",
       "    <tr>\n",
       "      <td>...</td>\n",
       "      <td>...</td>\n",
       "      <td>...</td>\n",
       "      <td>...</td>\n",
       "    </tr>\n",
       "    <tr>\n",
       "      <td>7131</td>\n",
       "      <td>For all the #AllLivesMatter people.. I’m gonna...</td>\n",
       "      <td>en</td>\n",
       "      <td>negative</td>\n",
       "    </tr>\n",
       "    <tr>\n",
       "      <td>7133</td>\n",
       "      <td>@ericgarcetti  what did you expect moron? we'r...</td>\n",
       "      <td>en</td>\n",
       "      <td>negative</td>\n",
       "    </tr>\n",
       "    <tr>\n",
       "      <td>7134</td>\n",
       "      <td>Does that mean #DementiaJoe is saying #AllLive...</td>\n",
       "      <td>en</td>\n",
       "      <td>negative</td>\n",
       "    </tr>\n",
       "    <tr>\n",
       "      <td>7135</td>\n",
       "      <td>#PaperMario #PaperMarioTheOrigamiKing #Nintend...</td>\n",
       "      <td>en</td>\n",
       "      <td>positive</td>\n",
       "    </tr>\n",
       "    <tr>\n",
       "      <td>7136</td>\n",
       "      <td>pic.twitter.com/Q1HTj0C8db you can sue for mi...</td>\n",
       "      <td>en</td>\n",
       "      <td>positive</td>\n",
       "    </tr>\n",
       "  </tbody>\n",
       "</table>\n",
       "<p>4881 rows × 3 columns</p>\n",
       "</div>"
      ],
      "text/plain": [
       "                                                  tweet language     comp4\n",
       "0      https://twitter.com/drawandstrike/status/1279...       en  negative\n",
       "1     RACISM IS THE IDOL THAT FEEDS THE  BEAST OF #b...       en  negative\n",
       "2     Powerful picture of the REAL state of race rel...       en  positive\n",
       "3     Looks like yet another black criminal dealt wi...       en  negative\n",
       "4     I SAW YOU ON THE NEWS, KNOW THE TRUTH AND YOUR...       en  positive\n",
       "...                                                 ...      ...       ...\n",
       "7131  For all the #AllLivesMatter people.. I’m gonna...       en  negative\n",
       "7133  @ericgarcetti  what did you expect moron? we'r...       en  negative\n",
       "7134  Does that mean #DementiaJoe is saying #AllLive...       en  negative\n",
       "7135  #PaperMario #PaperMarioTheOrigamiKing #Nintend...       en  positive\n",
       "7136   pic.twitter.com/Q1HTj0C8db you can sue for mi...       en  positive\n",
       "\n",
       "[4881 rows x 3 columns]"
      ]
     },
     "execution_count": 108,
     "metadata": {},
     "output_type": "execute_result"
    }
   ],
   "source": [
    "Work_data"
   ]
  },
  {
   "cell_type": "markdown",
   "metadata": {},
   "source": [
    "## Attempting to use SpaCY"
   ]
  },
  {
   "cell_type": "code",
   "execution_count": 109,
   "metadata": {},
   "outputs": [],
   "source": [
    "nlp = spacy.load('en_core_web_md')"
   ]
  },
  {
   "cell_type": "code",
   "execution_count": 110,
   "metadata": {},
   "outputs": [
    {
     "name": "stderr",
     "output_type": "stream",
     "text": [
      "/Users/jeffreyng/anaconda3/lib/python3.7/site-packages/ipykernel_launcher.py:1: SettingWithCopyWarning: \n",
      "A value is trying to be set on a copy of a slice from a DataFrame.\n",
      "Try using .loc[row_indexer,col_indexer] = value instead\n",
      "\n",
      "See the caveats in the documentation: http://pandas.pydata.org/pandas-docs/stable/user_guide/indexing.html#returning-a-view-versus-a-copy\n",
      "  \"\"\"Entry point for launching an IPython kernel.\n"
     ]
    }
   ],
   "source": [
    "Work_data['spacy_txt'] = [nlp(x) for x in Work_data['tweet']]"
   ]
  },
  {
   "cell_type": "code",
   "execution_count": 111,
   "metadata": {},
   "outputs": [
    {
     "name": "stderr",
     "output_type": "stream",
     "text": [
      "/Users/jeffreyng/anaconda3/lib/python3.7/site-packages/ipykernel_launcher.py:2: SettingWithCopyWarning: \n",
      "A value is trying to be set on a copy of a slice from a DataFrame.\n",
      "Try using .loc[row_indexer,col_indexer] = value instead\n",
      "\n",
      "See the caveats in the documentation: http://pandas.pydata.org/pandas-docs/stable/user_guide/indexing.html#returning-a-view-versus-a-copy\n",
      "  \n"
     ]
    }
   ],
   "source": [
    "#made a column containing a spacy object\n",
    "Work_data['spacy_y']= [nlp(x) for x in Work_data['comp4']]"
   ]
  },
  {
   "cell_type": "code",
   "execution_count": 112,
   "metadata": {},
   "outputs": [
    {
     "ename": "NameError",
     "evalue": "name 'nlp_df' is not defined",
     "output_type": "error",
     "traceback": [
      "\u001b[0;31m---------------------------------------------------------------------------\u001b[0m",
      "\u001b[0;31mNameError\u001b[0m                                 Traceback (most recent call last)",
      "\u001b[0;32m<ipython-input-112-983e040412a7>\u001b[0m in \u001b[0;36m<module>\u001b[0;34m\u001b[0m\n\u001b[1;32m      1\u001b[0m \u001b[0mcorpus\u001b[0m \u001b[0;34m=\u001b[0m \u001b[0;34m[\u001b[0m\u001b[0;34m]\u001b[0m\u001b[0;34m\u001b[0m\u001b[0;34m\u001b[0m\u001b[0m\n\u001b[0;32m----> 2\u001b[0;31m \u001b[0;32mfor\u001b[0m \u001b[0mdoc\u001b[0m \u001b[0;32min\u001b[0m \u001b[0mnlp_df\u001b[0m\u001b[0;34m.\u001b[0m\u001b[0mclean_tweet\u001b[0m\u001b[0;34m:\u001b[0m\u001b[0;34m\u001b[0m\u001b[0;34m\u001b[0m\u001b[0m\n\u001b[0m\u001b[1;32m      3\u001b[0m     \u001b[0md\u001b[0m \u001b[0;34m=\u001b[0m \u001b[0;34m(\u001b[0m\u001b[0mlist\u001b[0m\u001b[0;34m(\u001b[0m\u001b[0mfilter\u001b[0m\u001b[0;34m(\u001b[0m\u001b[0;32mlambda\u001b[0m \u001b[0mx\u001b[0m\u001b[0;34m:\u001b[0m \u001b[0mx\u001b[0m\u001b[0;34m.\u001b[0m\u001b[0mis_stop\u001b[0m\u001b[0;34m==\u001b[0m\u001b[0;32mFalse\u001b[0m\u001b[0;34m,\u001b[0m\u001b[0mnlp\u001b[0m\u001b[0;34m(\u001b[0m\u001b[0mdoc\u001b[0m\u001b[0;34m)\u001b[0m\u001b[0;34m)\u001b[0m\u001b[0;34m)\u001b[0m\u001b[0;34m)\u001b[0m\u001b[0;34m\u001b[0m\u001b[0;34m\u001b[0m\u001b[0m\n\u001b[1;32m      4\u001b[0m     \u001b[0md\u001b[0m \u001b[0;34m=\u001b[0m \u001b[0;34m(\u001b[0m\u001b[0mlist\u001b[0m\u001b[0;34m(\u001b[0m\u001b[0mfilter\u001b[0m\u001b[0;34m(\u001b[0m\u001b[0;32mlambda\u001b[0m \u001b[0mx\u001b[0m\u001b[0;34m:\u001b[0m \u001b[0mx\u001b[0m\u001b[0;34m.\u001b[0m\u001b[0mis_punct\u001b[0m\u001b[0;34m==\u001b[0m\u001b[0;32mFalse\u001b[0m\u001b[0;34m,\u001b[0m \u001b[0md\u001b[0m\u001b[0;34m)\u001b[0m\u001b[0;34m)\u001b[0m\u001b[0;34m)\u001b[0m\u001b[0;34m\u001b[0m\u001b[0;34m\u001b[0m\u001b[0m\n\u001b[1;32m      5\u001b[0m     \u001b[0md\u001b[0m \u001b[0;34m=\u001b[0m \u001b[0;34m(\u001b[0m\u001b[0mlist\u001b[0m\u001b[0;34m(\u001b[0m\u001b[0mfilter\u001b[0m\u001b[0;34m(\u001b[0m\u001b[0;32mlambda\u001b[0m \u001b[0mx\u001b[0m\u001b[0;34m:\u001b[0m \u001b[0mx\u001b[0m\u001b[0;34m.\u001b[0m\u001b[0mlike_url\u001b[0m\u001b[0;34m==\u001b[0m\u001b[0;32mFalse\u001b[0m\u001b[0;34m,\u001b[0m \u001b[0md\u001b[0m\u001b[0;34m)\u001b[0m\u001b[0;34m)\u001b[0m\u001b[0;34m)\u001b[0m\u001b[0;34m\u001b[0m\u001b[0;34m\u001b[0m\u001b[0m\n",
      "\u001b[0;31mNameError\u001b[0m: name 'nlp_df' is not defined"
     ]
    }
   ],
   "source": [
    "# corpus = []\n",
    "# for doc in nlp_df.clean_tweet:\n",
    "#     d = (list(filter(lambda x: x.is_stop==False,nlp(doc))))\n",
    "#     d = (list(filter(lambda x: x.is_punct==False, d)))\n",
    "#     d = (list(filter(lambda x: x.like_url==False, d)))\n",
    "#     d = (list(map(lambda x: x.lemma_, d)))\n",
    "#     corpus.append(d)"
   ]
  },
  {
   "cell_type": "code",
   "execution_count": 113,
   "metadata": {},
   "outputs": [],
   "source": [
    "sw_list = stopwords.words('english')\n",
    "sw_list += list(string.punctuation)\n",
    "sw_list += [\"''\", '\"\"', '...', '``', '’', '“', '’', '”', '‘', '‘', '©', '#', '@', \n",
    "            'said', 'one', 'com', '-', '–', '—', '.']\n",
    "sw_list += ['www', 'the', 'to', 'and', 'a', 's', 't','is', 'you', 'of', 'i', \n",
    "            'in', 'this', 'are', 'it', 'for', 'https', 'com', 'twitter', 'alllivesmatter' , \n",
    "            'blacklivesmatter' , 'bluelivesmatter', 'p']\n",
    "sw_set = set(sw_list)"
   ]
  },
  {
   "cell_type": "code",
   "execution_count": 114,
   "metadata": {},
   "outputs": [
    {
     "data": {
      "text/plain": [
       " https://twitter.com/drawandstrike/status/1279805238556397569?s=19 …\n",
       "\n",
       "Let me know when BLM marxist scum is marching for this little girl and the 6000+ black people murdered by other black people in the US every year. Till then... #AllLivesMatter"
      ]
     },
     "execution_count": 114,
     "metadata": {},
     "output_type": "execute_result"
    }
   ],
   "source": [
    "Work_data.spacy_txt[0] "
   ]
  },
  {
   "cell_type": "code",
   "execution_count": 115,
   "metadata": {},
   "outputs": [
    {
     "data": {
      "text/html": [
       "<div>\n",
       "<style scoped>\n",
       "    .dataframe tbody tr th:only-of-type {\n",
       "        vertical-align: middle;\n",
       "    }\n",
       "\n",
       "    .dataframe tbody tr th {\n",
       "        vertical-align: top;\n",
       "    }\n",
       "\n",
       "    .dataframe thead th {\n",
       "        text-align: right;\n",
       "    }\n",
       "</style>\n",
       "<table border=\"1\" class=\"dataframe\">\n",
       "  <thead>\n",
       "    <tr style=\"text-align: right;\">\n",
       "      <th></th>\n",
       "      <th>0</th>\n",
       "      <th>1</th>\n",
       "      <th>2</th>\n",
       "      <th>3</th>\n",
       "      <th>4</th>\n",
       "      <th>5</th>\n",
       "      <th>6</th>\n",
       "      <th>7</th>\n",
       "      <th>8</th>\n",
       "      <th>9</th>\n",
       "      <th>...</th>\n",
       "      <th>290</th>\n",
       "      <th>291</th>\n",
       "      <th>292</th>\n",
       "      <th>293</th>\n",
       "      <th>294</th>\n",
       "      <th>295</th>\n",
       "      <th>296</th>\n",
       "      <th>297</th>\n",
       "      <th>298</th>\n",
       "      <th>299</th>\n",
       "    </tr>\n",
       "  </thead>\n",
       "  <tbody>\n",
       "    <tr>\n",
       "      <td>0</td>\n",
       "      <td>-0.085737</td>\n",
       "      <td>0.110011</td>\n",
       "      <td>-0.098758</td>\n",
       "      <td>-0.054373</td>\n",
       "      <td>0.118368</td>\n",
       "      <td>-0.061138</td>\n",
       "      <td>-0.033711</td>\n",
       "      <td>-0.051620</td>\n",
       "      <td>0.033901</td>\n",
       "      <td>1.705545</td>\n",
       "      <td>...</td>\n",
       "      <td>-0.205212</td>\n",
       "      <td>-0.028773</td>\n",
       "      <td>0.041361</td>\n",
       "      <td>-0.117117</td>\n",
       "      <td>0.030683</td>\n",
       "      <td>-0.005308</td>\n",
       "      <td>-0.038505</td>\n",
       "      <td>0.005734</td>\n",
       "      <td>-0.104009</td>\n",
       "      <td>0.059712</td>\n",
       "    </tr>\n",
       "    <tr>\n",
       "      <td>1</td>\n",
       "      <td>-0.101225</td>\n",
       "      <td>0.144536</td>\n",
       "      <td>0.013526</td>\n",
       "      <td>-0.035605</td>\n",
       "      <td>0.022171</td>\n",
       "      <td>0.017819</td>\n",
       "      <td>0.105060</td>\n",
       "      <td>-0.050106</td>\n",
       "      <td>-0.044673</td>\n",
       "      <td>1.376224</td>\n",
       "      <td>...</td>\n",
       "      <td>-0.083363</td>\n",
       "      <td>0.015928</td>\n",
       "      <td>-0.060653</td>\n",
       "      <td>-0.090165</td>\n",
       "      <td>-0.003579</td>\n",
       "      <td>0.072440</td>\n",
       "      <td>-0.052131</td>\n",
       "      <td>-0.010314</td>\n",
       "      <td>-0.095380</td>\n",
       "      <td>0.018385</td>\n",
       "    </tr>\n",
       "    <tr>\n",
       "      <td>2</td>\n",
       "      <td>-0.108945</td>\n",
       "      <td>0.044877</td>\n",
       "      <td>-0.012569</td>\n",
       "      <td>-0.057276</td>\n",
       "      <td>-0.022530</td>\n",
       "      <td>-0.021131</td>\n",
       "      <td>0.076258</td>\n",
       "      <td>0.085494</td>\n",
       "      <td>0.044478</td>\n",
       "      <td>1.392057</td>\n",
       "      <td>...</td>\n",
       "      <td>-0.227196</td>\n",
       "      <td>0.021466</td>\n",
       "      <td>-0.039269</td>\n",
       "      <td>-0.097682</td>\n",
       "      <td>-0.015729</td>\n",
       "      <td>-0.000722</td>\n",
       "      <td>0.028467</td>\n",
       "      <td>0.025216</td>\n",
       "      <td>-0.067488</td>\n",
       "      <td>-0.011271</td>\n",
       "    </tr>\n",
       "    <tr>\n",
       "      <td>3</td>\n",
       "      <td>-0.225504</td>\n",
       "      <td>0.096830</td>\n",
       "      <td>-0.093529</td>\n",
       "      <td>-0.036587</td>\n",
       "      <td>0.082241</td>\n",
       "      <td>-0.060542</td>\n",
       "      <td>0.060585</td>\n",
       "      <td>-0.056602</td>\n",
       "      <td>-0.032591</td>\n",
       "      <td>2.156984</td>\n",
       "      <td>...</td>\n",
       "      <td>-0.234631</td>\n",
       "      <td>0.038597</td>\n",
       "      <td>-0.064123</td>\n",
       "      <td>-0.104161</td>\n",
       "      <td>-0.026616</td>\n",
       "      <td>0.128268</td>\n",
       "      <td>0.016932</td>\n",
       "      <td>-0.102231</td>\n",
       "      <td>-0.033816</td>\n",
       "      <td>0.070872</td>\n",
       "    </tr>\n",
       "    <tr>\n",
       "      <td>4</td>\n",
       "      <td>-0.133796</td>\n",
       "      <td>0.173658</td>\n",
       "      <td>-0.112062</td>\n",
       "      <td>-0.037270</td>\n",
       "      <td>-0.006774</td>\n",
       "      <td>0.032994</td>\n",
       "      <td>0.032324</td>\n",
       "      <td>-0.100356</td>\n",
       "      <td>-0.020360</td>\n",
       "      <td>1.843828</td>\n",
       "      <td>...</td>\n",
       "      <td>-0.222946</td>\n",
       "      <td>-0.026328</td>\n",
       "      <td>-0.026978</td>\n",
       "      <td>0.046277</td>\n",
       "      <td>0.077939</td>\n",
       "      <td>-0.032485</td>\n",
       "      <td>-0.033669</td>\n",
       "      <td>-0.068939</td>\n",
       "      <td>-0.018434</td>\n",
       "      <td>0.119203</td>\n",
       "    </tr>\n",
       "    <tr>\n",
       "      <td>...</td>\n",
       "      <td>...</td>\n",
       "      <td>...</td>\n",
       "      <td>...</td>\n",
       "      <td>...</td>\n",
       "      <td>...</td>\n",
       "      <td>...</td>\n",
       "      <td>...</td>\n",
       "      <td>...</td>\n",
       "      <td>...</td>\n",
       "      <td>...</td>\n",
       "      <td>...</td>\n",
       "      <td>...</td>\n",
       "      <td>...</td>\n",
       "      <td>...</td>\n",
       "      <td>...</td>\n",
       "      <td>...</td>\n",
       "      <td>...</td>\n",
       "      <td>...</td>\n",
       "      <td>...</td>\n",
       "      <td>...</td>\n",
       "      <td>...</td>\n",
       "    </tr>\n",
       "    <tr>\n",
       "      <td>4876</td>\n",
       "      <td>-0.089414</td>\n",
       "      <td>0.093741</td>\n",
       "      <td>-0.106014</td>\n",
       "      <td>-0.020301</td>\n",
       "      <td>0.084784</td>\n",
       "      <td>-0.043541</td>\n",
       "      <td>0.064574</td>\n",
       "      <td>-0.099007</td>\n",
       "      <td>0.006676</td>\n",
       "      <td>1.520338</td>\n",
       "      <td>...</td>\n",
       "      <td>-0.063661</td>\n",
       "      <td>-0.004767</td>\n",
       "      <td>-0.068518</td>\n",
       "      <td>-0.110241</td>\n",
       "      <td>0.114712</td>\n",
       "      <td>0.026091</td>\n",
       "      <td>-0.079182</td>\n",
       "      <td>-0.048956</td>\n",
       "      <td>-0.070506</td>\n",
       "      <td>0.046938</td>\n",
       "    </tr>\n",
       "    <tr>\n",
       "      <td>4877</td>\n",
       "      <td>-0.102344</td>\n",
       "      <td>0.195423</td>\n",
       "      <td>-0.144840</td>\n",
       "      <td>-0.051655</td>\n",
       "      <td>0.081779</td>\n",
       "      <td>-0.078952</td>\n",
       "      <td>0.053196</td>\n",
       "      <td>-0.008318</td>\n",
       "      <td>0.024424</td>\n",
       "      <td>1.927606</td>\n",
       "      <td>...</td>\n",
       "      <td>-0.127079</td>\n",
       "      <td>0.111543</td>\n",
       "      <td>-0.034199</td>\n",
       "      <td>-0.071530</td>\n",
       "      <td>0.053319</td>\n",
       "      <td>0.005190</td>\n",
       "      <td>-0.118614</td>\n",
       "      <td>-0.000518</td>\n",
       "      <td>-0.015575</td>\n",
       "      <td>0.065249</td>\n",
       "    </tr>\n",
       "    <tr>\n",
       "      <td>4878</td>\n",
       "      <td>-0.133181</td>\n",
       "      <td>0.189020</td>\n",
       "      <td>-0.058354</td>\n",
       "      <td>-0.039268</td>\n",
       "      <td>0.059520</td>\n",
       "      <td>-0.065873</td>\n",
       "      <td>0.025434</td>\n",
       "      <td>-0.027814</td>\n",
       "      <td>-0.066679</td>\n",
       "      <td>1.838957</td>\n",
       "      <td>...</td>\n",
       "      <td>-0.078801</td>\n",
       "      <td>0.009704</td>\n",
       "      <td>-0.049034</td>\n",
       "      <td>-0.072681</td>\n",
       "      <td>0.111523</td>\n",
       "      <td>-0.008624</td>\n",
       "      <td>-0.114201</td>\n",
       "      <td>-0.009139</td>\n",
       "      <td>-0.008979</td>\n",
       "      <td>0.019728</td>\n",
       "    </tr>\n",
       "    <tr>\n",
       "      <td>4879</td>\n",
       "      <td>-0.155865</td>\n",
       "      <td>0.253775</td>\n",
       "      <td>0.119925</td>\n",
       "      <td>0.008229</td>\n",
       "      <td>0.016805</td>\n",
       "      <td>-0.069003</td>\n",
       "      <td>0.188164</td>\n",
       "      <td>0.013017</td>\n",
       "      <td>-0.016306</td>\n",
       "      <td>0.755434</td>\n",
       "      <td>...</td>\n",
       "      <td>-0.015028</td>\n",
       "      <td>0.065568</td>\n",
       "      <td>-0.044338</td>\n",
       "      <td>0.024901</td>\n",
       "      <td>0.126876</td>\n",
       "      <td>-0.127993</td>\n",
       "      <td>-0.086022</td>\n",
       "      <td>-0.073615</td>\n",
       "      <td>-0.165799</td>\n",
       "      <td>-0.058263</td>\n",
       "    </tr>\n",
       "    <tr>\n",
       "      <td>4880</td>\n",
       "      <td>-0.101777</td>\n",
       "      <td>0.223227</td>\n",
       "      <td>-0.135945</td>\n",
       "      <td>0.006219</td>\n",
       "      <td>0.045420</td>\n",
       "      <td>-0.061226</td>\n",
       "      <td>0.047831</td>\n",
       "      <td>-0.068167</td>\n",
       "      <td>-0.038753</td>\n",
       "      <td>1.771047</td>\n",
       "      <td>...</td>\n",
       "      <td>-0.161195</td>\n",
       "      <td>0.070657</td>\n",
       "      <td>-0.044544</td>\n",
       "      <td>-0.026083</td>\n",
       "      <td>0.086040</td>\n",
       "      <td>-0.125319</td>\n",
       "      <td>-0.098495</td>\n",
       "      <td>-0.096721</td>\n",
       "      <td>0.011204</td>\n",
       "      <td>0.133067</td>\n",
       "    </tr>\n",
       "  </tbody>\n",
       "</table>\n",
       "<p>4881 rows × 300 columns</p>\n",
       "</div>"
      ],
      "text/plain": [
       "           0         1         2         3         4         5         6    \\\n",
       "0    -0.085737  0.110011 -0.098758 -0.054373  0.118368 -0.061138 -0.033711   \n",
       "1    -0.101225  0.144536  0.013526 -0.035605  0.022171  0.017819  0.105060   \n",
       "2    -0.108945  0.044877 -0.012569 -0.057276 -0.022530 -0.021131  0.076258   \n",
       "3    -0.225504  0.096830 -0.093529 -0.036587  0.082241 -0.060542  0.060585   \n",
       "4    -0.133796  0.173658 -0.112062 -0.037270 -0.006774  0.032994  0.032324   \n",
       "...        ...       ...       ...       ...       ...       ...       ...   \n",
       "4876 -0.089414  0.093741 -0.106014 -0.020301  0.084784 -0.043541  0.064574   \n",
       "4877 -0.102344  0.195423 -0.144840 -0.051655  0.081779 -0.078952  0.053196   \n",
       "4878 -0.133181  0.189020 -0.058354 -0.039268  0.059520 -0.065873  0.025434   \n",
       "4879 -0.155865  0.253775  0.119925  0.008229  0.016805 -0.069003  0.188164   \n",
       "4880 -0.101777  0.223227 -0.135945  0.006219  0.045420 -0.061226  0.047831   \n",
       "\n",
       "           7         8         9    ...       290       291       292  \\\n",
       "0    -0.051620  0.033901  1.705545  ... -0.205212 -0.028773  0.041361   \n",
       "1    -0.050106 -0.044673  1.376224  ... -0.083363  0.015928 -0.060653   \n",
       "2     0.085494  0.044478  1.392057  ... -0.227196  0.021466 -0.039269   \n",
       "3    -0.056602 -0.032591  2.156984  ... -0.234631  0.038597 -0.064123   \n",
       "4    -0.100356 -0.020360  1.843828  ... -0.222946 -0.026328 -0.026978   \n",
       "...        ...       ...       ...  ...       ...       ...       ...   \n",
       "4876 -0.099007  0.006676  1.520338  ... -0.063661 -0.004767 -0.068518   \n",
       "4877 -0.008318  0.024424  1.927606  ... -0.127079  0.111543 -0.034199   \n",
       "4878 -0.027814 -0.066679  1.838957  ... -0.078801  0.009704 -0.049034   \n",
       "4879  0.013017 -0.016306  0.755434  ... -0.015028  0.065568 -0.044338   \n",
       "4880 -0.068167 -0.038753  1.771047  ... -0.161195  0.070657 -0.044544   \n",
       "\n",
       "           293       294       295       296       297       298       299  \n",
       "0    -0.117117  0.030683 -0.005308 -0.038505  0.005734 -0.104009  0.059712  \n",
       "1    -0.090165 -0.003579  0.072440 -0.052131 -0.010314 -0.095380  0.018385  \n",
       "2    -0.097682 -0.015729 -0.000722  0.028467  0.025216 -0.067488 -0.011271  \n",
       "3    -0.104161 -0.026616  0.128268  0.016932 -0.102231 -0.033816  0.070872  \n",
       "4     0.046277  0.077939 -0.032485 -0.033669 -0.068939 -0.018434  0.119203  \n",
       "...        ...       ...       ...       ...       ...       ...       ...  \n",
       "4876 -0.110241  0.114712  0.026091 -0.079182 -0.048956 -0.070506  0.046938  \n",
       "4877 -0.071530  0.053319  0.005190 -0.118614 -0.000518 -0.015575  0.065249  \n",
       "4878 -0.072681  0.111523 -0.008624 -0.114201 -0.009139 -0.008979  0.019728  \n",
       "4879  0.024901  0.126876 -0.127993 -0.086022 -0.073615 -0.165799 -0.058263  \n",
       "4880 -0.026083  0.086040 -0.125319 -0.098495 -0.096721  0.011204  0.133067  \n",
       "\n",
       "[4881 rows x 300 columns]"
      ]
     },
     "execution_count": 115,
     "metadata": {},
     "output_type": "execute_result"
    }
   ],
   "source": [
    "pd.DataFrame(np.vstack([x.vector for x in Work_data.spacy_txt]))"
   ]
  },
  {
   "cell_type": "code",
   "execution_count": 116,
   "metadata": {},
   "outputs": [],
   "source": [
    "X=Work_data.spacy_txt\n",
    "y=Work_data.spacy_y"
   ]
  },
  {
   "cell_type": "code",
   "execution_count": 117,
   "metadata": {},
   "outputs": [],
   "source": [
    "def mean_tweet_length(X):\n",
    "    for token in X:\n",
    "        print (token.__len__())"
   ]
  },
  {
   "cell_type": "markdown",
   "metadata": {},
   "source": [
    "## Topic Modeling using LDA and NMF"
   ]
  },
  {
   "cell_type": "code",
   "execution_count": 200,
   "metadata": {},
   "outputs": [
    {
     "data": {
      "text/plain": [
       "(4881, 2349)"
      ]
     },
     "execution_count": 200,
     "metadata": {},
     "output_type": "execute_result"
    }
   ],
   "source": [
    "#First we vectorize data\n",
    "vectorizer = CountVectorizer(min_df=5, max_df=0.9, stop_words=sw_list, token_pattern='[a-zA-Z\\-][a-zA-Z\\-]{2,}')\n",
    "data_vectorized = vectorizer.fit_transform(Work_data['tweet'])\n",
    "data_vectorized.shape"
   ]
  },
  {
   "cell_type": "code",
   "execution_count": 119,
   "metadata": {},
   "outputs": [],
   "source": [
    "#select number of topics or clusters of data\n",
    "NUM_TOPICS = 3"
   ]
  },
  {
   "cell_type": "code",
   "execution_count": 120,
   "metadata": {},
   "outputs": [],
   "source": [
    "#importing libraries\n",
    "from sklearn.decomposition import NMF, LatentDirichletAllocation, TruncatedSVD"
   ]
  },
  {
   "cell_type": "code",
   "execution_count": 121,
   "metadata": {},
   "outputs": [
    {
     "name": "stdout",
     "output_type": "stream",
     "text": [
      "iteration: 1 of max_iter: 10\n",
      "iteration: 2 of max_iter: 10\n",
      "iteration: 3 of max_iter: 10\n",
      "iteration: 4 of max_iter: 10\n",
      "iteration: 5 of max_iter: 10\n",
      "iteration: 6 of max_iter: 10\n",
      "iteration: 7 of max_iter: 10\n",
      "iteration: 8 of max_iter: 10\n",
      "iteration: 9 of max_iter: 10\n",
      "iteration: 10 of max_iter: 10\n"
     ]
    }
   ],
   "source": [
    "#instantiating lda model with certain hyperparamters\n",
    "lda = LatentDirichletAllocation(n_components=NUM_TOPICS, max_iter=10, n_jobs=-1, learning_method='online',verbose=True)\n",
    "data_lda = lda.fit_transform(data_vectorized)\n"
   ]
  },
  {
   "cell_type": "code",
   "execution_count": 154,
   "metadata": {},
   "outputs": [],
   "source": [
    "#function that returns the topic and important features to that topic\n",
    "def selected_topics(model, vectorizer, top_n=15):\n",
    "    for idx, topic in enumerate(model.components_):\n",
    "        print(\"Topic %d:\" % (idx))\n",
    "        print([(vectorizer.get_feature_names()[i], topic[i])\n",
    "                        for i in topic.argsort()[:-top_n - 1:-1]]) \n"
   ]
  },
  {
   "cell_type": "code",
   "execution_count": 155,
   "metadata": {},
   "outputs": [
    {
     "name": "stdout",
     "output_type": "stream",
     "text": [
      "LDA Model:\n",
      "Topic 0:\n",
      "[('status', 616.3965970602608), ('trump', 371.60803006157556), ('pic', 275.16005553599155), ('maga', 192.04746352206885), ('backtheblue', 176.92455943491595), ('police', 164.15768244041928), ('wwg', 132.73673695917563), ('blm', 129.91423990226147), ('right', 124.79791930362767), ('people', 110.69506927822376), ('blmterrorists', 109.78698076093569), ('let', 109.03333853209597), ('support', 104.8157888225749), ('wga', 102.67851832280195), ('america', 99.46124276437355)]\n",
      "Topic 1:\n",
      "[('lives', 640.7720104822829), ('black', 574.0959489050505), ('matter', 530.9832458237091), ('people', 447.9825020561675), ('status', 422.54197194880857), ('racist', 296.0109001656079), ('pic', 292.97689509663905), ('white', 265.5002468022487), ('like', 221.02870697139952), ('blm', 183.9951142897759), ('say', 155.40777110036092), ('think', 128.88119644111117), ('love', 126.66124453269533), ('saying', 126.40178902790862), ('get', 115.89771829917275)]\n",
      "Topic 2:\n",
      "[('realdonaldtrump', 433.8372683449752), ('blm', 364.5553679868413), ('pic', 339.2168091211867), ('news', 330.2666911218312), ('cspanwj', 262.6373683043683), ('facebook', 254.11714838885501), ('breakingnews', 246.17764263580818), ('breaking', 186.56674652480373), ('youtu', 149.10502923517936), ('police', 144.93367886120342), ('teaparty', 141.94008386250576), ('black', 141.5385527953337), ('status', 125.36880470593283), ('tcot', 120.78193824155201), ('watch', 120.68452502345488)]\n"
     ]
    }
   ],
   "source": [
    "# Keywords for topics clustered by Latent Dirichlet Allocation\n",
    "print(\"LDA Model:\")\n",
    "selected_topics(lda, vectorizer)"
   ]
  },
  {
   "cell_type": "code",
   "execution_count": 166,
   "metadata": {},
   "outputs": [
    {
     "ename": "TypeError",
     "evalue": "'zip' object is not callable",
     "output_type": "error",
     "traceback": [
      "\u001b[0;31m---------------------------------------------------------------------------\u001b[0m",
      "\u001b[0;31mTypeError\u001b[0m                                 Traceback (most recent call last)",
      "\u001b[0;32m<ipython-input-166-08209f30b8e2>\u001b[0m in \u001b[0;36m<module>\u001b[0;34m\u001b[0m\n\u001b[1;32m      1\u001b[0m \u001b[0;32mfor\u001b[0m \u001b[0mtopic\u001b[0m \u001b[0;32min\u001b[0m \u001b[0mlda\u001b[0m\u001b[0;34m.\u001b[0m\u001b[0mcomponents_\u001b[0m\u001b[0;34m:\u001b[0m\u001b[0;34m\u001b[0m\u001b[0;34m\u001b[0m\u001b[0m\n\u001b[0;32m----> 2\u001b[0;31m     \u001b[0mprint\u001b[0m\u001b[0;34m(\u001b[0m\u001b[0;34m(\u001b[0m\u001b[0mzip\u001b[0m\u001b[0;34m(\u001b[0m\u001b[0mvectorizer\u001b[0m\u001b[0;34m.\u001b[0m\u001b[0mget_feature_names\u001b[0m\u001b[0;34m(\u001b[0m\u001b[0;34m)\u001b[0m\u001b[0;34m,\u001b[0m \u001b[0mtopic\u001b[0m\u001b[0;34m)\u001b[0m\u001b[0;34m(\u001b[0m\u001b[0;34m)\u001b[0m\u001b[0;34m)\u001b[0m\u001b[0;34m)\u001b[0m\u001b[0;34m\u001b[0m\u001b[0;34m\u001b[0m\u001b[0m\n\u001b[0m\u001b[1;32m      3\u001b[0m \u001b[0;34m\u001b[0m\u001b[0m\n\u001b[1;32m      4\u001b[0m \u001b[0;31m# sns.barplot(x,y)\u001b[0m\u001b[0;34m\u001b[0m\u001b[0;34m\u001b[0m\u001b[0;34m\u001b[0m\u001b[0m\n",
      "\u001b[0;31mTypeError\u001b[0m: 'zip' object is not callable"
     ]
    }
   ],
   "source": [
    "for topic in lda.components_:\n",
    "    print(dict(zip(vectorizer.get_feature_names(), topic))"
   ]
  },
  {
   "cell_type": "code",
   "execution_count": 312,
   "metadata": {},
   "outputs": [],
   "source": [
    "a= dict(zip(vectorizer.get_feature_names(), lda.components_[0]))"
   ]
  },
  {
   "cell_type": "code",
   "execution_count": 313,
   "metadata": {},
   "outputs": [],
   "source": [
    "sort_ordersa = sorted(a.items(), key=lambda x: x[1], reverse=True)\n"
   ]
  },
  {
   "cell_type": "code",
   "execution_count": 321,
   "metadata": {},
   "outputs": [
    {
     "data": {
      "image/png": "[encoded data removed]",
      "text/plain": [
       "<Figure size 432x288 with 1 Axes>"
      ]
     },
     "metadata": {},
     "output_type": "display_data"
    }
   ],
   "source": [
    "#POSITIVE SENTIMENT\n",
    "a=dict(sort_ordersa[0:7])\n",
    "F, G = zip(*a.items()) # unpack a list of pairs into two tuples\n",
    "\n",
    "plt.bar(F, G)\n",
    "plt.xticks(rotation=60)\n",
    "plt.show()"
   ]
  },
  {
   "cell_type": "code",
   "execution_count": null,
   "metadata": {},
   "outputs": [],
   "source": []
  },
  {
   "cell_type": "code",
   "execution_count": 124,
   "metadata": {},
   "outputs": [
    {
     "data": {
      "text/plain": [
       "array([[ 0.33379848,  0.33595338, 26.66566905, ...,  0.38337168,\n",
       "         0.333573  ,  0.3342357 ],\n",
       "       [ 0.33965649,  0.34988893,  0.38369168, ...,  0.40543565,\n",
       "         0.33900981,  0.33965446],\n",
       "       [ 5.87749289, 26.68350535, 16.72709014, ..., 33.49677225,\n",
       "        13.00164208,  7.0074492 ]])"
      ]
     },
     "execution_count": 124,
     "metadata": {},
     "output_type": "execute_result"
    }
   ],
   "source": [
    "lda.components_"
   ]
  },
  {
   "cell_type": "code",
   "execution_count": 125,
   "metadata": {},
   "outputs": [
    {
     "name": "stderr",
     "output_type": "stream",
     "text": [
      "/Users/jeffreyng/anaconda3/lib/python3.7/site-packages/sklearn/decomposition/_nmf.py:1077: ConvergenceWarning: Maximum number of iterations 200 reached. Increase it to improve convergence.\n",
      "  \" improve convergence.\" % max_iter, ConvergenceWarning)\n"
     ]
    }
   ],
   "source": [
    "#Instantiating the NMF model with certain hyperparamters\n",
    "nmf=NMF(n_components = NUM_TOPICS, random_state =1, alpha=0.1, l1_ratio = 0.5, \n",
    "        init= 'nndsvd').fit(data_vectorized)"
   ]
  },
  {
   "cell_type": "code",
   "execution_count": 126,
   "metadata": {},
   "outputs": [
    {
     "name": "stdout",
     "output_type": "stream",
     "text": [
      "NMF Model:\n",
      "Topic 0:\n",
      "[('lives', 5.844655232342381), ('black', 4.83530550054908), ('matter', 4.825281211290751), ('people', 1.1763357651513195), ('white', 1.0968776080180784), ('say', 0.5158146309819348), ('even', 0.4502133509151366), ('life', 0.36795780723059607), ('racist', 0.34009217136396885), ('saying', 0.33218353264158396), ('utm', 0.3058112219284762), ('matters', 0.2810986007766448), ('like', 0.2803740313019304), ('blacks', 0.2781814697127207), ('blue', 0.2572378682955275)]\n",
      "Topic 1:\n",
      "[('blm', 3.600133988178728), ('pic', 3.5124199698870364), ('realdonaldtrump', 3.4526532271019392), ('cspanwj', 2.225088800460473), ('news', 2.1316046227823295), ('facebook', 2.1157901703138524), ('breakingnews', 2.0637462503414925), ('breaking', 1.6053156477099073), ('teaparty', 1.5578033093641261), ('hate', 1.4574009788692899), ('tcot', 1.2813319104108356), ('racist', 1.2728999094263551), ('terrorist', 1.0462154886797208), ('group', 0.9696626332919562), ('target', 0.9422964794312984)]\n",
      "Topic 2:\n",
      "[('status', 7.815066099050677), ('trump', 2.2895161356879985), ('people', 2.2066823876723993), ('maga', 0.97326082616532), ('police', 0.9034451925826459), ('blm', 0.853698124064521), ('racist', 0.8015266240359141), ('america', 0.7060525001580922), ('backtheblue', 0.6951580423850136), ('stop', 0.691214751088607), ('like', 0.6881836859626148), ('white', 0.6176581919783837), ('see', 0.572806604521513), ('love', 0.5119833232655869), ('get', 0.5102944592218335)]\n"
     ]
    }
   ],
   "source": [
    "# returning topic and important words associated with the topic\n",
    "print(\"NMF Model:\")\n",
    "selected_topics(nmf, vectorizer)"
   ]
  },
  {
   "cell_type": "code",
   "execution_count": 221,
   "metadata": {},
   "outputs": [
    {
     "data": {
      "text/plain": [
       "{'--atuq': 0.33965649300322376,\n",
       " '-cops-protect-black-lives-matter-mural': 0.3498889292605484,\n",
       " 'abcnews': 0.383691681274128,\n",
       " 'abiding': 6.045763415748457,\n",
       " 'ability': 14.685916765713417,\n",
       " 'able': 3.2897822439683186,\n",
       " 'aboriginallivesmatter': 0.3340358415701477,\n",
       " 'abortion': 0.36157514214433967,\n",
       " 'abortionismurder': 0.34172718455392453,\n",
       " 'absolute': 0.34560749030046894,\n",
       " 'absolutely': 0.44686997291017266,\n",
       " 'abt': 6.714873734321465,\n",
       " 'abused': 16.483018256742884,\n",
       " 'acab': 4.5031143305382395,\n",
       " 'accepted': 3.6142991985724966,\n",
       " 'account': 0.34619713510355526,\n",
       " 'across': 0.34687258433598617,\n",
       " 'act': 0.3419209472721763,\n",
       " 'actions': 4.959770001701396,\n",
       " 'activists': 0.36241028182946866,\n",
       " 'acts': 0.38361311444935337,\n",
       " 'actual': 6.0500612971683845,\n",
       " 'actually': 0.3662476872065991,\n",
       " 'add': 9.129636237892822,\n",
       " 'afp': 0.37660548502781005,\n",
       " 'afraid': 0.3446728989452324,\n",
       " 'africa': 0.47208133224549703,\n",
       " 'african': 14.807535907901707,\n",
       " 'african-americans': 0.42999760735900394,\n",
       " 'agbecerra': 0.333905440727223,\n",
       " 'age': 2.5119614386400215,\n",
       " 'agency': 0.3338315023717157,\n",
       " 'agenda': 9.557669852302517,\n",
       " 'agents': 0.33360637889428985,\n",
       " 'ages': 6.53245323784299,\n",
       " 'ago': 0.3912895149186408,\n",
       " 'agree': 44.30495894595833,\n",
       " 'aka': 6.031408169358261,\n",
       " 'alive': 0.3961607240672823,\n",
       " 'allblacklivesmatter': 12.303850520298674,\n",
       " 'allcountriesmatter': 0.3392838902258273,\n",
       " 'allinillinois': 0.3334696851401367,\n",
       " 'alllives': 3.7470537288865398,\n",
       " 'alllivesamerica': 0.3335339524291674,\n",
       " 'alllivesmater': 6.923368139513581,\n",
       " 'alllivesmatters': 0.3428861386054609,\n",
       " 'alllivesmattter': 0.36470618664914295,\n",
       " 'allow': 20.21532478346929,\n",
       " 'allowed': 9.507534839510202,\n",
       " 'allowing': 4.116369960476186,\n",
       " 'allows': 4.898854556538582,\n",
       " 'alm': 0.374068418689837,\n",
       " 'almost': 8.082294996320359,\n",
       " 'alone': 0.40705771297476673,\n",
       " 'along': 4.365017880084247,\n",
       " 'already': 23.41894133494628,\n",
       " 'also': 32.26344646867176,\n",
       " 'always': 49.89139634346654,\n",
       " 'amazing': 20.766074409498103,\n",
       " 'amazon': 1.7368797353567145,\n",
       " 'amdrights': 5.958495808377452,\n",
       " 'amen': 0.33620007108242794,\n",
       " 'amendment': 0.3448646726311225,\n",
       " 'america': 63.9289397633674,\n",
       " 'americafirst': 0.36224867406320255,\n",
       " 'american': 22.826313671204225,\n",
       " 'americans': 1.6434153764406532,\n",
       " 'among': 0.36474047597058934,\n",
       " 'amount': 0.40818213295892647,\n",
       " 'anarchist': 9.83816158967823,\n",
       " 'anarchists': 0.38189313152184484,\n",
       " 'anc': 0.35133916140757626,\n",
       " 'angel': 0.3493391805768391,\n",
       " 'angry': 17.9448022591103,\n",
       " 'animal': 0.5529077445508969,\n",
       " 'animals': 0.41012140096940886,\n",
       " 'anncoulter': 0.35112890178642225,\n",
       " 'another': 22.365116744573548,\n",
       " 'anti': 0.4509962987081467,\n",
       " 'anti-police': 4.732203180694799,\n",
       " 'antifa': 8.537036049668288,\n",
       " 'antifadomesticterrorists': 0.369181633081352,\n",
       " 'antifaterrorists': 0.34506640989011106,\n",
       " 'anybody': 4.258138505413046,\n",
       " 'anymore': 3.9445892129094413,\n",
       " 'anyone': 70.5632551498589,\n",
       " 'anything': 0.38256870800526566,\n",
       " 'aoc': 0.3443693549236085,\n",
       " 'apart': 11.037381379408645,\n",
       " 'apartheid': 1.030798737328781,\n",
       " 'apologize': 3.3704922009460967,\n",
       " 'apology': 0.3374745280876067,\n",
       " 'apparently': 14.750675046262108,\n",
       " 'appear': 7.193603425528667,\n",
       " 'apple': 0.38811394484701617,\n",
       " 'apply': 8.137705437091045,\n",
       " 'appreciate': 0.3884857392597228,\n",
       " 'approach': 0.5863099067844139,\n",
       " 'argue': 0.34168622077262484,\n",
       " 'argument': 0.37324615749657136,\n",
       " 'arm': 0.3334838622907936,\n",
       " 'armed': 5.989508084536206,\n",
       " 'armyfortrump': 0.33348149626214735,\n",
       " 'around': 0.3743013200633005,\n",
       " 'arrest': 0.415917093539669,\n",
       " 'arrested': 0.3455841664430193,\n",
       " 'arrests': 0.3626696229083648,\n",
       " 'arrived': 5.962267115872036,\n",
       " 'art': 0.34312933128812584,\n",
       " 'article-': 0.3516442718994702,\n",
       " 'articleshow': 0.33343935337660224,\n",
       " 'artvalley': 11.33111717734685,\n",
       " 'asap': 0.333574137344867,\n",
       " 'ashamed': 0.8879639501786236,\n",
       " 'asianlivesmatter': 10.957122515483567,\n",
       " 'ask': 0.3848724471322124,\n",
       " 'asked': 9.832868820739971,\n",
       " 'asking': 5.21604556104902,\n",
       " 'ass': 48.19880561145726,\n",
       " 'assault': 7.423799456603256,\n",
       " 'assaulted': 0.33371834360972563,\n",
       " 'assume': 3.6519140430690604,\n",
       " 'athletes': 9.389872103118625,\n",
       " 'atlanta': 3.435300332922054,\n",
       " 'attack': 12.784776162901828,\n",
       " 'attacked': 7.025793359631782,\n",
       " 'attacking': 40.4164698119929,\n",
       " 'attacks': 5.098919203493659,\n",
       " 'attending': 0.33541359453576286,\n",
       " 'attention': 6.018344349059913,\n",
       " 'atw': 0.3335237988981323,\n",
       " 'australia': 7.157839424600489,\n",
       " 'aware': 0.33401802005608416,\n",
       " 'awareness': 0.33523110067300077,\n",
       " 'away': 39.720087406624316,\n",
       " 'awesome': 38.61066411006905,\n",
       " 'babies': 13.342060805342125,\n",
       " 'babieslivesmatter': 7.0194629555861265,\n",
       " 'baby': 5.288767427156516,\n",
       " 'babylivesmatter': 3.377911528769357,\n",
       " 'back': 0.8127930440338434,\n",
       " 'background': 4.859788711848202,\n",
       " 'backing': 4.067636792305069,\n",
       " 'backs': 0.3642434704185843,\n",
       " 'backthebadge': 4.2541825865702485,\n",
       " 'backtheblue': 30.569404810581506,\n",
       " 'bad': 0.3484808555825109,\n",
       " 'baiting': 5.200467481304821,\n",
       " 'bakra': 6.213612915732165,\n",
       " 'bakralivesmatter': 0.34695657582695627,\n",
       " 'balance': 0.33956877722531165,\n",
       " 'balls': 5.232865552367871,\n",
       " 'bame': 9.20473716492111,\n",
       " 'bankofamerica': 0.34902743921596185,\n",
       " 'banned': 0.3350109074863809,\n",
       " 'based': 0.36934661166142463,\n",
       " 'basedpoland': 0.33906844789286406,\n",
       " 'basically': 0.34763726669406253,\n",
       " 'bastard': 6.314676955546138,\n",
       " 'battle': 0.33372506624952486,\n",
       " 'bay': 0.3379504004755697,\n",
       " 'bbc': 0.3406803432132972,\n",
       " 'bbcnews': 0.33613041203785626,\n",
       " 'beacon': 0.33366547638548066,\n",
       " 'bear': 2.7994646837826456,\n",
       " 'beast': 0.33714797793209617,\n",
       " 'beat': 4.867770777777963,\n",
       " 'beaten': 3.704057122254347,\n",
       " 'beating': 9.791340242929131,\n",
       " 'beautiful': 5.332316411365278,\n",
       " 'become': 10.44696752733312,\n",
       " 'bed': 3.6161441082961505,\n",
       " 'beginning': 0.35169110415043064,\n",
       " 'behavior': 11.154582892395421,\n",
       " 'behind': 12.689266910199386,\n",
       " 'beings': 7.054538910406895,\n",
       " 'belief': 0.3468037464593265,\n",
       " 'beliefs': 0.6750978281823513,\n",
       " 'believe': 46.47310370731765,\n",
       " 'believed': 6.288301662201952,\n",
       " 'believing': 6.226058906509378,\n",
       " 'belong': 9.119469284669062,\n",
       " 'bernie': 0.3366249675709228,\n",
       " 'berniesanders': 0.33368391762571276,\n",
       " 'besides': 6.26375923370872,\n",
       " 'best': 0.4295402111911218,\n",
       " 'bet': 0.3606941817722206,\n",
       " 'better': 77.01500628693002,\n",
       " 'beyond': 0.35919123169450373,\n",
       " 'bias': 0.3598855187160078,\n",
       " 'biden': 0.3859584210847471,\n",
       " 'bidenisaracist': 0.334280982314868,\n",
       " 'big': 9.057048221326689,\n",
       " 'bigdaddyliberty': 0.33686760078534633,\n",
       " 'biggest': 10.076513294087402,\n",
       " 'bigot': 0.3391028895057808,\n",
       " 'bigotry': 0.3834626244218414,\n",
       " 'bill': 0.3513375203778039,\n",
       " 'billdeblasio': 0.3632550930703822,\n",
       " 'birth': 4.848341293964055,\n",
       " 'biryani': 0.3666806441295043,\n",
       " 'bit': 11.129607218375735,\n",
       " 'bitch': 6.095696275977345,\n",
       " 'bizpacreview': 0.34114379499665276,\n",
       " 'black': 574.0959489050505,\n",
       " 'blackcommunity': 0.3405606683418905,\n",
       " 'blackliesmatter': 6.028079788866429,\n",
       " 'blacklives': 6.898283254512885,\n",
       " 'blacklivesdontmatter': 0.34277648994688237,\n",
       " 'blacklivesmatters': 0.4042687491972884,\n",
       " 'blacklivesmatterterrorists': 0.34243407851851354,\n",
       " 'blacklivesmatteruk': 7.8174412839115845,\n",
       " 'blacklivesmattters': 14.2763208601401,\n",
       " 'blackpink': 0.44026036746617525,\n",
       " 'blackprivilege': 3.812848923221047,\n",
       " 'blacks': 80.75366137624269,\n",
       " 'blacktwitter': 4.647565421625662,\n",
       " 'blame': 9.90653309832498,\n",
       " 'blasio': 0.37031612079908827,\n",
       " 'bleed': 4.114788261472856,\n",
       " 'bleeding': 3.164363946912365,\n",
       " 'bless': 50.645911438849936,\n",
       " 'blessed': 0.363913174878024,\n",
       " 'blexit': 2.0721897396297395,\n",
       " 'blind': 7.741170040910332,\n",
       " 'blindly': 0.3973514242992384,\n",
       " 'blklivesmatter': 0.3606251440776076,\n",
       " 'blm': 183.9951142897759,\n",
       " 'blmisadomesticterroristgroup': 1.223067203322748,\n",
       " 'blmisracist': 4.750388342559307,\n",
       " 'blmmarxists': 0.3490535436503369,\n",
       " 'blmprotest': 0.3481024111947446,\n",
       " 'blmterrorist': 0.34729878866062525,\n",
       " 'blmterroristmarxists': 0.35431283012509684,\n",
       " 'blmterrorists': 0.39204845074814754,\n",
       " 'block': 0.34627582102823823,\n",
       " 'blocking': 0.33356403532468354,\n",
       " 'blog': 0.34334543107820154,\n",
       " 'blood': 0.3552186741624853,\n",
       " 'blue': 0.377889833874052,\n",
       " 'bluelivesmatters': 50.178826087772364,\n",
       " 'bluelivesmattertoo': 0.3566859398014071,\n",
       " 'bluelivesmtr': 0.3347789413051832,\n",
       " 'board': 0.34106958474939575,\n",
       " 'bodies': 6.254759038283503,\n",
       " 'book': 11.248661997314112,\n",
       " 'booker': 0.333920506705316,\n",
       " 'books': 3.8620562769829174,\n",
       " 'born': 10.188910692275577,\n",
       " 'boss': 7.514660035133232,\n",
       " 'bottles': 0.33349418734387865,\n",
       " 'bout': 1.9239805000762293,\n",
       " 'boy': 0.38461918278260077,\n",
       " 'boys': 0.35433908353267407,\n",
       " 'bqokt': 4.272198990054048,\n",
       " 'brain': 8.049109059619123,\n",
       " 'brains': 0.367391032767801,\n",
       " 'brave': 6.709899501873665,\n",
       " 'bravery': 7.352570763370427,\n",
       " 'bravo': 4.466832413826988,\n",
       " 'bread': 0.3386692408661069,\n",
       " 'break': 9.460692065116074,\n",
       " 'breaking': 0.34403321082795874,\n",
       " 'breakingnews': 0.3414335531000008,\n",
       " 'breitbartnews': 0.3550290644153971,\n",
       " 'breonnataylor': 0.34638864520405943,\n",
       " 'brexit': 0.4599071073364364,\n",
       " 'bridportnews': 0.33359966718592216,\n",
       " 'bring': 11.44742151605681,\n",
       " 'bristol': 6.8671460817665615,\n",
       " 'britain': 0.34477116266317526,\n",
       " 'british': 4.981407983819915,\n",
       " 'bro': 0.4112662054222235,\n",
       " 'broadcast': 0.3631715958812716,\n",
       " 'broken': 0.33956090715326165,\n",
       " 'brother': 9.936084106654851,\n",
       " 'brothers': 3.8791008041224666,\n",
       " 'brought': 0.34714051027951687,\n",
       " 'brown': 13.187063219104854,\n",
       " 'brownlivesmatter': 14.759153004940002,\n",
       " 'btw': 0.6494916621246152,\n",
       " 'buildthewall': 0.3368826205807793,\n",
       " 'built': 5.472684242850788,\n",
       " 'bullshit': 29.464640748011202,\n",
       " 'bunch': 0.33808850615466335,\n",
       " 'burn': 0.36792183385016697,\n",
       " 'burning': 0.36120197111334507,\n",
       " 'business': 0.45966556251149493,\n",
       " 'businesses': 6.83356836093916,\n",
       " 'button': 0.3351467013700677,\n",
       " 'buy': 0.37507469823806344,\n",
       " 'buygoya': 0.3552268711745925,\n",
       " 'buying': 0.3449786807084627,\n",
       " 'buymoregoya': 0.33364915652779004,\n",
       " 'bxjhstkhlm': 0.3492424168561179,\n",
       " 'c-span': 0.34318649015685926,\n",
       " 'california': 0.336568255225814,\n",
       " 'call': 54.20495112195199,\n",
       " 'called': 39.79143679372686,\n",
       " 'calling': 2.657209676717256,\n",
       " 'calls': 3.530495936331689,\n",
       " 'calm': 0.3334133180612687,\n",
       " 'came': 12.754580564886815,\n",
       " 'cameras': 0.33879129634091343,\n",
       " 'campaign': 4.269666376431177,\n",
       " 'camps': 0.3628948251660339,\n",
       " 'campusreform': 0.3443474449575655,\n",
       " 'canada': 6.027258618319342,\n",
       " 'cancel': 46.30914536435195,\n",
       " 'cancelculture': 0.39228196630409545,\n",
       " 'cancelled': 5.305690262131717,\n",
       " 'cancer': 0.36598478193347483,\n",
       " 'cannon': 0.43135005068176746,\n",
       " 'cannot': 24.83828979312101,\n",
       " 'cant': 0.4283825943699904,\n",
       " 'cape': 2.285705472439226,\n",
       " 'capes': 0.3682299672328766,\n",
       " 'car': 0.3449376402816612,\n",
       " 'card': 6.608008264765359,\n",
       " 'care': 84.261569857042,\n",
       " 'carefully': 0.33343763262304166,\n",
       " 'cares': 1.3244371162062303,\n",
       " 'carry': 0.37290413873252026,\n",
       " 'carrying': 0.3540084138216105,\n",
       " 'case': 0.35411597219662655,\n",
       " 'cases': 15.570267368737074,\n",
       " 'catboykami': 5.149549440745761,\n",
       " 'cats': 0.35860404899960047,\n",
       " 'catsoftwitter': 0.3542187001990461,\n",
       " 'catsontwitter': 0.35381242750383773,\n",
       " 'cause': 13.108710140387076,\n",
       " 'caused': 7.105560008493814,\n",
       " 'cban': 0.33965610979199784,\n",
       " 'cbslocal': 0.3566728151824415,\n",
       " 'cbsnews': 0.3692946752670682,\n",
       " 'ccp': 0.3519132773177475,\n",
       " 'ccw': 0.34030699485965404,\n",
       " 'ccya': 0.3336677564281082,\n",
       " 'celebrate': 0.3478989889128745,\n",
       " 'celebrated': 0.3409314841903631,\n",
       " 'certain': 13.777247884970418,\n",
       " 'certainly': 10.751501993011654,\n",
       " 'challenge': 0.353574694680276,\n",
       " 'challenged': 3.4669894471963176,\n",
       " 'chance': 10.822726333884063,\n",
       " 'change': 44.68761648996838,\n",
       " 'changes': 0.33420480776136063,\n",
       " 'channel': 0.33439916996489294,\n",
       " 'chaos': 0.3594958645914812,\n",
       " 'character': 6.319653665336128,\n",
       " 'charge': 0.3385613615949342,\n",
       " 'charged': 0.3688998666659035,\n",
       " 'charges': 0.3477052134008684,\n",
       " 'charity': 4.311566233361508,\n",
       " 'charles': 10.06755867159756,\n",
       " 'charlesbarkley': 8.493353691880856,\n",
       " 'charminultra': 14.483916479793342,\n",
       " 'chaz': 0.33925826949247895,\n",
       " 'check': 0.36018310392940145,\n",
       " 'cheer': 16.475174735325155,\n",
       " 'chicago': 0.8650396124328948,\n",
       " 'chicagolife': 0.3334444839555646,\n",
       " 'chicagoprotests': 0.3346556397212634,\n",
       " 'chicagoriots': 0.33570754095710864,\n",
       " 'chicagoscanner': 0.3334446255364962,\n",
       " 'chicagosmayor': 0.36232438699230446,\n",
       " 'chick': 13.27631458414965,\n",
       " 'child': 0.5350639834598725,\n",
       " 'children': 0.37931058598792455,\n",
       " 'childrenslivesmatter': 0.4290785194372297,\n",
       " 'china': 0.7542710270001424,\n",
       " 'chinese': 1.7567581432795694,\n",
       " 'chitown': 0.3334443206654598,\n",
       " 'choice': 4.94224806079586,\n",
       " 'choices': 0.33763620164640096,\n",
       " 'choose': 0.3813011079351952,\n",
       " 'choosechicago': 0.3334453606604695,\n",
       " 'chop': 0.4478426898147671,\n",
       " 'christ': 0.46057212790816343,\n",
       " 'christian': 8.167886549973561,\n",
       " 'christianity': 0.3506401383685721,\n",
       " 'christianlivesmatter': 2.5836319137700237,\n",
       " 'christians': 0.3913776861738302,\n",
       " 'christopher': 0.3534294690455926,\n",
       " 'christophercolumbus': 0.33572880837921326,\n",
       " 'circles': 0.36679848191204073,\n",
       " 'cities': 20.608588848937433,\n",
       " 'citizen': 7.320489230586782,\n",
       " 'citizens': 28.23631693053146,\n",
       " 'city': 25.02509655231568,\n",
       " 'cityofvallejo': 4.990931407153154,\n",
       " 'civil': 21.775584228934058,\n",
       " 'civilized': 3.148169784017855,\n",
       " 'cking': 0.3336120337887314,\n",
       " 'claim': 1.957233052959921,\n",
       " 'classes': 0.33500666575014204,\n",
       " 'clean': 3.142540259819883,\n",
       " 'clear': 8.317734941803947,\n",
       " 'clearly': 20.257725776261477,\n",
       " 'click': 0.3362460709417277,\n",
       " 'close': 13.815364591962153,\n",
       " 'closed': 0.3339806798581972,\n",
       " 'clown': 0.33614918869426785,\n",
       " 'clowns': 0.37962143545295635,\n",
       " 'clue': 4.888270607405093,\n",
       " 'cms': 0.3334399570130283,\n",
       " 'cnbc': 0.33344144064221887,\n",
       " 'cnn': 20.88427213107317,\n",
       " 'co-laborers': 6.12674752027719,\n",
       " 'co-opted': 0.35331094054567264,\n",
       " 'coals': 3.2120039677390304,\n",
       " 'cold': 7.7472277234378595,\n",
       " 'college': 0.3554927256028062,\n",
       " 'color': 13.154226409519532,\n",
       " 'colors': 7.644839497210143,\n",
       " 'colour': 22.095526624101257,\n",
       " 'columbus': 0.33973439002007044,\n",
       " 'come': 0.3783787420597856,\n",
       " 'comes': 0.3942853789989994,\n",
       " 'coming': 5.895659879389246,\n",
       " 'comment': 6.066373653941611,\n",
       " 'comments': 18.830807803042283,\n",
       " 'commercials': 0.3519079176845567,\n",
       " 'commie': 0.3917378009373914,\n",
       " 'commit': 0.3534455053664582,\n",
       " 'common': 16.903340994610584,\n",
       " 'communism': 3.1351948438247197,\n",
       " 'communist': 0.5075297495512398,\n",
       " 'communities': 10.247379201293345,\n",
       " 'community': 16.036836406705476,\n",
       " 'company': 7.831808802439002,\n",
       " 'complain': 4.91557765729866,\n",
       " 'complete': 0.3446019449791217,\n",
       " 'completely': 8.351860068555043,\n",
       " 'complexnews': 0.33342498284072625,\n",
       " 'concerned': 0.33576597132455466,\n",
       " 'condolences': 13.43575842254473,\n",
       " 'coney': 0.34063079171696914,\n",
       " 'confederate': 0.3875763878886624,\n",
       " 'confronted': 0.33387184106873313,\n",
       " 'confused': 0.36649870999226475,\n",
       " 'congress': 0.3661420860724222,\n",
       " 'congressman': 0.3350973361109251,\n",
       " 'conquer': 0.3382622636763847,\n",
       " 'conservative': 0.43018772644462605,\n",
       " 'conservatives': 3.604453599772821,\n",
       " 'considered': 0.3855476294299552,\n",
       " 'constituents': 7.126168489328512,\n",
       " 'content': 0.440067684052158,\n",
       " 'continue': 0.34893090214331607,\n",
       " 'continues': 0.36072023012204374,\n",
       " 'control': 0.35899888180245887,\n",
       " 'conversation': 5.771874886853736,\n",
       " 'cool': 21.24731914995924,\n",
       " 'cop': 0.36490714972109894,\n",
       " 'cops': 22.192280064171275,\n",
       " 'copyrighted': 0.3415325415446558,\n",
       " 'corona': 0.3517435540451694,\n",
       " 'coronapandemic': 0.3346375541170164,\n",
       " 'coronavirus': 0.34977687087674003,\n",
       " 'corporate': 0.34487080143447124,\n",
       " 'correct': 0.40894369317113494,\n",
       " 'corruption': 6.717039881865213,\n",
       " 'cost': 7.028402448763429,\n",
       " 'could': 20.619543373260484,\n",
       " 'countries': 0.34436584668381826,\n",
       " 'country': 95.84164166886595,\n",
       " 'county': 0.33363815089655197,\n",
       " 'couple': 9.748291713828706,\n",
       " 'courage': 0.35662641525926736,\n",
       " 'courageous': 12.927203965299034,\n",
       " 'course': 21.65272790792079,\n",
       " 'court': 0.3373557251122145,\n",
       " 'cover': 7.384095181308357,\n",
       " 'coverage': 0.34126772625609525,\n",
       " 'covered': 3.168709942225393,\n",
       " 'covid': 5.530240687762823,\n",
       " 'covid-': 13.82869893610313,\n",
       " 'covidiots': 0.3957601675060734,\n",
       " 'cow': 0.33603527814784734,\n",
       " 'cpdmediacar': 0.3334436854218144,\n",
       " 'crap': 2.9178117819899874,\n",
       " 'crazy': 13.831893465187399,\n",
       " 'create': 7.8142555700640814,\n",
       " 'created': 15.265006447710066,\n",
       " 'creating': 6.323615567731252,\n",
       " 'credit': 4.944230268663474,\n",
       " 'crime': 0.4019198396292368,\n",
       " 'crimes': 0.3617048540043721,\n",
       " 'criminal': 18.73188607673387,\n",
       " 'criminals': 0.4017171708251936,\n",
       " 'critical': 0.3433291682916862,\n",
       " 'cross': 0.3455935885157131,\n",
       " 'crow': 6.113531160787739,\n",
       " 'crowd': 18.152951092961576,\n",
       " 'cry': 4.303822924483991,\n",
       " 'crying': 0.3680522777418813,\n",
       " 'cspanwj': 0.3781763139891583,\n",
       " 'ctvivian': 6.063424145647594,\n",
       " 'culture': 34.82813338510787,\n",
       " 'cuomo': 0.33987323514850687,\n",
       " 'currently': 0.35668320024380645,\n",
       " 'customers': 0.336643212252869,\n",
       " 'cut': 6.437350440488264,\n",
       " 'cuz': 0.36835596027785583,\n",
       " 'cyril': 1.678642656861607,\n",
       " 'daanbarnard': 0.4979920182555084,\n",
       " 'dad': 0.47142309218372214,\n",
       " 'daily': 1.3348836567729805,\n",
       " 'dailymail': 0.3516441064996456,\n",
       " 'damage': 1.9783684144627482,\n",
       " 'damn': 11.03451238730037,\n",
       " 'danger': 0.3891663624877533,\n",
       " 'dangerous': 0.3573802007913131,\n",
       " 'dark': 0.37736052814558324,\n",
       " 'das': 0.3334532771283007,\n",
       " 'daughter': 3.8565927733909358,\n",
       " 'daviddorn': 0.3373753426247397,\n",
       " 'day': 40.986321048833375,\n",
       " 'days': 35.445321125193004,\n",
       " 'dbongino': 0.34531274632149717,\n",
       " 'dead': 0.4036893438876104,\n",
       " 'deadly': 0.34301293990167503,\n",
       " 'deal': 11.072852691858028,\n",
       " 'dealt': 1.7371162146215675,\n",
       " 'dear': 0.36030285915418586,\n",
       " 'dear-mr-president-trump-please-help-german-people-free-themselves-angela-merkel-and-her-shadow-government': 4.846486544943438,\n",
       " 'death': 0.3624188604980749,\n",
       " 'deaths': 0.38811695894186976,\n",
       " 'debate': 0.3560459327148578,\n",
       " 'deblasio': 0.3440622033468775,\n",
       " 'deblasiomustgo': 0.4332770792494655,\n",
       " 'deblasioresign': 0.3664513223688518,\n",
       " 'deblasiosny': 0.433663449743326,\n",
       " 'decent': 0.3599099844153079,\n",
       " 'deepstate': 0.34076139303887526,\n",
       " 'defaced': 0.35918239308858524,\n",
       " 'defend': 0.41980335295903837,\n",
       " 'defending': 4.725209413093967,\n",
       " 'defendpdx': 0.34869900804751947,\n",
       " 'defendpolice': 0.36339058654266443,\n",
       " 'defendthepolice': 0.3541283664403339,\n",
       " 'defense': 0.33379200816620214,\n",
       " 'definitely': 7.954966943862633,\n",
       " 'defund': 0.3754814848394295,\n",
       " 'defundblm': 0.36513632665544554,\n",
       " 'defunded': 0.33560322332312637,\n",
       " 'defunding': 0.3337910339875051,\n",
       " 'defundplannedparenthood': 0.3375314161510932,\n",
       " 'defundthebbc': 0.33359949494394336,\n",
       " 'defundthepolice': 3.545146931538453,\n",
       " 'deliveries': 0.3397450228127286,\n",
       " 'delivering': 0.3336462228869213,\n",
       " 'demand': 0.34914599137983565,\n",
       " 'demands': 1.465174096413914,\n",
       " 'dementiajoe': 14.740792762272877,\n",
       " 'democracy': 0.3780747531918807,\n",
       " 'democrat': 34.63388348735542,\n",
       " 'democratic': 10.278328189474394,\n",
       " 'democrats': 66.92116996127892,\n",
       " 'democratsaredestroyingamerica': 0.3721100402121902,\n",
       " 'democratsdividinganddestroyingamerica': 0.3678995016161173,\n",
       " 'democratshateamerica': 0.3363647918662759,\n",
       " 'democratstheenemywithin': 5.506944024082997,\n",
       " 'dems': 18.598921001490083,\n",
       " 'deny': 3.242473452908048,\n",
       " 'derechos': 0.35102912702252176,\n",
       " 'deserve': 9.665117937634305,\n",
       " 'deserved': 0.3697114938328268,\n",
       " 'deserves': 0.34064269089486815,\n",
       " 'design': 0.3336786754708617,\n",
       " 'destroy': 0.6237210870243536,\n",
       " 'destroyed': 21.729390953762703,\n",
       " 'destroying': 1.2592064572961315,\n",
       " 'destroys': 3.665344532287069,\n",
       " 'destruction': 2.264126795100774,\n",
       " 'detective': 0.3400116331358372,\n",
       " 'dhs': 0.33355028336659215,\n",
       " 'die': 11.8751111761343,\n",
       " 'died': 1.5682188741644532,\n",
       " 'dies': 0.36388212523307034,\n",
       " 'difference': 0.37241129086023217,\n",
       " 'different': 27.554061981962455,\n",
       " 'difficulties': 6.02956862181911,\n",
       " 'disabled': 8.788253048080533,\n",
       " 'disagree': 15.130189657021585,\n",
       " 'discriminate': 0.3341002127897819,\n",
       " 'discrimination': 5.2371716372642805,\n",
       " 'disgrace': 0.34848778289870924,\n",
       " 'disgraceful': 0.3429386045514346,\n",
       " 'disgusting': 24.456564693875546,\n",
       " 'display': 0.3571126680751496,\n",
       " 'disrespectful': 0.3453300158226912,\n",
       " 'diversity': 10.128588363957494,\n",
       " 'divide': 0.39326892642347816,\n",
       " 'divided': 0.34389312353821455,\n",
       " 'division': 0.38681652658157833,\n",
       " 'divisive': 12.983340209268718,\n",
       " 'dlvr': 0.3337722686566203,\n",
       " 'dnc': 0.3459534453854756,\n",
       " 'doctor': 3.7994508121277266,\n",
       " 'dog': 0.34906946963168684,\n",
       " 'dogs': 0.3482537591023434,\n",
       " 'dogsoftwitter': 0.35403353028503826,\n",
       " 'domestic': 0.42721460536654465,\n",
       " 'domesticviolence': 0.3386780895595213,\n",
       " 'donald': 0.34656410972490714,\n",
       " 'donaldjtrumpjr': 0.35021669910261843,\n",
       " 'donate': 0.33454093593947076,\n",
       " 'done': 40.21177940484098,\n",
       " 'dont': 0.4976293435916071,\n",
       " 'doors': 0.33358768958544044,\n",
       " 'double': 7.080854736968318,\n",
       " 'doubt': 0.37915560350460387,\n",
       " 'dozen': 0.3637787235145275,\n",
       " 'draintheswamp': 0.33502667307573114,\n",
       " 'draw': 0.33566609314171414,\n",
       " 'dream': 6.702828311005173,\n",
       " 'drink': 6.507383660579359,\n",
       " 'drive': 6.634691015167439,\n",
       " 'drive-by': 0.3865374756936393,\n",
       " 'driver': 6.820408704355362,\n",
       " 'drop': 0.3351666061993241,\n",
       " 'dsvyitq': 1.2836398800907463,\n",
       " 'due': 10.097787522981884,\n",
       " 'duh': 7.13858996478699,\n",
       " 'dumb': 22.07069908328176,\n",
       " 'duty': 0.3759978898221241,\n",
       " 'dying': 17.20841026535672,\n",
       " 'dyjsrsoebj': 1.6584281411855237,\n",
       " 'earth': 0.37839617322800057,\n",
       " 'easy': 1.34759644553886,\n",
       " 'eat': 0.512723608085072,\n",
       " 'ebro': 0.3334248678559196,\n",
       " 'economy': 5.231079539046535,\n",
       " 'edo': 0.3337266514468245,\n",
       " 'educate': 7.871613749315054,\n",
       " 'effort': 0.33409358486798574,\n",
       " 'efsy': 0.33987208974300653,\n",
       " 'either': 7.905135728330641,\n",
       " 'elderly': 4.926671095432161,\n",
       " 'elected': 0.33998808126664076,\n",
       " 'election': 3.8653770662857507,\n",
       " 'elections': 2.814732969272738,\n",
       " 'else': 41.412722632100575,\n",
       " 'employee': 0.3354581668882923,\n",
       " 'employees': 0.3838873463545939,\n",
       " 'end': 0.35716319357032333,\n",
       " 'enddemfascism': 0.34441733368026023,\n",
       " 'ended': 8.072456406831114,\n",
       " 'ending': 0.33365445955082473,\n",
       " 'ends': 5.034932053715827,\n",
       " 'endshutdown': 0.3443994199782025,\n",
       " 'enemy': 0.3352854129302628,\n",
       " 'enforcement': 0.3431314155621536,\n",
       " 'enjoy': 0.37831206433118714,\n",
       " 'enjoyillinois': 0.3334444322512067,\n",
       " 'enough': 40.37858726906342,\n",
       " 'epic': 0.34128879165142534,\n",
       " 'epochtimes': 0.344349513514238,\n",
       " 'equal': 0.470596422444805,\n",
       " 'equality': 0.42314636882537454,\n",
       " 'equally': 0.5561595978241204,\n",
       " 'equalrights': 0.33364346381812665,\n",
       " 'equivalent': 0.4982434401755036,\n",
       " 'eradicate': 10.265230774015528,\n",
       " 'error': 0.3759755636741112,\n",
       " 'etc': 16.70242266493251,\n",
       " 'ethnic': 0.376055975080919,\n",
       " 'eugenics': 0.3337586068571836,\n",
       " 'europe': 12.67146948342735,\n",
       " 'european': 0.34179489404948915,\n",
       " 'even': 111.54090263840915,\n",
       " 'event': 0.40555726409997184,\n",
       " 'events': 0.35793182877158486,\n",
       " 'ever': 29.05774962024883,\n",
       " 'every': 75.02196275861459,\n",
       " 'everybody': 14.73393287743367,\n",
       " 'everyday': 17.951385285946184,\n",
       " 'everyone': 66.15048364233844,\n",
       " 'everything': 33.00876397328902,\n",
       " 'everywhere': 0.3903786917595609,\n",
       " 'evil': 0.377077352059967,\n",
       " 'ex-boyfriend-jailed-for-six-years-after-jealous-fit-of-rage': 0.33360015014671635,\n",
       " 'exact': 4.346863521361961,\n",
       " 'exactly': 0.7439809698615564,\n",
       " 'example': 9.749576996396172,\n",
       " 'excellent': 0.36969574172243863,\n",
       " 'except': 20.99639428557806,\n",
       " 'excludes': 6.102011618984624,\n",
       " 'exclusive': 0.3451702686967188,\n",
       " 'excuse': 4.060555067575662,\n",
       " 'executed': 10.265240126019778,\n",
       " 'executions': 5.99059316607665,\n",
       " 'exodus': 0.34093293622011495,\n",
       " 'expect': 19.528576997856355,\n",
       " 'experience': 0.3362640869587214,\n",
       " 'experiment': 0.3335268327547671,\n",
       " 'explain': 18.554391951803165,\n",
       " 'explains': 0.33906393486974407,\n",
       " 'exposecnn': 0.33650262546833376,\n",
       " 'express': 0.3486323919569593,\n",
       " 'extreme': 0.3609763104072172,\n",
       " 'extremely': 13.662833103049348,\n",
       " 'extremists': 4.339852330296497,\n",
       " 'eyeforaneye': 0.33727713661871056,\n",
       " 'face': 0.41703388098314814,\n",
       " 'facebook': 0.8590724371421647,\n",
       " 'fact': 21.835427967234974,\n",
       " 'facts': 20.44054697925595,\n",
       " 'factsmatter': 0.3618293572085913,\n",
       " 'fail': 6.3242829383958945,\n",
       " 'failed': 0.33371781280141616,\n",
       " 'failure': 15.750172518939593,\n",
       " 'fair': 6.279254870675168,\n",
       " 'fairy': 9.68747433860913,\n",
       " 'faith': 7.792320157966016,\n",
       " 'fake': 0.38847353573105475,\n",
       " 'fakenewsmedia': 0.34789795404305224,\n",
       " 'fall': 0.3427657967751898,\n",
       " 'fallacy': 0.36473973045452157,\n",
       " 'fallen': 0.35236722971124435,\n",
       " 'false': 7.736125993093691,\n",
       " 'families': 18.773839019666468,\n",
       " 'family': 27.119451839372474,\n",
       " 'famous': 5.976558060310275,\n",
       " 'fans': 8.988146286671665,\n",
       " 'far': 15.85674262889385,\n",
       " 'farage': 0.34680604879221205,\n",
       " 'farm': 0.41140109773734634,\n",
       " 'farmers': 0.34318860981635796,\n",
       " 'fascism': 0.33506113359341344,\n",
       " 'fascist': 0.36652270994268904,\n",
       " 'fascists': 0.33433296591901396,\n",
       " 'fat': 7.236610763690165,\n",
       " 'father': 5.437662983326845,\n",
       " 'fault': 0.35596035692824307,\n",
       " 'fbclid': 0.37847376043825237,\n",
       " 'fear': 11.353076300481831,\n",
       " 'feature': 0.35428714410919343,\n",
       " 'fed': 0.3923265674011007,\n",
       " 'federal': 6.613456631348247,\n",
       " 'feeds': 0.33374788477499245,\n",
       " 'feel': 6.271328549453003,\n",
       " 'feeling': 0.3337721089721575,\n",
       " 'fellow': 7.639424260584157,\n",
       " 'felt': 0.33792585103145667,\n",
       " 'feminism': 0.33368391879098647,\n",
       " 'feminist': 0.34104971053591915,\n",
       " 'feminists': 5.8730371441711915,\n",
       " 'fevzz': 0.3388633021660871,\n",
       " 'fight': 0.392529692281276,\n",
       " 'fighting': 0.428917221507597,\n",
       " 'fightracism': 0.3510017692228654,\n",
       " 'figure': 5.263237149568737,\n",
       " 'filled': 0.396507348768555,\n",
       " 'film': 3.282207759602332,\n",
       " 'finally': 0.3626589827387767,\n",
       " 'find': 1.05366413373027,\n",
       " 'fine': 0.3525725837575736,\n",
       " 'fire': 0.4149543552779226,\n",
       " 'fired': 14.042114714235277,\n",
       " 'first': 0.3718661529863102,\n",
       " 'fix': 0.44182371080060767,\n",
       " 'flag': 0.39389117859528966,\n",
       " 'flashlight': 0.33351193355525566,\n",
       " 'florida': 0.33369208829635844,\n",
       " 'floyd': 8.375777367367675,\n",
       " 'floyding': 10.265221903688133,\n",
       " 'fly': 0.34378209785307373,\n",
       " 'focus': 0.36616783115709844,\n",
       " 'folk': 0.4434316022845966,\n",
       " 'folks': 13.672210949318993,\n",
       " 'follow': 1.766285996193379,\n",
       " 'followers': 0.4006016735616018,\n",
       " 'following': 0.3498594397913093,\n",
       " 'follows': 7.792293204197758,\n",
       " 'fool': 0.34833146700064127,\n",
       " 'fooled': 7.5335463842200285,\n",
       " 'footage': 0.3507742931935768,\n",
       " 'force': 0.3472201366377746,\n",
       " 'forget': 11.749706261408194,\n",
       " 'forgot': 7.853917012631032,\n",
       " 'forms': 0.3801086669461514,\n",
       " 'forward': 0.33460852657817336,\n",
       " 'found': 0.4413234488344061,\n",
       " 'founders': 5.225782524310923,\n",
       " 'four': 0.36296095153165936,\n",
       " 'foxnews': 0.33703687037629865,\n",
       " 'foxnewssunday': 0.348665764241106,\n",
       " 'france': 0.33391812094705664,\n",
       " 'francisco': 0.34129268502208554,\n",
       " 'fraud': 0.9833247584521106,\n",
       " 'free': 0.4216244961923815,\n",
       " 'freedom': 0.3472113691734235,\n",
       " 'freehongkong': 0.33369367772514635,\n",
       " 'freespeech': 9.985263999547383,\n",
       " 'freeway': 0.3337812455815274,\n",
       " 'friday': 0.3369278070196057,\n",
       " 'fridaymorning': 0.3758648808434961,\n",
       " 'fridaythoughts': 0.36354685079568055,\n",
       " 'friend': 2.7510217436732347,\n",
       " 'friends': 26.664344457778096,\n",
       " 'front': 0.35369767979640965,\n",
       " 'fuck': 3.0774439652475136,\n",
       " 'fucking': 9.784084311164658,\n",
       " 'full': 8.13284650151357,\n",
       " 'fullarticle': 0.3348019159634976,\n",
       " 'fun': 8.191655830753303,\n",
       " 'fund': 0.3371120959613749,\n",
       " 'funding': 0.4083948727580156,\n",
       " 'fundraising': 3.4908636041261962,\n",
       " 'fundthepolice': 0.35543774872625516,\n",
       " 'funny': 12.649652284963587,\n",
       " 'future': 4.248198643338906,\n",
       " 'fwuvh': 0.33348166287887493,\n",
       " 'game': 4.795294224484316,\n",
       " 'gang': 8.910215678958403,\n",
       " 'gangstalking': 19.37470763496325,\n",
       " 'gatewaypundit': 0.3425290638214189,\n",
       " 'gave': 0.35787812997993046,\n",
       " 'gavinnewsom': 0.33437920071424754,\n",
       " 'gay': 10.828720734304763,\n",
       " 'gaylivesmatter': 7.198066507204639,\n",
       " 'gcgh': 0.38072520472615773,\n",
       " 'gehrig': 0.3443502160096402,\n",
       " 'gender': 0.3708561375704293,\n",
       " 'generation': 1.0527210236604951,\n",
       " 'generations': 0.5290079126501391,\n",
       " 'gentlemen': 11.881361039630544,\n",
       " 'george': 32.38063223921795,\n",
       " 'georgefloyd': 22.933230643347866,\n",
       " 'georgia': 0.3350527929485401,\n",
       " 'germany': 0.33926006516867685,\n",
       " 'get': 115.89771829917275,\n",
       " 'getoffmyneck': 0.3341004468822037,\n",
       " 'gets': 0.4798862666739061,\n",
       " 'getting': 0.5166941955719475,\n",
       " 'ghost': 0.5451871272264506,\n",
       " 'girl': 0.3613834261672551,\n",
       " 'girls': 0.3570348649634748,\n",
       " 'give': 49.25547496734216,\n",
       " 'given': 0.39272357070138886,\n",
       " 'gives': 0.34576005176026164,\n",
       " 'giving': 0.3786151001526291,\n",
       " 'glad': 0.3442506731299609,\n",
       " 'glorify': 6.3365258591154205,\n",
       " 'glory': 0.35413783627051465,\n",
       " 'goal': 0.3396558830238875,\n",
       " 'goat': 0.35498365391632647,\n",
       " 'god': 99.74476911058684,\n",
       " 'godblessamerica': 0.3941560344372684,\n",
       " 'godswarriors': 0.33348173936810865,\n",
       " 'godwinobaseki': 0.33365829749239023,\n",
       " 'godwins': 0.3425349667456862,\n",
       " 'goes': 0.5369833276740644,\n",
       " 'going': 90.61883889043293,\n",
       " 'gone': 0.4105517368581831,\n",
       " 'gonna': 9.858026625518292,\n",
       " 'good': 60.74689755883088,\n",
       " 'goodtrouble': 12.11647176681653,\n",
       " 'google': 0.3336158465916203,\n",
       " 'gop': 0.3407870870004203,\n",
       " 'got': 0.47519791042271553,\n",
       " 'gotta': 9.063770545524548,\n",
       " 'gov': 40.26206609235721,\n",
       " 'government': 0.35339495671156934,\n",
       " 'governor': 8.733808131289694,\n",
       " 'govt': 0.34083263437575567,\n",
       " 'goya': 0.3567332561174204,\n",
       " 'gqare': 0.33341012054560015,\n",
       " 'grace': 0.3481939811820874,\n",
       " 'graemesmith': 15.07370059554658,\n",
       " 'graffiti': 3.3730931076770667,\n",
       " 'grammieginger': 6.4183567569131466,\n",
       " 'grandparents': 0.43598531495260057,\n",
       " 'granting': 9.687474480958294,\n",
       " 'grantpark': 0.33347770841594515,\n",
       " 'grateful': 0.33373676491913806,\n",
       " 'gratitude': 3.1126371852723596,\n",
       " 'great': 28.050054291871565,\n",
       " 'greatest': 10.16799806642783,\n",
       " 'greece': 0.3374742600047921,\n",
       " 'greeceunderattack': 4.362112448764609,\n",
       " 'green': 8.880468209942983,\n",
       " 'grip': 7.213176649668328,\n",
       " 'ground': 0.4761862308030288,\n",
       " 'group': 58.68766383037678,\n",
       " 'groups': 21.50711269385465,\n",
       " 'grow': 3.727428717048913,\n",
       " 'growing': 0.35051276370030604,\n",
       " 'guard': 7.553484406150701,\n",
       " 'guess': 21.370653125306678,\n",
       " 'gun': 0.3474148737839184,\n",
       " 'guncontrol': 0.37552400386760165,\n",
       " 'gunned': 0.49191227410859356,\n",
       " 'guns': 0.33585722829989517,\n",
       " 'gut': 0.36545887698988805,\n",
       " 'guy': 28.850745888055858,\n",
       " 'guys': 27.20020948099334,\n",
       " 'gwa': 16.856375342111306,\n",
       " 'hair': 7.152886164857092,\n",
       " 'half': 0.370955087968625,\n",
       " 'hallelujah': 0.35649648333655226,\n",
       " 'hand': 6.225459005073278,\n",
       " 'hands': 10.55597434568835,\n",
       " 'hang': 0.352153298128301,\n",
       " 'happen': 0.4013130549220623,\n",
       " 'happened': 9.70057094609345,\n",
       " 'happening': 12.961627384592804,\n",
       " 'happens': 24.045872114856397,\n",
       " 'happiness': 0.34403610871235485,\n",
       " 'happy': 10.897165428953905,\n",
       " 'hard': 27.817090857210047,\n",
       " 'harden': 0.39206617934101384,\n",
       " 'harm': 0.3937199958202627,\n",
       " 'hashtag': 0.6767859732315054,\n",
       " 'hashtags': 4.948827861820287,\n",
       " 'hat': 0.3386726330709856,\n",
       " 'hate': 101.01652735208143,\n",
       " 'hates': 1.4350459575083305,\n",
       " 'haveyouthankedafuneraldirectortoday': 0.34093283429132476,\n",
       " 'hbo': 0.3334247942989659,\n",
       " 'head': 0.38095288756091045,\n",
       " 'health': 3.5362666317356792,\n",
       " 'hear': 13.009488833763795,\n",
       " 'heard': 0.39640816174103255,\n",
       " 'hearing': 0.3347937406176352,\n",
       " 'hearings': 0.34263861383931576,\n",
       " 'heart': 17.406810260278235,\n",
       " 'heaven': 0.3984729904732409,\n",
       " 'heckyessica': 0.3455345335459478,\n",
       " 'held': 0.3512756457649162,\n",
       " 'hell': 26.309773875894596,\n",
       " 'help': 2.5965881755510485,\n",
       " 'helping': 0.37239015139821635,\n",
       " 'helps': 3.5693081976214645,\n",
       " 'hence': 7.075600510845872,\n",
       " 'hero': 0.5694125566019036,\n",
       " 'heroes': 37.57758556161691,\n",
       " 'hey': 1.016982653515073,\n",
       " 'hiding': 3.6411117712247667,\n",
       " 'high': 3.1263373767412026,\n",
       " 'hillaryclinton': 0.3336838797061611,\n",
       " 'hire': 0.3363220329495921,\n",
       " 'hispanic': 7.1058580205504,\n",
       " 'history': 12.92742956446406,\n",
       " 'hit': 4.050008224940268,\n",
       " 'hmmm': 0.33368433923324986,\n",
       " 'hoax': 10.657293893939007,\n",
       " 'hodgetwins': 13.416615331530597,\n",
       " 'hold': 0.3474148382925034,\n",
       " 'holding': 5.528637055663211,\n",
       " 'hollywood': 5.223321775156496,\n",
       " 'holster': 0.3334966123292855,\n",
       " 'holy': 0.3658370823331141,\n",
       " 'home': 0.45057782167881283,\n",
       " 'homes': 9.032541485810478,\n",
       " 'honest': 4.587989126879127,\n",
       " 'honestly': 7.429030155354571,\n",
       " 'hongkong': 0.3336567174125009,\n",
       " 'hood': 0.3393569093169429,\n",
       " 'hope': 9.377654394409388,\n",
       " 'hopefully': 0.40522231061010894,\n",
       " 'hoping': 11.518466048186752,\n",
       " 'hopkinsbrfc': 3.25713282903642,\n",
       " 'horrible': 0.376337266334131,\n",
       " 'hostage': 7.195185995679528,\n",
       " 'hot': 0.33355546536027253,\n",
       " 'hour': 0.356623976897123,\n",
       " 'hours': 5.848967533702915,\n",
       " 'house': 7.970444545393526,\n",
       " 'houstonrockets': 0.3443506607899629,\n",
       " 'however': 7.859550981314635,\n",
       " 'html': 0.4063175021209794,\n",
       " 'http': 0.3458854751251022,\n",
       " 'huge': 4.49497605443254,\n",
       " 'human': 18.040215669973932,\n",
       " 'humanity': 0.3665940717518494,\n",
       " 'humanityfirst': 0.3536204650551238,\n",
       " 'humanlivesmatter': 0.36906539293481205,\n",
       " 'humanrights': 0.33559465340452926,\n",
       " 'humanrightsviolations': 0.3341546001387564,\n",
       " 'humans': 3.4593305877025267,\n",
       " 'hurt': 0.3994482648999079,\n",
       " 'hurting': 3.0363053763091297,\n",
       " 'husband': 0.3340369458406922,\n",
       " 'hypocrisy': 8.880601748707848,\n",
       " 'hypocrite': 0.357874843619961,\n",
       " 'hypocrites': 11.279927685607927,\n",
       " 'icantbreathe': 0.33425518064017773,\n",
       " 'ice': 9.062293552312422,\n",
       " 'idea': 0.34101472418587986,\n",
       " 'ideas': 4.262643061294498,\n",
       " 'identified': 0.36362592922386555,\n",
       " 'identity': 0.47842728193432493,\n",
       " 'ideologies': 0.3887232091439214,\n",
       " 'ideology': 3.179424725885577,\n",
       " 'idiot': 4.722307627323387,\n",
       " 'idiots': 5.653252252526075,\n",
       " ...}"
      ]
     },
     "execution_count": 221,
     "metadata": {},
     "output_type": "execute_result"
    }
   ],
   "source": [
    "g=dict(zip(vectorizer.get_feature_names(), lda.components_[1]))  \n",
    "g"
   ]
  },
  {
   "cell_type": "code",
   "execution_count": 309,
   "metadata": {},
   "outputs": [],
   "source": [
    "sort_ordersp = sorted(g.items(), key=lambda x: x[1], reverse=True)\n"
   ]
  },
  {
   "cell_type": "code",
   "execution_count": 310,
   "metadata": {},
   "outputs": [
    {
     "data": {
      "image/png": "[encoded data removed]",
      "text/plain": [
       "<Figure size 432x288 with 1 Axes>"
      ]
     },
     "metadata": {},
     "output_type": "display_data"
    }
   ],
   "source": [
    "#NEGATIVE SENTIMENT\n",
    "p=dict(sort_ordersp[0:7])\n",
    "F, G = zip(*p.items()) # unpack a list of pairs into two tuples\n",
    "\n",
    "plt.bar(F, G)\n",
    "plt.xticks(rotation=60)\n",
    "plt.show()"
   ]
  },
  {
   "cell_type": "code",
   "execution_count": 304,
   "metadata": {},
   "outputs": [
    {
     "data": {
      "image/png": "[encoded data removed]",
      "text/plain": [
       "<Figure size 432x288 with 1 Axes>"
      ]
     },
     "metadata": {},
     "output_type": "display_data"
    }
   ],
   "source": [
    "#NEUTRAL SENTIMENT\n",
    "o=dict(sort_orders[0:7])\n",
    "# o_items()\n",
    "x, y = zip(*o.items()) # unpack a list of pairs into two tuples\n",
    "\n",
    "plt.bar(x, y)\n",
    "plt.xticks(rotation=60)\n",
    "plt.show()"
   ]
  },
  {
   "cell_type": "code",
   "execution_count": 305,
   "metadata": {},
   "outputs": [
    {
     "data": {
      "text/plain": [
       "dict_items([('realdonaldtrump', 433.8372683449752), ('blm', 364.5553679868413), ('pic', 339.2168091211867), ('news', 330.2666911218312), ('cspanwj', 262.6373683043683), ('facebook', 254.11714838885501), ('breakingnews', 246.17764263580818)])"
      ]
     },
     "execution_count": 305,
     "metadata": {},
     "output_type": "execute_result"
    }
   ],
   "source": [
    "o.items()"
   ]
  },
  {
   "cell_type": "code",
   "execution_count": 127,
   "metadata": {},
   "outputs": [],
   "source": [
    "# was able to calculate mean word length of all tweets\n",
    "Sum=162388\n",
    "length_numbers=4881"
   ]
  },
  {
   "cell_type": "code",
   "execution_count": 128,
   "metadata": {},
   "outputs": [
    {
     "data": {
      "text/plain": [
       "33.26941200573653"
      ]
     },
     "execution_count": 128,
     "metadata": {},
     "output_type": "execute_result"
    }
   ],
   "source": [
    "mean= Sum/length_numbers\n",
    "mean"
   ]
  },
  {
   "cell_type": "code",
   "execution_count": null,
   "metadata": {},
   "outputs": [],
   "source": []
  }
 ],
 "metadata": {
  "kernelspec": {
   "display_name": "Python 3",
   "language": "python",
   "name": "python3"
  },
  "language_info": {
   "codemirror_mode": {
    "name": "ipython",
    "version": 3
   },
   "file_extension": ".py",
   "mimetype": "text/x-python",
   "name": "python",
   "nbconvert_exporter": "python",
   "pygments_lexer": "ipython3",
   "version": "3.7.4"
  }
 },
 "nbformat": 4,
 "nbformat_minor": 2
}
